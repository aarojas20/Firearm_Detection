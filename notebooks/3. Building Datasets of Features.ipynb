{
 "cells": [
  {
   "cell_type": "markdown",
   "metadata": {},
   "source": [
    "# Building a Dataset of Features\n",
    "\n",
    "Now that I know which features I would like to extract to build a model, I will compile them in a single matrix. "
   ]
  },
  {
   "cell_type": "markdown",
   "metadata": {},
   "source": [
    "## Import Libraries"
   ]
  },
  {
   "cell_type": "code",
   "execution_count": 1,
   "metadata": {},
   "outputs": [],
   "source": [
    "import pandas as pd\n",
    "import numpy as np\n",
    "import tensorflow as tf\n",
    "from tensorflow import keras\n",
    "import os\n",
    "import librosa\n",
    "import librosa.display"
   ]
  },
  {
   "cell_type": "markdown",
   "metadata": {},
   "source": [
    "## Firearm Audio Files for Training\n"
   ]
  },
  {
   "cell_type": "code",
   "execution_count": 6,
   "metadata": {},
   "outputs": [
    {
     "name": "stdout",
     "output_type": "stream",
     "text": [
      "The number of audio files are: 46\n",
      "The number of audio files used for training are  32\n",
      "\n",
      "\n",
      "The number of audio files used for testing are  14\n",
      "['217805__gattoangus__9mm-pistol-shoot-short-reverb.wav',\n",
      " '329716__812402__gun-shot.mp3',\n",
      " '344142__brokenphono__gunshot-002.wav',\n",
      " '459116__mabdurrahman__gun-shot-1.wav',\n",
      " '35799__kante__glock-one-shot.wav',\n",
      " 'GUN-RICOCHET_GEN-HDF-13674.wav',\n",
      " '157800__soundcollectah__gshot-02.mp3',\n",
      " 'GUN-BULLET_GEN-HDF-13248.wav',\n",
      " 'Colt 1911 gunfire sound effect.mp3',\n",
      " '84254__tito-lahaye__45-smith-wesson.wav',\n",
      " '385785__rijam__rifle-shot-m1-garand.mp3',\n",
      " '467403__sergeyionov__mng-firearm-shot.wav',\n",
      " '182271__martian__gun-for-lui.wav',\n",
      " '9mm Gunshot Sound Effect!.mp3']\n"
     ]
    }
   ],
   "source": [
    "firearm_path='/Users/aarojas/Documents/Data_Science_Resources/Insight_20B/AAR_Insight_Project/Firearm_Detection/data/raw/Firearms/'\n",
    "firearm_audio=[]\n",
    "for file in os.listdir(firearm_path):\n",
    "    if file.endswith('.wav'):\n",
    "        firearm_audio.append(file)\n",
    "    if file.endswith('.mp3'):\n",
    "        firearm_audio.append(file)\n",
    "    if file.endswith('.aiff'):\n",
    "        firearm_audio.append(file)\n",
    "print('The number of audio files are:',len(firearm_audio))\n",
    "print('The number of audio files used for training are ',len(firearm_audio[0:int(46*.7)]))\n",
    "import pprint\n",
    "print('\\n')\n",
    "print('The number of audio files used for testing are ',len(firearm_audio[int(46*.7):]))\n",
    "pprint.pprint(firearm_audio[int(46*.7):])\n",
    "firearm_test_files=firearm_audio[int(46*.7):]"
   ]
  },
  {
   "cell_type": "markdown",
   "metadata": {},
   "source": [
    "## Environment Audio Files for Training\n",
    "I'm going to reduce this dataset by one fourth--to make things run faster for now. I will keep the first half of audio files in each category."
   ]
  },
  {
   "cell_type": "code",
   "execution_count": 12,
   "metadata": {},
   "outputs": [
    {
     "name": "stdout",
     "output_type": "stream",
     "text": [
      "500\n",
      "['1-24796-A-47.wav', '1-36929-A-47.wav', '1-43807-A-47.wav', '1-43807-B-47.wav']\n",
      "['4-161099-B-47.wav', '4-176914-A-23.wav', '4-144468-B-27.wav']\n"
     ]
    }
   ],
   "source": [
    "esc50audio_path='/Users/aarojas/Documents/Data_Science_Resources/Insight_20B/AAR_Insight_Project/Firearm_Detection/data/raw/ESC-50-master/audio/'\n",
    "\n",
    "esc50csv_path='/Users/aarojas/Documents/Data_Science_Resources/Insight_20B/AAR_Insight_Project/Firearm_Detection/data/raw/ESC-50-master/meta/'\n",
    "esc50=pd.read_csv(esc50csv_path+'esc50.csv',sep=',')\n",
    "\n",
    "esc50_reduced=[]\n",
    "esc50_test_files=[]\n",
    "esc50bycategory=esc50.groupby(['category'])\n",
    "\n",
    "for name, group in esc50bycategory:\n",
    "    esc50_reduced+=list(group['filename'].iloc[0:10])\n",
    "    esc50_test_files.append(group['filename'].iloc[25])\n",
    "\n",
    "print(len(esc50_reduced))\n",
    "print(esc50_reduced[1:5])\n",
    "print(esc50_test_files[:3])\n"
   ]
  },
  {
   "cell_type": "markdown",
   "metadata": {},
   "source": [
    "## Helper Function to Obtain Features from Librosa"
   ]
  },
  {
   "cell_type": "code",
   "execution_count": 14,
   "metadata": {
    "scrolled": true
   },
   "outputs": [
    {
     "name": "stdout",
     "output_type": "stream",
     "text": [
      "The shape of mfcc is:  (20, 216)\n",
      "The shape of log_melspec is : (128, 216)\n",
      "The shape of log_percussive is (128, 216)\n",
      "The shape of log_harmonic is (128, 216)\n",
      "\n",
      "\n"
     ]
    }
   ],
   "source": [
    "def obtainFeatures(audio_path,file,printtxt=False):\n",
    "    '''\n",
    "    audio_path is a string to the path of an audio file\n",
    "    filenames is a list of strings of the names of the files''' \n",
    "\n",
    "    y,sr=librosa.load(audio_path+file,duration=5)\n",
    "\n",
    "    mfcc=librosa.feature.mfcc(y)\n",
    "\n",
    "    # the log Mel Spectrogram\n",
    "    melspec=librosa.feature.melspectrogram(y)\n",
    "    log_melspec=librosa.amplitude_to_db(melspec)\n",
    "\n",
    "    # the HPSS\n",
    "    y_harmonic,y_percussive=librosa.effects.hpss(y)\n",
    "    melspec=librosa.feature.melspectrogram(y_harmonic)\n",
    "    log_harmonic=librosa.amplitude_to_db(melspec)\n",
    "    melspec=librosa.feature.melspectrogram(y_percussive)\n",
    "    log_percussive=librosa.amplitude_to_db(melspec)\n",
    "    \n",
    "    if printtxt==True:\n",
    "        print('The shape of mfcc is: ',mfcc.shape)\n",
    "        print('The shape of log_melspec is :',log_melspec.shape)\n",
    "        print('The shape of log_percussive is', log_percussive.shape)\n",
    "        print('The shape of log_harmonic is', log_harmonic.shape)\n",
    "        print('\\n')\n",
    "    return mfcc,log_melspec,log_harmonic,log_percussive\n",
    "\n",
    "mfcc,log_melspec,log_harm,log_per=obtainFeatures(esc50audio_path,esc50_reduced[0],printtxt=True)"
   ]
  },
  {
   "cell_type": "markdown",
   "metadata": {},
   "source": [
    "Flatten the matrices of interest"
   ]
  },
  {
   "cell_type": "code",
   "execution_count": 15,
   "metadata": {},
   "outputs": [
    {
     "name": "stdout",
     "output_type": "stream",
     "text": [
      "The shape of the feature is  (1, 4320)\n",
      "The shape of the feature is  (1, 27648)\n",
      "The shape of the feature is  (1, 27648)\n",
      "The shape of the feature is  (1, 27648)\n"
     ]
    }
   ],
   "source": [
    "def flattenArray(feature,printtxt=False):\n",
    "    '''feature is a np.array'''\n",
    "    feature_flat=feature.reshape((1,len(feature.flatten().T)))\n",
    "    if printtxt==True:\n",
    "        print('The shape of the feature is ',feature_flat.shape)\n",
    "    return feature_flat\n",
    "\n",
    "mfcc_flat=flattenArray(mfcc,printtxt=True)\n",
    "log_melspec_flat=flattenArray(log_melspec,printtxt=True)\n",
    "log_harm_flat=flattenArray(log_harm,printtxt=True)\n",
    "log_per_flat=flattenArray(log_per,printtxt=True)"
   ]
  },
  {
   "cell_type": "markdown",
   "metadata": {},
   "source": [
    "\"Center\" the data by substracting the mean and dividing by the standard deviation. "
   ]
  },
  {
   "cell_type": "code",
   "execution_count": 16,
   "metadata": {},
   "outputs": [],
   "source": [
    "def centerFeature(feature_flat):\n",
    "    '''feature_flat is a np.array row vector (1,n)'''\n",
    "    mean=np.mean(feature_flat)\n",
    "    std=np.std(feature_flat)\n",
    "    return (feature_flat-mean)/std\n",
    "\n",
    "MFCC=centerFeature(mfcc_flat)\n",
    "LOG_MS=centerFeature(log_melspec_flat)\n",
    "LOG_H=centerFeature(log_harm_flat)\n",
    "LOG_P=centerFeature(log_per_flat)"
   ]
  },
  {
   "cell_type": "code",
   "execution_count": 17,
   "metadata": {},
   "outputs": [],
   "source": [
    "processed_data_path='/Users/aarojas/Documents/Data_Science_Resources/Insight_20B/AAR_Insight_Project/Firearm_Detection/data/processed/'\n",
    "os.chdir(path=processed_data_path)\n"
   ]
  },
  {
   "cell_type": "markdown",
   "metadata": {},
   "source": [
    "## Build the Environmental Sound Dataset\n",
    "First, I will focus on looking at only the mfcc to build a model. "
   ]
  },
  {
   "cell_type": "code",
   "execution_count": 7,
   "metadata": {},
   "outputs": [],
   "source": [
    "for file in esc50_reduced[1:]:\n",
    "    mfcc,log_melspec,log_harmonic,log_percussive=obtainFeatures(esc50audio_path,file)\n",
    "    \n",
    "    mfcc_centered=centerFeature(flattenArray(mfcc))\n",
    "    log_ms_centered=centerFeature(flattenArray(log_melspec))\n",
    "    log_h_centered=centerFeature(flattenArray(log_harmonic))\n",
    "    log_p_centered=centerFeature(flattenArray(log_percussive))\n",
    "    \n",
    "    MFCC=np.concatenate((MFCC,mfcc_centered),axis=0)\n",
    "    LOG_MS=np.concatenate((LOG_MS,log_ms_centered),axis=0)\n",
    "    LOG_H=np.concatenate((LOG_H,log_h_centered),axis=0)\n",
    "    LOG_P=np.concatenate((LOG_P,log_p_centered),axis=0)\n",
    "                         "
   ]
  },
  {
   "cell_type": "code",
   "execution_count": 8,
   "metadata": {},
   "outputs": [
    {
     "name": "stdout",
     "output_type": "stream",
     "text": [
      "(500, 4320)\n",
      "(500, 27648)\n",
      "(500, 27648)\n",
      "(500, 27648)\n"
     ]
    }
   ],
   "source": [
    "print(MFCC.shape)\n",
    "print(LOG_MS.shape)\n",
    "print(LOG_H.shape)\n",
    "print(LOG_P.shape)"
   ]
  },
  {
   "cell_type": "code",
   "execution_count": 9,
   "metadata": {},
   "outputs": [],
   "source": [
    "\n",
    "np.savetxt(\"ESC50_MFCC_train.csv\", MFCC, delimiter=\",\")\n",
    "np.savetxt(\"ESC50_logMS_train.csv\",LOG_MS,delimiter=\",\")\n",
    "np.savetxt(\"ESC50_logH_train.csv\",LOG_H,delimiter=\",\")\n",
    "np.savetxt(\"ESC50_logP_train.csv\",LOG_P,delimiter=\",\")"
   ]
  },
  {
   "cell_type": "markdown",
   "metadata": {},
   "source": [
    "## Build the Firearms Sound Dataset"
   ]
  },
  {
   "cell_type": "code",
   "execution_count": 21,
   "metadata": {
    "scrolled": true
   },
   "outputs": [
    {
     "name": "stderr",
     "output_type": "stream",
     "text": [
      "/opt/anaconda3/envs/add_librosa/lib/python3.7/site-packages/librosa/core/audio.py:161: UserWarning: PySoundFile failed. Trying audioread instead.\n",
      "  warnings.warn('PySoundFile failed. Trying audioread instead.')\n"
     ]
    },
    {
     "name": "stdout",
     "output_type": "stream",
     "text": [
      "The shape of the feature is  (1, 3520)\n",
      "484036__mattix__rifle-gun-shot-02.wav\n",
      "The shape of the feature is  (1, 1300)\n"
     ]
    },
    {
     "ename": "ValueError",
     "evalue": "all the input array dimensions for the concatenation axis must match exactly, but along dimension 1, the array at index 0 has size 3520 and the array at index 1 has size 1300",
     "output_type": "error",
     "traceback": [
      "\u001b[0;31m---------------------------------------------------------------------------\u001b[0m",
      "\u001b[0;31mValueError\u001b[0m                                Traceback (most recent call last)",
      "\u001b[0;32m<ipython-input-21-7bf971ee63fc>\u001b[0m in \u001b[0;36m<module>\u001b[0;34m\u001b[0m\n\u001b[1;32m     15\u001b[0m     \u001b[0mlog_p_centered\u001b[0m\u001b[0;34m=\u001b[0m\u001b[0mcenterFeature\u001b[0m\u001b[0;34m(\u001b[0m\u001b[0mflattenArray\u001b[0m\u001b[0;34m(\u001b[0m\u001b[0mlog_percussive\u001b[0m\u001b[0;34m)\u001b[0m\u001b[0;34m)\u001b[0m\u001b[0;34m\u001b[0m\u001b[0;34m\u001b[0m\u001b[0m\n\u001b[1;32m     16\u001b[0m \u001b[0;34m\u001b[0m\u001b[0m\n\u001b[0;32m---> 17\u001b[0;31m     \u001b[0mMFCC_fa\u001b[0m\u001b[0;34m=\u001b[0m\u001b[0mnp\u001b[0m\u001b[0;34m.\u001b[0m\u001b[0mconcatenate\u001b[0m\u001b[0;34m(\u001b[0m\u001b[0;34m(\u001b[0m\u001b[0mMFCC_fa\u001b[0m\u001b[0;34m,\u001b[0m\u001b[0mmfcc_centered\u001b[0m\u001b[0;34m)\u001b[0m\u001b[0;34m,\u001b[0m\u001b[0maxis\u001b[0m\u001b[0;34m=\u001b[0m\u001b[0;36m0\u001b[0m\u001b[0;34m)\u001b[0m\u001b[0;34m\u001b[0m\u001b[0;34m\u001b[0m\u001b[0m\n\u001b[0m\u001b[1;32m     18\u001b[0m     \u001b[0mLOG_MS_fa\u001b[0m\u001b[0;34m=\u001b[0m\u001b[0mnp\u001b[0m\u001b[0;34m.\u001b[0m\u001b[0mconcatenate\u001b[0m\u001b[0;34m(\u001b[0m\u001b[0;34m(\u001b[0m\u001b[0mLOG_MS_fa\u001b[0m\u001b[0;34m,\u001b[0m\u001b[0mlog_ms_centered\u001b[0m\u001b[0;34m)\u001b[0m\u001b[0;34m,\u001b[0m\u001b[0maxis\u001b[0m\u001b[0;34m=\u001b[0m\u001b[0;36m0\u001b[0m\u001b[0;34m)\u001b[0m\u001b[0;34m\u001b[0m\u001b[0;34m\u001b[0m\u001b[0m\n\u001b[1;32m     19\u001b[0m     \u001b[0mLOG_H_fa\u001b[0m\u001b[0;34m=\u001b[0m\u001b[0mnp\u001b[0m\u001b[0;34m.\u001b[0m\u001b[0mconcatenate\u001b[0m\u001b[0;34m(\u001b[0m\u001b[0;34m(\u001b[0m\u001b[0mLOG_H_fa\u001b[0m\u001b[0;34m,\u001b[0m\u001b[0mlog_h_centered\u001b[0m\u001b[0;34m)\u001b[0m\u001b[0;34m,\u001b[0m\u001b[0maxis\u001b[0m\u001b[0;34m=\u001b[0m\u001b[0;36m0\u001b[0m\u001b[0;34m)\u001b[0m\u001b[0;34m\u001b[0m\u001b[0;34m\u001b[0m\u001b[0m\n",
      "\u001b[0;32m<__array_function__ internals>\u001b[0m in \u001b[0;36mconcatenate\u001b[0;34m(*args, **kwargs)\u001b[0m\n",
      "\u001b[0;31mValueError\u001b[0m: all the input array dimensions for the concatenation axis must match exactly, but along dimension 1, the array at index 0 has size 3520 and the array at index 1 has size 1300"
     ]
    }
   ],
   "source": [
    "mfcc,log_melspec,log_harmonic,log_percussive=obtainFeatures(firearm_path,firearm_audio[0])\n",
    "MFCC_fa=centerFeature(flattenArray(mfcc,printtxt=True))\n",
    "LOG_MS_fa=centerFeature(flattenArray(log_melspec))\n",
    "LOG_H_fa=centerFeature(flattenArray(log_harmonic))\n",
    "LOG_P_fa=centerFeature(flattenArray(log_percussive))\n",
    "\n",
    "for file in firearm_audio[1:32]:\n",
    "    print(file)\n",
    "    if mfcc\n",
    "    mfcc,log_melspec,log_harmonic,log_percussive=obtainFeatures(firearm_path,file)\n",
    "    mfcc_flat=flattenArray(mfcc,printtxt=True)\n",
    "    \n",
    "    mfcc_centered=centerFeature(mfcc_flat)\n",
    "    log_ms_centered=centerFeature(flattenArray(log_melspec))\n",
    "    log_h_centered=centerFeature(flattenArray(log_harmonic))\n",
    "    log_p_centered=centerFeature(flattenArray(log_percussive))\n",
    "    \n",
    "    MFCC_fa=np.concatenate((MFCC_fa,mfcc_centered),axis=0)\n",
    "    LOG_MS_fa=np.concatenate((LOG_MS_fa,log_ms_centered),axis=0)\n",
    "    LOG_H_fa=np.concatenate((LOG_H_fa,log_h_centered),axis=0)\n",
    "    LOG_P_fa=np.concatenate((LOG_P_fa,log_p_centered),axis=0)"
   ]
  },
  {
   "cell_type": "code",
   "execution_count": 13,
   "metadata": {
    "scrolled": true
   },
   "outputs": [
    {
     "name": "stdout",
     "output_type": "stream",
     "text": [
      "(32, 3520)\n",
      "(32, 22528)\n",
      "(32, 22528)\n",
      "(32, 22528)\n"
     ]
    }
   ],
   "source": [
    "print(MFCC_fa.shape)\n",
    "print(LOG_MS_fa.shape)\n",
    "print(LOG_H_fa.shape)\n",
    "print(LOG_P_fa.shape)"
   ]
  },
  {
   "cell_type": "code",
   "execution_count": 12,
   "metadata": {
    "scrolled": true
   },
   "outputs": [],
   "source": [
    "np.savetxt(\"firearm_MFCC_train.csv\", MFCC_fa, delimiter=\",\")\n",
    "np.savetxt(\"firearm_logMS_train.csv\",LOG_MS_fa,delimiter=\",\")\n",
    "np.savetxt(\"firearm_logH_train.csv\",LOG_H_fa,delimiter=\",\")\n",
    "np.savetxt(\"firearm_logP_train.csv\",LOG_P_fa,delimiter=\",\")"
   ]
  },
  {
   "cell_type": "markdown",
   "metadata": {},
   "source": [
    "## Build the Test Sets"
   ]
  },
  {
   "cell_type": "code",
   "execution_count": 13,
   "metadata": {
    "scrolled": false
   },
   "outputs": [
    {
     "ename": "NameError",
     "evalue": "name 'obtainFeatures' is not defined",
     "output_type": "error",
     "traceback": [
      "\u001b[0;31m---------------------------------------------------------------------------\u001b[0m",
      "\u001b[0;31mNameError\u001b[0m                                 Traceback (most recent call last)",
      "\u001b[0;32m<ipython-input-13-412c55cf6645>\u001b[0m in \u001b[0;36m<module>\u001b[0;34m\u001b[0m\n\u001b[0;32m----> 1\u001b[0;31m \u001b[0mmfcc\u001b[0m\u001b[0;34m,\u001b[0m\u001b[0mlog_melspec\u001b[0m\u001b[0;34m,\u001b[0m\u001b[0mlog_harmonic\u001b[0m\u001b[0;34m,\u001b[0m\u001b[0mlog_percussive\u001b[0m\u001b[0;34m=\u001b[0m\u001b[0mobtainFeatures\u001b[0m\u001b[0;34m(\u001b[0m\u001b[0mfirearm_path\u001b[0m\u001b[0;34m,\u001b[0m\u001b[0mfirearm_test_files\u001b[0m\u001b[0;34m[\u001b[0m\u001b[0;36m0\u001b[0m\u001b[0;34m]\u001b[0m\u001b[0;34m)\u001b[0m\u001b[0;34m\u001b[0m\u001b[0;34m\u001b[0m\u001b[0m\n\u001b[0m\u001b[1;32m      2\u001b[0m \u001b[0mMFCC_fa\u001b[0m\u001b[0;34m=\u001b[0m\u001b[0mcenterFeature\u001b[0m\u001b[0;34m(\u001b[0m\u001b[0mflattenArray\u001b[0m\u001b[0;34m(\u001b[0m\u001b[0mmfcc\u001b[0m\u001b[0;34m)\u001b[0m\u001b[0;34m)\u001b[0m\u001b[0;34m\u001b[0m\u001b[0;34m\u001b[0m\u001b[0m\n\u001b[1;32m      3\u001b[0m \u001b[0mLOG_MS_fa\u001b[0m\u001b[0;34m=\u001b[0m\u001b[0mcenterFeature\u001b[0m\u001b[0;34m(\u001b[0m\u001b[0mflattenArray\u001b[0m\u001b[0;34m(\u001b[0m\u001b[0mlog_melspec\u001b[0m\u001b[0;34m)\u001b[0m\u001b[0;34m)\u001b[0m\u001b[0;34m\u001b[0m\u001b[0;34m\u001b[0m\u001b[0m\n\u001b[1;32m      4\u001b[0m \u001b[0mLOG_H_fa\u001b[0m\u001b[0;34m=\u001b[0m\u001b[0mcenterFeature\u001b[0m\u001b[0;34m(\u001b[0m\u001b[0mflattenArray\u001b[0m\u001b[0;34m(\u001b[0m\u001b[0mlog_harmonic\u001b[0m\u001b[0;34m)\u001b[0m\u001b[0;34m)\u001b[0m\u001b[0;34m\u001b[0m\u001b[0;34m\u001b[0m\u001b[0m\n\u001b[1;32m      5\u001b[0m \u001b[0mLOG_P_fa\u001b[0m\u001b[0;34m=\u001b[0m\u001b[0mcenterFeature\u001b[0m\u001b[0;34m(\u001b[0m\u001b[0mflattenArray\u001b[0m\u001b[0;34m(\u001b[0m\u001b[0mlog_percussive\u001b[0m\u001b[0;34m)\u001b[0m\u001b[0;34m)\u001b[0m\u001b[0;34m\u001b[0m\u001b[0;34m\u001b[0m\u001b[0m\n",
      "\u001b[0;31mNameError\u001b[0m: name 'obtainFeatures' is not defined"
     ]
    }
   ],
   "source": [
    "mfcc,log_melspec,log_harmonic,log_percussive=obtainFeatures(firearm_path,firearm_test_files[0])\n",
    "MFCC_fa=centerFeature(flattenArray(mfcc))\n",
    "LOG_MS_fa=centerFeature(flattenArray(log_melspec))\n",
    "LOG_H_fa=centerFeature(flattenArray(log_harmonic))\n",
    "LOG_P_fa=centerFeature(flattenArray(log_percussive))\n",
    "\n",
    "for file in firearm_test_files[1:]:\n",
    "    mfcc,log_melspec,log_harmonic,log_percussive=obtainFeatures(firearm_path,file)\n",
    "    mfcc_flat=flattenArray(mfcc)\n",
    "    \n",
    "    mfcc_centered=centerFeature(mfcc_flat)\n",
    "    log_ms_centered=centerFeature(flattenArray(log_melspec))\n",
    "    log_h_centered=centerFeature(flattenArray(log_harmonic))\n",
    "    log_p_centered=centerFeature(flattenArray(log_percussive))\n",
    "    \n",
    "    MFCC_fa=np.concatenate((MFCC_fa,mfcc_centered),axis=0)\n",
    "    LOG_MS_fa=np.concatenate((LOG_MS_fa,log_ms_centered),axis=0)\n",
    "    LOG_H_fa=np.concatenate((LOG_H_fa,log_h_centered),axis=0)\n",
    "    LOG_P_fa=np.concatenate((LOG_P_fa,log_p_centered),axis=0)\n",
    "\n",
    "np.savetxt(\"firearm_MFCC_test.csv\", MFCC_fa, delimiter=\",\")\n",
    "np.savetxt(\"firearm_logMS_test.csv\",LOG_MS_fa,delimiter=\",\")\n",
    "np.savetxt(\"firearm_logH_test.csv\",LOG_H_fa,delimiter=\",\")\n",
    "np.savetxt(\"firearm_logP_test.csv\",LOG_P_fa,delimiter=\",\")"
   ]
  },
  {
   "cell_type": "code",
   "execution_count": null,
   "metadata": {},
   "outputs": [],
   "source": [
    "mfcc,log_melspec,log_harmonic,log_percussive=obtainFeatures(esc50audio_path,esc50_test_files[0])\n",
    "MFCC=centerFeature(flattenArray(mfcc))\n",
    "LOG_MS=centerFeature(flattenArray(log_melspec))\n",
    "LOG_H=centerFeature(flattenArray(log_harmonic))\n",
    "LOG_P=centerFeature(flattenArray(log_percussive))\n",
    "\n",
    "for file in firearm_test_files[1:]:\n",
    "    mfcc,log_melspec,log_harmonic,log_percussive=obtainFeatures(firearm_path,file)\n",
    "    mfcc_flat=flattenArray(mfcc)\n",
    "    \n",
    "    mfcc_centered=centerFeature(mfcc_flat)\n",
    "    log_ms_centered=centerFeature(flattenArray(log_melspec))\n",
    "    log_h_centered=centerFeature(flattenArray(log_harmonic))\n",
    "    log_p_centered=centerFeature(flattenArray(log_percussive))\n",
    "    \n",
    "    MFCC=np.concatenate((MFCC,mfcc_centered),axis=0)\n",
    "    LOG_MS=np.concatenate((LOG_MS,log_ms_centered),axis=0)\n",
    "    LOG_H=np.concatenate((LOG_H,log_h_centered),axis=0)\n",
    "    LOG_P=np.concatenate((LOG_P,log_p_centered),axis=0)\n",
    "    \n",
    "np.savetxt(\"ESC50_MFCC_test.csv\", MFCC, delimiter=\",\")\n",
    "np.savetxt(\"ESC50_logMS_test.csv\",LOG_MS,delimiter=\",\")\n",
    "np.savetxt(\"ESC50_logH_test.csv\",LOG_H,delimiter=\",\")\n",
    "np.savetxt(\"ESC50_logP_test.csv\",LOG_P,delimiter=\",\")"
   ]
  },
  {
   "cell_type": "code",
   "execution_count": null,
   "metadata": {},
   "outputs": [],
   "source": []
  }
 ],
 "metadata": {
  "kernelspec": {
   "display_name": "Python 3",
   "language": "python",
   "name": "python3"
  },
  "language_info": {
   "codemirror_mode": {
    "name": "ipython",
    "version": 3
   },
   "file_extension": ".py",
   "mimetype": "text/x-python",
   "name": "python",
   "nbconvert_exporter": "python",
   "pygments_lexer": "ipython3",
   "version": "3.7.7"
  }
 },
 "nbformat": 4,
 "nbformat_minor": 4
}
