{
 "cells": [
  {
   "cell_type": "markdown",
   "metadata": {},
   "source": [
    "# Building a Dataset of Features\n",
    "\n",
    "Now that I know which features I would like to extract to build a model, I will compile them in a single matrix. "
   ]
  },
  {
   "cell_type": "markdown",
   "metadata": {},
   "source": [
    "## Import Libraries"
   ]
  },
  {
   "cell_type": "code",
   "execution_count": 6,
   "metadata": {},
   "outputs": [],
   "source": [
    "import pandas as pd\n",
    "import numpy as np\n",
    "import tensorflow as tf\n",
    "from tensorflow import keras\n",
    "import os\n",
    "import librosa\n",
    "import librosa.display\n",
    "import matplotlib.pyplot as plt"
   ]
  },
  {
   "cell_type": "markdown",
   "metadata": {},
   "source": [
    "## Firearm Audio Files for Training\n",
    "The following creates a list with the names of the files of interest:  *.wav, *mp3*, and *.aiff"
   ]
  },
  {
   "cell_type": "code",
   "execution_count": 3,
   "metadata": {
    "scrolled": true
   },
   "outputs": [
    {
     "name": "stdout",
     "output_type": "stream",
     "text": [
      "The number of audio files are: 46\n",
      "The number of audio files used for training are  32\n",
      "\n",
      "\n",
      "The number of audio files used for testing are  14\n",
      "['217805__gattoangus__9mm-pistol-shoot-short-reverb.wav',\n",
      " '329716__812402__gun-shot.mp3',\n",
      " '344142__brokenphono__gunshot-002.wav',\n",
      " '459116__mabdurrahman__gun-shot-1.wav',\n",
      " '35799__kante__glock-one-shot.wav',\n",
      " 'GUN-RICOCHET_GEN-HDF-13674.wav',\n",
      " '157800__soundcollectah__gshot-02.mp3',\n",
      " 'GUN-BULLET_GEN-HDF-13248.wav',\n",
      " 'Colt 1911 gunfire sound effect.mp3',\n",
      " '84254__tito-lahaye__45-smith-wesson.wav',\n",
      " '385785__rijam__rifle-shot-m1-garand.mp3',\n",
      " '467403__sergeyionov__mng-firearm-shot.wav',\n",
      " '182271__martian__gun-for-lui.wav',\n",
      " '9mm Gunshot Sound Effect!.mp3']\n"
     ]
    }
   ],
   "source": [
    "firearm_path='/Users/aarojas/Documents/Data_Science_Resources/Insight_20B/AAR_Insight_Project/Firearm_Detection/data/raw/Firearms/'\n",
    "firearm_audio_list=[]\n",
    "for file in os.listdir(firearm_path):\n",
    "    if file.endswith('.wav'):\n",
    "        firearm_audio_list.append(file)\n",
    "    if file.endswith('.mp3'):\n",
    "        firearm_audio_list.append(file)\n",
    "    if file.endswith('.aiff'):\n",
    "        firearm_audio_list.append(file)\n",
    "print('The number of audio files are:',len(firearm_audio_list))\n",
    "print('The number of audio files used for training are ',len(firearm_audio_list[0:int(46*.7)]))\n",
    "import pprint\n",
    "print('\\n')\n",
    "print('The number of audio files used for testing are ',len(firearm_audio_list[int(46*.7):]))\n",
    "pprint.pprint(firearm_audio_list[int(46*.7):])\n",
    "firearm_test_files=firearm_audio_list[int(46*.7):]"
   ]
  },
  {
   "cell_type": "markdown",
   "metadata": {},
   "source": [
    "In order to put these files into a model, there must be control on the input sizes.  That is, the array shapes must be uniform for all.  This is difficult because these audio files are not all of the same duration.  Let's see how these sound clips compare.  I will use a function in librosa that allows me to query the duration of each audio clip. "
   ]
  },
  {
   "cell_type": "code",
   "execution_count": 7,
   "metadata": {
    "scrolled": true
   },
   "outputs": [
    {
     "name": "stderr",
     "output_type": "stream",
     "text": [
      "/opt/anaconda3/envs/add_librosa/lib/python3.7/site-packages/librosa/core/audio.py:161: UserWarning: PySoundFile failed. Trying audioread instead.\n",
      "  warnings.warn('PySoundFile failed. Trying audioread instead.')\n",
      "/opt/anaconda3/envs/add_librosa/lib/python3.7/site-packages/librosa/core/audio.py:161: UserWarning: PySoundFile failed. Trying audioread instead.\n",
      "  warnings.warn('PySoundFile failed. Trying audioread instead.')\n",
      "/opt/anaconda3/envs/add_librosa/lib/python3.7/site-packages/librosa/core/audio.py:161: UserWarning: PySoundFile failed. Trying audioread instead.\n",
      "  warnings.warn('PySoundFile failed. Trying audioread instead.')\n",
      "/opt/anaconda3/envs/add_librosa/lib/python3.7/site-packages/librosa/core/audio.py:161: UserWarning: PySoundFile failed. Trying audioread instead.\n",
      "  warnings.warn('PySoundFile failed. Trying audioread instead.')\n",
      "/opt/anaconda3/envs/add_librosa/lib/python3.7/site-packages/librosa/core/audio.py:161: UserWarning: PySoundFile failed. Trying audioread instead.\n",
      "  warnings.warn('PySoundFile failed. Trying audioread instead.')\n",
      "/opt/anaconda3/envs/add_librosa/lib/python3.7/site-packages/librosa/core/audio.py:161: UserWarning: PySoundFile failed. Trying audioread instead.\n",
      "  warnings.warn('PySoundFile failed. Trying audioread instead.')\n",
      "/opt/anaconda3/envs/add_librosa/lib/python3.7/site-packages/librosa/core/audio.py:161: UserWarning: PySoundFile failed. Trying audioread instead.\n",
      "  warnings.warn('PySoundFile failed. Trying audioread instead.')\n",
      "/opt/anaconda3/envs/add_librosa/lib/python3.7/site-packages/librosa/core/audio.py:161: UserWarning: PySoundFile failed. Trying audioread instead.\n",
      "  warnings.warn('PySoundFile failed. Trying audioread instead.')\n",
      "/opt/anaconda3/envs/add_librosa/lib/python3.7/site-packages/librosa/core/audio.py:161: UserWarning: PySoundFile failed. Trying audioread instead.\n",
      "  warnings.warn('PySoundFile failed. Trying audioread instead.')\n",
      "/opt/anaconda3/envs/add_librosa/lib/python3.7/site-packages/librosa/core/audio.py:161: UserWarning: PySoundFile failed. Trying audioread instead.\n",
      "  warnings.warn('PySoundFile failed. Trying audioread instead.')\n",
      "/opt/anaconda3/envs/add_librosa/lib/python3.7/site-packages/librosa/core/audio.py:161: UserWarning: PySoundFile failed. Trying audioread instead.\n",
      "  warnings.warn('PySoundFile failed. Trying audioread instead.')\n",
      "/opt/anaconda3/envs/add_librosa/lib/python3.7/site-packages/librosa/core/audio.py:161: UserWarning: PySoundFile failed. Trying audioread instead.\n",
      "  warnings.warn('PySoundFile failed. Trying audioread instead.')\n",
      "/opt/anaconda3/envs/add_librosa/lib/python3.7/site-packages/librosa/core/audio.py:161: UserWarning: PySoundFile failed. Trying audioread instead.\n",
      "  warnings.warn('PySoundFile failed. Trying audioread instead.')\n",
      "/opt/anaconda3/envs/add_librosa/lib/python3.7/site-packages/librosa/core/audio.py:161: UserWarning: PySoundFile failed. Trying audioread instead.\n",
      "  warnings.warn('PySoundFile failed. Trying audioread instead.')\n"
     ]
    },
    {
     "data": {
      "text/plain": [
       "Text(0.5, 0, 'Index')"
      ]
     },
     "execution_count": 7,
     "metadata": {},
     "output_type": "execute_result"
    },
    {
     "data": {
      "image/png": "[encoded data removed]",
      "text/plain": [
       "<Figure size 432x288 with 1 Axes>"
      ]
     },
     "metadata": {
      "needs_background": "light"
     },
     "output_type": "display_data"
    }
   ],
   "source": [
    "firearm_duration=[]\n",
    "for audio_file in firearm_audio_list:\n",
    "    y,sr=librosa.load(firearm_path+audio_file)\n",
    "    firearm_duration.append(librosa.get_duration(y=y, sr=sr))\n",
    "firearm_duration=pd.DataFrame(firearm_duration)\n",
    "firearm_duration.plot()\n",
    "plt.ylabel('Duration (s)')\n",
    "plt.xlabel('Index')"
   ]
  },
  {
   "cell_type": "markdown",
   "metadata": {},
   "source": [
    "## Environment Audio Files for Training\n",
    "I'm going to reduce this dataset by one fourth--to make things run faster for now. I will keep the first half of audio files in each category."
   ]
  },
  {
   "cell_type": "code",
   "execution_count": 8,
   "metadata": {},
   "outputs": [
    {
     "name": "stdout",
     "output_type": "stream",
     "text": [
      "500\n",
      "['1-24796-A-47.wav', '1-36929-A-47.wav', '1-43807-A-47.wav', '1-43807-B-47.wav']\n",
      "['4-161099-B-47.wav', '4-176914-A-23.wav', '4-144468-B-27.wav']\n"
     ]
    }
   ],
   "source": [
    "esc50audio_path='/Users/aarojas/Documents/Data_Science_Resources/Insight_20B/AAR_Insight_Project/Firearm_Detection/data/raw/ESC-50-master/audio/'\n",
    "\n",
    "esc50csv_path='/Users/aarojas/Documents/Data_Science_Resources/Insight_20B/AAR_Insight_Project/Firearm_Detection/data/raw/ESC-50-master/meta/'\n",
    "esc50=pd.read_csv(esc50csv_path+'esc50.csv',sep=',')\n",
    "\n",
    "esc50_reduced=[]\n",
    "esc50_test_files=[]\n",
    "esc50bycategory=esc50.groupby(['category'])\n",
    "\n",
    "for name, group in esc50bycategory:\n",
    "    esc50_reduced+=list(group['filename'].iloc[0:10])\n",
    "    esc50_test_files.append(group['filename'].iloc[25])\n",
    "\n",
    "print(len(esc50_reduced))\n",
    "print(esc50_reduced[1:5])\n",
    "print(esc50_test_files[:3])\n"
   ]
  },
  {
   "cell_type": "markdown",
   "metadata": {},
   "source": [
    "## Helper Function to Obtain Features from Librosa"
   ]
  },
  {
   "cell_type": "code",
   "execution_count": 9,
   "metadata": {
    "scrolled": true
   },
   "outputs": [
    {
     "name": "stdout",
     "output_type": "stream",
     "text": [
      "The shape of mfcc is:  (20, 216)\n",
      "The shape of log_melspec is : (128, 216)\n",
      "The shape of log_percussive is (128, 216)\n",
      "The shape of log_harmonic is (128, 216)\n",
      "\n",
      "\n"
     ]
    }
   ],
   "source": [
    "def obtainFeatures(audio_path,file,printtxt=False):\n",
    "    '''\n",
    "    audio_path is a string to the path of an audio file\n",
    "    filenames is a list of strings of the names of the files''' \n",
    "\n",
    "    y,sr=librosa.load(audio_path+file,duration=5)\n",
    "\n",
    "    mfcc=librosa.feature.mfcc(y)\n",
    "\n",
    "    # the log Mel Spectrogram\n",
    "    melspec=librosa.feature.melspectrogram(y)\n",
    "    log_melspec=librosa.amplitude_to_db(melspec)\n",
    "\n",
    "    # the HPSS\n",
    "    y_harmonic,y_percussive=librosa.effects.hpss(y)\n",
    "    melspec=librosa.feature.melspectrogram(y_harmonic)\n",
    "    log_harmonic=librosa.amplitude_to_db(melspec)\n",
    "    melspec=librosa.feature.melspectrogram(y_percussive)\n",
    "    log_percussive=librosa.amplitude_to_db(melspec)\n",
    "    \n",
    "    if printtxt==True:\n",
    "        print('The shape of mfcc is: ',mfcc.shape)\n",
    "        print('The shape of log_melspec is :',log_melspec.shape)\n",
    "        print('The shape of log_percussive is', log_percussive.shape)\n",
    "        print('The shape of log_harmonic is', log_harmonic.shape)\n",
    "        print('\\n')\n",
    "    return mfcc,log_melspec,log_harmonic,log_percussive\n",
    "\n",
    "mfcc,log_melspec,log_harm,log_per=obtainFeatures(esc50audio_path,esc50_reduced[0],printtxt=True)"
   ]
  },
  {
   "cell_type": "markdown",
   "metadata": {},
   "source": [
    "Flatten the matrices of interest"
   ]
  },
  {
   "cell_type": "code",
   "execution_count": 10,
   "metadata": {},
   "outputs": [
    {
     "name": "stdout",
     "output_type": "stream",
     "text": [
      "The shape of the feature is  (1, 4320)\n",
      "The shape of the feature is  (1, 27648)\n",
      "The shape of the feature is  (1, 27648)\n",
      "The shape of the feature is  (1, 27648)\n"
     ]
    }
   ],
   "source": [
    "def flattenArray(feature,printtxt=False):\n",
    "    '''feature is a np.array'''\n",
    "    feature_flat=feature.reshape((1,len(feature.flatten().T)))\n",
    "    if printtxt==True:\n",
    "        print('The shape of the feature is ',feature_flat.shape)\n",
    "    return feature_flat\n",
    "\n",
    "mfcc_flat=flattenArray(mfcc,printtxt=True)\n",
    "log_melspec_flat=flattenArray(log_melspec,printtxt=True)\n",
    "log_harm_flat=flattenArray(log_harm,printtxt=True)\n",
    "log_per_flat=flattenArray(log_per,printtxt=True)"
   ]
  },
  {
   "cell_type": "markdown",
   "metadata": {},
   "source": [
    "\"Center\" the data by substracting the mean and dividing by the standard deviation. "
   ]
  },
  {
   "cell_type": "code",
   "execution_count": 11,
   "metadata": {},
   "outputs": [],
   "source": [
    "def centerFeature(feature_flat):\n",
    "    '''feature_flat is a np.array row vector (1,n)'''\n",
    "    mean=np.mean(feature_flat)\n",
    "    std=np.std(feature_flat)\n",
    "    return (feature_flat-mean)/std\n",
    "\n",
    "MFCC=centerFeature(mfcc_flat)\n",
    "LOG_MS=centerFeature(log_melspec_flat)\n",
    "LOG_H=centerFeature(log_harm_flat)\n",
    "LOG_P=centerFeature(log_per_flat)"
   ]
  },
  {
   "cell_type": "code",
   "execution_count": 12,
   "metadata": {},
   "outputs": [],
   "source": [
    "processed_data_path='/Users/aarojas/Documents/Data_Science_Resources/Insight_20B/AAR_Insight_Project/Firearm_Detection/data/processed/'\n",
    "os.chdir(path=processed_data_path)\n"
   ]
  },
  {
   "cell_type": "markdown",
   "metadata": {},
   "source": [
    "## Helper function: combine "
   ]
  },
  {
   "cell_type": "code",
   "execution_count": 19,
   "metadata": {},
   "outputs": [],
   "source": [
    "def combine(audio_path,file):\n",
    "    mfcc,log_melspec,log_harmonic,log_percussive=obtainFeatures(audio_path,file)\n",
    "    \n",
    "    mfcc_centered=centerFeature(flattenArray(mfcc))\n",
    "    log_ms_centered=centerFeature(flattenArray(log_melspec))\n",
    "    log_h_centered=centerFeature(flattenArray(log_harmonic))\n",
    "    log_p_centered=centerFeature(flattenArray(log_percussive))\n",
    "    return mfcc_centered, log_ms_centered, log_h_centered, log_p_centered"
   ]
  },
  {
   "cell_type": "markdown",
   "metadata": {},
   "source": [
    "## Build the Environmental Sound Dataset\n",
    "First, I will focus on looking at only the mfcc to build a model. "
   ]
  },
  {
   "cell_type": "code",
   "execution_count": 14,
   "metadata": {},
   "outputs": [],
   "source": [
    "for file in esc50_reduced[1:]:\n",
    "    mfcc_centered,log_ms_centered,log_h_centered,log_p_centered=combine(esc50audio_path,file)\n",
    "    \n",
    "    MFCC=np.concatenate((MFCC,mfcc_centered),axis=0)\n",
    "    LOG_MS=np.concatenate((LOG_MS,log_ms_centered),axis=0)\n",
    "    LOG_H=np.concatenate((LOG_H,log_h_centered),axis=0)\n",
    "    LOG_P=np.concatenate((LOG_P,log_p_centered),axis=0)\n",
    "                         "
   ]
  },
  {
   "cell_type": "code",
   "execution_count": 15,
   "metadata": {},
   "outputs": [
    {
     "name": "stdout",
     "output_type": "stream",
     "text": [
      "(500, 4320)\n",
      "(500, 27648)\n",
      "(500, 27648)\n",
      "(500, 27648)\n"
     ]
    }
   ],
   "source": [
    "print(MFCC.shape)\n",
    "print(LOG_MS.shape)\n",
    "print(LOG_H.shape)\n",
    "print(LOG_P.shape)"
   ]
  },
  {
   "cell_type": "code",
   "execution_count": 16,
   "metadata": {},
   "outputs": [],
   "source": [
    "np.savetxt(\"ESC50_MFCC_train.csv\", MFCC, delimiter=\",\")\n",
    "np.savetxt(\"ESC50_logMS_train.csv\",LOG_MS,delimiter=\",\")\n",
    "np.savetxt(\"ESC50_logH_train.csv\",LOG_H,delimiter=\",\")\n",
    "np.savetxt(\"ESC50_logP_train.csv\",LOG_P,delimiter=\",\")"
   ]
  },
  {
   "cell_type": "markdown",
   "metadata": {},
   "source": [
    "## Build the Firearms Sound Training Dataset"
   ]
  },
  {
   "cell_type": "code",
   "execution_count": 27,
   "metadata": {
    "scrolled": true
   },
   "outputs": [
    {
     "name": "stderr",
     "output_type": "stream",
     "text": [
      "/opt/anaconda3/envs/add_librosa/lib/python3.7/site-packages/librosa/core/audio.py:161: UserWarning: PySoundFile failed. Trying audioread instead.\n",
      "  warnings.warn('PySoundFile failed. Trying audioread instead.')\n"
     ]
    },
    {
     "name": "stdout",
     "output_type": "stream",
     "text": [
      "before fixing the length (1, 3520) (1, 22528) (1, 22528) (1, 22528)\n",
      "after fixing the length (1, 4320) (1, 27648) (1, 27648) (1, 27648)\n"
     ]
    }
   ],
   "source": [
    "MFCC_fa,LOG_MS_fa,LOG_H_fa,LOG_P_fa=combine(firearm_path,firearm_audio_list[0])\n",
    "print('before fixing the length',MFCC_fa.shape,LOG_MS_fa.shape,LOG_H_fa.shape,LOG_P_fa.shape)\n",
    "\n",
    "# ensure that the firearms dataset is the same length as that of the non-firearm\n",
    "MFCC_fa=librosa.util.fix_length(MFCC_fa,mfcc_centered.shape[1])\n",
    "LOG_MS_fa=librosa.util.fix_length(LOG_MS_fa,LOG_MS.shape[1])\n",
    "LOG_H_fa=librosa.util.fix_length(LOG_H_fa,LOG_H.shape[1])\n",
    "LOG_P_fa=librosa.util.fix_length(LOG_P_fa,LOG_P.shape[1])\n",
    "print('after fixing the length',MFCC_fa.shape, LOG_MS_fa.shape,LOG_H_fa.shape,LOG_P_fa.shape)\n",
    "\n"
   ]
  },
  {
   "cell_type": "code",
   "execution_count": 30,
   "metadata": {},
   "outputs": [
    {
     "name": "stderr",
     "output_type": "stream",
     "text": [
      "/opt/anaconda3/envs/add_librosa/lib/python3.7/site-packages/librosa/core/audio.py:161: UserWarning: PySoundFile failed. Trying audioread instead.\n",
      "  warnings.warn('PySoundFile failed. Trying audioread instead.')\n",
      "/opt/anaconda3/envs/add_librosa/lib/python3.7/site-packages/librosa/core/audio.py:161: UserWarning: PySoundFile failed. Trying audioread instead.\n",
      "  warnings.warn('PySoundFile failed. Trying audioread instead.')\n",
      "/opt/anaconda3/envs/add_librosa/lib/python3.7/site-packages/librosa/core/audio.py:161: UserWarning: PySoundFile failed. Trying audioread instead.\n",
      "  warnings.warn('PySoundFile failed. Trying audioread instead.')\n",
      "/opt/anaconda3/envs/add_librosa/lib/python3.7/site-packages/librosa/core/audio.py:161: UserWarning: PySoundFile failed. Trying audioread instead.\n",
      "  warnings.warn('PySoundFile failed. Trying audioread instead.')\n",
      "/opt/anaconda3/envs/add_librosa/lib/python3.7/site-packages/librosa/core/audio.py:161: UserWarning: PySoundFile failed. Trying audioread instead.\n",
      "  warnings.warn('PySoundFile failed. Trying audioread instead.')\n",
      "/opt/anaconda3/envs/add_librosa/lib/python3.7/site-packages/librosa/core/audio.py:161: UserWarning: PySoundFile failed. Trying audioread instead.\n",
      "  warnings.warn('PySoundFile failed. Trying audioread instead.')\n",
      "/opt/anaconda3/envs/add_librosa/lib/python3.7/site-packages/librosa/core/audio.py:161: UserWarning: PySoundFile failed. Trying audioread instead.\n",
      "  warnings.warn('PySoundFile failed. Trying audioread instead.')\n",
      "/opt/anaconda3/envs/add_librosa/lib/python3.7/site-packages/librosa/core/audio.py:161: UserWarning: PySoundFile failed. Trying audioread instead.\n",
      "  warnings.warn('PySoundFile failed. Trying audioread instead.')\n"
     ]
    }
   ],
   "source": [
    "for file in firearm_audio_list[1:32]:\n",
    "    mfcc_centered,log_ms_centered,log_h_centered,log_p_centered=combine(firearm_path,file)\n",
    "    \n",
    "    mfcc_centered=librosa.util.fix_length(mfcc_centered,MFCC.shape[1])\n",
    "    log_ms_centered=librosa.util.fix_length(log_ms_centered,LOG_MS.shape[1])\n",
    "    log_h_centered=librosa.util.fix_length(log_h_centered,LOG_H.shape[1])\n",
    "    log_p_centered=librosa.util.fix_length(log_p_centered,LOG_P.shape[1])\n",
    "    \n",
    "    MFCC_fa=np.concatenate((MFCC_fa,mfcc_centered),axis=0)\n",
    "    LOG_MS_fa=np.concatenate((LOG_MS_fa,log_ms_centered),axis=0)\n",
    "    LOG_H_fa=np.concatenate((LOG_H_fa,log_h_centered),axis=0)\n",
    "    LOG_P_fa=np.concatenate((LOG_P_fa,log_p_centered),axis=0)"
   ]
  },
  {
   "cell_type": "code",
   "execution_count": 31,
   "metadata": {
    "scrolled": true
   },
   "outputs": [
    {
     "name": "stdout",
     "output_type": "stream",
     "text": [
      "(32, 4320)\n",
      "(32, 27648)\n",
      "(32, 27648)\n",
      "(32, 27648)\n"
     ]
    }
   ],
   "source": [
    "print(MFCC_fa.shape)\n",
    "print(LOG_MS_fa.shape)\n",
    "print(LOG_H_fa.shape)\n",
    "print(LOG_P_fa.shape)"
   ]
  },
  {
   "cell_type": "code",
   "execution_count": 32,
   "metadata": {
    "scrolled": true
   },
   "outputs": [],
   "source": [
    "np.savetxt(\"firearm_MFCC_train.csv\", MFCC_fa, delimiter=\",\")\n",
    "np.savetxt(\"firearm_logMS_train.csv\",LOG_MS_fa,delimiter=\",\")\n",
    "np.savetxt(\"firearm_logH_train.csv\",LOG_H_fa,delimiter=\",\")\n",
    "np.savetxt(\"firearm_logP_train.csv\",LOG_P_fa,delimiter=\",\")"
   ]
  },
  {
   "cell_type": "markdown",
   "metadata": {},
   "source": [
    "## Build the Test Sets"
   ]
  },
  {
   "cell_type": "code",
   "execution_count": 34,
   "metadata": {
    "scrolled": false
   },
   "outputs": [
    {
     "name": "stderr",
     "output_type": "stream",
     "text": [
      "/opt/anaconda3/envs/add_librosa/lib/python3.7/site-packages/librosa/core/audio.py:161: UserWarning: PySoundFile failed. Trying audioread instead.\n",
      "  warnings.warn('PySoundFile failed. Trying audioread instead.')\n",
      "/opt/anaconda3/envs/add_librosa/lib/python3.7/site-packages/librosa/core/audio.py:161: UserWarning: PySoundFile failed. Trying audioread instead.\n",
      "  warnings.warn('PySoundFile failed. Trying audioread instead.')\n",
      "/opt/anaconda3/envs/add_librosa/lib/python3.7/site-packages/librosa/core/audio.py:161: UserWarning: PySoundFile failed. Trying audioread instead.\n",
      "  warnings.warn('PySoundFile failed. Trying audioread instead.')\n",
      "/opt/anaconda3/envs/add_librosa/lib/python3.7/site-packages/librosa/core/audio.py:161: UserWarning: PySoundFile failed. Trying audioread instead.\n",
      "  warnings.warn('PySoundFile failed. Trying audioread instead.')\n",
      "/opt/anaconda3/envs/add_librosa/lib/python3.7/site-packages/librosa/core/audio.py:161: UserWarning: PySoundFile failed. Trying audioread instead.\n",
      "  warnings.warn('PySoundFile failed. Trying audioread instead.')\n"
     ]
    }
   ],
   "source": [
    "MFCC_fa,LOG_MS_fa,LOG_H_fa,LOG_P_fa=combine(firearm_path,firearm_test_files[0])\n",
    "# ensure that the firearms dataset is the same length as that of the non-firearm\n",
    "MFCC_fa=librosa.util.fix_length(MFCC_fa,mfcc_centered.shape[1])\n",
    "LOG_MS_fa=librosa.util.fix_length(LOG_MS_fa,LOG_MS.shape[1])\n",
    "LOG_H_fa=librosa.util.fix_length(LOG_H_fa,LOG_H.shape[1])\n",
    "LOG_P_fa=librosa.util.fix_length(LOG_P_fa,LOG_P.shape[1])\n",
    "\n",
    "for file in firearm_test_files[1:]:\n",
    "    mfcc_centered,log_ms_centered,log_h_centered,log_p_centered=combine(firearm_path,file)\n",
    "    \n",
    "    #fix the length\n",
    "    mfcc_centered=librosa.util.fix_length(mfcc_centered,MFCC.shape[1])\n",
    "    log_ms_centered=librosa.util.fix_length(log_ms_centered,LOG_MS.shape[1])\n",
    "    log_h_centered=librosa.util.fix_length(log_h_centered,LOG_H.shape[1])\n",
    "    log_p_centered=librosa.util.fix_length(log_p_centered,LOG_P.shape[1])\n",
    "    \n",
    "    MFCC_fa=np.concatenate((MFCC_fa,mfcc_centered),axis=0)\n",
    "    LOG_MS_fa=np.concatenate((LOG_MS_fa,log_ms_centered),axis=0)\n",
    "    LOG_H_fa=np.concatenate((LOG_H_fa,log_h_centered),axis=0)\n",
    "    LOG_P_fa=np.concatenate((LOG_P_fa,log_p_centered),axis=0)\n",
    "\n",
    "np.savetxt(\"firearm_MFCC_test.csv\", MFCC_fa, delimiter=\",\")\n",
    "np.savetxt(\"firearm_logMS_test.csv\",LOG_MS_fa,delimiter=\",\")\n",
    "np.savetxt(\"firearm_logH_test.csv\",LOG_H_fa,delimiter=\",\")\n",
    "np.savetxt(\"firearm_logP_test.csv\",LOG_P_fa,delimiter=\",\")"
   ]
  },
  {
   "cell_type": "code",
   "execution_count": 36,
   "metadata": {},
   "outputs": [],
   "source": [
    "MFCC,LOG_MS,LOG_H,LOG_P=combine(esc50audio_path,esc50_test_files[0])\n",
    "\n",
    "for file in esc50_test_files[1:]:\n",
    "    mfcc,log_melspec,log_harmonic,log_percussive=combine(esc50audio_path,file)\n",
    "    \n",
    "    MFCC=np.concatenate((MFCC,mfcc_centered),axis=0)\n",
    "    LOG_MS=np.concatenate((LOG_MS,log_ms_centered),axis=0)\n",
    "    LOG_H=np.concatenate((LOG_H,log_h_centered),axis=0)\n",
    "    LOG_P=np.concatenate((LOG_P,log_p_centered),axis=0)\n",
    "    \n",
    "np.savetxt(\"ESC50_MFCC_test.csv\", MFCC, delimiter=\",\")\n",
    "np.savetxt(\"ESC50_logMS_test.csv\",LOG_MS,delimiter=\",\")\n",
    "np.savetxt(\"ESC50_logH_test.csv\",LOG_H,delimiter=\",\")\n",
    "np.savetxt(\"ESC50_logP_test.csv\",LOG_P,delimiter=\",\")"
   ]
  },
  {
   "cell_type": "code",
   "execution_count": null,
   "metadata": {},
   "outputs": [],
   "source": []
  }
 ],
 "metadata": {
  "kernelspec": {
   "display_name": "Python 3",
   "language": "python",
   "name": "python3"
  },
  "language_info": {
   "codemirror_mode": {
    "name": "ipython",
    "version": 3
   },
   "file_extension": ".py",
   "mimetype": "text/x-python",
   "name": "python",
   "nbconvert_exporter": "python",
   "pygments_lexer": "ipython3",
   "version": "3.7.7"
  }
 },
 "nbformat": 4,
 "nbformat_minor": 4
}
