{
 "cells": [
  {
   "cell_type": "code",
   "execution_count": 1,
   "metadata": {},
   "outputs": [],
   "source": [
    "from preprocess_train_val import *\n",
    "from tensorflow import keras\n",
    "from tensorflow.keras.models import Sequential\n",
    "from tensorflow.keras.layers import Dense, Dropout, Flatten, Conv2D, MaxPooling2D, LSTM\n",
    "from tensorflow.keras.utils import to_categorical\n",
    "import wandb\n",
    "from wandb.keras import WandbCallback\n",
    "import matplotlib.pyplot as plt\n",
    "import os\n",
    "import pandas as pd\n",
    "import sklearn\n",
    "import librosa.display"
   ]
  },
  {
   "cell_type": "code",
   "execution_count": 2,
   "metadata": {},
   "outputs": [
    {
     "name": "stdout",
     "output_type": "stream",
     "text": [
      "../data/train_validate_bal/\n"
     ]
    }
   ],
   "source": [
    "print(DATA_PATH)"
   ]
  },
  {
   "cell_type": "code",
   "execution_count": 3,
   "metadata": {
    "scrolled": true
   },
   "outputs": [
    {
     "data": {
      "text/html": [
       "\n",
       "                Logging results to <a href=\"https://wandb.com\" target=\"_blank\">Weights & Biases</a> <a href=\"https://docs.wandb.com/integrations/jupyter.html\" target=\"_blank\">(Documentation)</a>.<br/>\n",
       "                Project page: <a href=\"https://app.wandb.ai/adri-rojas/Firearm_Detection-notebooks\" target=\"_blank\">https://app.wandb.ai/adri-rojas/Firearm_Detection-notebooks</a><br/>\n",
       "                Run page: <a href=\"https://app.wandb.ai/adri-rojas/Firearm_Detection-notebooks/runs/18mfszc2\" target=\"_blank\">https://app.wandb.ai/adri-rojas/Firearm_Detection-notebooks/runs/18mfszc2</a><br/>\n",
       "            "
      ],
      "text/plain": [
       "<IPython.core.display.HTML object>"
      ]
     },
     "metadata": {},
     "output_type": "display_data"
    },
    {
     "name": "stderr",
     "output_type": "stream",
     "text": [
      "\r",
      "Saving vectors of label - 'nonfirearm_bal':   0%|          | 0/440 [00:00<?, ?it/s]"
     ]
    },
    {
     "name": "stdout",
     "output_type": "stream",
     "text": [
      "The number of labels is:  2\n"
     ]
    },
    {
     "name": "stderr",
     "output_type": "stream",
     "text": [
      "Saving vectors of label - 'nonfirearm_bal': 100%|██████████| 440/440 [01:37<00:00,  4.53it/s]\n",
      "Saving vectors of label - 'firearm_bal':   4%|▍         | 20/451 [00:03<01:19,  5.42it/s]/opt/anaconda3/envs/add_librosa/lib/python3.7/site-packages/librosa/core/audio.py:161: UserWarning: PySoundFile failed. Trying audioread instead.\n",
      "  warnings.warn('PySoundFile failed. Trying audioread instead.')\n",
      "Saving vectors of label - 'firearm_bal':   5%|▌         | 23/451 [00:03<01:10,  6.10it/s]/opt/anaconda3/envs/add_librosa/lib/python3.7/site-packages/librosa/core/audio.py:161: UserWarning: PySoundFile failed. Trying audioread instead.\n",
      "  warnings.warn('PySoundFile failed. Trying audioread instead.')\n",
      "Saving vectors of label - 'firearm_bal':  10%|█         | 46/451 [00:07<00:44,  9.01it/s]/opt/anaconda3/envs/add_librosa/lib/python3.7/site-packages/librosa/core/audio.py:161: UserWarning: PySoundFile failed. Trying audioread instead.\n",
      "  warnings.warn('PySoundFile failed. Trying audioread instead.')\n",
      "Saving vectors of label - 'firearm_bal':  14%|█▎        | 62/451 [00:09<00:45,  8.61it/s]/opt/anaconda3/envs/add_librosa/lib/python3.7/site-packages/librosa/core/audio.py:161: UserWarning: PySoundFile failed. Trying audioread instead.\n",
      "  warnings.warn('PySoundFile failed. Trying audioread instead.')\n",
      "Saving vectors of label - 'firearm_bal':  15%|█▍        | 66/451 [00:09<00:41,  9.25it/s]/opt/anaconda3/envs/add_librosa/lib/python3.7/site-packages/librosa/core/audio.py:161: UserWarning: PySoundFile failed. Trying audioread instead.\n",
      "  warnings.warn('PySoundFile failed. Trying audioread instead.')\n",
      "Saving vectors of label - 'firearm_bal':  16%|█▌        | 73/451 [00:10<00:50,  7.53it/s]/opt/anaconda3/envs/add_librosa/lib/python3.7/site-packages/librosa/core/audio.py:161: UserWarning: PySoundFile failed. Trying audioread instead.\n",
      "  warnings.warn('PySoundFile failed. Trying audioread instead.')\n",
      "Saving vectors of label - 'firearm_bal':  17%|█▋        | 77/451 [00:11<01:03,  5.92it/s]/opt/anaconda3/envs/add_librosa/lib/python3.7/site-packages/librosa/core/audio.py:161: UserWarning: PySoundFile failed. Trying audioread instead.\n",
      "  warnings.warn('PySoundFile failed. Trying audioread instead.')\n",
      "Saving vectors of label - 'firearm_bal':  19%|█▉        | 86/451 [00:13<01:21,  4.49it/s]/opt/anaconda3/envs/add_librosa/lib/python3.7/site-packages/librosa/core/audio.py:161: UserWarning: PySoundFile failed. Trying audioread instead.\n",
      "  warnings.warn('PySoundFile failed. Trying audioread instead.')\n",
      "Saving vectors of label - 'firearm_bal':  21%|██        | 94/451 [00:14<00:51,  6.99it/s]/opt/anaconda3/envs/add_librosa/lib/python3.7/site-packages/librosa/core/audio.py:161: UserWarning: PySoundFile failed. Trying audioread instead.\n",
      "  warnings.warn('PySoundFile failed. Trying audioread instead.')\n",
      "Saving vectors of label - 'firearm_bal':  23%|██▎       | 103/451 [00:15<00:55,  6.27it/s]/opt/anaconda3/envs/add_librosa/lib/python3.7/site-packages/librosa/core/audio.py:161: UserWarning: PySoundFile failed. Trying audioread instead.\n",
      "  warnings.warn('PySoundFile failed. Trying audioread instead.')\n",
      "Saving vectors of label - 'firearm_bal':  23%|██▎       | 104/451 [00:15<01:04,  5.37it/s]/opt/anaconda3/envs/add_librosa/lib/python3.7/site-packages/librosa/core/audio.py:161: UserWarning: PySoundFile failed. Trying audioread instead.\n",
      "  warnings.warn('PySoundFile failed. Trying audioread instead.')\n",
      "Saving vectors of label - 'firearm_bal':  24%|██▎       | 107/451 [00:16<01:22,  4.16it/s]/opt/anaconda3/envs/add_librosa/lib/python3.7/site-packages/librosa/core/audio.py:161: UserWarning: PySoundFile failed. Trying audioread instead.\n",
      "  warnings.warn('PySoundFile failed. Trying audioread instead.')\n",
      "Saving vectors of label - 'firearm_bal':  26%|██▌       | 117/451 [00:19<01:09,  4.82it/s]/opt/anaconda3/envs/add_librosa/lib/python3.7/site-packages/librosa/core/audio.py:161: UserWarning: PySoundFile failed. Trying audioread instead.\n",
      "  warnings.warn('PySoundFile failed. Trying audioread instead.')\n",
      "Saving vectors of label - 'firearm_bal':  27%|██▋       | 122/451 [00:19<00:52,  6.27it/s]/opt/anaconda3/envs/add_librosa/lib/python3.7/site-packages/librosa/core/audio.py:161: UserWarning: PySoundFile failed. Trying audioread instead.\n",
      "  warnings.warn('PySoundFile failed. Trying audioread instead.')\n",
      "Saving vectors of label - 'firearm_bal':  27%|██▋       | 123/451 [00:20<00:53,  6.18it/s]/opt/anaconda3/envs/add_librosa/lib/python3.7/site-packages/librosa/core/audio.py:161: UserWarning: PySoundFile failed. Trying audioread instead.\n",
      "  warnings.warn('PySoundFile failed. Trying audioread instead.')\n",
      "Saving vectors of label - 'firearm_bal':  31%|███       | 139/451 [00:21<00:28, 11.03it/s]/opt/anaconda3/envs/add_librosa/lib/python3.7/site-packages/librosa/core/audio.py:161: UserWarning: PySoundFile failed. Trying audioread instead.\n",
      "  warnings.warn('PySoundFile failed. Trying audioread instead.')\n",
      "Saving vectors of label - 'firearm_bal':  33%|███▎      | 149/451 [00:23<00:41,  7.32it/s]/opt/anaconda3/envs/add_librosa/lib/python3.7/site-packages/librosa/core/audio.py:161: UserWarning: PySoundFile failed. Trying audioread instead.\n",
      "  warnings.warn('PySoundFile failed. Trying audioread instead.')\n",
      "Saving vectors of label - 'firearm_bal':  36%|███▌      | 162/451 [00:24<00:31,  9.10it/s]/opt/anaconda3/envs/add_librosa/lib/python3.7/site-packages/librosa/core/audio.py:161: UserWarning: PySoundFile failed. Trying audioread instead.\n",
      "  warnings.warn('PySoundFile failed. Trying audioread instead.')\n",
      "Saving vectors of label - 'firearm_bal':  41%|████      | 183/451 [00:27<00:40,  6.59it/s]/opt/anaconda3/envs/add_librosa/lib/python3.7/site-packages/librosa/core/audio.py:161: UserWarning: PySoundFile failed. Trying audioread instead.\n",
      "  warnings.warn('PySoundFile failed. Trying audioread instead.')\n",
      "Saving vectors of label - 'firearm_bal':  45%|████▌     | 205/451 [00:31<00:32,  7.52it/s]/opt/anaconda3/envs/add_librosa/lib/python3.7/site-packages/librosa/core/audio.py:161: UserWarning: PySoundFile failed. Trying audioread instead.\n",
      "  warnings.warn('PySoundFile failed. Trying audioread instead.')\n",
      "Saving vectors of label - 'firearm_bal':  46%|████▌     | 208/451 [00:32<00:31,  7.75it/s]/opt/anaconda3/envs/add_librosa/lib/python3.7/site-packages/librosa/core/audio.py:161: UserWarning: PySoundFile failed. Trying audioread instead.\n",
      "  warnings.warn('PySoundFile failed. Trying audioread instead.')\n",
      "Saving vectors of label - 'firearm_bal':  50%|████▉     | 225/451 [00:34<00:29,  7.66it/s]/opt/anaconda3/envs/add_librosa/lib/python3.7/site-packages/librosa/core/audio.py:161: UserWarning: PySoundFile failed. Trying audioread instead.\n",
      "  warnings.warn('PySoundFile failed. Trying audioread instead.')\n",
      "Saving vectors of label - 'firearm_bal':  50%|█████     | 226/451 [00:34<00:38,  5.77it/s]/opt/anaconda3/envs/add_librosa/lib/python3.7/site-packages/librosa/core/audio.py:161: UserWarning: PySoundFile failed. Trying audioread instead.\n",
      "  warnings.warn('PySoundFile failed. Trying audioread instead.')\n",
      "Saving vectors of label - 'firearm_bal':  51%|█████     | 228/451 [00:35<00:52,  4.21it/s]/opt/anaconda3/envs/add_librosa/lib/python3.7/site-packages/librosa/core/audio.py:161: UserWarning: PySoundFile failed. Trying audioread instead.\n",
      "  warnings.warn('PySoundFile failed. Trying audioread instead.')\n",
      "Saving vectors of label - 'firearm_bal':  55%|█████▌    | 250/451 [00:38<00:28,  7.09it/s]/opt/anaconda3/envs/add_librosa/lib/python3.7/site-packages/librosa/core/audio.py:161: UserWarning: PySoundFile failed. Trying audioread instead.\n",
      "  warnings.warn('PySoundFile failed. Trying audioread instead.')\n",
      "Saving vectors of label - 'firearm_bal':  56%|█████▋    | 254/451 [00:38<00:25,  7.77it/s]/opt/anaconda3/envs/add_librosa/lib/python3.7/site-packages/librosa/core/audio.py:161: UserWarning: PySoundFile failed. Trying audioread instead.\n",
      "  warnings.warn('PySoundFile failed. Trying audioread instead.')\n",
      "Saving vectors of label - 'firearm_bal':  57%|█████▋    | 258/451 [00:39<00:27,  7.11it/s]/opt/anaconda3/envs/add_librosa/lib/python3.7/site-packages/librosa/core/audio.py:161: UserWarning: PySoundFile failed. Trying audioread instead.\n",
      "  warnings.warn('PySoundFile failed. Trying audioread instead.')\n"
     ]
    },
    {
     "name": "stderr",
     "output_type": "stream",
     "text": [
      "Saving vectors of label - 'firearm_bal':  58%|█████▊    | 261/451 [00:39<00:25,  7.38it/s]/opt/anaconda3/envs/add_librosa/lib/python3.7/site-packages/librosa/core/audio.py:161: UserWarning: PySoundFile failed. Trying audioread instead.\n",
      "  warnings.warn('PySoundFile failed. Trying audioread instead.')\n",
      "Saving vectors of label - 'firearm_bal':  60%|██████    | 271/451 [00:41<00:32,  5.51it/s]/opt/anaconda3/envs/add_librosa/lib/python3.7/site-packages/librosa/core/audio.py:161: UserWarning: PySoundFile failed. Trying audioread instead.\n",
      "  warnings.warn('PySoundFile failed. Trying audioread instead.')\n",
      "Saving vectors of label - 'firearm_bal':  63%|██████▎   | 283/451 [00:43<00:35,  4.70it/s]/opt/anaconda3/envs/add_librosa/lib/python3.7/site-packages/librosa/core/audio.py:161: UserWarning: PySoundFile failed. Trying audioread instead.\n",
      "  warnings.warn('PySoundFile failed. Trying audioread instead.')\n",
      "Saving vectors of label - 'firearm_bal':  63%|██████▎   | 284/451 [00:43<00:37,  4.47it/s]/opt/anaconda3/envs/add_librosa/lib/python3.7/site-packages/librosa/core/audio.py:161: UserWarning: PySoundFile failed. Trying audioread instead.\n",
      "  warnings.warn('PySoundFile failed. Trying audioread instead.')\n",
      "Saving vectors of label - 'firearm_bal':  65%|██████▍   | 291/451 [00:45<00:40,  3.95it/s]/opt/anaconda3/envs/add_librosa/lib/python3.7/site-packages/librosa/core/audio.py:161: UserWarning: PySoundFile failed. Trying audioread instead.\n",
      "  warnings.warn('PySoundFile failed. Trying audioread instead.')\n",
      "Saving vectors of label - 'firearm_bal':  66%|██████▌   | 297/451 [00:46<00:34,  4.42it/s]/opt/anaconda3/envs/add_librosa/lib/python3.7/site-packages/librosa/core/audio.py:161: UserWarning: PySoundFile failed. Trying audioread instead.\n",
      "  warnings.warn('PySoundFile failed. Trying audioread instead.')\n",
      "Saving vectors of label - 'firearm_bal':  67%|██████▋   | 301/451 [00:47<00:41,  3.61it/s]/opt/anaconda3/envs/add_librosa/lib/python3.7/site-packages/librosa/core/audio.py:161: UserWarning: PySoundFile failed. Trying audioread instead.\n",
      "  warnings.warn('PySoundFile failed. Trying audioread instead.')\n",
      "Saving vectors of label - 'firearm_bal':  68%|██████▊   | 308/451 [00:48<00:20,  6.85it/s]/opt/anaconda3/envs/add_librosa/lib/python3.7/site-packages/librosa/core/audio.py:161: UserWarning: PySoundFile failed. Trying audioread instead.\n",
      "  warnings.warn('PySoundFile failed. Trying audioread instead.')\n",
      "Saving vectors of label - 'firearm_bal':  70%|██████▉   | 314/451 [00:48<00:18,  7.54it/s]/opt/anaconda3/envs/add_librosa/lib/python3.7/site-packages/librosa/core/audio.py:161: UserWarning: PySoundFile failed. Trying audioread instead.\n",
      "  warnings.warn('PySoundFile failed. Trying audioread instead.')\n",
      "Saving vectors of label - 'firearm_bal':  71%|███████   | 321/451 [00:49<00:12, 10.25it/s]/opt/anaconda3/envs/add_librosa/lib/python3.7/site-packages/librosa/core/audio.py:161: UserWarning: PySoundFile failed. Trying audioread instead.\n",
      "  warnings.warn('PySoundFile failed. Trying audioread instead.')\n",
      "Saving vectors of label - 'firearm_bal':  72%|███████▏  | 324/451 [00:50<00:18,  6.88it/s]/opt/anaconda3/envs/add_librosa/lib/python3.7/site-packages/librosa/core/audio.py:161: UserWarning: PySoundFile failed. Trying audioread instead.\n",
      "  warnings.warn('PySoundFile failed. Trying audioread instead.')\n",
      "Saving vectors of label - 'firearm_bal':  73%|███████▎  | 327/451 [00:50<00:18,  6.83it/s]/opt/anaconda3/envs/add_librosa/lib/python3.7/site-packages/librosa/core/audio.py:161: UserWarning: PySoundFile failed. Trying audioread instead.\n",
      "  warnings.warn('PySoundFile failed. Trying audioread instead.')\n",
      "Saving vectors of label - 'firearm_bal':  73%|███████▎  | 328/451 [00:50<00:22,  5.55it/s]/opt/anaconda3/envs/add_librosa/lib/python3.7/site-packages/librosa/core/audio.py:161: UserWarning: PySoundFile failed. Trying audioread instead.\n",
      "  warnings.warn('PySoundFile failed. Trying audioread instead.')\n",
      "Saving vectors of label - 'firearm_bal':  73%|███████▎  | 330/451 [00:51<00:19,  6.07it/s]/opt/anaconda3/envs/add_librosa/lib/python3.7/site-packages/librosa/core/audio.py:161: UserWarning: PySoundFile failed. Trying audioread instead.\n",
      "  warnings.warn('PySoundFile failed. Trying audioread instead.')\n",
      "Saving vectors of label - 'firearm_bal':  76%|███████▌  | 342/451 [00:53<00:18,  5.75it/s]/opt/anaconda3/envs/add_librosa/lib/python3.7/site-packages/librosa/core/audio.py:161: UserWarning: PySoundFile failed. Trying audioread instead.\n",
      "  warnings.warn('PySoundFile failed. Trying audioread instead.')\n",
      "Saving vectors of label - 'firearm_bal':  78%|███████▊  | 354/451 [00:55<00:15,  6.26it/s]/opt/anaconda3/envs/add_librosa/lib/python3.7/site-packages/librosa/core/audio.py:161: UserWarning: PySoundFile failed. Trying audioread instead.\n",
      "  warnings.warn('PySoundFile failed. Trying audioread instead.')\n",
      "Saving vectors of label - 'firearm_bal':  83%|████████▎ | 373/451 [00:57<00:09,  8.03it/s]/opt/anaconda3/envs/add_librosa/lib/python3.7/site-packages/librosa/core/audio.py:161: UserWarning: PySoundFile failed. Trying audioread instead.\n",
      "  warnings.warn('PySoundFile failed. Trying audioread instead.')\n",
      "Saving vectors of label - 'firearm_bal':  84%|████████▎ | 377/451 [00:58<00:09,  8.20it/s]/opt/anaconda3/envs/add_librosa/lib/python3.7/site-packages/librosa/core/audio.py:161: UserWarning: PySoundFile failed. Trying audioread instead.\n",
      "  warnings.warn('PySoundFile failed. Trying audioread instead.')\n",
      "Saving vectors of label - 'firearm_bal':  85%|████████▍ | 382/451 [00:59<00:14,  4.83it/s]/opt/anaconda3/envs/add_librosa/lib/python3.7/site-packages/librosa/core/audio.py:161: UserWarning: PySoundFile failed. Trying audioread instead.\n",
      "  warnings.warn('PySoundFile failed. Trying audioread instead.')\n",
      "Saving vectors of label - 'firearm_bal':  86%|████████▌ | 388/451 [01:00<00:11,  5.56it/s]/opt/anaconda3/envs/add_librosa/lib/python3.7/site-packages/librosa/core/audio.py:161: UserWarning: PySoundFile failed. Trying audioread instead.\n",
      "  warnings.warn('PySoundFile failed. Trying audioread instead.')\n",
      "Saving vectors of label - 'firearm_bal':  86%|████████▋ | 390/451 [01:00<00:10,  5.56it/s]/opt/anaconda3/envs/add_librosa/lib/python3.7/site-packages/librosa/core/audio.py:161: UserWarning: PySoundFile failed. Trying audioread instead.\n",
      "  warnings.warn('PySoundFile failed. Trying audioread instead.')\n",
      "Saving vectors of label - 'firearm_bal':  88%|████████▊ | 395/451 [01:01<00:09,  5.63it/s]/opt/anaconda3/envs/add_librosa/lib/python3.7/site-packages/librosa/core/audio.py:161: UserWarning: PySoundFile failed. Trying audioread instead.\n",
      "  warnings.warn('PySoundFile failed. Trying audioread instead.')\n",
      "Saving vectors of label - 'firearm_bal':  88%|████████▊ | 396/451 [01:01<00:08,  6.43it/s]/opt/anaconda3/envs/add_librosa/lib/python3.7/site-packages/librosa/core/audio.py:161: UserWarning: PySoundFile failed. Trying audioread instead.\n",
      "  warnings.warn('PySoundFile failed. Trying audioread instead.')\n",
      "Saving vectors of label - 'firearm_bal':  89%|████████▉ | 401/451 [01:02<00:07,  6.98it/s]/opt/anaconda3/envs/add_librosa/lib/python3.7/site-packages/librosa/core/audio.py:161: UserWarning: PySoundFile failed. Trying audioread instead.\n",
      "  warnings.warn('PySoundFile failed. Trying audioread instead.')\n",
      "Saving vectors of label - 'firearm_bal':  90%|█████████ | 408/451 [01:03<00:06,  6.88it/s]/opt/anaconda3/envs/add_librosa/lib/python3.7/site-packages/librosa/core/audio.py:161: UserWarning: PySoundFile failed. Trying audioread instead.\n",
      "  warnings.warn('PySoundFile failed. Trying audioread instead.')\n",
      "Saving vectors of label - 'firearm_bal':  91%|█████████▏| 412/451 [01:04<00:07,  5.32it/s]/opt/anaconda3/envs/add_librosa/lib/python3.7/site-packages/librosa/core/audio.py:161: UserWarning: PySoundFile failed. Trying audioread instead.\n",
      "  warnings.warn('PySoundFile failed. Trying audioread instead.')\n",
      "Saving vectors of label - 'firearm_bal':  93%|█████████▎| 419/451 [01:05<00:06,  5.15it/s]/opt/anaconda3/envs/add_librosa/lib/python3.7/site-packages/librosa/core/audio.py:161: UserWarning: PySoundFile failed. Trying audioread instead.\n",
      "  warnings.warn('PySoundFile failed. Trying audioread instead.')\n"
     ]
    },
    {
     "name": "stderr",
     "output_type": "stream",
     "text": [
      "Saving vectors of label - 'firearm_bal':  95%|█████████▌| 430/451 [01:06<00:02,  7.97it/s]/opt/anaconda3/envs/add_librosa/lib/python3.7/site-packages/librosa/core/audio.py:161: UserWarning: PySoundFile failed. Trying audioread instead.\n",
      "  warnings.warn('PySoundFile failed. Trying audioread instead.')\n",
      "Saving vectors of label - 'firearm_bal':  99%|█████████▉| 447/451 [01:09<00:00,  5.64it/s]/opt/anaconda3/envs/add_librosa/lib/python3.7/site-packages/librosa/core/audio.py:161: UserWarning: PySoundFile failed. Trying audioread instead.\n",
      "  warnings.warn('PySoundFile failed. Trying audioread instead.')\n",
      "Saving vectors of label - 'firearm_bal':  99%|█████████▉| 448/451 [01:09<00:00,  5.81it/s]/opt/anaconda3/envs/add_librosa/lib/python3.7/site-packages/librosa/core/audio.py:161: UserWarning: PySoundFile failed. Trying audioread instead.\n",
      "  warnings.warn('PySoundFile failed. Trying audioread instead.')\n",
      "Saving vectors of label - 'firearm_bal': 100%|██████████| 451/451 [01:10<00:00,  6.44it/s]\n"
     ]
    }
   ],
   "source": [
    "wandb.init()\n",
    "config = wandb.config\n",
    "\n",
    "config.max_len = 170\n",
    "config.buckets = 20\n",
    "\n",
    "# Save data to array file first\n",
    "save_data_to_array(max_len=config.max_len, n_mfcc=config.buckets)\n",
    "\n",
    "labels=[\"firearm_bal\", \"nonfirearm_bal\"]"
   ]
  },
  {
   "cell_type": "markdown",
   "metadata": {},
   "source": [
    "* There are 440 files for training and validation pertaining to the **nonfirearm** class\n",
    "* There are 451 audio files for training/validation belonging to the **firearm** class\n",
    "* Together, the total sum of data for training/validation amounts to 891 audio files\n",
    "\n",
    "\n",
    "* 25% of this value will be split into a dataset for validation, that is 268 data files\n",
    "* The remainder, 75%, will be split into a dataset for training, that is 623 data files"
   ]
  },
  {
   "cell_type": "code",
   "execution_count": 4,
   "metadata": {},
   "outputs": [
    {
     "name": "stdout",
     "output_type": "stream",
     "text": [
      "The number of labels is:  2\n"
     ]
    }
   ],
   "source": [
    "# # Loading train set and validation set\n",
    "X_train, X_val, y_train, y_val = get_train_validation()"
   ]
  },
  {
   "cell_type": "code",
   "execution_count": 5,
   "metadata": {},
   "outputs": [
    {
     "name": "stdout",
     "output_type": "stream",
     "text": [
      "(668, 20, 170)\n"
     ]
    }
   ],
   "source": [
    "print(X_train.shape)"
   ]
  },
  {
   "cell_type": "code",
   "execution_count": 6,
   "metadata": {},
   "outputs": [],
   "source": [
    "# # Feature dimension\n",
    "channels = 1\n",
    "config.epochs = 50 # hyperparameter\n",
    "config.batch_size = 100 # hyperparameter\n",
    "\n",
    "num_classes = 2\n",
    "\n",
    "X_train = X_train.reshape(X_train.shape[0], config.buckets, config.max_len, channels)\n",
    "X_val = X_val.reshape(X_val.shape[0], config.buckets, config.max_len, channels)"
   ]
  },
  {
   "cell_type": "code",
   "execution_count": 7,
   "metadata": {},
   "outputs": [
    {
     "data": {
      "text/plain": [
       "(668, 20, 170, 1)"
      ]
     },
     "execution_count": 7,
     "metadata": {},
     "output_type": "execute_result"
    }
   ],
   "source": [
    "X_train.shape"
   ]
  },
  {
   "cell_type": "code",
   "execution_count": 8,
   "metadata": {},
   "outputs": [
    {
     "data": {
      "text/plain": [
       "(223, 20, 170, 1)"
      ]
     },
     "execution_count": 8,
     "metadata": {},
     "output_type": "execute_result"
    }
   ],
   "source": [
    "X_val.shape"
   ]
  },
  {
   "cell_type": "code",
   "execution_count": 9,
   "metadata": {},
   "outputs": [
    {
     "data": {
      "text/plain": [
       "(668,)"
      ]
     },
     "execution_count": 9,
     "metadata": {},
     "output_type": "execute_result"
    }
   ],
   "source": [
    "y_train.shape"
   ]
  },
  {
   "cell_type": "code",
   "execution_count": 10,
   "metadata": {
    "scrolled": true
   },
   "outputs": [
    {
     "name": "stdout",
     "output_type": "stream",
     "text": [
      "0\n",
      "2\n",
      "4\n",
      "5\n",
      "6\n",
      "7\n",
      "9\n",
      "10\n",
      "11\n",
      "15\n",
      "17\n",
      "18\n",
      "20\n",
      "22\n",
      "25\n",
      "27\n",
      "28\n",
      "29\n",
      "30\n",
      "35\n",
      "36\n",
      "39\n",
      "44\n",
      "47\n",
      "49\n",
      "50\n",
      "52\n",
      "54\n",
      "57\n",
      "58\n",
      "59\n",
      "61\n",
      "62\n",
      "63\n",
      "65\n",
      "69\n",
      "70\n",
      "71\n",
      "72\n",
      "75\n",
      "77\n",
      "79\n",
      "80\n",
      "81\n",
      "82\n",
      "84\n",
      "87\n",
      "88\n",
      "90\n",
      "92\n",
      "93\n",
      "96\n",
      "97\n",
      "98\n",
      "99\n",
      "100\n",
      "104\n",
      "105\n",
      "108\n",
      "109\n",
      "112\n",
      "113\n",
      "114\n",
      "115\n",
      "118\n",
      "119\n",
      "122\n",
      "129\n",
      "132\n",
      "133\n",
      "136\n",
      "137\n",
      "140\n",
      "141\n",
      "142\n",
      "143\n",
      "145\n",
      "146\n",
      "152\n",
      "153\n",
      "154\n",
      "155\n",
      "156\n",
      "157\n",
      "158\n",
      "163\n",
      "167\n",
      "171\n",
      "172\n",
      "174\n",
      "176\n",
      "177\n",
      "178\n",
      "179\n",
      "183\n",
      "184\n",
      "187\n",
      "188\n",
      "190\n",
      "191\n",
      "192\n",
      "193\n",
      "194\n",
      "199\n",
      "202\n",
      "203\n",
      "204\n",
      "208\n",
      "209\n",
      "212\n",
      "213\n",
      "216\n",
      "217\n",
      "219\n",
      "220\n",
      "223\n",
      "224\n",
      "226\n",
      "227\n",
      "229\n",
      "230\n",
      "231\n",
      "235\n",
      "237\n",
      "238\n",
      "240\n",
      "241\n",
      "246\n",
      "247\n",
      "249\n",
      "254\n",
      "255\n",
      "257\n",
      "258\n",
      "259\n",
      "260\n",
      "261\n",
      "262\n",
      "263\n",
      "266\n",
      "267\n",
      "270\n",
      "272\n",
      "274\n",
      "276\n",
      "282\n",
      "283\n",
      "284\n",
      "285\n",
      "286\n",
      "288\n",
      "289\n",
      "291\n",
      "292\n",
      "294\n",
      "296\n",
      "298\n",
      "299\n",
      "303\n",
      "305\n",
      "306\n",
      "307\n",
      "312\n",
      "313\n",
      "315\n",
      "316\n",
      "317\n",
      "318\n",
      "321\n",
      "322\n",
      "324\n",
      "325\n",
      "333\n",
      "335\n",
      "337\n",
      "338\n",
      "340\n",
      "346\n",
      "348\n",
      "349\n",
      "351\n",
      "353\n",
      "354\n",
      "355\n",
      "357\n",
      "362\n",
      "370\n",
      "372\n",
      "376\n",
      "377\n",
      "379\n",
      "380\n",
      "381\n",
      "383\n",
      "384\n",
      "385\n",
      "386\n",
      "388\n",
      "391\n",
      "393\n",
      "395\n",
      "396\n",
      "401\n",
      "403\n",
      "404\n",
      "405\n",
      "410\n",
      "411\n",
      "415\n",
      "417\n",
      "418\n",
      "419\n",
      "422\n",
      "424\n",
      "426\n",
      "427\n",
      "428\n",
      "429\n",
      "430\n",
      "431\n",
      "432\n",
      "433\n",
      "434\n",
      "436\n",
      "438\n",
      "442\n",
      "450\n",
      "453\n",
      "457\n",
      "458\n",
      "462\n",
      "465\n",
      "468\n",
      "470\n",
      "472\n",
      "473\n",
      "476\n",
      "477\n",
      "478\n",
      "479\n",
      "483\n",
      "496\n",
      "497\n",
      "499\n",
      "501\n",
      "503\n",
      "508\n",
      "510\n",
      "516\n",
      "517\n",
      "518\n",
      "520\n",
      "521\n",
      "529\n",
      "532\n",
      "534\n",
      "535\n",
      "536\n",
      "537\n",
      "538\n",
      "540\n",
      "542\n",
      "543\n",
      "544\n",
      "546\n",
      "549\n",
      "550\n",
      "553\n",
      "556\n",
      "557\n",
      "558\n",
      "559\n",
      "561\n",
      "562\n",
      "564\n",
      "565\n",
      "566\n",
      "570\n",
      "572\n",
      "577\n",
      "578\n",
      "579\n",
      "582\n",
      "586\n",
      "588\n",
      "589\n",
      "592\n",
      "593\n",
      "594\n",
      "597\n",
      "599\n",
      "600\n",
      "601\n",
      "603\n",
      "605\n",
      "606\n",
      "607\n",
      "609\n",
      "610\n",
      "611\n",
      "619\n",
      "623\n",
      "629\n",
      "633\n",
      "634\n",
      "635\n",
      "637\n",
      "638\n",
      "639\n",
      "640\n",
      "642\n",
      "644\n",
      "646\n",
      "648\n",
      "651\n",
      "652\n",
      "653\n",
      "655\n",
      "656\n",
      "658\n",
      "660\n",
      "662\n",
      "663\n",
      "664\n",
      "666\n",
      "667\n"
     ]
    }
   ],
   "source": [
    "c=0\n",
    "for element in y_train:\n",
    "    if element==0:\n",
    "        print(c)\n",
    "    c+=1"
   ]
  },
  {
   "cell_type": "code",
   "execution_count": 12,
   "metadata": {},
   "outputs": [
    {
     "data": {
      "image/png": "[encoded data removed]",
      "text/plain": [
       "<Figure size 540x360 with 2 Axes>"
      ]
     },
     "metadata": {
      "needs_background": "light"
     },
     "output_type": "display_data"
    }
   ],
   "source": [
    "num=0\n",
    "plt.figure(figsize=(3,2),dpi=180)\n",
    "librosa.display.specshow(X_train[num, :, :, 0],x_axis='time')\n",
    "plt.title(str(y_train[num]),fontsize=10)\n",
    "cbar=plt.colorbar()\n",
    "cbar.set_label('MFCC',rotation=270,fontsize=10,labelpad=10)\n",
    "plt.tight_layout()\n",
    "plt.savefig('../reports/figures/'+'MFCC_'+str(num)+'.png')"
   ]
  },
  {
   "cell_type": "code",
   "execution_count": 13,
   "metadata": {},
   "outputs": [],
   "source": [
    "y_train_hot = to_categorical(y_train)\n",
    "y_val_hot = to_categorical(y_val)"
   ]
  },
  {
   "cell_type": "code",
   "execution_count": 14,
   "metadata": {
    "scrolled": true
   },
   "outputs": [
    {
     "data": {
      "text/plain": [
       "0    326.0\n",
       "1    342.0\n",
       "dtype: float32"
      ]
     },
     "execution_count": 14,
     "metadata": {},
     "output_type": "execute_result"
    }
   ],
   "source": [
    "pd.DataFrame(y_train_hot).sum()"
   ]
  },
  {
   "cell_type": "code",
   "execution_count": 15,
   "metadata": {
    "scrolled": true
   },
   "outputs": [
    {
     "data": {
      "text/plain": [
       "0    114.0\n",
       "1    109.0\n",
       "dtype: float32"
      ]
     },
     "execution_count": 15,
     "metadata": {},
     "output_type": "execute_result"
    }
   ],
   "source": [
    "pd.DataFrame(y_val_hot).sum()"
   ]
  },
  {
   "cell_type": "markdown",
   "metadata": {},
   "source": [
    "Here, the nonfirearm sounds correspond to the 0th row.  In the 0th row, values of one indicate nonfirearm sounds. \n",
    "\n",
    "In the first row, values of one pertain to firearm sounds, and zeros belong to nonfirearm sounds.  "
   ]
  },
  {
   "cell_type": "code",
   "execution_count": 16,
   "metadata": {},
   "outputs": [],
   "source": [
    "X_train = X_train.reshape(X_train.shape[0], config.buckets, config.max_len)\n",
    "X_val = X_val.reshape(X_val.shape[0], config.buckets, config.max_len)\n",
    "\n",
    "model = Sequential()\n",
    "model.add(Flatten(input_shape=(config.buckets, config.max_len)))\n",
    "model.add(Dense(num_classes, activation='softmax'))\n",
    "\n",
    "opt = keras.optimizers.Adam(learning_rate=.05) #optimizer\n",
    "\n",
    "model.compile(loss=\"categorical_crossentropy\",\n",
    "                  optimizer=opt,\n",
    "                  metrics=['accuracy'])"
   ]
  },
  {
   "cell_type": "code",
   "execution_count": 17,
   "metadata": {},
   "outputs": [
    {
     "name": "stdout",
     "output_type": "stream",
     "text": [
      "Model: \"sequential\"\n",
      "_________________________________________________________________\n",
      "Layer (type)                 Output Shape              Param #   \n",
      "=================================================================\n",
      "flatten (Flatten)            (None, 3400)              0         \n",
      "_________________________________________________________________\n",
      "dense (Dense)                (None, 2)                 6802      \n",
      "=================================================================\n",
      "Total params: 6,802\n",
      "Trainable params: 6,802\n",
      "Non-trainable params: 0\n",
      "_________________________________________________________________\n"
     ]
    }
   ],
   "source": [
    "model.summary()"
   ]
  },
  {
   "cell_type": "code",
   "execution_count": 18,
   "metadata": {
    "scrolled": true
   },
   "outputs": [
    {
     "data": {
      "text/html": [
       "\n",
       "                Logging results to <a href=\"https://wandb.com\" target=\"_blank\">Weights & Biases</a> <a href=\"https://docs.wandb.com/integrations/jupyter.html\" target=\"_blank\">(Documentation)</a>.<br/>\n",
       "                Project page: <a href=\"https://app.wandb.ai/adri-rojas/Firearm_Detection-notebooks\" target=\"_blank\">https://app.wandb.ai/adri-rojas/Firearm_Detection-notebooks</a><br/>\n",
       "                Run page: <a href=\"https://app.wandb.ai/adri-rojas/Firearm_Detection-notebooks/runs/22wwbqve\" target=\"_blank\">https://app.wandb.ai/adri-rojas/Firearm_Detection-notebooks/runs/22wwbqve</a><br/>\n",
       "            "
      ],
      "text/plain": [
       "<IPython.core.display.HTML object>"
      ]
     },
     "metadata": {},
     "output_type": "display_data"
    },
    {
     "name": "stdout",
     "output_type": "stream",
     "text": [
      "Epoch 1/50\n",
      "21/21 [==============================] - 0s 21ms/step - loss: 1266.6713 - accuracy: 0.6886 - val_loss: 560.7993 - val_accuracy: 0.9013\n",
      "Epoch 2/50\n",
      "21/21 [==============================] - 0s 8ms/step - loss: 474.4134 - accuracy: 0.8473 - val_loss: 287.4224 - val_accuracy: 0.8744\n",
      "Epoch 3/50\n",
      "21/21 [==============================] - 0s 7ms/step - loss: 183.8688 - accuracy: 0.9072 - val_loss: 218.5283 - val_accuracy: 0.8834\n",
      "Epoch 4/50\n",
      "21/21 [==============================] - 0s 8ms/step - loss: 113.9594 - accuracy: 0.9192 - val_loss: 191.4368 - val_accuracy: 0.9013\n",
      "Epoch 5/50\n",
      "21/21 [==============================] - 0s 7ms/step - loss: 80.8882 - accuracy: 0.9177 - val_loss: 175.8523 - val_accuracy: 0.8924\n",
      "Epoch 6/50\n",
      "21/21 [==============================] - 0s 8ms/step - loss: 69.4002 - accuracy: 0.9371 - val_loss: 480.5946 - val_accuracy: 0.7444\n",
      "Epoch 7/50\n",
      "21/21 [==============================] - 0s 7ms/step - loss: 68.9381 - accuracy: 0.9371 - val_loss: 155.7250 - val_accuracy: 0.9103\n",
      "Epoch 8/50\n",
      "21/21 [==============================] - 0s 7ms/step - loss: 32.0530 - accuracy: 0.9566 - val_loss: 348.8155 - val_accuracy: 0.7713\n",
      "Epoch 9/50\n",
      "21/21 [==============================] - 0s 6ms/step - loss: 120.6675 - accuracy: 0.9192 - val_loss: 256.2138 - val_accuracy: 0.8834\n",
      "Epoch 10/50\n",
      "21/21 [==============================] - 0s 6ms/step - loss: 58.6535 - accuracy: 0.9371 - val_loss: 203.2905 - val_accuracy: 0.8789\n",
      "Epoch 11/50\n",
      "21/21 [==============================] - 0s 8ms/step - loss: 15.3421 - accuracy: 0.9731 - val_loss: 227.5443 - val_accuracy: 0.8744\n",
      "Epoch 12/50\n",
      "21/21 [==============================] - 0s 7ms/step - loss: 19.0632 - accuracy: 0.9656 - val_loss: 362.6365 - val_accuracy: 0.8296\n",
      "Epoch 13/50\n",
      "21/21 [==============================] - 0s 6ms/step - loss: 28.2846 - accuracy: 0.9611 - val_loss: 193.9811 - val_accuracy: 0.8969\n",
      "Epoch 14/50\n",
      "21/21 [==============================] - 0s 7ms/step - loss: 17.9315 - accuracy: 0.9686 - val_loss: 234.8788 - val_accuracy: 0.8744\n",
      "Epoch 15/50\n",
      "21/21 [==============================] - 0s 14ms/step - loss: 6.8887 - accuracy: 0.9850 - val_loss: 214.5679 - val_accuracy: 0.8789\n",
      "Epoch 16/50\n",
      "21/21 [==============================] - 0s 7ms/step - loss: 14.6728 - accuracy: 0.9746 - val_loss: 275.5914 - val_accuracy: 0.8789\n",
      "Epoch 17/50\n",
      "21/21 [==============================] - 0s 7ms/step - loss: 15.2285 - accuracy: 0.9790 - val_loss: 280.9706 - val_accuracy: 0.8430\n",
      "Epoch 18/50\n",
      "21/21 [==============================] - 0s 6ms/step - loss: 17.1610 - accuracy: 0.9701 - val_loss: 292.9246 - val_accuracy: 0.8430\n",
      "Epoch 19/50\n",
      "21/21 [==============================] - 0s 7ms/step - loss: 6.3134 - accuracy: 0.9850 - val_loss: 317.2789 - val_accuracy: 0.8655\n",
      "Epoch 20/50\n",
      "21/21 [==============================] - 0s 7ms/step - loss: 4.6610 - accuracy: 0.9880 - val_loss: 306.8026 - val_accuracy: 0.8475\n",
      "Epoch 21/50\n",
      "21/21 [==============================] - 0s 7ms/step - loss: 4.5843 - accuracy: 0.9940 - val_loss: 216.1749 - val_accuracy: 0.9013\n",
      "Epoch 22/50\n",
      "21/21 [==============================] - 0s 6ms/step - loss: 0.6822 - accuracy: 0.9925 - val_loss: 226.1031 - val_accuracy: 0.8924\n",
      "Epoch 23/50\n",
      "21/21 [==============================] - 0s 8ms/step - loss: 14.7023 - accuracy: 0.9820 - val_loss: 198.7430 - val_accuracy: 0.8969\n",
      "Epoch 24/50\n",
      "21/21 [==============================] - 0s 7ms/step - loss: 26.4452 - accuracy: 0.9641 - val_loss: 321.6721 - val_accuracy: 0.8879\n",
      "Epoch 25/50\n",
      "21/21 [==============================] - 0s 7ms/step - loss: 35.1996 - accuracy: 0.9671 - val_loss: 365.5959 - val_accuracy: 0.8430\n",
      "Epoch 26/50\n",
      "21/21 [==============================] - 0s 7ms/step - loss: 11.8834 - accuracy: 0.9850 - val_loss: 272.5560 - val_accuracy: 0.8610\n",
      "Epoch 27/50\n",
      "21/21 [==============================] - 0s 7ms/step - loss: 8.8959 - accuracy: 0.9850 - val_loss: 321.1905 - val_accuracy: 0.8386\n",
      "Epoch 28/50\n",
      "21/21 [==============================] - 0s 7ms/step - loss: 10.2867 - accuracy: 0.9895 - val_loss: 277.1452 - val_accuracy: 0.8924\n",
      "Epoch 29/50\n",
      "21/21 [==============================] - 0s 7ms/step - loss: 2.0111 - accuracy: 0.9880 - val_loss: 240.3370 - val_accuracy: 0.8834\n",
      "Epoch 30/50\n",
      "21/21 [==============================] - 0s 8ms/step - loss: 12.6022 - accuracy: 0.9775 - val_loss: 277.8672 - val_accuracy: 0.8565\n",
      "Epoch 31/50\n",
      "21/21 [==============================] - 0s 7ms/step - loss: 46.8110 - accuracy: 0.9581 - val_loss: 259.9330 - val_accuracy: 0.9058\n",
      "Epoch 32/50\n",
      "21/21 [==============================] - 0s 7ms/step - loss: 27.7087 - accuracy: 0.9731 - val_loss: 435.6649 - val_accuracy: 0.8565\n",
      "Epoch 33/50\n",
      "21/21 [==============================] - 0s 7ms/step - loss: 13.6286 - accuracy: 0.9865 - val_loss: 343.7925 - val_accuracy: 0.8610\n",
      "Epoch 34/50\n",
      "21/21 [==============================] - 0s 7ms/step - loss: 5.7260 - accuracy: 0.9910 - val_loss: 324.5187 - val_accuracy: 0.8924\n",
      "Epoch 35/50\n",
      "21/21 [==============================] - 0s 7ms/step - loss: 7.1427 - accuracy: 0.9865 - val_loss: 437.4106 - val_accuracy: 0.8341\n",
      "Epoch 36/50\n",
      "21/21 [==============================] - 0s 7ms/step - loss: 3.1331 - accuracy: 0.9910 - val_loss: 385.6218 - val_accuracy: 0.8520\n",
      "Epoch 37/50\n",
      "21/21 [==============================] - 0s 8ms/step - loss: 17.7398 - accuracy: 0.9790 - val_loss: 364.0490 - val_accuracy: 0.8789\n",
      "Epoch 38/50\n",
      "21/21 [==============================] - 0s 7ms/step - loss: 7.1817 - accuracy: 0.9880 - val_loss: 297.2346 - val_accuracy: 0.8789\n",
      "Epoch 39/50\n",
      "21/21 [==============================] - 0s 7ms/step - loss: 5.9337 - accuracy: 0.9865 - val_loss: 318.7494 - val_accuracy: 0.8655\n",
      "Epoch 40/50\n",
      "21/21 [==============================] - 0s 7ms/step - loss: 3.0130 - accuracy: 0.9910 - val_loss: 280.0123 - val_accuracy: 0.8834\n",
      "Epoch 41/50\n",
      "21/21 [==============================] - 0s 8ms/step - loss: 4.1466 - accuracy: 0.9955 - val_loss: 281.8871 - val_accuracy: 0.8834\n",
      "Epoch 42/50\n",
      "21/21 [==============================] - 0s 8ms/step - loss: 7.0555 - accuracy: 0.9910 - val_loss: 498.5378 - val_accuracy: 0.8206\n",
      "Epoch 43/50\n",
      "21/21 [==============================] - 0s 8ms/step - loss: 0.5442 - accuracy: 0.9970 - val_loss: 254.3417 - val_accuracy: 0.9013\n",
      "Epoch 44/50\n",
      "21/21 [==============================] - 0s 7ms/step - loss: 0.0000e+00 - accuracy: 1.0000 - val_loss: 243.0545 - val_accuracy: 0.9058\n",
      "Epoch 45/50\n",
      "21/21 [==============================] - 0s 7ms/step - loss: 2.0398e-04 - accuracy: 1.0000 - val_loss: 261.9983 - val_accuracy: 0.8969\n",
      "Epoch 46/50\n",
      "21/21 [==============================] - 0s 7ms/step - loss: 0.0000e+00 - accuracy: 1.0000 - val_loss: 269.5717 - val_accuracy: 0.8834\n",
      "Epoch 47/50\n",
      "21/21 [==============================] - 0s 7ms/step - loss: 0.0000e+00 - accuracy: 1.0000 - val_loss: 270.6763 - val_accuracy: 0.8834\n",
      "Epoch 48/50\n",
      "21/21 [==============================] - 0s 7ms/step - loss: 0.0000e+00 - accuracy: 1.0000 - val_loss: 270.7991 - val_accuracy: 0.8834\n",
      "Epoch 49/50\n",
      "21/21 [==============================] - 0s 7ms/step - loss: 0.0000e+00 - accuracy: 1.0000 - val_loss: 270.8127 - val_accuracy: 0.8834\n",
      "Epoch 50/50\n",
      "21/21 [==============================] - 0s 8ms/step - loss: 0.0000e+00 - accuracy: 1.0000 - val_loss: 270.8140 - val_accuracy: 0.8834\n"
     ]
    }
   ],
   "source": [
    "wandb.init()\n",
    "history1=model.fit(X_train, y_train_hot, epochs=config.epochs, validation_data=(X_val, y_val_hot), callbacks=[WandbCallback(data_type=\"image\", labels=labels)])\n"
   ]
  },
  {
   "cell_type": "code",
   "execution_count": 19,
   "metadata": {},
   "outputs": [
    {
     "data": {
      "image/png": "[encoded data removed]",
      "text/plain": [
       "<Figure size 576x360 with 1 Axes>"
      ]
     },
     "metadata": {
      "needs_background": "light"
     },
     "output_type": "display_data"
    },
    {
     "name": "stderr",
     "output_type": "stream",
     "text": [
      "\u001b[34m\u001b[1mwandb\u001b[0m: \u001b[32m\u001b[41mERROR\u001b[0m Error uploading \"media/images/examples_38.png\": CommError, File /var/folders/px/t6llprnj0m3fhqqbhbvkrynm0000gn/T/tmpohi8fqsqwandb/1rm3xn22-media/images/examples_38.png size shrank from 71962 to 0 while it was being uploaded.\n",
      "\u001b[34m\u001b[1mwandb\u001b[0m: \u001b[32m\u001b[41mERROR\u001b[0m Error uploading \"media/images/examples_36.png\": CommError, File /var/folders/px/t6llprnj0m3fhqqbhbvkrynm0000gn/T/tmpohi8fqsqwandb/1h43gbt3-media/images/examples_36.png size shrank from 65889 to 0 while it was being uploaded.\n",
      "\u001b[34m\u001b[1mwandb\u001b[0m: \u001b[32m\u001b[41mERROR\u001b[0m Error uploading \"media/images/examples_39.png\": CommError, File /var/folders/px/t6llprnj0m3fhqqbhbvkrynm0000gn/T/tmpohi8fqsqwandb/8hkrpco3-media/images/examples_39.png size shrank from 63295 to 0 while it was being uploaded.\n",
      "\u001b[34m\u001b[1mwandb\u001b[0m: \u001b[32m\u001b[41mERROR\u001b[0m Error uploading \"media/images/examples_37.png\": CommError, File /var/folders/px/t6llprnj0m3fhqqbhbvkrynm0000gn/T/tmpohi8fqsqwandb/3li8hegp-media/images/examples_37.png size shrank from 68602 to 0 while it was being uploaded.\n",
      "\u001b[34m\u001b[1mwandb\u001b[0m: \u001b[32m\u001b[41mERROR\u001b[0m Error uploading \"media/images/examples_40.png\": CommError, File /var/folders/px/t6llprnj0m3fhqqbhbvkrynm0000gn/T/tmpohi8fqsqwandb/28svsv8l-media/images/examples_40.png size shrank from 59652 to 0 while it was being uploaded.\n",
      "\u001b[34m\u001b[1mwandb\u001b[0m: \u001b[32m\u001b[41mERROR\u001b[0m Error uploading \"media/images/examples_41.png\": CommError, File /var/folders/px/t6llprnj0m3fhqqbhbvkrynm0000gn/T/tmpohi8fqsqwandb/3rqail1k-media/images/examples_41.png size shrank from 71218 to 0 while it was being uploaded.\n",
      "\u001b[34m\u001b[1mwandb\u001b[0m: \u001b[32m\u001b[41mERROR\u001b[0m Error uploading \"media/images/examples_47.png\": CommError, None\n",
      "\u001b[34m\u001b[1mwandb\u001b[0m: \u001b[32m\u001b[41mERROR\u001b[0m Error uploading \"media/images/examples_42.png\": CommError, None\n",
      "\u001b[34m\u001b[1mwandb\u001b[0m: \u001b[32m\u001b[41mERROR\u001b[0m Error uploading \"media/images/examples_43.png\": CommError, None\n",
      "\u001b[34m\u001b[1mwandb\u001b[0m: \u001b[32m\u001b[41mERROR\u001b[0m Error uploading \"media/images/examples_46.png\": CommError, None\n",
      "\u001b[34m\u001b[1mwandb\u001b[0m: \u001b[32m\u001b[41mERROR\u001b[0m Error uploading \"media/images/examples_44.png\": CommError, None\n",
      "\u001b[34m\u001b[1mwandb\u001b[0m: \u001b[32m\u001b[41mERROR\u001b[0m Error uploading \"media/images/examples_48.png\": CommError, None\n",
      "\u001b[34m\u001b[1mwandb\u001b[0m: \u001b[32m\u001b[41mERROR\u001b[0m Error uploading \"media/images/examples_45.png\": CommError, None\n"
     ]
    }
   ],
   "source": [
    "pd.DataFrame(history1.history).plot(figsize=(8,5),fontsize=20)\n",
    "# plt.grid(True)\n",
    "plt.gca().set_ylim(.5,1)\n",
    "plt.xlabel('Epochs',fontsize=20)\n",
    "plt.ylabel('Accuracy and Loss',fontsize=20)\n",
    "plt.show();"
   ]
  },
  {
   "cell_type": "markdown",
   "metadata": {},
   "source": [
    "## Test the Sequential NN with some Test Data"
   ]
  },
  {
   "cell_type": "code",
   "execution_count": 20,
   "metadata": {},
   "outputs": [],
   "source": [
    "from preprocess_test import *"
   ]
  },
  {
   "cell_type": "code",
   "execution_count": 21,
   "metadata": {},
   "outputs": [
    {
     "name": "stdout",
     "output_type": "stream",
     "text": [
      "../data/test_bal/\n"
     ]
    }
   ],
   "source": [
    "print(DATA_PATH_TEST)"
   ]
  },
  {
   "cell_type": "code",
   "execution_count": 24,
   "metadata": {
    "scrolled": true
   },
   "outputs": [
    {
     "name": "stderr",
     "output_type": "stream",
     "text": [
      "Saving vectors of label - 'nonfirearm_test_bal':   1%|          | 1/110 [00:00<00:17,  6.25it/s]"
     ]
    },
    {
     "name": "stdout",
     "output_type": "stream",
     "text": [
      "The number of labels is:  2\n"
     ]
    },
    {
     "name": "stderr",
     "output_type": "stream",
     "text": [
      "Saving vectors of label - 'nonfirearm_test_bal': 100%|██████████| 110/110 [00:23<00:00,  4.63it/s]\n",
      "Saving vectors of label - 'firearm_test_bal':   2%|▏         | 2/111 [00:00<00:07, 14.68it/s]/opt/anaconda3/envs/add_librosa/lib/python3.7/site-packages/librosa/core/audio.py:161: UserWarning: PySoundFile failed. Trying audioread instead.\n",
      "  warnings.warn('PySoundFile failed. Trying audioread instead.')\n",
      "Saving vectors of label - 'firearm_test_bal':   5%|▍         | 5/111 [00:00<00:10,  9.70it/s]/opt/anaconda3/envs/add_librosa/lib/python3.7/site-packages/librosa/core/audio.py:161: UserWarning: PySoundFile failed. Trying audioread instead.\n",
      "  warnings.warn('PySoundFile failed. Trying audioread instead.')\n",
      "Saving vectors of label - 'firearm_test_bal':   6%|▋         | 7/111 [00:00<00:13,  7.48it/s]/opt/anaconda3/envs/add_librosa/lib/python3.7/site-packages/librosa/core/audio.py:161: UserWarning: PySoundFile failed. Trying audioread instead.\n",
      "  warnings.warn('PySoundFile failed. Trying audioread instead.')\n",
      "Saving vectors of label - 'firearm_test_bal':  13%|█▎        | 14/111 [00:01<00:13,  6.93it/s]/opt/anaconda3/envs/add_librosa/lib/python3.7/site-packages/librosa/core/audio.py:161: UserWarning: PySoundFile failed. Trying audioread instead.\n",
      "  warnings.warn('PySoundFile failed. Trying audioread instead.')\n",
      "Saving vectors of label - 'firearm_test_bal':  15%|█▌        | 17/111 [00:02<00:20,  4.49it/s]/opt/anaconda3/envs/add_librosa/lib/python3.7/site-packages/librosa/core/audio.py:161: UserWarning: PySoundFile failed. Trying audioread instead.\n",
      "  warnings.warn('PySoundFile failed. Trying audioread instead.')\n",
      "Saving vectors of label - 'firearm_test_bal':  18%|█▊        | 20/111 [00:02<00:15,  5.74it/s]/opt/anaconda3/envs/add_librosa/lib/python3.7/site-packages/librosa/core/audio.py:161: UserWarning: PySoundFile failed. Trying audioread instead.\n",
      "  warnings.warn('PySoundFile failed. Trying audioread instead.')\n",
      "Saving vectors of label - 'firearm_test_bal':  23%|██▎       | 25/111 [00:03<00:19,  4.49it/s]/opt/anaconda3/envs/add_librosa/lib/python3.7/site-packages/librosa/core/audio.py:161: UserWarning: PySoundFile failed. Trying audioread instead.\n",
      "  warnings.warn('PySoundFile failed. Trying audioread instead.')\n",
      "Saving vectors of label - 'firearm_test_bal':  25%|██▌       | 28/111 [00:04<00:13,  6.02it/s]/opt/anaconda3/envs/add_librosa/lib/python3.7/site-packages/librosa/core/audio.py:161: UserWarning: PySoundFile failed. Trying audioread instead.\n",
      "  warnings.warn('PySoundFile failed. Trying audioread instead.')\n",
      "Saving vectors of label - 'firearm_test_bal':  32%|███▏      | 35/111 [00:04<00:09,  8.18it/s]/opt/anaconda3/envs/add_librosa/lib/python3.7/site-packages/librosa/core/audio.py:161: UserWarning: PySoundFile failed. Trying audioread instead.\n",
      "  warnings.warn('PySoundFile failed. Trying audioread instead.')\n",
      "Saving vectors of label - 'firearm_test_bal':  55%|█████▍    | 61/111 [00:07<00:04, 10.52it/s]/opt/anaconda3/envs/add_librosa/lib/python3.7/site-packages/librosa/core/audio.py:161: UserWarning: PySoundFile failed. Trying audioread instead.\n",
      "  warnings.warn('PySoundFile failed. Trying audioread instead.')\n",
      "Saving vectors of label - 'firearm_test_bal':  58%|█████▊    | 64/111 [00:08<00:09,  4.78it/s]/opt/anaconda3/envs/add_librosa/lib/python3.7/site-packages/librosa/core/audio.py:161: UserWarning: PySoundFile failed. Trying audioread instead.\n",
      "  warnings.warn('PySoundFile failed. Trying audioread instead.')\n",
      "Saving vectors of label - 'firearm_test_bal':  59%|█████▊    | 65/111 [00:08<00:08,  5.18it/s]/opt/anaconda3/envs/add_librosa/lib/python3.7/site-packages/librosa/core/audio.py:161: UserWarning: PySoundFile failed. Trying audioread instead.\n",
      "  warnings.warn('PySoundFile failed. Trying audioread instead.')\n",
      "Saving vectors of label - 'firearm_test_bal':  68%|██████▊   | 76/111 [00:09<00:04,  7.79it/s]/opt/anaconda3/envs/add_librosa/lib/python3.7/site-packages/librosa/core/audio.py:161: UserWarning: PySoundFile failed. Trying audioread instead.\n",
      "  warnings.warn('PySoundFile failed. Trying audioread instead.')\n",
      "Saving vectors of label - 'firearm_test_bal':  69%|██████▉   | 77/111 [00:10<00:05,  6.18it/s]/opt/anaconda3/envs/add_librosa/lib/python3.7/site-packages/librosa/core/audio.py:161: UserWarning: PySoundFile failed. Trying audioread instead.\n",
      "  warnings.warn('PySoundFile failed. Trying audioread instead.')\n",
      "Saving vectors of label - 'firearm_test_bal':  70%|███████   | 78/111 [00:10<00:05,  5.67it/s]/opt/anaconda3/envs/add_librosa/lib/python3.7/site-packages/librosa/core/audio.py:161: UserWarning: PySoundFile failed. Trying audioread instead.\n",
      "  warnings.warn('PySoundFile failed. Trying audioread instead.')\n",
      "Saving vectors of label - 'firearm_test_bal':  79%|███████▉  | 88/111 [00:11<00:02,  8.47it/s]/opt/anaconda3/envs/add_librosa/lib/python3.7/site-packages/librosa/core/audio.py:161: UserWarning: PySoundFile failed. Trying audioread instead.\n",
      "  warnings.warn('PySoundFile failed. Trying audioread instead.')\n",
      "/opt/anaconda3/envs/add_librosa/lib/python3.7/site-packages/librosa/core/audio.py:161: UserWarning: PySoundFile failed. Trying audioread instead.\n",
      "  warnings.warn('PySoundFile failed. Trying audioread instead.')\n",
      "Saving vectors of label - 'firearm_test_bal':  84%|████████▍ | 93/111 [00:12<00:02,  7.13it/s]/opt/anaconda3/envs/add_librosa/lib/python3.7/site-packages/librosa/core/audio.py:161: UserWarning: PySoundFile failed. Trying audioread instead.\n",
      "  warnings.warn('PySoundFile failed. Trying audioread instead.')\n",
      "Saving vectors of label - 'firearm_test_bal':  86%|████████▌ | 95/111 [00:12<00:02,  6.92it/s]/opt/anaconda3/envs/add_librosa/lib/python3.7/site-packages/librosa/core/audio.py:161: UserWarning: PySoundFile failed. Trying audioread instead.\n",
      "  warnings.warn('PySoundFile failed. Trying audioread instead.')\n",
      "Saving vectors of label - 'firearm_test_bal': 100%|██████████| 111/111 [00:14<00:00,  7.43it/s]\n"
     ]
    }
   ],
   "source": [
    "save_data_to_array(max_len=config.max_len, n_mfcc=config.buckets)\n",
    "labels=[\"firearm_test_bal\", \"nonfirearm_test_bal\"]"
   ]
  },
  {
   "cell_type": "code",
   "execution_count": 26,
   "metadata": {},
   "outputs": [
    {
     "name": "stdout",
     "output_type": "stream",
     "text": [
      "The number of non firearms 110\n",
      "The number of firearms 111\n"
     ]
    }
   ],
   "source": [
    "x_non = np.load(labels[1] + '.npy')\n",
    "print('The number of non firearms',len(x_non))\n",
    "x_fa= np.load(labels[0] + '.npy')\n",
    "print('The number of firearms',len(x_fa))"
   ]
  },
  {
   "cell_type": "code",
   "execution_count": 27,
   "metadata": {
    "scrolled": true
   },
   "outputs": [
    {
     "name": "stdout",
     "output_type": "stream",
     "text": [
      "The number of labels is:  2\n"
     ]
    }
   ],
   "source": [
    "X_test, X_none, y_test, y_none = get_test()"
   ]
  },
  {
   "cell_type": "code",
   "execution_count": 28,
   "metadata": {},
   "outputs": [
    {
     "name": "stdout",
     "output_type": "stream",
     "text": [
      "(198, 20, 170)\n",
      "(198,)\n",
      "(23, 20, 170)\n",
      "(23,)\n"
     ]
    }
   ],
   "source": [
    "print(X_test.shape)\n",
    "print(y_test.shape)\n",
    "print(X_none.shape)\n",
    "print(y_none.shape)"
   ]
  },
  {
   "cell_type": "code",
   "execution_count": 29,
   "metadata": {},
   "outputs": [
    {
     "name": "stdout",
     "output_type": "stream",
     "text": [
      "(221, 20, 170)\n",
      "(221,)\n"
     ]
    }
   ],
   "source": [
    "X_test=np.concatenate((X_test,X_none),axis=0)\n",
    "Y_test=np.concatenate((y_test,y_none),axis=0)\n",
    "print(X_test.shape)\n",
    "print(Y_test.shape)"
   ]
  },
  {
   "cell_type": "code",
   "execution_count": 30,
   "metadata": {
    "scrolled": false
   },
   "outputs": [
    {
     "name": "stdout",
     "output_type": "stream",
     "text": [
      "(221, 20, 170, 1)\n"
     ]
    }
   ],
   "source": [
    "X_test = X_test.reshape(X_test.shape[0], config.buckets, config.max_len, channels)\n",
    "print(X_test.shape)"
   ]
  },
  {
   "cell_type": "code",
   "execution_count": 31,
   "metadata": {
    "scrolled": true
   },
   "outputs": [
    {
     "name": "stdout",
     "output_type": "stream",
     "text": [
      "(221, 2)\n"
     ]
    }
   ],
   "source": [
    "Y_test_hot = to_categorical(Y_test)\n",
    "print(Y_test_hot.shape)"
   ]
  },
  {
   "cell_type": "code",
   "execution_count": 32,
   "metadata": {
    "scrolled": true
   },
   "outputs": [
    {
     "data": {
      "text/plain": [
       "0    110.0\n",
       "1    111.0\n",
       "dtype: float32"
      ]
     },
     "execution_count": 32,
     "metadata": {},
     "output_type": "execute_result"
    }
   ],
   "source": [
    "pd.DataFrame(Y_test_hot).sum()"
   ]
  },
  {
   "cell_type": "markdown",
   "metadata": {},
   "source": [
    "This corresponds to the patterns above, where the ones in the 0th row correspond to nonfirearm sounds, and ones in the 1st row correspond to firearm sounds. "
   ]
  },
  {
   "cell_type": "code",
   "execution_count": 33,
   "metadata": {
    "scrolled": true
   },
   "outputs": [
    {
     "name": "stdout",
     "output_type": "stream",
     "text": [
      "7/7 [==============================] - 0s 986us/step - loss: 255.7926 - accuracy: 0.9005\n",
      "\n",
      "The accuracy is: 90.0 %\n"
     ]
    }
   ],
   "source": [
    "m_eval=model.evaluate(X_test, np.abs(Y_test_hot))\n",
    "accuracy=round(m_eval[1]*100,1)\n",
    "print('\\nThe accuracy is:', accuracy,'%')"
   ]
  },
  {
   "cell_type": "code",
   "execution_count": 34,
   "metadata": {},
   "outputs": [],
   "source": [
    "Y_predict=model.predict(X_test)"
   ]
  },
  {
   "cell_type": "code",
   "execution_count": 35,
   "metadata": {
    "scrolled": true
   },
   "outputs": [
    {
     "data": {
      "text/html": [
       "<div>\n",
       "<style scoped>\n",
       "    .dataframe tbody tr th:only-of-type {\n",
       "        vertical-align: middle;\n",
       "    }\n",
       "\n",
       "    .dataframe tbody tr th {\n",
       "        vertical-align: top;\n",
       "    }\n",
       "\n",
       "    .dataframe thead th {\n",
       "        text-align: right;\n",
       "    }\n",
       "</style>\n",
       "<table border=\"1\" class=\"dataframe\">\n",
       "  <thead>\n",
       "    <tr style=\"text-align: right;\">\n",
       "      <th></th>\n",
       "      <th>0</th>\n",
       "      <th>1</th>\n",
       "    </tr>\n",
       "  </thead>\n",
       "  <tbody>\n",
       "    <tr>\n",
       "      <th>0</th>\n",
       "      <td>1.0</td>\n",
       "      <td>0.0</td>\n",
       "    </tr>\n",
       "    <tr>\n",
       "      <th>1</th>\n",
       "      <td>0.0</td>\n",
       "      <td>1.0</td>\n",
       "    </tr>\n",
       "    <tr>\n",
       "      <th>2</th>\n",
       "      <td>0.0</td>\n",
       "      <td>1.0</td>\n",
       "    </tr>\n",
       "    <tr>\n",
       "      <th>3</th>\n",
       "      <td>0.0</td>\n",
       "      <td>1.0</td>\n",
       "    </tr>\n",
       "    <tr>\n",
       "      <th>4</th>\n",
       "      <td>1.0</td>\n",
       "      <td>0.0</td>\n",
       "    </tr>\n",
       "    <tr>\n",
       "      <th>...</th>\n",
       "      <td>...</td>\n",
       "      <td>...</td>\n",
       "    </tr>\n",
       "    <tr>\n",
       "      <th>216</th>\n",
       "      <td>0.0</td>\n",
       "      <td>1.0</td>\n",
       "    </tr>\n",
       "    <tr>\n",
       "      <th>217</th>\n",
       "      <td>1.0</td>\n",
       "      <td>0.0</td>\n",
       "    </tr>\n",
       "    <tr>\n",
       "      <th>218</th>\n",
       "      <td>0.0</td>\n",
       "      <td>1.0</td>\n",
       "    </tr>\n",
       "    <tr>\n",
       "      <th>219</th>\n",
       "      <td>1.0</td>\n",
       "      <td>0.0</td>\n",
       "    </tr>\n",
       "    <tr>\n",
       "      <th>220</th>\n",
       "      <td>0.0</td>\n",
       "      <td>1.0</td>\n",
       "    </tr>\n",
       "  </tbody>\n",
       "</table>\n",
       "<p>221 rows × 2 columns</p>\n",
       "</div>"
      ],
      "text/plain": [
       "       0    1\n",
       "0    1.0  0.0\n",
       "1    0.0  1.0\n",
       "2    0.0  1.0\n",
       "3    0.0  1.0\n",
       "4    1.0  0.0\n",
       "..   ...  ...\n",
       "216  0.0  1.0\n",
       "217  1.0  0.0\n",
       "218  0.0  1.0\n",
       "219  1.0  0.0\n",
       "220  0.0  1.0\n",
       "\n",
       "[221 rows x 2 columns]"
      ]
     },
     "execution_count": 35,
     "metadata": {},
     "output_type": "execute_result"
    }
   ],
   "source": [
    "pd.DataFrame(Y_predict.round())"
   ]
  },
  {
   "cell_type": "code",
   "execution_count": 36,
   "metadata": {},
   "outputs": [
    {
     "data": {
      "text/plain": [
       "0    100.0\n",
       "1    121.0\n",
       "dtype: float32"
      ]
     },
     "execution_count": 36,
     "metadata": {},
     "output_type": "execute_result"
    }
   ],
   "source": [
    "pd.DataFrame(Y_predict.round()).sum()"
   ]
  },
  {
   "cell_type": "code",
   "execution_count": 37,
   "metadata": {
    "scrolled": true
   },
   "outputs": [
    {
     "data": {
      "text/plain": [
       "0    110.0\n",
       "1    111.0\n",
       "dtype: float32"
      ]
     },
     "execution_count": 37,
     "metadata": {},
     "output_type": "execute_result"
    }
   ],
   "source": [
    "pd.DataFrame(Y_test_hot).sum()"
   ]
  },
  {
   "cell_type": "code",
   "execution_count": 38,
   "metadata": {},
   "outputs": [
    {
     "data": {
      "text/plain": [
       "0    326.0\n",
       "1    342.0\n",
       "dtype: float32"
      ]
     },
     "execution_count": 38,
     "metadata": {},
     "output_type": "execute_result"
    }
   ],
   "source": [
    "pd.DataFrame(y_train_hot).sum()"
   ]
  },
  {
   "cell_type": "code",
   "execution_count": 39,
   "metadata": {
    "scrolled": false
   },
   "outputs": [
    {
     "data": {
      "text/plain": [
       "110.0"
      ]
     },
     "execution_count": 39,
     "metadata": {},
     "output_type": "execute_result"
    }
   ],
   "source": [
    "Y_test_hot[:,0:1].sum()"
   ]
  },
  {
   "cell_type": "code",
   "execution_count": 40,
   "metadata": {
    "scrolled": true
   },
   "outputs": [
    {
     "data": {
      "text/plain": [
       "111.0"
      ]
     },
     "execution_count": 40,
     "metadata": {},
     "output_type": "execute_result"
    }
   ],
   "source": [
    "Y_test_hot[:,1].sum()"
   ]
  },
  {
   "cell_type": "code",
   "execution_count": 63,
   "metadata": {},
   "outputs": [],
   "source": [
    "import sklearn\n",
    "conf_mat1=sklearn.metrics.confusion_matrix(pd.DataFrame(Y_test_hot)[1],pd.DataFrame(Y_predict).round()[1])"
   ]
  },
  {
   "cell_type": "code",
   "execution_count": 64,
   "metadata": {
    "scrolled": false
   },
   "outputs": [
    {
     "data": {
      "text/plain": [
       "<matplotlib.axes._subplots.AxesSubplot at 0x10bdded10>"
      ]
     },
     "execution_count": 64,
     "metadata": {},
     "output_type": "execute_result"
    },
    {
     "data": {
      "image/png": "[encoded data removed]",
      "text/plain": [
       "<Figure size 720x504 with 2 Axes>"
      ]
     },
     "metadata": {
      "needs_background": "light"
     },
     "output_type": "display_data"
    },
    {
     "name": "stderr",
     "output_type": "stream",
     "text": [
      "\u001b[34m\u001b[1mwandb\u001b[0m: \u001b[32m\u001b[41mERROR\u001b[0m Error uploading \"model-best.h5\": CommError, File /Users/aarojas/Documents/Data_Science_Resources/Insight_20B/AAR_Insight_Project/Firearm_Detection/notebooks/wandb/run-20200623_102323-1qsow48j/model-best.h5 size shrank from 37199512 to 37068440 while it was being uploaded.\n"
     ]
    }
   ],
   "source": [
    "import seaborn as sn \n",
    "\n",
    "df_cm = pd.DataFrame(conf_mat1, index = [i for i in \"01\"],\n",
    "                  columns = [i for i in \"01\"])\n",
    "plt.figure(figsize = (10,7))\n",
    "sn.heatmap(df_cm, annot=True,annot_kws={\"size\": 20},cmap=\"GnBu\",cbar_kws={'label': 'Count'},fmt='d')"
   ]
  },
  {
   "cell_type": "markdown",
   "metadata": {},
   "source": [
    "\n",
    "* The element, c$_{0,0}$, is equal to 94.  This indicates that there are 94 true negatives.\n",
    "* The element, c$_{1,0}$, is equal to 6.  This indicates that there are 6 false negatives.\n",
    "* The element, c$_{0,1}$, is equal to 16.  This indicates that there are 16 false positives. \n",
    "* The element, c$_{1,1}$, is equal to 105.  Thus, there are 105 true positives. \n",
    "\n",
    "In the context of predicting firearms, the presence of false negatives is grave.  This means that the 6 sounds were actually the sounds of firearms, but it was predicted that they were not. "
   ]
  },
  {
   "cell_type": "code",
   "execution_count": 47,
   "metadata": {},
   "outputs": [
    {
     "name": "stdout",
     "output_type": "stream",
     "text": [
      "../models/bal_seq_nn_model90.0_accuracy.h5\n"
     ]
    }
   ],
   "source": [
    "models_path='../models/'\n",
    "filename = 'bal_seq_nn_model'+str(accuracy)+'_accuracy.h5'\n",
    "nn_model = models_path+filename\n",
    "\n",
    "print(nn_model)\n",
    "model.save(nn_model)"
   ]
  },
  {
   "cell_type": "markdown",
   "metadata": {},
   "source": [
    "## Adding Convolution "
   ]
  },
  {
   "cell_type": "code",
   "execution_count": 65,
   "metadata": {},
   "outputs": [],
   "source": [
    "#input_shape=(batch_size, channels, rows, cols)\n",
    "alpha=0.0001\n",
    "input_shape=(20,170,1)\n",
    "\n",
    "model2 = Sequential()\n",
    "model2.add(Conv2D(32,(2,2),\n",
    "                 input_shape=input_shape,\n",
    "                 activation='relu',\n",
    "                 data_format='channels_last'))\n",
    "model2.add(MaxPooling2D(pool_size=(2, 2)))\n",
    "model2.add(Flatten())\n",
    "model2.add(Dense(128, activation='relu'))\n",
    "model2.add(Dense(num_classes, activation='softmax'))\n",
    "\n",
    "opt2 = keras.optimizers.Adam(learning_rate=alpha)\n",
    "\n",
    "model2.compile(loss=\"categorical_crossentropy\",\n",
    "              optimizer=opt2,\n",
    "              metrics=['accuracy'])"
   ]
  },
  {
   "cell_type": "code",
   "execution_count": 66,
   "metadata": {},
   "outputs": [
    {
     "name": "stdout",
     "output_type": "stream",
     "text": [
      "Model: \"sequential_2\"\n",
      "_________________________________________________________________\n",
      "Layer (type)                 Output Shape              Param #   \n",
      "=================================================================\n",
      "conv2d_1 (Conv2D)            (None, 19, 169, 32)       160       \n",
      "_________________________________________________________________\n",
      "max_pooling2d_1 (MaxPooling2 (None, 9, 84, 32)         0         \n",
      "_________________________________________________________________\n",
      "flatten_2 (Flatten)          (None, 24192)             0         \n",
      "_________________________________________________________________\n",
      "dense_3 (Dense)              (None, 128)               3096704   \n",
      "_________________________________________________________________\n",
      "dense_4 (Dense)              (None, 2)                 258       \n",
      "=================================================================\n",
      "Total params: 3,097,122\n",
      "Trainable params: 3,097,122\n",
      "Non-trainable params: 0\n",
      "_________________________________________________________________\n"
     ]
    }
   ],
   "source": [
    "model2.summary()"
   ]
  },
  {
   "cell_type": "code",
   "execution_count": 67,
   "metadata": {},
   "outputs": [
    {
     "name": "stdout",
     "output_type": "stream",
     "text": [
      "(668, 20, 170)\n",
      "(668, 20, 170, 1)\n",
      "(668, 2)\n",
      "(223, 20, 170)\n",
      "(223, 20, 170, 1)\n",
      "(223, 2)\n",
      "20\n",
      "170\n",
      "1\n"
     ]
    }
   ],
   "source": [
    "print(X_train.shape)\n",
    "print(np.reshape(X_train,(668,20,170,1)).shape)\n",
    "X_train2=np.reshape(X_train,(668,20,170,1))\n",
    "print(y_train_hot.shape)\n",
    "print(X_val.shape)\n",
    "X_val2=np.reshape(X_val,(223,20,170,1))\n",
    "print(X_val2.shape)\n",
    "print(y_val_hot.shape)\n",
    "print(config.buckets)\n",
    "print(config.max_len)\n",
    "print(channels)"
   ]
  },
  {
   "cell_type": "code",
   "execution_count": 68,
   "metadata": {
    "scrolled": true
   },
   "outputs": [
    {
     "data": {
      "text/html": [
       "\n",
       "                Logging results to <a href=\"https://wandb.com\" target=\"_blank\">Weights & Biases</a> <a href=\"https://docs.wandb.com/integrations/jupyter.html\" target=\"_blank\">(Documentation)</a>.<br/>\n",
       "                Project page: <a href=\"https://app.wandb.ai/adri-rojas/Firearm_Detection-notebooks\" target=\"_blank\">https://app.wandb.ai/adri-rojas/Firearm_Detection-notebooks</a><br/>\n",
       "                Run page: <a href=\"https://app.wandb.ai/adri-rojas/Firearm_Detection-notebooks/runs/25mqk7c8\" target=\"_blank\">https://app.wandb.ai/adri-rojas/Firearm_Detection-notebooks/runs/25mqk7c8</a><br/>\n",
       "            "
      ],
      "text/plain": [
       "<IPython.core.display.HTML object>"
      ]
     },
     "metadata": {},
     "output_type": "display_data"
    },
    {
     "name": "stdout",
     "output_type": "stream",
     "text": [
      "Epoch 1/50\n",
      "21/21 [==============================] - 1s 43ms/step - loss: 5.8641 - accuracy: 0.8144 - val_loss: 1.4614 - val_accuracy: 0.9372\n",
      "Epoch 2/50\n",
      "21/21 [==============================] - 1s 35ms/step - loss: 0.9115 - accuracy: 0.9281 - val_loss: 1.1697 - val_accuracy: 0.9148\n",
      "Epoch 3/50\n",
      "21/21 [==============================] - 1s 33ms/step - loss: 0.7832 - accuracy: 0.9237 - val_loss: 1.0934 - val_accuracy: 0.9193\n",
      "Epoch 4/50\n",
      "21/21 [==============================] - 1s 30ms/step - loss: 0.2450 - accuracy: 0.9581 - val_loss: 1.4028 - val_accuracy: 0.8879\n",
      "Epoch 5/50\n",
      "21/21 [==============================] - 1s 31ms/step - loss: 0.5044 - accuracy: 0.9461 - val_loss: 2.2406 - val_accuracy: 0.8161\n",
      "Epoch 6/50\n",
      "21/21 [==============================] - 1s 33ms/step - loss: 0.2357 - accuracy: 0.9611 - val_loss: 0.6333 - val_accuracy: 0.9507\n",
      "Epoch 7/50\n",
      "21/21 [==============================] - 1s 29ms/step - loss: 0.0749 - accuracy: 0.9805 - val_loss: 0.9833 - val_accuracy: 0.9327\n",
      "Epoch 8/50\n",
      "21/21 [==============================] - 1s 29ms/step - loss: 0.0793 - accuracy: 0.9731 - val_loss: 0.8487 - val_accuracy: 0.9462\n",
      "Epoch 9/50\n",
      "21/21 [==============================] - 1s 29ms/step - loss: 0.1335 - accuracy: 0.9790 - val_loss: 1.0204 - val_accuracy: 0.9193\n",
      "Epoch 10/50\n",
      "21/21 [==============================] - 1s 31ms/step - loss: 0.0255 - accuracy: 0.9955 - val_loss: 1.4556 - val_accuracy: 0.9283\n",
      "Epoch 11/50\n",
      "21/21 [==============================] - 1s 31ms/step - loss: 0.0476 - accuracy: 0.9895 - val_loss: 0.8539 - val_accuracy: 0.9417\n",
      "Epoch 12/50\n",
      "21/21 [==============================] - 1s 31ms/step - loss: 0.0152 - accuracy: 0.9940 - val_loss: 0.8912 - val_accuracy: 0.9507\n",
      "Epoch 13/50\n",
      "21/21 [==============================] - 1s 30ms/step - loss: 0.0810 - accuracy: 0.9850 - val_loss: 0.9751 - val_accuracy: 0.9327\n",
      "Epoch 14/50\n",
      "21/21 [==============================] - 1s 30ms/step - loss: 0.0602 - accuracy: 0.9865 - val_loss: 0.7933 - val_accuracy: 0.9507\n",
      "Epoch 15/50\n",
      "21/21 [==============================] - 1s 33ms/step - loss: 0.1047 - accuracy: 0.9775 - val_loss: 1.1370 - val_accuracy: 0.9148\n",
      "Epoch 16/50\n",
      "21/21 [==============================] - 1s 32ms/step - loss: 0.1333 - accuracy: 0.9820 - val_loss: 0.9377 - val_accuracy: 0.9283\n",
      "Epoch 17/50\n",
      "21/21 [==============================] - 1s 33ms/step - loss: 0.0189 - accuracy: 0.9925 - val_loss: 0.7215 - val_accuracy: 0.9462\n",
      "Epoch 18/50\n",
      "21/21 [==============================] - 1s 34ms/step - loss: 0.0135 - accuracy: 0.9940 - val_loss: 0.7445 - val_accuracy: 0.9462\n",
      "Epoch 19/50\n",
      "21/21 [==============================] - 1s 34ms/step - loss: 0.0023 - accuracy: 0.9985 - val_loss: 0.8401 - val_accuracy: 0.9507\n",
      "Epoch 20/50\n",
      "21/21 [==============================] - 1s 35ms/step - loss: 0.0099 - accuracy: 0.9970 - val_loss: 0.9738 - val_accuracy: 0.9417\n",
      "Epoch 21/50\n",
      "21/21 [==============================] - 1s 31ms/step - loss: 0.0115 - accuracy: 0.9955 - val_loss: 0.6977 - val_accuracy: 0.9507\n",
      "Epoch 22/50\n",
      "21/21 [==============================] - 1s 31ms/step - loss: 0.0034 - accuracy: 0.9985 - val_loss: 0.7687 - val_accuracy: 0.9417\n",
      "Epoch 23/50\n",
      "21/21 [==============================] - 1s 31ms/step - loss: 0.0012 - accuracy: 1.0000 - val_loss: 0.6890 - val_accuracy: 0.9507\n",
      "Epoch 24/50\n",
      "21/21 [==============================] - 1s 31ms/step - loss: 4.1247e-05 - accuracy: 1.0000 - val_loss: 0.6960 - val_accuracy: 0.9552\n",
      "Epoch 25/50\n",
      "21/21 [==============================] - 1s 36ms/step - loss: 4.4361e-05 - accuracy: 1.0000 - val_loss: 0.6962 - val_accuracy: 0.9552\n",
      "Epoch 26/50\n",
      "21/21 [==============================] - 1s 32ms/step - loss: 4.0436e-05 - accuracy: 1.0000 - val_loss: 0.6957 - val_accuracy: 0.9552\n",
      "Epoch 27/50\n",
      "21/21 [==============================] - 1s 30ms/step - loss: 3.7239e-05 - accuracy: 1.0000 - val_loss: 0.6948 - val_accuracy: 0.9552\n",
      "Epoch 28/50\n",
      "21/21 [==============================] - 1s 32ms/step - loss: 3.4138e-05 - accuracy: 1.0000 - val_loss: 0.6938 - val_accuracy: 0.9552\n",
      "Epoch 29/50\n",
      "21/21 [==============================] - 1s 30ms/step - loss: 3.1682e-05 - accuracy: 1.0000 - val_loss: 0.6934 - val_accuracy: 0.9552\n",
      "Epoch 30/50\n",
      "21/21 [==============================] - 1s 32ms/step - loss: 2.9593e-05 - accuracy: 1.0000 - val_loss: 0.6930 - val_accuracy: 0.9552\n",
      "Epoch 31/50\n",
      "21/21 [==============================] - 1s 31ms/step - loss: 2.7838e-05 - accuracy: 1.0000 - val_loss: 0.6928 - val_accuracy: 0.9552\n",
      "Epoch 32/50\n",
      "21/21 [==============================] - 1s 30ms/step - loss: 2.6519e-05 - accuracy: 1.0000 - val_loss: 0.6921 - val_accuracy: 0.9552\n",
      "Epoch 33/50\n",
      "21/21 [==============================] - 1s 30ms/step - loss: 2.5188e-05 - accuracy: 1.0000 - val_loss: 0.6921 - val_accuracy: 0.9507\n",
      "Epoch 34/50\n",
      "21/21 [==============================] - 1s 32ms/step - loss: 2.4018e-05 - accuracy: 1.0000 - val_loss: 0.6920 - val_accuracy: 0.9507\n",
      "Epoch 35/50\n",
      "21/21 [==============================] - 1s 32ms/step - loss: 2.3049e-05 - accuracy: 1.0000 - val_loss: 0.6919 - val_accuracy: 0.9507\n",
      "Epoch 36/50\n",
      "21/21 [==============================] - 1s 34ms/step - loss: 2.2257e-05 - accuracy: 1.0000 - val_loss: 0.6917 - val_accuracy: 0.9507\n",
      "Epoch 37/50\n",
      "21/21 [==============================] - 1s 34ms/step - loss: 2.1373e-05 - accuracy: 1.0000 - val_loss: 0.6917 - val_accuracy: 0.9507\n",
      "Epoch 38/50\n",
      "21/21 [==============================] - 1s 33ms/step - loss: 2.0772e-05 - accuracy: 1.0000 - val_loss: 0.6918 - val_accuracy: 0.9507\n",
      "Epoch 39/50\n",
      "21/21 [==============================] - 1s 31ms/step - loss: 1.9968e-05 - accuracy: 1.0000 - val_loss: 0.6919 - val_accuracy: 0.9507\n",
      "Epoch 40/50\n",
      "21/21 [==============================] - 1s 31ms/step - loss: 1.9442e-05 - accuracy: 1.0000 - val_loss: 0.6920 - val_accuracy: 0.9507\n",
      "Epoch 41/50\n",
      "21/21 [==============================] - 1s 31ms/step - loss: 1.8810e-05 - accuracy: 1.0000 - val_loss: 0.6921 - val_accuracy: 0.9507\n",
      "Epoch 42/50\n",
      "21/21 [==============================] - 1s 31ms/step - loss: 1.8357e-05 - accuracy: 1.0000 - val_loss: 0.6920 - val_accuracy: 0.9507\n",
      "Epoch 43/50\n",
      "21/21 [==============================] - 1s 30ms/step - loss: 1.7823e-05 - accuracy: 1.0000 - val_loss: 0.6922 - val_accuracy: 0.9507\n",
      "Epoch 44/50\n",
      "21/21 [==============================] - 1s 33ms/step - loss: 1.7379e-05 - accuracy: 1.0000 - val_loss: 0.6926 - val_accuracy: 0.9507\n",
      "Epoch 45/50\n",
      "21/21 [==============================] - 1s 31ms/step - loss: 1.7068e-05 - accuracy: 1.0000 - val_loss: 0.6924 - val_accuracy: 0.9507\n",
      "Epoch 46/50\n",
      "21/21 [==============================] - 1s 31ms/step - loss: 1.6512e-05 - accuracy: 1.0000 - val_loss: 0.6927 - val_accuracy: 0.9507\n",
      "Epoch 47/50\n",
      "21/21 [==============================] - 1s 31ms/step - loss: 1.6170e-05 - accuracy: 1.0000 - val_loss: 0.6927 - val_accuracy: 0.9507\n",
      "Epoch 48/50\n",
      "21/21 [==============================] - 1s 31ms/step - loss: 1.5786e-05 - accuracy: 1.0000 - val_loss: 0.6928 - val_accuracy: 0.9507\n",
      "Epoch 49/50\n",
      "21/21 [==============================] - 1s 31ms/step - loss: 1.5457e-05 - accuracy: 1.0000 - val_loss: 0.6930 - val_accuracy: 0.9507\n",
      "Epoch 50/50\n",
      "21/21 [==============================] - 1s 32ms/step - loss: 1.5122e-05 - accuracy: 1.0000 - val_loss: 0.6933 - val_accuracy: 0.9507\n"
     ]
    },
    {
     "name": "stderr",
     "output_type": "stream",
     "text": [
      "Retry attempt failed:\n",
      "Traceback (most recent call last):\n",
      "  File \"/opt/anaconda3/envs/add_librosa/lib/python3.7/site-packages/urllib3/connectionpool.py\", line 677, in urlopen\n",
      "    chunked=chunked,\n",
      "  File \"/opt/anaconda3/envs/add_librosa/lib/python3.7/site-packages/urllib3/connectionpool.py\", line 426, in _make_request\n",
      "    six.raise_from(e, None)\n",
      "  File \"<string>\", line 3, in raise_from\n",
      "  File \"/opt/anaconda3/envs/add_librosa/lib/python3.7/site-packages/urllib3/connectionpool.py\", line 421, in _make_request\n",
      "    httplib_response = conn.getresponse()\n",
      "  File \"/opt/anaconda3/envs/add_librosa/lib/python3.7/http/client.py\", line 1344, in getresponse\n",
      "    response.begin()\n",
      "  File \"/opt/anaconda3/envs/add_librosa/lib/python3.7/http/client.py\", line 306, in begin\n",
      "    version, status, reason = self._read_status()\n",
      "  File \"/opt/anaconda3/envs/add_librosa/lib/python3.7/http/client.py\", line 275, in _read_status\n",
      "    raise RemoteDisconnected(\"Remote end closed connection without\"\n",
      "http.client.RemoteDisconnected: Remote end closed connection without response\n",
      "\n",
      "During handling of the above exception, another exception occurred:\n",
      "\n",
      "Traceback (most recent call last):\n",
      "  File \"/opt/anaconda3/envs/add_librosa/lib/python3.7/site-packages/requests/adapters.py\", line 449, in send\n",
      "    timeout=timeout\n",
      "  File \"/opt/anaconda3/envs/add_librosa/lib/python3.7/site-packages/urllib3/connectionpool.py\", line 725, in urlopen\n",
      "    method, url, error=e, _pool=self, _stacktrace=sys.exc_info()[2]\n",
      "  File \"/opt/anaconda3/envs/add_librosa/lib/python3.7/site-packages/urllib3/util/retry.py\", line 403, in increment\n",
      "    raise six.reraise(type(error), error, _stacktrace)\n",
      "  File \"/opt/anaconda3/envs/add_librosa/lib/python3.7/site-packages/urllib3/packages/six.py\", line 734, in reraise\n",
      "    raise value.with_traceback(tb)\n",
      "  File \"/opt/anaconda3/envs/add_librosa/lib/python3.7/site-packages/urllib3/connectionpool.py\", line 677, in urlopen\n",
      "    chunked=chunked,\n",
      "  File \"/opt/anaconda3/envs/add_librosa/lib/python3.7/site-packages/urllib3/connectionpool.py\", line 426, in _make_request\n",
      "    six.raise_from(e, None)\n",
      "  File \"<string>\", line 3, in raise_from\n",
      "  File \"/opt/anaconda3/envs/add_librosa/lib/python3.7/site-packages/urllib3/connectionpool.py\", line 421, in _make_request\n",
      "    httplib_response = conn.getresponse()\n",
      "  File \"/opt/anaconda3/envs/add_librosa/lib/python3.7/http/client.py\", line 1344, in getresponse\n",
      "    response.begin()\n",
      "  File \"/opt/anaconda3/envs/add_librosa/lib/python3.7/http/client.py\", line 306, in begin\n",
      "    version, status, reason = self._read_status()\n",
      "  File \"/opt/anaconda3/envs/add_librosa/lib/python3.7/http/client.py\", line 275, in _read_status\n",
      "    raise RemoteDisconnected(\"Remote end closed connection without\"\n",
      "urllib3.exceptions.ProtocolError: ('Connection aborted.', RemoteDisconnected('Remote end closed connection without response'))\n",
      "\n",
      "During handling of the above exception, another exception occurred:\n",
      "\n",
      "Traceback (most recent call last):\n",
      "  File \"/opt/anaconda3/envs/add_librosa/lib/python3.7/site-packages/wandb/retry.py\", line 95, in __call__\n",
      "    result = self._call_fn(*args, **kwargs)\n",
      "  File \"/opt/anaconda3/envs/add_librosa/lib/python3.7/site-packages/wandb/apis/internal.py\", line 108, in execute\n",
      "    return self.client.execute(*args, **kwargs)\n",
      "  File \"/opt/anaconda3/envs/add_librosa/lib/python3.7/site-packages/gql/client.py\", line 52, in execute\n",
      "    result = self._get_result(document, *args, **kwargs)\n",
      "  File \"/opt/anaconda3/envs/add_librosa/lib/python3.7/site-packages/gql/client.py\", line 60, in _get_result\n",
      "    return self.transport.execute(document, *args, **kwargs)\n",
      "  File \"/opt/anaconda3/envs/add_librosa/lib/python3.7/site-packages/gql/transport/requests.py\", line 38, in execute\n",
      "    request = requests.post(self.url, **post_args)\n",
      "  File \"/opt/anaconda3/envs/add_librosa/lib/python3.7/site-packages/requests/api.py\", line 119, in post\n",
      "    return request('post', url, data=data, json=json, **kwargs)\n",
      "  File \"/opt/anaconda3/envs/add_librosa/lib/python3.7/site-packages/requests/api.py\", line 61, in request\n",
      "    return session.request(method=method, url=url, **kwargs)\n",
      "  File \"/opt/anaconda3/envs/add_librosa/lib/python3.7/site-packages/requests/sessions.py\", line 530, in request\n",
      "    resp = self.send(prep, **send_kwargs)\n",
      "  File \"/opt/anaconda3/envs/add_librosa/lib/python3.7/site-packages/requests/sessions.py\", line 643, in send\n",
      "    r = adapter.send(request, **kwargs)\n",
      "  File \"/opt/anaconda3/envs/add_librosa/lib/python3.7/site-packages/requests/adapters.py\", line 498, in send\n",
      "    raise ConnectionError(err, request=request)\n",
      "requests.exceptions.ConnectionError: ('Connection aborted.', RemoteDisconnected('Remote end closed connection without response'))\n",
      "\u001b[34m\u001b[1mwandb\u001b[0m: Network error (ConnectionError), entering retry loop. See /Users/aarojas/Documents/Data_Science_Resources/Insight_20B/AAR_Insight_Project/Firearm_Detection/notebooks/wandb/debug.log for full traceback.\n",
      "\u001b[34m\u001b[1mwandb\u001b[0m: Network error resolved after 0:00:24.353682, resuming normal operation.\n",
      "Retry attempt failed:\n",
      "Traceback (most recent call last):\n",
      "  File \"/opt/anaconda3/envs/add_librosa/lib/python3.7/site-packages/urllib3/connectionpool.py\", line 426, in _make_request\n",
      "    six.raise_from(e, None)\n",
      "  File \"<string>\", line 3, in raise_from\n",
      "  File \"/opt/anaconda3/envs/add_librosa/lib/python3.7/site-packages/urllib3/connectionpool.py\", line 421, in _make_request\n",
      "    httplib_response = conn.getresponse()\n",
      "  File \"/opt/anaconda3/envs/add_librosa/lib/python3.7/http/client.py\", line 1344, in getresponse\n",
      "    response.begin()\n",
      "  File \"/opt/anaconda3/envs/add_librosa/lib/python3.7/http/client.py\", line 306, in begin\n",
      "    version, status, reason = self._read_status()\n",
      "  File \"/opt/anaconda3/envs/add_librosa/lib/python3.7/http/client.py\", line 267, in _read_status\n",
      "    line = str(self.fp.readline(_MAXLINE + 1), \"iso-8859-1\")\n",
      "  File \"/opt/anaconda3/envs/add_librosa/lib/python3.7/socket.py\", line 589, in readinto\n",
      "    return self._sock.recv_into(b)\n",
      "  File \"/opt/anaconda3/envs/add_librosa/lib/python3.7/site-packages/urllib3/contrib/pyopenssl.py\", line 326, in recv_into\n",
      "    raise timeout(\"The read operation timed out\")\n",
      "socket.timeout: The read operation timed out\n",
      "\n",
      "During handling of the above exception, another exception occurred:\n",
      "\n",
      "Traceback (most recent call last):\n",
      "  File \"/opt/anaconda3/envs/add_librosa/lib/python3.7/site-packages/requests/adapters.py\", line 449, in send\n",
      "    timeout=timeout\n",
      "  File \"/opt/anaconda3/envs/add_librosa/lib/python3.7/site-packages/urllib3/connectionpool.py\", line 725, in urlopen\n",
      "    method, url, error=e, _pool=self, _stacktrace=sys.exc_info()[2]\n",
      "  File \"/opt/anaconda3/envs/add_librosa/lib/python3.7/site-packages/urllib3/util/retry.py\", line 403, in increment\n",
      "    raise six.reraise(type(error), error, _stacktrace)\n",
      "  File \"/opt/anaconda3/envs/add_librosa/lib/python3.7/site-packages/urllib3/packages/six.py\", line 735, in reraise\n",
      "    raise value\n",
      "  File \"/opt/anaconda3/envs/add_librosa/lib/python3.7/site-packages/urllib3/connectionpool.py\", line 677, in urlopen\n",
      "    chunked=chunked,\n",
      "  File \"/opt/anaconda3/envs/add_librosa/lib/python3.7/site-packages/urllib3/connectionpool.py\", line 428, in _make_request\n",
      "    self._raise_timeout(err=e, url=url, timeout_value=read_timeout)\n",
      "  File \"/opt/anaconda3/envs/add_librosa/lib/python3.7/site-packages/urllib3/connectionpool.py\", line 336, in _raise_timeout\n",
      "    self, url, \"Read timed out. (read timeout=%s)\" % timeout_value\n",
      "urllib3.exceptions.ReadTimeoutError: HTTPSConnectionPool(host='api.wandb.ai', port=443): Read timed out. (read timeout=10)\n",
      "\n",
      "During handling of the above exception, another exception occurred:\n",
      "\n",
      "Traceback (most recent call last):\n",
      "  File \"/opt/anaconda3/envs/add_librosa/lib/python3.7/site-packages/wandb/retry.py\", line 95, in __call__\n",
      "    result = self._call_fn(*args, **kwargs)\n",
      "  File \"/opt/anaconda3/envs/add_librosa/lib/python3.7/site-packages/wandb/apis/internal.py\", line 108, in execute\n",
      "    return self.client.execute(*args, **kwargs)\n",
      "  File \"/opt/anaconda3/envs/add_librosa/lib/python3.7/site-packages/gql/client.py\", line 52, in execute\n",
      "    result = self._get_result(document, *args, **kwargs)\n",
      "  File \"/opt/anaconda3/envs/add_librosa/lib/python3.7/site-packages/gql/client.py\", line 60, in _get_result\n",
      "    return self.transport.execute(document, *args, **kwargs)\n",
      "  File \"/opt/anaconda3/envs/add_librosa/lib/python3.7/site-packages/gql/transport/requests.py\", line 38, in execute\n",
      "    request = requests.post(self.url, **post_args)\n",
      "  File \"/opt/anaconda3/envs/add_librosa/lib/python3.7/site-packages/requests/api.py\", line 119, in post\n",
      "    return request('post', url, data=data, json=json, **kwargs)\n",
      "  File \"/opt/anaconda3/envs/add_librosa/lib/python3.7/site-packages/requests/api.py\", line 61, in request\n",
      "    return session.request(method=method, url=url, **kwargs)\n",
      "  File \"/opt/anaconda3/envs/add_librosa/lib/python3.7/site-packages/requests/sessions.py\", line 530, in request\n",
      "    resp = self.send(prep, **send_kwargs)\n",
      "  File \"/opt/anaconda3/envs/add_librosa/lib/python3.7/site-packages/requests/sessions.py\", line 643, in send\n",
      "    r = adapter.send(request, **kwargs)\n",
      "  File \"/opt/anaconda3/envs/add_librosa/lib/python3.7/site-packages/requests/adapters.py\", line 529, in send\n",
      "    raise ReadTimeout(e, request=request)\n",
      "requests.exceptions.ReadTimeout: HTTPSConnectionPool(host='api.wandb.ai', port=443): Read timed out. (read timeout=10)\n"
     ]
    },
    {
     "name": "stderr",
     "output_type": "stream",
     "text": [
      "\u001b[34m\u001b[1mwandb\u001b[0m: Network error (ReadTimeout), entering retry loop. See /Users/aarojas/Documents/Data_Science_Resources/Insight_20B/AAR_Insight_Project/Firearm_Detection/notebooks/wandb/debug.log for full traceback.\n",
      "Retry attempt failed:\n",
      "Traceback (most recent call last):\n",
      "  File \"/opt/anaconda3/envs/add_librosa/lib/python3.7/site-packages/urllib3/connectionpool.py\", line 677, in urlopen\n",
      "    chunked=chunked,\n",
      "  File \"/opt/anaconda3/envs/add_librosa/lib/python3.7/site-packages/urllib3/connectionpool.py\", line 426, in _make_request\n",
      "    six.raise_from(e, None)\n",
      "  File \"<string>\", line 3, in raise_from\n",
      "  File \"/opt/anaconda3/envs/add_librosa/lib/python3.7/site-packages/urllib3/connectionpool.py\", line 421, in _make_request\n",
      "    httplib_response = conn.getresponse()\n",
      "  File \"/opt/anaconda3/envs/add_librosa/lib/python3.7/http/client.py\", line 1344, in getresponse\n",
      "    response.begin()\n",
      "  File \"/opt/anaconda3/envs/add_librosa/lib/python3.7/http/client.py\", line 306, in begin\n",
      "    version, status, reason = self._read_status()\n",
      "  File \"/opt/anaconda3/envs/add_librosa/lib/python3.7/http/client.py\", line 275, in _read_status\n",
      "    raise RemoteDisconnected(\"Remote end closed connection without\"\n",
      "http.client.RemoteDisconnected: Remote end closed connection without response\n",
      "\n",
      "During handling of the above exception, another exception occurred:\n",
      "\n",
      "Traceback (most recent call last):\n",
      "  File \"/opt/anaconda3/envs/add_librosa/lib/python3.7/site-packages/requests/adapters.py\", line 449, in send\n",
      "    timeout=timeout\n",
      "  File \"/opt/anaconda3/envs/add_librosa/lib/python3.7/site-packages/urllib3/connectionpool.py\", line 725, in urlopen\n",
      "    method, url, error=e, _pool=self, _stacktrace=sys.exc_info()[2]\n",
      "  File \"/opt/anaconda3/envs/add_librosa/lib/python3.7/site-packages/urllib3/util/retry.py\", line 403, in increment\n",
      "    raise six.reraise(type(error), error, _stacktrace)\n",
      "  File \"/opt/anaconda3/envs/add_librosa/lib/python3.7/site-packages/urllib3/packages/six.py\", line 734, in reraise\n",
      "    raise value.with_traceback(tb)\n",
      "  File \"/opt/anaconda3/envs/add_librosa/lib/python3.7/site-packages/urllib3/connectionpool.py\", line 677, in urlopen\n",
      "    chunked=chunked,\n",
      "  File \"/opt/anaconda3/envs/add_librosa/lib/python3.7/site-packages/urllib3/connectionpool.py\", line 426, in _make_request\n",
      "    six.raise_from(e, None)\n",
      "  File \"<string>\", line 3, in raise_from\n",
      "  File \"/opt/anaconda3/envs/add_librosa/lib/python3.7/site-packages/urllib3/connectionpool.py\", line 421, in _make_request\n",
      "    httplib_response = conn.getresponse()\n",
      "  File \"/opt/anaconda3/envs/add_librosa/lib/python3.7/http/client.py\", line 1344, in getresponse\n",
      "    response.begin()\n",
      "  File \"/opt/anaconda3/envs/add_librosa/lib/python3.7/http/client.py\", line 306, in begin\n",
      "    version, status, reason = self._read_status()\n",
      "  File \"/opt/anaconda3/envs/add_librosa/lib/python3.7/http/client.py\", line 275, in _read_status\n",
      "    raise RemoteDisconnected(\"Remote end closed connection without\"\n",
      "urllib3.exceptions.ProtocolError: ('Connection aborted.', RemoteDisconnected('Remote end closed connection without response'))\n",
      "\n",
      "During handling of the above exception, another exception occurred:\n",
      "\n",
      "Traceback (most recent call last):\n",
      "  File \"/opt/anaconda3/envs/add_librosa/lib/python3.7/site-packages/wandb/retry.py\", line 95, in __call__\n",
      "    result = self._call_fn(*args, **kwargs)\n",
      "  File \"/opt/anaconda3/envs/add_librosa/lib/python3.7/site-packages/wandb/apis/internal.py\", line 108, in execute\n",
      "    return self.client.execute(*args, **kwargs)\n",
      "  File \"/opt/anaconda3/envs/add_librosa/lib/python3.7/site-packages/gql/client.py\", line 52, in execute\n",
      "    result = self._get_result(document, *args, **kwargs)\n",
      "  File \"/opt/anaconda3/envs/add_librosa/lib/python3.7/site-packages/gql/client.py\", line 60, in _get_result\n",
      "    return self.transport.execute(document, *args, **kwargs)\n",
      "  File \"/opt/anaconda3/envs/add_librosa/lib/python3.7/site-packages/gql/transport/requests.py\", line 38, in execute\n",
      "    request = requests.post(self.url, **post_args)\n",
      "  File \"/opt/anaconda3/envs/add_librosa/lib/python3.7/site-packages/requests/api.py\", line 119, in post\n",
      "    return request('post', url, data=data, json=json, **kwargs)\n",
      "  File \"/opt/anaconda3/envs/add_librosa/lib/python3.7/site-packages/requests/api.py\", line 61, in request\n",
      "    return session.request(method=method, url=url, **kwargs)\n",
      "  File \"/opt/anaconda3/envs/add_librosa/lib/python3.7/site-packages/requests/sessions.py\", line 530, in request\n",
      "    resp = self.send(prep, **send_kwargs)\n",
      "  File \"/opt/anaconda3/envs/add_librosa/lib/python3.7/site-packages/requests/sessions.py\", line 643, in send\n",
      "    r = adapter.send(request, **kwargs)\n",
      "  File \"/opt/anaconda3/envs/add_librosa/lib/python3.7/site-packages/requests/adapters.py\", line 498, in send\n",
      "    raise ConnectionError(err, request=request)\n",
      "requests.exceptions.ConnectionError: ('Connection aborted.', RemoteDisconnected('Remote end closed connection without response'))\n",
      "\u001b[34m\u001b[1mwandb\u001b[0m: Network error (ConnectionError), entering retry loop. See /Users/aarojas/Documents/Data_Science_Resources/Insight_20B/AAR_Insight_Project/Firearm_Detection/notebooks/wandb/debug.log for full traceback.\n",
      "\u001b[34m\u001b[1mwandb\u001b[0m: \u001b[32m\u001b[41mERROR\u001b[0m Error uploading \"media/images/examples_35.png\": CommError, File /var/folders/px/t6llprnj0m3fhqqbhbvkrynm0000gn/T/tmped6k_k81wandb/3mb34oxn-media/images/examples_35.png size shrank from 63599 to 0 while it was being uploaded.\n",
      "\u001b[34m\u001b[1mwandb\u001b[0m: \u001b[32m\u001b[41mERROR\u001b[0m Error uploading \"media/images/examples_34.png\": CommError, File /var/folders/px/t6llprnj0m3fhqqbhbvkrynm0000gn/T/tmped6k_k81wandb/3drzlosi-media/images/examples_34.png size shrank from 67480 to 0 while it was being uploaded.\n",
      "Retry attempt failed:\n",
      "Traceback (most recent call last):\n",
      "  File \"/opt/anaconda3/envs/add_librosa/lib/python3.7/site-packages/urllib3/connectionpool.py\", line 677, in urlopen\n",
      "    chunked=chunked,\n",
      "  File \"/opt/anaconda3/envs/add_librosa/lib/python3.7/site-packages/urllib3/connectionpool.py\", line 426, in _make_request\n",
      "    six.raise_from(e, None)\n",
      "  File \"<string>\", line 3, in raise_from\n",
      "  File \"/opt/anaconda3/envs/add_librosa/lib/python3.7/site-packages/urllib3/connectionpool.py\", line 421, in _make_request\n",
      "    httplib_response = conn.getresponse()\n",
      "  File \"/opt/anaconda3/envs/add_librosa/lib/python3.7/http/client.py\", line 1344, in getresponse\n",
      "    response.begin()\n",
      "  File \"/opt/anaconda3/envs/add_librosa/lib/python3.7/http/client.py\", line 306, in begin\n",
      "    version, status, reason = self._read_status()\n",
      "  File \"/opt/anaconda3/envs/add_librosa/lib/python3.7/http/client.py\", line 275, in _read_status\n",
      "    raise RemoteDisconnected(\"Remote end closed connection without\"\n",
      "http.client.RemoteDisconnected: Remote end closed connection without response\n",
      "\n",
      "During handling of the above exception, another exception occurred:\n",
      "\n",
      "Traceback (most recent call last):\n",
      "  File \"/opt/anaconda3/envs/add_librosa/lib/python3.7/site-packages/requests/adapters.py\", line 449, in send\n",
      "    timeout=timeout\n",
      "  File \"/opt/anaconda3/envs/add_librosa/lib/python3.7/site-packages/urllib3/connectionpool.py\", line 725, in urlopen\n",
      "    method, url, error=e, _pool=self, _stacktrace=sys.exc_info()[2]\n",
      "  File \"/opt/anaconda3/envs/add_librosa/lib/python3.7/site-packages/urllib3/util/retry.py\", line 403, in increment\n",
      "    raise six.reraise(type(error), error, _stacktrace)\n",
      "  File \"/opt/anaconda3/envs/add_librosa/lib/python3.7/site-packages/urllib3/packages/six.py\", line 734, in reraise\n",
      "    raise value.with_traceback(tb)\n",
      "  File \"/opt/anaconda3/envs/add_librosa/lib/python3.7/site-packages/urllib3/connectionpool.py\", line 677, in urlopen\n",
      "    chunked=chunked,\n",
      "  File \"/opt/anaconda3/envs/add_librosa/lib/python3.7/site-packages/urllib3/connectionpool.py\", line 426, in _make_request\n",
      "    six.raise_from(e, None)\n",
      "  File \"<string>\", line 3, in raise_from\n",
      "  File \"/opt/anaconda3/envs/add_librosa/lib/python3.7/site-packages/urllib3/connectionpool.py\", line 421, in _make_request\n",
      "    httplib_response = conn.getresponse()\n",
      "  File \"/opt/anaconda3/envs/add_librosa/lib/python3.7/http/client.py\", line 1344, in getresponse\n",
      "    response.begin()\n",
      "  File \"/opt/anaconda3/envs/add_librosa/lib/python3.7/http/client.py\", line 306, in begin\n",
      "    version, status, reason = self._read_status()\n",
      "  File \"/opt/anaconda3/envs/add_librosa/lib/python3.7/http/client.py\", line 275, in _read_status\n",
      "    raise RemoteDisconnected(\"Remote end closed connection without\"\n",
      "urllib3.exceptions.ProtocolError: ('Connection aborted.', RemoteDisconnected('Remote end closed connection without response'))\n",
      "\n",
      "During handling of the above exception, another exception occurred:\n",
      "\n",
      "Traceback (most recent call last):\n",
      "  File \"/opt/anaconda3/envs/add_librosa/lib/python3.7/site-packages/wandb/apis/internal.py\", line 990, in upload_file\n",
      "    url, data=progress, headers=extra_headers)\n",
      "  File \"/opt/anaconda3/envs/add_librosa/lib/python3.7/site-packages/requests/api.py\", line 134, in put\n",
      "    return request('put', url, data=data, **kwargs)\n",
      "  File \"/opt/anaconda3/envs/add_librosa/lib/python3.7/site-packages/requests/api.py\", line 61, in request\n",
      "    return session.request(method=method, url=url, **kwargs)\n",
      "  File \"/opt/anaconda3/envs/add_librosa/lib/python3.7/site-packages/requests/sessions.py\", line 530, in request\n",
      "    resp = self.send(prep, **send_kwargs)\n",
      "  File \"/opt/anaconda3/envs/add_librosa/lib/python3.7/site-packages/requests/sessions.py\", line 643, in send\n",
      "    r = adapter.send(request, **kwargs)\n",
      "  File \"/opt/anaconda3/envs/add_librosa/lib/python3.7/site-packages/requests/adapters.py\", line 498, in send\n",
      "    raise ConnectionError(err, request=request)\n",
      "requests.exceptions.ConnectionError: ('Connection aborted.', RemoteDisconnected('Remote end closed connection without response'))\n",
      "\n",
      "During handling of the above exception, another exception occurred:\n",
      "\n",
      "Traceback (most recent call last):\n",
      "  File \"/opt/anaconda3/envs/add_librosa/lib/python3.7/site-packages/wandb/retry.py\", line 95, in __call__\n",
      "    result = self._call_fn(*args, **kwargs)\n",
      "  File \"/opt/anaconda3/envs/add_librosa/lib/python3.7/site-packages/wandb/apis/internal.py\", line 996, in upload_file\n",
      "    util.sentry_reraise(retry.TransientException(exc=e))\n",
      "  File \"/opt/anaconda3/envs/add_librosa/lib/python3.7/site-packages/wandb/util.py\", line 94, in sentry_reraise\n",
      "    six.reraise(type(exc), exc, sys.exc_info()[2])\n",
      "  File \"/opt/anaconda3/envs/add_librosa/lib/python3.7/site-packages/six.py\", line 702, in reraise\n",
      "    raise value.with_traceback(tb)\n",
      "  File \"/opt/anaconda3/envs/add_librosa/lib/python3.7/site-packages/wandb/apis/internal.py\", line 990, in upload_file\n",
      "    url, data=progress, headers=extra_headers)\n",
      "  File \"/opt/anaconda3/envs/add_librosa/lib/python3.7/site-packages/requests/api.py\", line 134, in put\n",
      "    return request('put', url, data=data, **kwargs)\n",
      "  File \"/opt/anaconda3/envs/add_librosa/lib/python3.7/site-packages/requests/api.py\", line 61, in request\n",
      "    return session.request(method=method, url=url, **kwargs)\n",
      "  File \"/opt/anaconda3/envs/add_librosa/lib/python3.7/site-packages/requests/sessions.py\", line 530, in request\n",
      "    resp = self.send(prep, **send_kwargs)\n",
      "  File \"/opt/anaconda3/envs/add_librosa/lib/python3.7/site-packages/requests/sessions.py\", line 643, in send\n",
      "    r = adapter.send(request, **kwargs)\n",
      "  File \"/opt/anaconda3/envs/add_librosa/lib/python3.7/site-packages/requests/adapters.py\", line 498, in send\n",
      "    raise ConnectionError(err, request=request)\n",
      "wandb.retry.TransientException: None\n"
     ]
    },
    {
     "name": "stderr",
     "output_type": "stream",
     "text": [
      "\u001b[34m\u001b[1mwandb\u001b[0m: Network error (TransientException), entering retry loop. See /Users/aarojas/Documents/Data_Science_Resources/Insight_20B/AAR_Insight_Project/Firearm_Detection/notebooks/wandb/debug.log for full traceback.\n",
      "\u001b[34m\u001b[1mwandb\u001b[0m: Network error resolved after 0:00:29.489112, resuming normal operation.\n",
      "\u001b[34m\u001b[1mwandb\u001b[0m: Network error resolved after 0:00:32.512626, resuming normal operation.\n",
      "\u001b[34m\u001b[1mwandb\u001b[0m: Network error resolved after 0:00:28.854672, resuming normal operation.\n",
      "\u001b[34m\u001b[1mwandb\u001b[0m: Network error resolved after 0:00:30.297098, resuming normal operation.\n",
      "\u001b[34m\u001b[1mwandb\u001b[0m: \u001b[32m\u001b[41mERROR\u001b[0m Error uploading \"media/images/examples_36.png\": CommError, File /var/folders/px/t6llprnj0m3fhqqbhbvkrynm0000gn/T/tmped6k_k81wandb/1sqh9wpp-media/images/examples_36.png size shrank from 73794 to 0 while it was being uploaded.\n",
      "\u001b[34m\u001b[1mwandb\u001b[0m: Network error resolved after 0:00:30.966515, resuming normal operation.\n",
      "\u001b[34m\u001b[1mwandb\u001b[0m: Network error resolved after 0:00:31.040619, resuming normal operation.\n"
     ]
    }
   ],
   "source": [
    "history2=model2.fit(X_train2, y_train_hot, epochs=config.epochs, validation_data=(X_val2, y_val_hot), callbacks=[WandbCallback(data_type=\"image\", labels=labels)])"
   ]
  },
  {
   "cell_type": "code",
   "execution_count": 69,
   "metadata": {},
   "outputs": [
    {
     "name": "stdout",
     "output_type": "stream",
     "text": [
      "7/7 [==============================] - 0s 8ms/step - loss: 0.1811 - accuracy: 0.9774\n",
      "\n",
      "The accuracy is: 97.7 %\n"
     ]
    }
   ],
   "source": [
    "m2_eval=model2.evaluate(X_test, np.abs(Y_test_hot))\n",
    "accuracy2=round(m2_eval[1]*100,1)\n",
    "print('\\nThe accuracy is:', accuracy2,'%')"
   ]
  },
  {
   "cell_type": "code",
   "execution_count": 70,
   "metadata": {},
   "outputs": [
    {
     "data": {
      "image/png": "[encoded data removed]",
      "text/plain": [
       "<Figure size 576x360 with 1 Axes>"
      ]
     },
     "metadata": {
      "needs_background": "light"
     },
     "output_type": "display_data"
    },
    {
     "data": {
      "text/plain": [
       "<Figure size 432x288 with 0 Axes>"
      ]
     },
     "metadata": {},
     "output_type": "display_data"
    }
   ],
   "source": [
    "pd.DataFrame(history2.history).plot(figsize=(8,5),fontsize=20)\n",
    "plt.grid(True)\n",
    "plt.gca().set_ylim(0,1)\n",
    "plt.xlabel('Epochs',fontsize=20)\n",
    "plt.ylabel('Accuracy and Loss',fontsize=20)\n",
    "plt.show();\n",
    "plt.savefig('../reports/CNN_'+'alpha_'+str(alpha)+'_'+str(accuracy2)+'.png')"
   ]
  },
  {
   "cell_type": "code",
   "execution_count": 71,
   "metadata": {},
   "outputs": [
    {
     "name": "stdout",
     "output_type": "stream",
     "text": [
      "../models/bal_cnn_model_accuracy_97.7_alpha_0.0001.h5\n"
     ]
    }
   ],
   "source": [
    "models_path='../models/'\n",
    "filename = 'bal_cnn_model_accuracy_' +str(accuracy2)+'_alpha_'+str(alpha)+'.h5'\n",
    "cnn_model = models_path+filename\n",
    "\n",
    "print(cnn_model)\n",
    "model2.save(cnn_model)"
   ]
  },
  {
   "cell_type": "code",
   "execution_count": 72,
   "metadata": {},
   "outputs": [],
   "source": [
    "Y_predict2=model2.predict(X_test)"
   ]
  },
  {
   "cell_type": "code",
   "execution_count": 73,
   "metadata": {},
   "outputs": [],
   "source": [
    "conf_mat2=sklearn.metrics.confusion_matrix(pd.DataFrame(Y_test_hot)[1],pd.DataFrame(Y_predict2).round()[1])"
   ]
  },
  {
   "cell_type": "code",
   "execution_count": 74,
   "metadata": {},
   "outputs": [
    {
     "data": {
      "image/png": "[encoded data removed]",
      "text/plain": [
       "<Figure size 540x450 with 2 Axes>"
      ]
     },
     "metadata": {
      "needs_background": "light"
     },
     "output_type": "display_data"
    }
   ],
   "source": [
    "df_cm = pd.DataFrame(conf_mat2, index = [i for i in \"01\"],\n",
    "                  columns = [i for i in \"01\"])\n",
    "plt.figure(figsize = (3,2.5),dpi=180)\n",
    "sn.heatmap(df_cm, annot=True,annot_kws={\"size\": 10},cmap=\"GnBu\",cbar_kws={'label': 'Count'},fmt='d')\n",
    "plt.savefig('../reports/figures/CNN_confusion_mat_'+str(accuracy2)+'_alpha_'+str(alpha)+'.png')"
   ]
  },
  {
   "cell_type": "markdown",
   "metadata": {},
   "source": [
    "## Using a Different Metric in the CNN"
   ]
  },
  {
   "cell_type": "code",
   "execution_count": 89,
   "metadata": {},
   "outputs": [],
   "source": [
    "#input_shape=(batch_size, channels, rows, cols)\n",
    "alpha3=0.0001\n",
    "input_shape=(20,170,1)\n",
    "\n",
    "model3 = Sequential()\n",
    "model3.add(Conv2D(32,(2,2),\n",
    "                 input_shape=input_shape,\n",
    "                 activation='relu',\n",
    "                 data_format='channels_last'))\n",
    "model3.add(MaxPooling2D(pool_size=(2, 2)))\n",
    "model3.add(Flatten())\n",
    "model3.add(Dense(128, activation='relu'))\n",
    "model3.add(Dense(num_classes, activation='softmax'))\n",
    "\n",
    "opt3 = keras.optimizers.Adam(learning_rate=alpha)\n",
    "\n",
    "model3.compile(loss=\"categorical_crossentropy\",\n",
    "              optimizer=opt3,\n",
    "              metrics=tf.keras.metrics.Recall(thresholds=0))"
   ]
  },
  {
   "cell_type": "code",
   "execution_count": 90,
   "metadata": {},
   "outputs": [
    {
     "name": "stdout",
     "output_type": "stream",
     "text": [
      "Model: \"sequential_5\"\n",
      "_________________________________________________________________\n",
      "Layer (type)                 Output Shape              Param #   \n",
      "=================================================================\n",
      "conv2d_4 (Conv2D)            (None, 19, 169, 32)       160       \n",
      "_________________________________________________________________\n",
      "max_pooling2d_4 (MaxPooling2 (None, 9, 84, 32)         0         \n",
      "_________________________________________________________________\n",
      "flatten_5 (Flatten)          (None, 24192)             0         \n",
      "_________________________________________________________________\n",
      "dense_9 (Dense)              (None, 128)               3096704   \n",
      "_________________________________________________________________\n",
      "dense_10 (Dense)             (None, 2)                 258       \n",
      "=================================================================\n",
      "Total params: 3,097,122\n",
      "Trainable params: 3,097,122\n",
      "Non-trainable params: 0\n",
      "_________________________________________________________________\n"
     ]
    }
   ],
   "source": [
    "model3.summary()"
   ]
  },
  {
   "cell_type": "code",
   "execution_count": 91,
   "metadata": {
    "scrolled": true
   },
   "outputs": [
    {
     "name": "stdout",
     "output_type": "stream",
     "text": [
      "Epoch 1/50\n"
     ]
    },
    {
     "name": "stderr",
     "output_type": "stream",
     "text": [
      "Failed to connect to W&B servers after 10 seconds.                    Letting user process proceed while attempting to reconnect.\n"
     ]
    },
    {
     "name": "stdout",
     "output_type": "stream",
     "text": [
      " 1/21 [>.............................] - ETA: 0s - loss: 6.8371 - recall_2: 1.0000WARNING:tensorflow:Method (on_train_batch_end) is slow compared to the batch update (27.731262). Check your callbacks.\n",
      "WARNING:tensorflow:Method (on_train_batch_end) is slow compared to the batch update (13.865648). Check your callbacks.\n",
      "21/21 [==============================] - 1s 42ms/step - loss: 5.9358 - recall_2: 0.9985 - val_loss: 2.0779 - val_recall_2: 1.0000\n",
      "Epoch 2/50\n",
      "21/21 [==============================] - 1s 28ms/step - loss: 0.9724 - recall_2: 1.0000 - val_loss: 0.9155 - val_recall_2: 1.0000\n",
      "Epoch 3/50\n",
      " 7/21 [=========>....................] - ETA: 0s - loss: 0.2672 - recall_2: 1.0000"
     ]
    },
    {
     "name": "stderr",
     "output_type": "stream",
     "text": [
      "\u001b[34m\u001b[1mwandb\u001b[0m: Network error resolved after 0:00:11.673610, resuming normal operation.\n"
     ]
    },
    {
     "name": "stdout",
     "output_type": "stream",
     "text": [
      "21/21 [==============================] - 1s 29ms/step - loss: 0.2700 - recall_2: 1.0000 - val_loss: 0.6053 - val_recall_2: 1.0000\n",
      "Epoch 4/50\n",
      "21/21 [==============================] - 1s 29ms/step - loss: 0.1066 - recall_2: 1.0000 - val_loss: 0.5206 - val_recall_2: 1.0000\n",
      "Epoch 5/50\n",
      "21/21 [==============================] - 1s 28ms/step - loss: 0.0886 - recall_2: 1.0000 - val_loss: 0.4984 - val_recall_2: 1.0000\n",
      "Epoch 6/50\n",
      "21/21 [==============================] - 1s 28ms/step - loss: 0.0425 - recall_2: 1.0000 - val_loss: 0.4571 - val_recall_2: 1.0000\n",
      "Epoch 7/50\n",
      "21/21 [==============================] - 1s 32ms/step - loss: 0.0349 - recall_2: 1.0000 - val_loss: 0.4413 - val_recall_2: 1.0000\n",
      "Epoch 8/50\n",
      "21/21 [==============================] - 1s 25ms/step - loss: 0.0155 - recall_2: 1.0000 - val_loss: 0.4786 - val_recall_2: 1.0000\n",
      "Epoch 9/50\n",
      "21/21 [==============================] - 1s 39ms/step - loss: 0.0065 - recall_2: 1.0000 - val_loss: 0.4363 - val_recall_2: 1.0000\n",
      "Epoch 10/50\n",
      "21/21 [==============================] - 1s 25ms/step - loss: 0.0032 - recall_2: 1.0000 - val_loss: 0.4492 - val_recall_2: 1.0000\n",
      "Epoch 11/50\n",
      "19/21 [==========================>...] - ETA: 0s - loss: 0.0013 - recall_2: 1.0000"
     ]
    },
    {
     "name": "stderr",
     "output_type": "stream",
     "text": [
      "\u001b[34m\u001b[1mwandb\u001b[0m: Network error resolved after 0:00:27.075692, resuming normal operation.\n"
     ]
    },
    {
     "name": "stdout",
     "output_type": "stream",
     "text": [
      "21/21 [==============================] - 1s 28ms/step - loss: 0.0013 - recall_2: 1.0000 - val_loss: 0.4285 - val_recall_2: 1.0000\n",
      "Epoch 12/50\n",
      "21/21 [==============================] - 1s 25ms/step - loss: 8.0585e-04 - recall_2: 1.0000 - val_loss: 0.4364 - val_recall_2: 1.0000\n",
      "Epoch 13/50\n",
      "21/21 [==============================] - 1s 26ms/step - loss: 5.7821e-04 - recall_2: 1.0000 - val_loss: 0.4368 - val_recall_2: 1.0000\n",
      "Epoch 14/50\n",
      "21/21 [==============================] - 1s 25ms/step - loss: 5.2257e-04 - recall_2: 1.0000 - val_loss: 0.4372 - val_recall_2: 1.0000\n",
      "Epoch 15/50\n",
      "21/21 [==============================] - 1s 29ms/step - loss: 4.9928e-04 - recall_2: 1.0000 - val_loss: 0.4397 - val_recall_2: 1.0000\n",
      "Epoch 16/50\n",
      "21/21 [==============================] - 1s 26ms/step - loss: 4.7953e-04 - recall_2: 1.0000 - val_loss: 0.4413 - val_recall_2: 1.0000\n",
      "Epoch 17/50\n",
      "21/21 [==============================] - 1s 31ms/step - loss: 4.3702e-04 - recall_2: 1.0000 - val_loss: 0.4422 - val_recall_2: 1.0000\n",
      "Epoch 18/50\n",
      "21/21 [==============================] - 1s 30ms/step - loss: 4.1617e-04 - recall_2: 1.0000 - val_loss: 0.4400 - val_recall_2: 1.0000\n",
      "Epoch 19/50\n",
      "21/21 [==============================] - 1s 24ms/step - loss: 3.9342e-04 - recall_2: 1.0000 - val_loss: 0.4438 - val_recall_2: 1.0000\n",
      "Epoch 20/50\n",
      "21/21 [==============================] - 1s 25ms/step - loss: 3.9407e-04 - recall_2: 1.0000 - val_loss: 0.4450 - val_recall_2: 1.0000\n",
      "Epoch 21/50\n",
      "21/21 [==============================] - 1s 27ms/step - loss: 3.7536e-04 - recall_2: 1.0000 - val_loss: 0.4459 - val_recall_2: 1.0000\n",
      "Epoch 22/50\n",
      "21/21 [==============================] - 1s 30ms/step - loss: 3.5559e-04 - recall_2: 1.0000 - val_loss: 0.4453 - val_recall_2: 1.0000\n",
      "Epoch 23/50\n",
      "21/21 [==============================] - 1s 25ms/step - loss: 3.3657e-04 - recall_2: 1.0000 - val_loss: 0.4452 - val_recall_2: 1.0000\n",
      "Epoch 24/50\n",
      "21/21 [==============================] - 1s 25ms/step - loss: 3.3495e-04 - recall_2: 1.0000 - val_loss: 0.4456 - val_recall_2: 1.0000\n",
      "Epoch 25/50\n",
      "21/21 [==============================] - 1s 26ms/step - loss: 3.1907e-04 - recall_2: 1.0000 - val_loss: 0.4464 - val_recall_2: 1.0000\n",
      "Epoch 26/50\n",
      "21/21 [==============================] - 1s 26ms/step - loss: 3.1684e-04 - recall_2: 1.0000 - val_loss: 0.4473 - val_recall_2: 1.0000\n",
      "Epoch 27/50\n",
      "21/21 [==============================] - 1s 24ms/step - loss: 3.1098e-04 - recall_2: 1.0000 - val_loss: 0.4499 - val_recall_2: 1.0000\n",
      "Epoch 28/50\n",
      "21/21 [==============================] - 1s 25ms/step - loss: 2.7931e-04 - recall_2: 1.0000 - val_loss: 0.4500 - val_recall_2: 1.0000\n",
      "Epoch 29/50\n",
      "21/21 [==============================] - 1s 26ms/step - loss: 2.8154e-04 - recall_2: 1.0000 - val_loss: 0.4491 - val_recall_2: 1.0000\n",
      "Epoch 30/50\n",
      "21/21 [==============================] - 1s 29ms/step - loss: 2.7393e-04 - recall_2: 1.0000 - val_loss: 0.4505 - val_recall_2: 1.0000\n",
      "Epoch 31/50\n",
      "21/21 [==============================] - 1s 27ms/step - loss: 2.6160e-04 - recall_2: 1.0000 - val_loss: 0.4502 - val_recall_2: 1.0000\n",
      "Epoch 32/50\n",
      "21/21 [==============================] - 1s 30ms/step - loss: 2.5873e-04 - recall_2: 1.0000 - val_loss: 0.4520 - val_recall_2: 1.0000\n",
      "Epoch 33/50\n",
      "21/21 [==============================] - 1s 25ms/step - loss: 2.5248e-04 - recall_2: 1.0000 - val_loss: 0.4512 - val_recall_2: 1.0000\n",
      "Epoch 34/50\n",
      "21/21 [==============================] - 1s 25ms/step - loss: 2.4599e-04 - recall_2: 1.0000 - val_loss: 0.4537 - val_recall_2: 1.0000\n",
      "Epoch 35/50\n",
      "21/21 [==============================] - 1s 25ms/step - loss: 2.4128e-04 - recall_2: 1.0000 - val_loss: 0.4522 - val_recall_2: 1.0000\n",
      "Epoch 36/50\n",
      "21/21 [==============================] - 1s 25ms/step - loss: 2.3690e-04 - recall_2: 1.0000 - val_loss: 0.4531 - val_recall_2: 1.0000\n",
      "Epoch 37/50\n",
      "21/21 [==============================] - 1s 26ms/step - loss: 2.2663e-04 - recall_2: 1.0000 - val_loss: 0.4531 - val_recall_2: 1.0000\n",
      "Epoch 38/50\n",
      "21/21 [==============================] - 1s 30ms/step - loss: 2.2327e-04 - recall_2: 1.0000 - val_loss: 0.4544 - val_recall_2: 1.0000\n",
      "Epoch 39/50\n",
      "21/21 [==============================] - 1s 25ms/step - loss: 2.1295e-04 - recall_2: 1.0000 - val_loss: 0.4529 - val_recall_2: 1.0000\n",
      "Epoch 40/50\n",
      "21/21 [==============================] - 1s 25ms/step - loss: 2.1000e-04 - recall_2: 1.0000 - val_loss: 0.4534 - val_recall_2: 1.0000\n",
      "Epoch 41/50\n",
      "21/21 [==============================] - 1s 26ms/step - loss: 2.0917e-04 - recall_2: 1.0000 - val_loss: 0.4577 - val_recall_2: 1.0000\n",
      "Epoch 42/50\n",
      "21/21 [==============================] - 1s 31ms/step - loss: 1.9724e-04 - recall_2: 1.0000 - val_loss: 0.4535 - val_recall_2: 1.0000\n",
      "Epoch 43/50\n",
      "21/21 [==============================] - 1s 32ms/step - loss: 1.9601e-04 - recall_2: 1.0000 - val_loss: 0.4551 - val_recall_2: 1.0000\n",
      "Epoch 44/50\n",
      "21/21 [==============================] - 1s 27ms/step - loss: 1.9288e-04 - recall_2: 1.0000 - val_loss: 0.4564 - val_recall_2: 1.0000\n",
      "Epoch 45/50\n",
      "21/21 [==============================] - 1s 27ms/step - loss: 1.8818e-04 - recall_2: 1.0000 - val_loss: 0.4554 - val_recall_2: 1.0000\n",
      "Epoch 46/50\n",
      "21/21 [==============================] - 1s 25ms/step - loss: 1.8894e-04 - recall_2: 1.0000 - val_loss: 0.4578 - val_recall_2: 1.0000\n",
      "Epoch 47/50\n",
      "21/21 [==============================] - 1s 26ms/step - loss: 1.7964e-04 - recall_2: 1.0000 - val_loss: 0.4571 - val_recall_2: 1.0000\n",
      "Epoch 48/50\n",
      "21/21 [==============================] - 1s 26ms/step - loss: 1.7505e-04 - recall_2: 1.0000 - val_loss: 0.4563 - val_recall_2: 1.0000\n",
      "Epoch 49/50\n",
      "21/21 [==============================] - 1s 26ms/step - loss: 1.7112e-04 - recall_2: 1.0000 - val_loss: 0.4567 - val_recall_2: 1.0000\n",
      "Epoch 50/50\n",
      "21/21 [==============================] - 1s 27ms/step - loss: 1.6787e-04 - recall_2: 1.0000 - val_loss: 0.4595 - val_recall_2: 1.0000\n"
     ]
    },
    {
     "name": "stderr",
     "output_type": "stream",
     "text": [
      "Retry attempt failed:\n",
      "Traceback (most recent call last):\n",
      "  File \"/opt/anaconda3/envs/add_librosa/lib/python3.7/site-packages/urllib3/connectionpool.py\", line 426, in _make_request\n",
      "    six.raise_from(e, None)\n",
      "  File \"<string>\", line 3, in raise_from\n",
      "  File \"/opt/anaconda3/envs/add_librosa/lib/python3.7/site-packages/urllib3/connectionpool.py\", line 421, in _make_request\n",
      "    httplib_response = conn.getresponse()\n",
      "  File \"/opt/anaconda3/envs/add_librosa/lib/python3.7/http/client.py\", line 1344, in getresponse\n",
      "    response.begin()\n",
      "  File \"/opt/anaconda3/envs/add_librosa/lib/python3.7/http/client.py\", line 306, in begin\n",
      "    version, status, reason = self._read_status()\n",
      "  File \"/opt/anaconda3/envs/add_librosa/lib/python3.7/http/client.py\", line 267, in _read_status\n",
      "    line = str(self.fp.readline(_MAXLINE + 1), \"iso-8859-1\")\n",
      "  File \"/opt/anaconda3/envs/add_librosa/lib/python3.7/socket.py\", line 589, in readinto\n",
      "    return self._sock.recv_into(b)\n",
      "  File \"/opt/anaconda3/envs/add_librosa/lib/python3.7/site-packages/urllib3/contrib/pyopenssl.py\", line 326, in recv_into\n",
      "    raise timeout(\"The read operation timed out\")\n",
      "socket.timeout: The read operation timed out\n",
      "\n",
      "During handling of the above exception, another exception occurred:\n",
      "\n",
      "Traceback (most recent call last):\n",
      "  File \"/opt/anaconda3/envs/add_librosa/lib/python3.7/site-packages/requests/adapters.py\", line 449, in send\n",
      "    timeout=timeout\n",
      "  File \"/opt/anaconda3/envs/add_librosa/lib/python3.7/site-packages/urllib3/connectionpool.py\", line 725, in urlopen\n",
      "    method, url, error=e, _pool=self, _stacktrace=sys.exc_info()[2]\n",
      "  File \"/opt/anaconda3/envs/add_librosa/lib/python3.7/site-packages/urllib3/util/retry.py\", line 403, in increment\n",
      "    raise six.reraise(type(error), error, _stacktrace)\n",
      "  File \"/opt/anaconda3/envs/add_librosa/lib/python3.7/site-packages/urllib3/packages/six.py\", line 735, in reraise\n",
      "    raise value\n",
      "  File \"/opt/anaconda3/envs/add_librosa/lib/python3.7/site-packages/urllib3/connectionpool.py\", line 677, in urlopen\n",
      "    chunked=chunked,\n",
      "  File \"/opt/anaconda3/envs/add_librosa/lib/python3.7/site-packages/urllib3/connectionpool.py\", line 428, in _make_request\n",
      "    self._raise_timeout(err=e, url=url, timeout_value=read_timeout)\n",
      "  File \"/opt/anaconda3/envs/add_librosa/lib/python3.7/site-packages/urllib3/connectionpool.py\", line 336, in _raise_timeout\n",
      "    self, url, \"Read timed out. (read timeout=%s)\" % timeout_value\n",
      "urllib3.exceptions.ReadTimeoutError: HTTPSConnectionPool(host='api.wandb.ai', port=443): Read timed out. (read timeout=10)\n",
      "\n",
      "During handling of the above exception, another exception occurred:\n",
      "\n",
      "Traceback (most recent call last):\n",
      "  File \"/opt/anaconda3/envs/add_librosa/lib/python3.7/site-packages/wandb/retry.py\", line 95, in __call__\n",
      "    result = self._call_fn(*args, **kwargs)\n",
      "  File \"/opt/anaconda3/envs/add_librosa/lib/python3.7/site-packages/wandb/apis/internal.py\", line 108, in execute\n",
      "    return self.client.execute(*args, **kwargs)\n",
      "  File \"/opt/anaconda3/envs/add_librosa/lib/python3.7/site-packages/gql/client.py\", line 52, in execute\n",
      "    result = self._get_result(document, *args, **kwargs)\n",
      "  File \"/opt/anaconda3/envs/add_librosa/lib/python3.7/site-packages/gql/client.py\", line 60, in _get_result\n",
      "    return self.transport.execute(document, *args, **kwargs)\n",
      "  File \"/opt/anaconda3/envs/add_librosa/lib/python3.7/site-packages/gql/transport/requests.py\", line 38, in execute\n",
      "    request = requests.post(self.url, **post_args)\n",
      "  File \"/opt/anaconda3/envs/add_librosa/lib/python3.7/site-packages/requests/api.py\", line 119, in post\n",
      "    return request('post', url, data=data, json=json, **kwargs)\n",
      "  File \"/opt/anaconda3/envs/add_librosa/lib/python3.7/site-packages/requests/api.py\", line 61, in request\n",
      "    return session.request(method=method, url=url, **kwargs)\n",
      "  File \"/opt/anaconda3/envs/add_librosa/lib/python3.7/site-packages/requests/sessions.py\", line 530, in request\n",
      "    resp = self.send(prep, **send_kwargs)\n",
      "  File \"/opt/anaconda3/envs/add_librosa/lib/python3.7/site-packages/requests/sessions.py\", line 643, in send\n",
      "    r = adapter.send(request, **kwargs)\n",
      "  File \"/opt/anaconda3/envs/add_librosa/lib/python3.7/site-packages/requests/adapters.py\", line 529, in send\n",
      "    raise ReadTimeout(e, request=request)\n",
      "requests.exceptions.ReadTimeout: HTTPSConnectionPool(host='api.wandb.ai', port=443): Read timed out. (read timeout=10)\n",
      "\u001b[34m\u001b[1mwandb\u001b[0m: Network error (ReadTimeout), entering retry loop. See /Users/aarojas/Documents/Data_Science_Resources/Insight_20B/AAR_Insight_Project/Firearm_Detection/notebooks/wandb/debug.log for full traceback.\n",
      "Retry attempt failed:\n",
      "Traceback (most recent call last):\n",
      "  File \"/opt/anaconda3/envs/add_librosa/lib/python3.7/site-packages/urllib3/connectionpool.py\", line 677, in urlopen\n",
      "    chunked=chunked,\n",
      "  File \"/opt/anaconda3/envs/add_librosa/lib/python3.7/site-packages/urllib3/connectionpool.py\", line 426, in _make_request\n",
      "    six.raise_from(e, None)\n",
      "  File \"<string>\", line 3, in raise_from\n",
      "  File \"/opt/anaconda3/envs/add_librosa/lib/python3.7/site-packages/urllib3/connectionpool.py\", line 421, in _make_request\n",
      "    httplib_response = conn.getresponse()\n",
      "  File \"/opt/anaconda3/envs/add_librosa/lib/python3.7/http/client.py\", line 1344, in getresponse\n",
      "    response.begin()\n",
      "  File \"/opt/anaconda3/envs/add_librosa/lib/python3.7/http/client.py\", line 306, in begin\n",
      "    version, status, reason = self._read_status()\n",
      "  File \"/opt/anaconda3/envs/add_librosa/lib/python3.7/http/client.py\", line 275, in _read_status\n",
      "    raise RemoteDisconnected(\"Remote end closed connection without\"\n",
      "http.client.RemoteDisconnected: Remote end closed connection without response\n",
      "\n",
      "During handling of the above exception, another exception occurred:\n",
      "\n",
      "Traceback (most recent call last):\n",
      "  File \"/opt/anaconda3/envs/add_librosa/lib/python3.7/site-packages/requests/adapters.py\", line 449, in send\n",
      "    timeout=timeout\n",
      "  File \"/opt/anaconda3/envs/add_librosa/lib/python3.7/site-packages/urllib3/connectionpool.py\", line 725, in urlopen\n",
      "    method, url, error=e, _pool=self, _stacktrace=sys.exc_info()[2]\n",
      "  File \"/opt/anaconda3/envs/add_librosa/lib/python3.7/site-packages/urllib3/util/retry.py\", line 403, in increment\n",
      "    raise six.reraise(type(error), error, _stacktrace)\n",
      "  File \"/opt/anaconda3/envs/add_librosa/lib/python3.7/site-packages/urllib3/packages/six.py\", line 734, in reraise\n",
      "    raise value.with_traceback(tb)\n",
      "  File \"/opt/anaconda3/envs/add_librosa/lib/python3.7/site-packages/urllib3/connectionpool.py\", line 677, in urlopen\n",
      "    chunked=chunked,\n",
      "  File \"/opt/anaconda3/envs/add_librosa/lib/python3.7/site-packages/urllib3/connectionpool.py\", line 426, in _make_request\n",
      "    six.raise_from(e, None)\n",
      "  File \"<string>\", line 3, in raise_from\n",
      "  File \"/opt/anaconda3/envs/add_librosa/lib/python3.7/site-packages/urllib3/connectionpool.py\", line 421, in _make_request\n",
      "    httplib_response = conn.getresponse()\n",
      "  File \"/opt/anaconda3/envs/add_librosa/lib/python3.7/http/client.py\", line 1344, in getresponse\n",
      "    response.begin()\n",
      "  File \"/opt/anaconda3/envs/add_librosa/lib/python3.7/http/client.py\", line 306, in begin\n",
      "    version, status, reason = self._read_status()\n",
      "  File \"/opt/anaconda3/envs/add_librosa/lib/python3.7/http/client.py\", line 275, in _read_status\n",
      "    raise RemoteDisconnected(\"Remote end closed connection without\"\n",
      "urllib3.exceptions.ProtocolError: ('Connection aborted.', RemoteDisconnected('Remote end closed connection without response'))\n",
      "\n",
      "During handling of the above exception, another exception occurred:\n",
      "\n",
      "Traceback (most recent call last):\n",
      "  File \"/opt/anaconda3/envs/add_librosa/lib/python3.7/site-packages/wandb/retry.py\", line 95, in __call__\n",
      "    result = self._call_fn(*args, **kwargs)\n",
      "  File \"/opt/anaconda3/envs/add_librosa/lib/python3.7/site-packages/wandb/apis/internal.py\", line 108, in execute\n",
      "    return self.client.execute(*args, **kwargs)\n",
      "  File \"/opt/anaconda3/envs/add_librosa/lib/python3.7/site-packages/gql/client.py\", line 52, in execute\n",
      "    result = self._get_result(document, *args, **kwargs)\n",
      "  File \"/opt/anaconda3/envs/add_librosa/lib/python3.7/site-packages/gql/client.py\", line 60, in _get_result\n",
      "    return self.transport.execute(document, *args, **kwargs)\n",
      "  File \"/opt/anaconda3/envs/add_librosa/lib/python3.7/site-packages/gql/transport/requests.py\", line 38, in execute\n",
      "    request = requests.post(self.url, **post_args)\n",
      "  File \"/opt/anaconda3/envs/add_librosa/lib/python3.7/site-packages/requests/api.py\", line 119, in post\n",
      "    return request('post', url, data=data, json=json, **kwargs)\n",
      "  File \"/opt/anaconda3/envs/add_librosa/lib/python3.7/site-packages/requests/api.py\", line 61, in request\n",
      "    return session.request(method=method, url=url, **kwargs)\n",
      "  File \"/opt/anaconda3/envs/add_librosa/lib/python3.7/site-packages/requests/sessions.py\", line 530, in request\n",
      "    resp = self.send(prep, **send_kwargs)\n",
      "  File \"/opt/anaconda3/envs/add_librosa/lib/python3.7/site-packages/requests/sessions.py\", line 643, in send\n",
      "    r = adapter.send(request, **kwargs)\n",
      "  File \"/opt/anaconda3/envs/add_librosa/lib/python3.7/site-packages/requests/adapters.py\", line 498, in send\n",
      "    raise ConnectionError(err, request=request)\n",
      "requests.exceptions.ConnectionError: ('Connection aborted.', RemoteDisconnected('Remote end closed connection without response'))\n"
     ]
    },
    {
     "name": "stderr",
     "output_type": "stream",
     "text": [
      "\u001b[34m\u001b[1mwandb\u001b[0m: Network error (ConnectionError), entering retry loop. See /Users/aarojas/Documents/Data_Science_Resources/Insight_20B/AAR_Insight_Project/Firearm_Detection/notebooks/wandb/debug.log for full traceback.\n",
      "Retry attempt failed:\n",
      "Traceback (most recent call last):\n",
      "  File \"/opt/anaconda3/envs/add_librosa/lib/python3.7/site-packages/urllib3/connection.py\", line 160, in _new_conn\n",
      "    (self._dns_host, self.port), self.timeout, **extra_kw\n",
      "  File \"/opt/anaconda3/envs/add_librosa/lib/python3.7/site-packages/urllib3/util/connection.py\", line 84, in create_connection\n",
      "    raise err\n",
      "  File \"/opt/anaconda3/envs/add_librosa/lib/python3.7/site-packages/urllib3/util/connection.py\", line 74, in create_connection\n",
      "    sock.connect(sa)\n",
      "socket.timeout: timed out\n",
      "\n",
      "During handling of the above exception, another exception occurred:\n",
      "\n",
      "Traceback (most recent call last):\n",
      "  File \"/opt/anaconda3/envs/add_librosa/lib/python3.7/site-packages/urllib3/connectionpool.py\", line 677, in urlopen\n",
      "    chunked=chunked,\n",
      "  File \"/opt/anaconda3/envs/add_librosa/lib/python3.7/site-packages/urllib3/connectionpool.py\", line 381, in _make_request\n",
      "    self._validate_conn(conn)\n",
      "  File \"/opt/anaconda3/envs/add_librosa/lib/python3.7/site-packages/urllib3/connectionpool.py\", line 976, in _validate_conn\n",
      "    conn.connect()\n",
      "  File \"/opt/anaconda3/envs/add_librosa/lib/python3.7/site-packages/urllib3/connection.py\", line 308, in connect\n",
      "    conn = self._new_conn()\n",
      "  File \"/opt/anaconda3/envs/add_librosa/lib/python3.7/site-packages/urllib3/connection.py\", line 167, in _new_conn\n",
      "    % (self.host, self.timeout),\n",
      "urllib3.exceptions.ConnectTimeoutError: (<urllib3.connection.HTTPSConnection object at 0x151a4e610>, 'Connection to api.wandb.ai timed out. (connect timeout=10)')\n",
      "\n",
      "During handling of the above exception, another exception occurred:\n",
      "\n",
      "Traceback (most recent call last):\n",
      "  File \"/opt/anaconda3/envs/add_librosa/lib/python3.7/site-packages/requests/adapters.py\", line 449, in send\n",
      "    timeout=timeout\n",
      "  File \"/opt/anaconda3/envs/add_librosa/lib/python3.7/site-packages/urllib3/connectionpool.py\", line 725, in urlopen\n",
      "    method, url, error=e, _pool=self, _stacktrace=sys.exc_info()[2]\n",
      "  File \"/opt/anaconda3/envs/add_librosa/lib/python3.7/site-packages/urllib3/util/retry.py\", line 439, in increment\n",
      "    raise MaxRetryError(_pool, url, error or ResponseError(cause))\n",
      "urllib3.exceptions.MaxRetryError: HTTPSConnectionPool(host='api.wandb.ai', port=443): Max retries exceeded with url: /graphql (Caused by ConnectTimeoutError(<urllib3.connection.HTTPSConnection object at 0x151a4e610>, 'Connection to api.wandb.ai timed out. (connect timeout=10)'))\n",
      "\n",
      "During handling of the above exception, another exception occurred:\n",
      "\n",
      "Traceback (most recent call last):\n",
      "  File \"/opt/anaconda3/envs/add_librosa/lib/python3.7/site-packages/wandb/retry.py\", line 95, in __call__\n",
      "    result = self._call_fn(*args, **kwargs)\n",
      "  File \"/opt/anaconda3/envs/add_librosa/lib/python3.7/site-packages/wandb/apis/internal.py\", line 108, in execute\n",
      "    return self.client.execute(*args, **kwargs)\n",
      "  File \"/opt/anaconda3/envs/add_librosa/lib/python3.7/site-packages/gql/client.py\", line 52, in execute\n",
      "    result = self._get_result(document, *args, **kwargs)\n",
      "  File \"/opt/anaconda3/envs/add_librosa/lib/python3.7/site-packages/gql/client.py\", line 60, in _get_result\n",
      "    return self.transport.execute(document, *args, **kwargs)\n",
      "  File \"/opt/anaconda3/envs/add_librosa/lib/python3.7/site-packages/gql/transport/requests.py\", line 38, in execute\n",
      "    request = requests.post(self.url, **post_args)\n",
      "  File \"/opt/anaconda3/envs/add_librosa/lib/python3.7/site-packages/requests/api.py\", line 119, in post\n",
      "    return request('post', url, data=data, json=json, **kwargs)\n",
      "  File \"/opt/anaconda3/envs/add_librosa/lib/python3.7/site-packages/requests/api.py\", line 61, in request\n",
      "    return session.request(method=method, url=url, **kwargs)\n",
      "  File \"/opt/anaconda3/envs/add_librosa/lib/python3.7/site-packages/requests/sessions.py\", line 530, in request\n",
      "    resp = self.send(prep, **send_kwargs)\n",
      "  File \"/opt/anaconda3/envs/add_librosa/lib/python3.7/site-packages/requests/sessions.py\", line 643, in send\n",
      "    r = adapter.send(request, **kwargs)\n",
      "  File \"/opt/anaconda3/envs/add_librosa/lib/python3.7/site-packages/requests/adapters.py\", line 504, in send\n",
      "    raise ConnectTimeout(e, request=request)\n",
      "requests.exceptions.ConnectTimeout: HTTPSConnectionPool(host='api.wandb.ai', port=443): Max retries exceeded with url: /graphql (Caused by ConnectTimeoutError(<urllib3.connection.HTTPSConnection object at 0x151a4e610>, 'Connection to api.wandb.ai timed out. (connect timeout=10)'))\n",
      "\u001b[34m\u001b[1mwandb\u001b[0m: Network error (ConnectTimeout), entering retry loop. See /Users/aarojas/Documents/Data_Science_Resources/Insight_20B/AAR_Insight_Project/Firearm_Detection/notebooks/wandb/debug.log for full traceback.\n",
      "Retry attempt failed:\n",
      "Traceback (most recent call last):\n",
      "  File \"/opt/anaconda3/envs/add_librosa/lib/python3.7/site-packages/urllib3/connection.py\", line 160, in _new_conn\n",
      "    (self._dns_host, self.port), self.timeout, **extra_kw\n",
      "  File \"/opt/anaconda3/envs/add_librosa/lib/python3.7/site-packages/urllib3/util/connection.py\", line 84, in create_connection\n",
      "    raise err\n",
      "  File \"/opt/anaconda3/envs/add_librosa/lib/python3.7/site-packages/urllib3/util/connection.py\", line 74, in create_connection\n",
      "    sock.connect(sa)\n",
      "socket.timeout: timed out\n",
      "\n",
      "During handling of the above exception, another exception occurred:\n",
      "\n",
      "Traceback (most recent call last):\n",
      "  File \"/opt/anaconda3/envs/add_librosa/lib/python3.7/site-packages/urllib3/connectionpool.py\", line 677, in urlopen\n",
      "    chunked=chunked,\n",
      "  File \"/opt/anaconda3/envs/add_librosa/lib/python3.7/site-packages/urllib3/connectionpool.py\", line 381, in _make_request\n",
      "    self._validate_conn(conn)\n",
      "  File \"/opt/anaconda3/envs/add_librosa/lib/python3.7/site-packages/urllib3/connectionpool.py\", line 976, in _validate_conn\n",
      "    conn.connect()\n",
      "  File \"/opt/anaconda3/envs/add_librosa/lib/python3.7/site-packages/urllib3/connection.py\", line 308, in connect\n",
      "    conn = self._new_conn()\n",
      "  File \"/opt/anaconda3/envs/add_librosa/lib/python3.7/site-packages/urllib3/connection.py\", line 167, in _new_conn\n",
      "    % (self.host, self.timeout),\n",
      "urllib3.exceptions.ConnectTimeoutError: (<urllib3.connection.HTTPSConnection object at 0x156377f10>, 'Connection to api.wandb.ai timed out. (connect timeout=10)')\n",
      "\n",
      "During handling of the above exception, another exception occurred:\n",
      "\n",
      "Traceback (most recent call last):\n",
      "  File \"/opt/anaconda3/envs/add_librosa/lib/python3.7/site-packages/requests/adapters.py\", line 449, in send\n",
      "    timeout=timeout\n",
      "  File \"/opt/anaconda3/envs/add_librosa/lib/python3.7/site-packages/urllib3/connectionpool.py\", line 725, in urlopen\n",
      "    method, url, error=e, _pool=self, _stacktrace=sys.exc_info()[2]\n",
      "  File \"/opt/anaconda3/envs/add_librosa/lib/python3.7/site-packages/urllib3/util/retry.py\", line 439, in increment\n",
      "    raise MaxRetryError(_pool, url, error or ResponseError(cause))\n",
      "urllib3.exceptions.MaxRetryError: HTTPSConnectionPool(host='api.wandb.ai', port=443): Max retries exceeded with url: /graphql (Caused by ConnectTimeoutError(<urllib3.connection.HTTPSConnection object at 0x156377f10>, 'Connection to api.wandb.ai timed out. (connect timeout=10)'))\n",
      "\n",
      "During handling of the above exception, another exception occurred:\n",
      "\n",
      "Traceback (most recent call last):\n",
      "  File \"/opt/anaconda3/envs/add_librosa/lib/python3.7/site-packages/wandb/retry.py\", line 95, in __call__\n",
      "    result = self._call_fn(*args, **kwargs)\n",
      "  File \"/opt/anaconda3/envs/add_librosa/lib/python3.7/site-packages/wandb/apis/internal.py\", line 108, in execute\n",
      "    return self.client.execute(*args, **kwargs)\n",
      "  File \"/opt/anaconda3/envs/add_librosa/lib/python3.7/site-packages/gql/client.py\", line 52, in execute\n",
      "    result = self._get_result(document, *args, **kwargs)\n",
      "  File \"/opt/anaconda3/envs/add_librosa/lib/python3.7/site-packages/gql/client.py\", line 60, in _get_result\n",
      "    return self.transport.execute(document, *args, **kwargs)\n",
      "  File \"/opt/anaconda3/envs/add_librosa/lib/python3.7/site-packages/gql/transport/requests.py\", line 38, in execute\n",
      "    request = requests.post(self.url, **post_args)\n",
      "  File \"/opt/anaconda3/envs/add_librosa/lib/python3.7/site-packages/requests/api.py\", line 119, in post\n",
      "    return request('post', url, data=data, json=json, **kwargs)\n",
      "  File \"/opt/anaconda3/envs/add_librosa/lib/python3.7/site-packages/requests/api.py\", line 61, in request\n",
      "    return session.request(method=method, url=url, **kwargs)\n",
      "  File \"/opt/anaconda3/envs/add_librosa/lib/python3.7/site-packages/requests/sessions.py\", line 530, in request\n",
      "    resp = self.send(prep, **send_kwargs)\n",
      "  File \"/opt/anaconda3/envs/add_librosa/lib/python3.7/site-packages/requests/sessions.py\", line 643, in send\n",
      "    r = adapter.send(request, **kwargs)\n",
      "  File \"/opt/anaconda3/envs/add_librosa/lib/python3.7/site-packages/requests/adapters.py\", line 504, in send\n",
      "    raise ConnectTimeout(e, request=request)\n",
      "requests.exceptions.ConnectTimeout: HTTPSConnectionPool(host='api.wandb.ai', port=443): Max retries exceeded with url: /graphql (Caused by ConnectTimeoutError(<urllib3.connection.HTTPSConnection object at 0x156377f10>, 'Connection to api.wandb.ai timed out. (connect timeout=10)'))\n"
     ]
    },
    {
     "name": "stderr",
     "output_type": "stream",
     "text": [
      "\u001b[34m\u001b[1mwandb\u001b[0m: Network error (ConnectTimeout), entering retry loop. See /Users/aarojas/Documents/Data_Science_Resources/Insight_20B/AAR_Insight_Project/Firearm_Detection/notebooks/wandb/debug.log for full traceback.\n",
      "Retry attempt failed:\n",
      "Traceback (most recent call last):\n",
      "  File \"/opt/anaconda3/envs/add_librosa/lib/python3.7/site-packages/urllib3/contrib/pyopenssl.py\", line 488, in wrap_socket\n",
      "    cnx.do_handshake()\n",
      "  File \"/opt/anaconda3/envs/add_librosa/lib/python3.7/site-packages/OpenSSL/SSL.py\", line 1934, in do_handshake\n",
      "    self._raise_ssl_error(self._ssl, result)\n",
      "  File \"/opt/anaconda3/envs/add_librosa/lib/python3.7/site-packages/OpenSSL/SSL.py\", line 1646, in _raise_ssl_error\n",
      "    raise WantReadError()\n",
      "OpenSSL.SSL.WantReadError\n",
      "\n",
      "During handling of the above exception, another exception occurred:\n",
      "\n",
      "Traceback (most recent call last):\n",
      "  File \"/opt/anaconda3/envs/add_librosa/lib/python3.7/site-packages/urllib3/connectionpool.py\", line 381, in _make_request\n",
      "    self._validate_conn(conn)\n",
      "  File \"/opt/anaconda3/envs/add_librosa/lib/python3.7/site-packages/urllib3/connectionpool.py\", line 976, in _validate_conn\n",
      "    conn.connect()\n",
      "  File \"/opt/anaconda3/envs/add_librosa/lib/python3.7/site-packages/urllib3/connection.py\", line 370, in connect\n",
      "    ssl_context=context,\n",
      "  File \"/opt/anaconda3/envs/add_librosa/lib/python3.7/site-packages/urllib3/util/ssl_.py\", line 377, in ssl_wrap_socket\n",
      "    return context.wrap_socket(sock, server_hostname=server_hostname)\n",
      "  File \"/opt/anaconda3/envs/add_librosa/lib/python3.7/site-packages/urllib3/contrib/pyopenssl.py\", line 491, in wrap_socket\n",
      "    raise timeout(\"select timed out\")\n",
      "socket.timeout: select timed out\n",
      "\n",
      "During handling of the above exception, another exception occurred:\n",
      "\n",
      "Traceback (most recent call last):\n",
      "  File \"/opt/anaconda3/envs/add_librosa/lib/python3.7/site-packages/requests/adapters.py\", line 449, in send\n",
      "    timeout=timeout\n",
      "  File \"/opt/anaconda3/envs/add_librosa/lib/python3.7/site-packages/urllib3/connectionpool.py\", line 725, in urlopen\n",
      "    method, url, error=e, _pool=self, _stacktrace=sys.exc_info()[2]\n",
      "  File \"/opt/anaconda3/envs/add_librosa/lib/python3.7/site-packages/urllib3/util/retry.py\", line 403, in increment\n",
      "    raise six.reraise(type(error), error, _stacktrace)\n",
      "  File \"/opt/anaconda3/envs/add_librosa/lib/python3.7/site-packages/urllib3/packages/six.py\", line 735, in reraise\n",
      "    raise value\n",
      "  File \"/opt/anaconda3/envs/add_librosa/lib/python3.7/site-packages/urllib3/connectionpool.py\", line 677, in urlopen\n",
      "    chunked=chunked,\n",
      "  File \"/opt/anaconda3/envs/add_librosa/lib/python3.7/site-packages/urllib3/connectionpool.py\", line 384, in _make_request\n",
      "    self._raise_timeout(err=e, url=url, timeout_value=conn.timeout)\n",
      "  File \"/opt/anaconda3/envs/add_librosa/lib/python3.7/site-packages/urllib3/connectionpool.py\", line 336, in _raise_timeout\n",
      "    self, url, \"Read timed out. (read timeout=%s)\" % timeout_value\n",
      "urllib3.exceptions.ReadTimeoutError: HTTPSConnectionPool(host='api.wandb.ai', port=443): Read timed out. (read timeout=10)\n",
      "\n",
      "During handling of the above exception, another exception occurred:\n",
      "\n",
      "Traceback (most recent call last):\n",
      "  File \"/opt/anaconda3/envs/add_librosa/lib/python3.7/site-packages/wandb/retry.py\", line 95, in __call__\n",
      "    result = self._call_fn(*args, **kwargs)\n",
      "  File \"/opt/anaconda3/envs/add_librosa/lib/python3.7/site-packages/wandb/apis/internal.py\", line 108, in execute\n",
      "    return self.client.execute(*args, **kwargs)\n",
      "  File \"/opt/anaconda3/envs/add_librosa/lib/python3.7/site-packages/gql/client.py\", line 52, in execute\n",
      "    result = self._get_result(document, *args, **kwargs)\n",
      "  File \"/opt/anaconda3/envs/add_librosa/lib/python3.7/site-packages/gql/client.py\", line 60, in _get_result\n",
      "    return self.transport.execute(document, *args, **kwargs)\n",
      "  File \"/opt/anaconda3/envs/add_librosa/lib/python3.7/site-packages/gql/transport/requests.py\", line 38, in execute\n",
      "    request = requests.post(self.url, **post_args)\n",
      "  File \"/opt/anaconda3/envs/add_librosa/lib/python3.7/site-packages/requests/api.py\", line 119, in post\n",
      "    return request('post', url, data=data, json=json, **kwargs)\n",
      "  File \"/opt/anaconda3/envs/add_librosa/lib/python3.7/site-packages/requests/api.py\", line 61, in request\n",
      "    return session.request(method=method, url=url, **kwargs)\n",
      "  File \"/opt/anaconda3/envs/add_librosa/lib/python3.7/site-packages/requests/sessions.py\", line 530, in request\n",
      "    resp = self.send(prep, **send_kwargs)\n",
      "  File \"/opt/anaconda3/envs/add_librosa/lib/python3.7/site-packages/requests/sessions.py\", line 643, in send\n",
      "    r = adapter.send(request, **kwargs)\n",
      "  File \"/opt/anaconda3/envs/add_librosa/lib/python3.7/site-packages/requests/adapters.py\", line 529, in send\n",
      "    raise ReadTimeout(e, request=request)\n",
      "requests.exceptions.ReadTimeout: HTTPSConnectionPool(host='api.wandb.ai', port=443): Read timed out. (read timeout=10)\n",
      "\u001b[34m\u001b[1mwandb\u001b[0m: Network error (ReadTimeout), entering retry loop. See /Users/aarojas/Documents/Data_Science_Resources/Insight_20B/AAR_Insight_Project/Firearm_Detection/notebooks/wandb/debug.log for full traceback.\n",
      "\u001b[34m\u001b[1mwandb\u001b[0m: Network error resolved after 0:00:19.667639, resuming normal operation.\n",
      "\u001b[34m\u001b[1mwandb\u001b[0m: Network error resolved after 0:00:20.161675, resuming normal operation.\n",
      "\u001b[34m\u001b[1mwandb\u001b[0m: Network error resolved after 0:00:24.834331, resuming normal operation.\n",
      "\u001b[34m\u001b[1mwandb\u001b[0m: Network error resolved after 0:00:17.132859, resuming normal operation.\n",
      "\u001b[34m\u001b[1mwandb\u001b[0m: Network error resolved after 0:00:25.450788, resuming normal operation.\n",
      "\u001b[34m\u001b[1mwandb\u001b[0m: Network error resolved after 0:00:28.364448, resuming normal operation.\n",
      "\u001b[34m\u001b[1mwandb\u001b[0m: Network error resolved after 0:00:26.367386, resuming normal operation.\n",
      "\u001b[34m\u001b[1mwandb\u001b[0m: Network error resolved after 0:00:24.301212, resuming normal operation.\n",
      "\u001b[34m\u001b[1mwandb\u001b[0m: Network error resolved after 0:00:24.423657, resuming normal operation.\n",
      "\u001b[34m\u001b[1mwandb\u001b[0m: Network error resolved after 0:00:30.466634, resuming normal operation.\n",
      "\u001b[34m\u001b[1mwandb\u001b[0m: Network error resolved after 0:00:30.833910, resuming normal operation.\n",
      "\u001b[34m\u001b[1mwandb\u001b[0m: Network error resolved after 0:00:20.676806, resuming normal operation.\n",
      "\u001b[34m\u001b[1mwandb\u001b[0m: \u001b[32m\u001b[41mERROR\u001b[0m Error uploading \"media/images/examples_168.png\": CommError, File /var/folders/px/t6llprnj0m3fhqqbhbvkrynm0000gn/T/tmp0nu2f5lxwandb/3gbb4ss2-media/images/examples_168.png size shrank from 67457 to 0 while it was being uploaded.\n",
      "\u001b[34m\u001b[1mwandb\u001b[0m: Network error resolved after 0:00:42.666555, resuming normal operation.\n",
      "\u001b[34m\u001b[1mwandb\u001b[0m: Network error resolved after 0:00:42.614036, resuming normal operation.\n",
      "\u001b[34m\u001b[1mwandb\u001b[0m: Network error resolved after 0:00:44.641920, resuming normal operation.\n",
      "\u001b[34m\u001b[1mwandb\u001b[0m: Network error resolved after 0:00:56.127068, resuming normal operation.\n",
      "\u001b[34m\u001b[1mwandb\u001b[0m: Network error resolved after 0:00:45.645546, resuming normal operation.\n",
      "\u001b[34m\u001b[1mwandb\u001b[0m: Network error resolved after 0:01:00.794325, resuming normal operation.\n",
      "\u001b[34m\u001b[1mwandb\u001b[0m: Network error resolved after 0:01:04.016833, resuming normal operation.\n",
      "\u001b[34m\u001b[1mwandb\u001b[0m: Network error resolved after 0:00:56.981305, resuming normal operation.\n",
      "\u001b[34m\u001b[1mwandb\u001b[0m: Network error resolved after 0:00:53.963619, resuming normal operation.\n",
      "\u001b[34m\u001b[1mwandb\u001b[0m: Network error resolved after 0:01:04.029051, resuming normal operation.\n",
      "\u001b[34m\u001b[1mwandb\u001b[0m: Network error resolved after 0:01:07.049249, resuming normal operation.\n",
      "\u001b[34m\u001b[1mwandb\u001b[0m: Network error resolved after 0:00:56.447366, resuming normal operation.\n",
      "\u001b[34m\u001b[1mwandb\u001b[0m: Network error resolved after 0:00:56.453763, resuming normal operation.\n",
      "\u001b[34m\u001b[1mwandb\u001b[0m: Network error resolved after 0:01:01.768907, resuming normal operation.\n",
      "\u001b[34m\u001b[1mwandb\u001b[0m: Network error resolved after 0:00:55.750683, resuming normal operation.\n",
      "\u001b[34m\u001b[1mwandb\u001b[0m: \u001b[32m\u001b[41mERROR\u001b[0m Error uploading \"media/images/examples_169.png\": CommError, File /var/folders/px/t6llprnj0m3fhqqbhbvkrynm0000gn/T/tmp0nu2f5lxwandb/28vqbc05-media/images/examples_169.png size shrank from 69105 to 0 while it was being uploaded.\n",
      "\u001b[34m\u001b[1mwandb\u001b[0m: \u001b[32m\u001b[41mERROR\u001b[0m Error uploading \"media/images/examples_194.png\": CommError, File /var/folders/px/t6llprnj0m3fhqqbhbvkrynm0000gn/T/tmp0nu2f5lxwandb/20gmdrrx-media/images/examples_194.png size shrank from 66212 to 0 while it was being uploaded.\n"
     ]
    },
    {
     "name": "stderr",
     "output_type": "stream",
     "text": [
      "\u001b[34m\u001b[1mwandb\u001b[0m: Network error resolved after 0:00:31.575200, resuming normal operation.\n",
      "\u001b[34m\u001b[1mwandb\u001b[0m: \u001b[32m\u001b[41mERROR\u001b[0m Error uploading \"media/images/examples_193.png\": CommError, File /var/folders/px/t6llprnj0m3fhqqbhbvkrynm0000gn/T/tmp0nu2f5lxwandb/tjcoledb-media/images/examples_193.png size shrank from 75913 to 0 while it was being uploaded.\n",
      "\u001b[34m\u001b[1mwandb\u001b[0m: Network error resolved after 0:01:12.521751, resuming normal operation.\n",
      "\u001b[34m\u001b[1mwandb\u001b[0m: \u001b[32m\u001b[41mERROR\u001b[0m Error uploading \"media/images/examples_167.png\": CommError, File /var/folders/px/t6llprnj0m3fhqqbhbvkrynm0000gn/T/tmp0nu2f5lxwandb/1ykwvi0h-media/images/examples_167.png size shrank from 76566 to 0 while it was being uploaded.\n",
      "\u001b[34m\u001b[1mwandb\u001b[0m: \u001b[32m\u001b[41mERROR\u001b[0m Error uploading \"media/images/examples_184.png\": CommError, File /var/folders/px/t6llprnj0m3fhqqbhbvkrynm0000gn/T/tmp0nu2f5lxwandb/n7z24gxr-media/images/examples_184.png size shrank from 67680 to 0 while it was being uploaded.\n",
      "\u001b[34m\u001b[1mwandb\u001b[0m: \u001b[32m\u001b[41mERROR\u001b[0m Error uploading \"media/images/examples_182.png\": CommError, File /var/folders/px/t6llprnj0m3fhqqbhbvkrynm0000gn/T/tmp0nu2f5lxwandb/2ouhawmg-media/images/examples_182.png size shrank from 65333 to 0 while it was being uploaded.\n",
      "\u001b[34m\u001b[1mwandb\u001b[0m: \u001b[32m\u001b[41mERROR\u001b[0m Error uploading \"media/images/examples_181.png\": CommError, File /var/folders/px/t6llprnj0m3fhqqbhbvkrynm0000gn/T/tmp0nu2f5lxwandb/2td2k0ha-media/images/examples_181.png size shrank from 69460 to 0 while it was being uploaded.\n",
      "\u001b[34m\u001b[1mwandb\u001b[0m: \u001b[32m\u001b[41mERROR\u001b[0m Error uploading \"media/images/examples_174.png\": CommError, File /var/folders/px/t6llprnj0m3fhqqbhbvkrynm0000gn/T/tmp0nu2f5lxwandb/3sgu4v74-media/images/examples_174.png size shrank from 69740 to 0 while it was being uploaded.\n",
      "\u001b[34m\u001b[1mwandb\u001b[0m: Network error resolved after 0:00:27.953065, resuming normal operation.\n",
      "\u001b[34m\u001b[1mwandb\u001b[0m: Network error resolved after 0:00:30.557480, resuming normal operation.\n",
      "\u001b[34m\u001b[1mwandb\u001b[0m: Network error resolved after 0:00:24.530402, resuming normal operation.\n",
      "\u001b[34m\u001b[1mwandb\u001b[0m: Network error resolved after 0:00:24.643566, resuming normal operation.\n",
      "\u001b[34m\u001b[1mwandb\u001b[0m: Network error resolved after 0:00:27.694478, resuming normal operation.\n",
      "\u001b[34m\u001b[1mwandb\u001b[0m: Network error resolved after 0:00:30.580495, resuming normal operation.\n",
      "\u001b[34m\u001b[1mwandb\u001b[0m: Network error resolved after 0:00:24.931806, resuming normal operation.\n",
      "\u001b[34m\u001b[1mwandb\u001b[0m: Network error resolved after 0:00:28.632227, resuming normal operation.\n",
      "\u001b[34m\u001b[1mwandb\u001b[0m: Network error resolved after 0:00:32.118197, resuming normal operation.\n",
      "Retry attempt failed:\n",
      "Traceback (most recent call last):\n",
      "  File \"/opt/anaconda3/envs/add_librosa/lib/python3.7/site-packages/urllib3/connectionpool.py\", line 677, in urlopen\n",
      "    chunked=chunked,\n",
      "  File \"/opt/anaconda3/envs/add_librosa/lib/python3.7/site-packages/urllib3/connectionpool.py\", line 426, in _make_request\n",
      "    six.raise_from(e, None)\n",
      "  File \"<string>\", line 3, in raise_from\n",
      "  File \"/opt/anaconda3/envs/add_librosa/lib/python3.7/site-packages/urllib3/connectionpool.py\", line 421, in _make_request\n",
      "    httplib_response = conn.getresponse()\n",
      "  File \"/opt/anaconda3/envs/add_librosa/lib/python3.7/http/client.py\", line 1344, in getresponse\n",
      "    response.begin()\n",
      "  File \"/opt/anaconda3/envs/add_librosa/lib/python3.7/http/client.py\", line 306, in begin\n",
      "    version, status, reason = self._read_status()\n",
      "  File \"/opt/anaconda3/envs/add_librosa/lib/python3.7/http/client.py\", line 275, in _read_status\n",
      "    raise RemoteDisconnected(\"Remote end closed connection without\"\n",
      "http.client.RemoteDisconnected: Remote end closed connection without response\n",
      "\n",
      "During handling of the above exception, another exception occurred:\n",
      "\n",
      "Traceback (most recent call last):\n",
      "  File \"/opt/anaconda3/envs/add_librosa/lib/python3.7/site-packages/requests/adapters.py\", line 449, in send\n",
      "    timeout=timeout\n",
      "  File \"/opt/anaconda3/envs/add_librosa/lib/python3.7/site-packages/urllib3/connectionpool.py\", line 725, in urlopen\n",
      "    method, url, error=e, _pool=self, _stacktrace=sys.exc_info()[2]\n",
      "  File \"/opt/anaconda3/envs/add_librosa/lib/python3.7/site-packages/urllib3/util/retry.py\", line 403, in increment\n",
      "    raise six.reraise(type(error), error, _stacktrace)\n",
      "  File \"/opt/anaconda3/envs/add_librosa/lib/python3.7/site-packages/urllib3/packages/six.py\", line 734, in reraise\n",
      "    raise value.with_traceback(tb)\n",
      "  File \"/opt/anaconda3/envs/add_librosa/lib/python3.7/site-packages/urllib3/connectionpool.py\", line 677, in urlopen\n",
      "    chunked=chunked,\n",
      "  File \"/opt/anaconda3/envs/add_librosa/lib/python3.7/site-packages/urllib3/connectionpool.py\", line 426, in _make_request\n",
      "    six.raise_from(e, None)\n",
      "  File \"<string>\", line 3, in raise_from\n",
      "  File \"/opt/anaconda3/envs/add_librosa/lib/python3.7/site-packages/urllib3/connectionpool.py\", line 421, in _make_request\n",
      "    httplib_response = conn.getresponse()\n",
      "  File \"/opt/anaconda3/envs/add_librosa/lib/python3.7/http/client.py\", line 1344, in getresponse\n",
      "    response.begin()\n",
      "  File \"/opt/anaconda3/envs/add_librosa/lib/python3.7/http/client.py\", line 306, in begin\n",
      "    version, status, reason = self._read_status()\n",
      "  File \"/opt/anaconda3/envs/add_librosa/lib/python3.7/http/client.py\", line 275, in _read_status\n",
      "    raise RemoteDisconnected(\"Remote end closed connection without\"\n",
      "urllib3.exceptions.ProtocolError: ('Connection aborted.', RemoteDisconnected('Remote end closed connection without response'))\n",
      "\n",
      "During handling of the above exception, another exception occurred:\n",
      "\n",
      "Traceback (most recent call last):\n",
      "  File \"/opt/anaconda3/envs/add_librosa/lib/python3.7/site-packages/wandb/apis/internal.py\", line 990, in upload_file\n",
      "    url, data=progress, headers=extra_headers)\n",
      "  File \"/opt/anaconda3/envs/add_librosa/lib/python3.7/site-packages/requests/api.py\", line 134, in put\n",
      "    return request('put', url, data=data, **kwargs)\n",
      "  File \"/opt/anaconda3/envs/add_librosa/lib/python3.7/site-packages/requests/api.py\", line 61, in request\n",
      "    return session.request(method=method, url=url, **kwargs)\n",
      "  File \"/opt/anaconda3/envs/add_librosa/lib/python3.7/site-packages/requests/sessions.py\", line 530, in request\n",
      "    resp = self.send(prep, **send_kwargs)\n",
      "  File \"/opt/anaconda3/envs/add_librosa/lib/python3.7/site-packages/requests/sessions.py\", line 643, in send\n",
      "    r = adapter.send(request, **kwargs)\n",
      "  File \"/opt/anaconda3/envs/add_librosa/lib/python3.7/site-packages/requests/adapters.py\", line 498, in send\n",
      "    raise ConnectionError(err, request=request)\n",
      "requests.exceptions.ConnectionError: ('Connection aborted.', RemoteDisconnected('Remote end closed connection without response'))\n",
      "\n",
      "During handling of the above exception, another exception occurred:\n",
      "\n",
      "Traceback (most recent call last):\n",
      "  File \"/opt/anaconda3/envs/add_librosa/lib/python3.7/site-packages/wandb/retry.py\", line 95, in __call__\n",
      "    result = self._call_fn(*args, **kwargs)\n",
      "  File \"/opt/anaconda3/envs/add_librosa/lib/python3.7/site-packages/wandb/apis/internal.py\", line 996, in upload_file\n",
      "    util.sentry_reraise(retry.TransientException(exc=e))\n",
      "  File \"/opt/anaconda3/envs/add_librosa/lib/python3.7/site-packages/wandb/util.py\", line 94, in sentry_reraise\n",
      "    six.reraise(type(exc), exc, sys.exc_info()[2])\n",
      "  File \"/opt/anaconda3/envs/add_librosa/lib/python3.7/site-packages/six.py\", line 702, in reraise\n",
      "    raise value.with_traceback(tb)\n",
      "  File \"/opt/anaconda3/envs/add_librosa/lib/python3.7/site-packages/wandb/apis/internal.py\", line 990, in upload_file\n",
      "    url, data=progress, headers=extra_headers)\n",
      "  File \"/opt/anaconda3/envs/add_librosa/lib/python3.7/site-packages/requests/api.py\", line 134, in put\n",
      "    return request('put', url, data=data, **kwargs)\n",
      "  File \"/opt/anaconda3/envs/add_librosa/lib/python3.7/site-packages/requests/api.py\", line 61, in request\n",
      "    return session.request(method=method, url=url, **kwargs)\n",
      "  File \"/opt/anaconda3/envs/add_librosa/lib/python3.7/site-packages/requests/sessions.py\", line 530, in request\n",
      "    resp = self.send(prep, **send_kwargs)\n",
      "  File \"/opt/anaconda3/envs/add_librosa/lib/python3.7/site-packages/requests/sessions.py\", line 643, in send\n",
      "    r = adapter.send(request, **kwargs)\n",
      "  File \"/opt/anaconda3/envs/add_librosa/lib/python3.7/site-packages/requests/adapters.py\", line 498, in send\n",
      "    raise ConnectionError(err, request=request)\n",
      "wandb.retry.TransientException: None\n"
     ]
    },
    {
     "name": "stderr",
     "output_type": "stream",
     "text": [
      "\u001b[34m\u001b[1mwandb\u001b[0m: Network error (TransientException), entering retry loop. See /Users/aarojas/Documents/Data_Science_Resources/Insight_20B/AAR_Insight_Project/Firearm_Detection/notebooks/wandb/debug.log for full traceback.\n",
      "Retry attempt failed:\n",
      "Traceback (most recent call last):\n",
      "  File \"/opt/anaconda3/envs/add_librosa/lib/python3.7/site-packages/urllib3/connectionpool.py\", line 677, in urlopen\n",
      "    chunked=chunked,\n",
      "  File \"/opt/anaconda3/envs/add_librosa/lib/python3.7/site-packages/urllib3/connectionpool.py\", line 426, in _make_request\n",
      "    six.raise_from(e, None)\n",
      "  File \"<string>\", line 3, in raise_from\n",
      "  File \"/opt/anaconda3/envs/add_librosa/lib/python3.7/site-packages/urllib3/connectionpool.py\", line 421, in _make_request\n",
      "    httplib_response = conn.getresponse()\n",
      "  File \"/opt/anaconda3/envs/add_librosa/lib/python3.7/http/client.py\", line 1344, in getresponse\n",
      "    response.begin()\n",
      "  File \"/opt/anaconda3/envs/add_librosa/lib/python3.7/http/client.py\", line 306, in begin\n",
      "    version, status, reason = self._read_status()\n",
      "  File \"/opt/anaconda3/envs/add_librosa/lib/python3.7/http/client.py\", line 275, in _read_status\n",
      "    raise RemoteDisconnected(\"Remote end closed connection without\"\n",
      "http.client.RemoteDisconnected: Remote end closed connection without response\n",
      "\n",
      "During handling of the above exception, another exception occurred:\n",
      "\n",
      "Traceback (most recent call last):\n",
      "  File \"/opt/anaconda3/envs/add_librosa/lib/python3.7/site-packages/requests/adapters.py\", line 449, in send\n",
      "    timeout=timeout\n",
      "  File \"/opt/anaconda3/envs/add_librosa/lib/python3.7/site-packages/urllib3/connectionpool.py\", line 725, in urlopen\n",
      "    method, url, error=e, _pool=self, _stacktrace=sys.exc_info()[2]\n",
      "  File \"/opt/anaconda3/envs/add_librosa/lib/python3.7/site-packages/urllib3/util/retry.py\", line 403, in increment\n",
      "    raise six.reraise(type(error), error, _stacktrace)\n",
      "  File \"/opt/anaconda3/envs/add_librosa/lib/python3.7/site-packages/urllib3/packages/six.py\", line 734, in reraise\n",
      "    raise value.with_traceback(tb)\n",
      "  File \"/opt/anaconda3/envs/add_librosa/lib/python3.7/site-packages/urllib3/connectionpool.py\", line 677, in urlopen\n",
      "    chunked=chunked,\n",
      "  File \"/opt/anaconda3/envs/add_librosa/lib/python3.7/site-packages/urllib3/connectionpool.py\", line 426, in _make_request\n",
      "    six.raise_from(e, None)\n",
      "  File \"<string>\", line 3, in raise_from\n",
      "  File \"/opt/anaconda3/envs/add_librosa/lib/python3.7/site-packages/urllib3/connectionpool.py\", line 421, in _make_request\n",
      "    httplib_response = conn.getresponse()\n",
      "  File \"/opt/anaconda3/envs/add_librosa/lib/python3.7/http/client.py\", line 1344, in getresponse\n",
      "    response.begin()\n",
      "  File \"/opt/anaconda3/envs/add_librosa/lib/python3.7/http/client.py\", line 306, in begin\n",
      "    version, status, reason = self._read_status()\n",
      "  File \"/opt/anaconda3/envs/add_librosa/lib/python3.7/http/client.py\", line 275, in _read_status\n",
      "    raise RemoteDisconnected(\"Remote end closed connection without\"\n",
      "urllib3.exceptions.ProtocolError: ('Connection aborted.', RemoteDisconnected('Remote end closed connection without response'))\n",
      "\n",
      "During handling of the above exception, another exception occurred:\n",
      "\n",
      "Traceback (most recent call last):\n",
      "  File \"/opt/anaconda3/envs/add_librosa/lib/python3.7/site-packages/wandb/apis/internal.py\", line 990, in upload_file\n",
      "    url, data=progress, headers=extra_headers)\n",
      "  File \"/opt/anaconda3/envs/add_librosa/lib/python3.7/site-packages/requests/api.py\", line 134, in put\n",
      "    return request('put', url, data=data, **kwargs)\n",
      "  File \"/opt/anaconda3/envs/add_librosa/lib/python3.7/site-packages/requests/api.py\", line 61, in request\n",
      "    return session.request(method=method, url=url, **kwargs)\n",
      "  File \"/opt/anaconda3/envs/add_librosa/lib/python3.7/site-packages/requests/sessions.py\", line 530, in request\n",
      "    resp = self.send(prep, **send_kwargs)\n",
      "  File \"/opt/anaconda3/envs/add_librosa/lib/python3.7/site-packages/requests/sessions.py\", line 643, in send\n",
      "    r = adapter.send(request, **kwargs)\n",
      "  File \"/opt/anaconda3/envs/add_librosa/lib/python3.7/site-packages/requests/adapters.py\", line 498, in send\n",
      "    raise ConnectionError(err, request=request)\n",
      "requests.exceptions.ConnectionError: ('Connection aborted.', RemoteDisconnected('Remote end closed connection without response'))\n",
      "\n",
      "During handling of the above exception, another exception occurred:\n",
      "\n",
      "Traceback (most recent call last):\n",
      "  File \"/opt/anaconda3/envs/add_librosa/lib/python3.7/site-packages/wandb/retry.py\", line 95, in __call__\n",
      "    result = self._call_fn(*args, **kwargs)\n",
      "  File \"/opt/anaconda3/envs/add_librosa/lib/python3.7/site-packages/wandb/apis/internal.py\", line 996, in upload_file\n",
      "    util.sentry_reraise(retry.TransientException(exc=e))\n",
      "  File \"/opt/anaconda3/envs/add_librosa/lib/python3.7/site-packages/wandb/util.py\", line 94, in sentry_reraise\n",
      "    six.reraise(type(exc), exc, sys.exc_info()[2])\n",
      "  File \"/opt/anaconda3/envs/add_librosa/lib/python3.7/site-packages/six.py\", line 702, in reraise\n",
      "    raise value.with_traceback(tb)\n",
      "  File \"/opt/anaconda3/envs/add_librosa/lib/python3.7/site-packages/wandb/apis/internal.py\", line 990, in upload_file\n",
      "    url, data=progress, headers=extra_headers)\n",
      "  File \"/opt/anaconda3/envs/add_librosa/lib/python3.7/site-packages/requests/api.py\", line 134, in put\n",
      "    return request('put', url, data=data, **kwargs)\n",
      "  File \"/opt/anaconda3/envs/add_librosa/lib/python3.7/site-packages/requests/api.py\", line 61, in request\n",
      "    return session.request(method=method, url=url, **kwargs)\n",
      "  File \"/opt/anaconda3/envs/add_librosa/lib/python3.7/site-packages/requests/sessions.py\", line 530, in request\n",
      "    resp = self.send(prep, **send_kwargs)\n",
      "  File \"/opt/anaconda3/envs/add_librosa/lib/python3.7/site-packages/requests/sessions.py\", line 643, in send\n",
      "    r = adapter.send(request, **kwargs)\n",
      "  File \"/opt/anaconda3/envs/add_librosa/lib/python3.7/site-packages/requests/adapters.py\", line 498, in send\n",
      "    raise ConnectionError(err, request=request)\n",
      "wandb.retry.TransientException: None\n",
      "\u001b[34m\u001b[1mwandb\u001b[0m: Network error (TransientException), entering retry loop. See /Users/aarojas/Documents/Data_Science_Resources/Insight_20B/AAR_Insight_Project/Firearm_Detection/notebooks/wandb/debug.log for full traceback.\n",
      "Retry attempt failed:\n",
      "Traceback (most recent call last):\n",
      "  File \"/opt/anaconda3/envs/add_librosa/lib/python3.7/site-packages/urllib3/connectionpool.py\", line 677, in urlopen\n",
      "    chunked=chunked,\n",
      "  File \"/opt/anaconda3/envs/add_librosa/lib/python3.7/site-packages/urllib3/connectionpool.py\", line 426, in _make_request\n",
      "    six.raise_from(e, None)\n",
      "  File \"<string>\", line 3, in raise_from\n",
      "  File \"/opt/anaconda3/envs/add_librosa/lib/python3.7/site-packages/urllib3/connectionpool.py\", line 421, in _make_request\n",
      "    httplib_response = conn.getresponse()\n",
      "  File \"/opt/anaconda3/envs/add_librosa/lib/python3.7/http/client.py\", line 1344, in getresponse\n",
      "    response.begin()\n",
      "  File \"/opt/anaconda3/envs/add_librosa/lib/python3.7/http/client.py\", line 306, in begin\n",
      "    version, status, reason = self._read_status()\n",
      "  File \"/opt/anaconda3/envs/add_librosa/lib/python3.7/http/client.py\", line 275, in _read_status\n",
      "    raise RemoteDisconnected(\"Remote end closed connection without\"\n",
      "http.client.RemoteDisconnected: Remote end closed connection without response\n",
      "\n",
      "During handling of the above exception, another exception occurred:\n",
      "\n",
      "Traceback (most recent call last):\n",
      "  File \"/opt/anaconda3/envs/add_librosa/lib/python3.7/site-packages/requests/adapters.py\", line 449, in send\n",
      "    timeout=timeout\n",
      "  File \"/opt/anaconda3/envs/add_librosa/lib/python3.7/site-packages/urllib3/connectionpool.py\", line 725, in urlopen\n",
      "    method, url, error=e, _pool=self, _stacktrace=sys.exc_info()[2]\n",
      "  File \"/opt/anaconda3/envs/add_librosa/lib/python3.7/site-packages/urllib3/util/retry.py\", line 403, in increment\n",
      "    raise six.reraise(type(error), error, _stacktrace)\n",
      "  File \"/opt/anaconda3/envs/add_librosa/lib/python3.7/site-packages/urllib3/packages/six.py\", line 734, in reraise\n",
      "    raise value.with_traceback(tb)\n",
      "  File \"/opt/anaconda3/envs/add_librosa/lib/python3.7/site-packages/urllib3/connectionpool.py\", line 677, in urlopen\n",
      "    chunked=chunked,\n",
      "  File \"/opt/anaconda3/envs/add_librosa/lib/python3.7/site-packages/urllib3/connectionpool.py\", line 426, in _make_request\n",
      "    six.raise_from(e, None)\n",
      "  File \"<string>\", line 3, in raise_from\n",
      "  File \"/opt/anaconda3/envs/add_librosa/lib/python3.7/site-packages/urllib3/connectionpool.py\", line 421, in _make_request\n",
      "    httplib_response = conn.getresponse()\n",
      "  File \"/opt/anaconda3/envs/add_librosa/lib/python3.7/http/client.py\", line 1344, in getresponse\n",
      "    response.begin()\n",
      "  File \"/opt/anaconda3/envs/add_librosa/lib/python3.7/http/client.py\", line 306, in begin\n",
      "    version, status, reason = self._read_status()\n",
      "  File \"/opt/anaconda3/envs/add_librosa/lib/python3.7/http/client.py\", line 275, in _read_status\n",
      "    raise RemoteDisconnected(\"Remote end closed connection without\"\n",
      "urllib3.exceptions.ProtocolError: ('Connection aborted.', RemoteDisconnected('Remote end closed connection without response'))\n",
      "\n",
      "During handling of the above exception, another exception occurred:\n",
      "\n",
      "Traceback (most recent call last):\n",
      "  File \"/opt/anaconda3/envs/add_librosa/lib/python3.7/site-packages/wandb/apis/internal.py\", line 990, in upload_file\n",
      "    url, data=progress, headers=extra_headers)\n",
      "  File \"/opt/anaconda3/envs/add_librosa/lib/python3.7/site-packages/requests/api.py\", line 134, in put\n",
      "    return request('put', url, data=data, **kwargs)\n",
      "  File \"/opt/anaconda3/envs/add_librosa/lib/python3.7/site-packages/requests/api.py\", line 61, in request\n",
      "    return session.request(method=method, url=url, **kwargs)\n",
      "  File \"/opt/anaconda3/envs/add_librosa/lib/python3.7/site-packages/requests/sessions.py\", line 530, in request\n",
      "    resp = self.send(prep, **send_kwargs)\n",
      "  File \"/opt/anaconda3/envs/add_librosa/lib/python3.7/site-packages/requests/sessions.py\", line 643, in send\n",
      "    r = adapter.send(request, **kwargs)\n",
      "  File \"/opt/anaconda3/envs/add_librosa/lib/python3.7/site-packages/requests/adapters.py\", line 498, in send\n",
      "    raise ConnectionError(err, request=request)\n",
      "requests.exceptions.ConnectionError: ('Connection aborted.', RemoteDisconnected('Remote end closed connection without response'))\n",
      "\n",
      "During handling of the above exception, another exception occurred:\n",
      "\n",
      "Traceback (most recent call last):\n",
      "  File \"/opt/anaconda3/envs/add_librosa/lib/python3.7/site-packages/wandb/retry.py\", line 95, in __call__\n",
      "    result = self._call_fn(*args, **kwargs)\n",
      "  File \"/opt/anaconda3/envs/add_librosa/lib/python3.7/site-packages/wandb/apis/internal.py\", line 996, in upload_file\n",
      "    util.sentry_reraise(retry.TransientException(exc=e))\n",
      "  File \"/opt/anaconda3/envs/add_librosa/lib/python3.7/site-packages/wandb/util.py\", line 94, in sentry_reraise\n",
      "    six.reraise(type(exc), exc, sys.exc_info()[2])\n",
      "  File \"/opt/anaconda3/envs/add_librosa/lib/python3.7/site-packages/six.py\", line 702, in reraise\n",
      "    raise value.with_traceback(tb)\n",
      "  File \"/opt/anaconda3/envs/add_librosa/lib/python3.7/site-packages/wandb/apis/internal.py\", line 990, in upload_file\n",
      "    url, data=progress, headers=extra_headers)\n",
      "  File \"/opt/anaconda3/envs/add_librosa/lib/python3.7/site-packages/requests/api.py\", line 134, in put\n",
      "    return request('put', url, data=data, **kwargs)\n",
      "  File \"/opt/anaconda3/envs/add_librosa/lib/python3.7/site-packages/requests/api.py\", line 61, in request\n",
      "    return session.request(method=method, url=url, **kwargs)\n",
      "  File \"/opt/anaconda3/envs/add_librosa/lib/python3.7/site-packages/requests/sessions.py\", line 530, in request\n",
      "    resp = self.send(prep, **send_kwargs)\n",
      "  File \"/opt/anaconda3/envs/add_librosa/lib/python3.7/site-packages/requests/sessions.py\", line 643, in send\n",
      "    r = adapter.send(request, **kwargs)\n",
      "  File \"/opt/anaconda3/envs/add_librosa/lib/python3.7/site-packages/requests/adapters.py\", line 498, in send\n",
      "    raise ConnectionError(err, request=request)\n",
      "wandb.retry.TransientException: None\n"
     ]
    },
    {
     "name": "stderr",
     "output_type": "stream",
     "text": [
      "\u001b[34m\u001b[1mwandb\u001b[0m: Network error (TransientException), entering retry loop. See /Users/aarojas/Documents/Data_Science_Resources/Insight_20B/AAR_Insight_Project/Firearm_Detection/notebooks/wandb/debug.log for full traceback.\n",
      "Retry attempt failed:\n",
      "Traceback (most recent call last):\n",
      "  File \"/opt/anaconda3/envs/add_librosa/lib/python3.7/site-packages/urllib3/connectionpool.py\", line 677, in urlopen\n",
      "    chunked=chunked,\n",
      "  File \"/opt/anaconda3/envs/add_librosa/lib/python3.7/site-packages/urllib3/connectionpool.py\", line 426, in _make_request\n",
      "    six.raise_from(e, None)\n",
      "  File \"<string>\", line 3, in raise_from\n",
      "  File \"/opt/anaconda3/envs/add_librosa/lib/python3.7/site-packages/urllib3/connectionpool.py\", line 421, in _make_request\n",
      "    httplib_response = conn.getresponse()\n",
      "  File \"/opt/anaconda3/envs/add_librosa/lib/python3.7/http/client.py\", line 1344, in getresponse\n",
      "    response.begin()\n",
      "  File \"/opt/anaconda3/envs/add_librosa/lib/python3.7/http/client.py\", line 306, in begin\n",
      "    version, status, reason = self._read_status()\n",
      "  File \"/opt/anaconda3/envs/add_librosa/lib/python3.7/http/client.py\", line 275, in _read_status\n",
      "    raise RemoteDisconnected(\"Remote end closed connection without\"\n",
      "http.client.RemoteDisconnected: Remote end closed connection without response\n",
      "\n",
      "During handling of the above exception, another exception occurred:\n",
      "\n",
      "Traceback (most recent call last):\n",
      "  File \"/opt/anaconda3/envs/add_librosa/lib/python3.7/site-packages/requests/adapters.py\", line 449, in send\n",
      "    timeout=timeout\n",
      "  File \"/opt/anaconda3/envs/add_librosa/lib/python3.7/site-packages/urllib3/connectionpool.py\", line 725, in urlopen\n",
      "    method, url, error=e, _pool=self, _stacktrace=sys.exc_info()[2]\n",
      "  File \"/opt/anaconda3/envs/add_librosa/lib/python3.7/site-packages/urllib3/util/retry.py\", line 403, in increment\n",
      "    raise six.reraise(type(error), error, _stacktrace)\n",
      "  File \"/opt/anaconda3/envs/add_librosa/lib/python3.7/site-packages/urllib3/packages/six.py\", line 734, in reraise\n",
      "    raise value.with_traceback(tb)\n",
      "  File \"/opt/anaconda3/envs/add_librosa/lib/python3.7/site-packages/urllib3/connectionpool.py\", line 677, in urlopen\n",
      "    chunked=chunked,\n",
      "  File \"/opt/anaconda3/envs/add_librosa/lib/python3.7/site-packages/urllib3/connectionpool.py\", line 426, in _make_request\n",
      "    six.raise_from(e, None)\n",
      "  File \"<string>\", line 3, in raise_from\n",
      "  File \"/opt/anaconda3/envs/add_librosa/lib/python3.7/site-packages/urllib3/connectionpool.py\", line 421, in _make_request\n",
      "    httplib_response = conn.getresponse()\n",
      "  File \"/opt/anaconda3/envs/add_librosa/lib/python3.7/http/client.py\", line 1344, in getresponse\n",
      "    response.begin()\n",
      "  File \"/opt/anaconda3/envs/add_librosa/lib/python3.7/http/client.py\", line 306, in begin\n",
      "    version, status, reason = self._read_status()\n",
      "  File \"/opt/anaconda3/envs/add_librosa/lib/python3.7/http/client.py\", line 275, in _read_status\n",
      "    raise RemoteDisconnected(\"Remote end closed connection without\"\n",
      "urllib3.exceptions.ProtocolError: ('Connection aborted.', RemoteDisconnected('Remote end closed connection without response'))\n",
      "\n",
      "During handling of the above exception, another exception occurred:\n",
      "\n",
      "Traceback (most recent call last):\n",
      "  File \"/opt/anaconda3/envs/add_librosa/lib/python3.7/site-packages/wandb/apis/internal.py\", line 990, in upload_file\n",
      "    url, data=progress, headers=extra_headers)\n",
      "  File \"/opt/anaconda3/envs/add_librosa/lib/python3.7/site-packages/requests/api.py\", line 134, in put\n",
      "    return request('put', url, data=data, **kwargs)\n",
      "  File \"/opt/anaconda3/envs/add_librosa/lib/python3.7/site-packages/requests/api.py\", line 61, in request\n",
      "    return session.request(method=method, url=url, **kwargs)\n",
      "  File \"/opt/anaconda3/envs/add_librosa/lib/python3.7/site-packages/requests/sessions.py\", line 530, in request\n",
      "    resp = self.send(prep, **send_kwargs)\n",
      "  File \"/opt/anaconda3/envs/add_librosa/lib/python3.7/site-packages/requests/sessions.py\", line 643, in send\n",
      "    r = adapter.send(request, **kwargs)\n",
      "  File \"/opt/anaconda3/envs/add_librosa/lib/python3.7/site-packages/requests/adapters.py\", line 498, in send\n",
      "    raise ConnectionError(err, request=request)\n",
      "requests.exceptions.ConnectionError: ('Connection aborted.', RemoteDisconnected('Remote end closed connection without response'))\n",
      "\n",
      "During handling of the above exception, another exception occurred:\n",
      "\n",
      "Traceback (most recent call last):\n",
      "  File \"/opt/anaconda3/envs/add_librosa/lib/python3.7/site-packages/wandb/retry.py\", line 95, in __call__\n",
      "    result = self._call_fn(*args, **kwargs)\n",
      "  File \"/opt/anaconda3/envs/add_librosa/lib/python3.7/site-packages/wandb/apis/internal.py\", line 996, in upload_file\n",
      "    util.sentry_reraise(retry.TransientException(exc=e))\n",
      "  File \"/opt/anaconda3/envs/add_librosa/lib/python3.7/site-packages/wandb/util.py\", line 94, in sentry_reraise\n",
      "    six.reraise(type(exc), exc, sys.exc_info()[2])\n",
      "  File \"/opt/anaconda3/envs/add_librosa/lib/python3.7/site-packages/six.py\", line 702, in reraise\n",
      "    raise value.with_traceback(tb)\n",
      "  File \"/opt/anaconda3/envs/add_librosa/lib/python3.7/site-packages/wandb/apis/internal.py\", line 990, in upload_file\n",
      "    url, data=progress, headers=extra_headers)\n",
      "  File \"/opt/anaconda3/envs/add_librosa/lib/python3.7/site-packages/requests/api.py\", line 134, in put\n",
      "    return request('put', url, data=data, **kwargs)\n",
      "  File \"/opt/anaconda3/envs/add_librosa/lib/python3.7/site-packages/requests/api.py\", line 61, in request\n",
      "    return session.request(method=method, url=url, **kwargs)\n",
      "  File \"/opt/anaconda3/envs/add_librosa/lib/python3.7/site-packages/requests/sessions.py\", line 530, in request\n",
      "    resp = self.send(prep, **send_kwargs)\n",
      "  File \"/opt/anaconda3/envs/add_librosa/lib/python3.7/site-packages/requests/sessions.py\", line 643, in send\n",
      "    r = adapter.send(request, **kwargs)\n",
      "  File \"/opt/anaconda3/envs/add_librosa/lib/python3.7/site-packages/requests/adapters.py\", line 498, in send\n",
      "    raise ConnectionError(err, request=request)\n",
      "wandb.retry.TransientException: None\n",
      "\u001b[34m\u001b[1mwandb\u001b[0m: Network error (TransientException), entering retry loop. See /Users/aarojas/Documents/Data_Science_Resources/Insight_20B/AAR_Insight_Project/Firearm_Detection/notebooks/wandb/debug.log for full traceback.\n",
      "\u001b[34m\u001b[1mwandb\u001b[0m: \u001b[32m\u001b[41mERROR\u001b[0m Error uploading \"media/images/examples_86.png\": CommError, None\n",
      "\u001b[34m\u001b[1mwandb\u001b[0m: \u001b[32m\u001b[41mERROR\u001b[0m Error uploading \"media/images/examples_105.png\": CommError, None\n",
      "\u001b[34m\u001b[1mwandb\u001b[0m: \u001b[32m\u001b[41mERROR\u001b[0m Error uploading \"media/images/examples_111.png\": CommError, None\n",
      "\u001b[34m\u001b[1mwandb\u001b[0m: \u001b[32m\u001b[41mERROR\u001b[0m Error uploading \"media/images/examples_91.png\": CommError, None\n",
      "\u001b[34m\u001b[1mwandb\u001b[0m: \u001b[32m\u001b[41mERROR\u001b[0m Error uploading \"media/images/examples_85.png\": CommError, None\n",
      "\u001b[34m\u001b[1mwandb\u001b[0m: \u001b[32m\u001b[41mERROR\u001b[0m Error uploading \"media/images/examples_81.png\": CommError, None\n",
      "\u001b[34m\u001b[1mwandb\u001b[0m: \u001b[32m\u001b[41mERROR\u001b[0m Error uploading \"media/images/examples_41.png\": CommError, None\n",
      "\u001b[34m\u001b[1mwandb\u001b[0m: \u001b[32m\u001b[41mERROR\u001b[0m Error uploading \"media/images/examples_87.png\": CommError, File /var/folders/px/t6llprnj0m3fhqqbhbvkrynm0000gn/T/tmp0nu2f5lxwandb/2mn2s3kg-media/images/examples_87.png size shrank from 71521 to 0 while it was being uploaded.\n",
      "\u001b[34m\u001b[1mwandb\u001b[0m: \u001b[32m\u001b[41mERROR\u001b[0m Error uploading \"media/images/examples_78.png\": CommError, File /var/folders/px/t6llprnj0m3fhqqbhbvkrynm0000gn/T/tmp0nu2f5lxwandb/2zl05dnq-media/images/examples_78.png size shrank from 68457 to 0 while it was being uploaded.\n",
      "\u001b[34m\u001b[1mwandb\u001b[0m: \u001b[32m\u001b[41mERROR\u001b[0m Error uploading \"media/images/examples_44.png\": CommError, File /var/folders/px/t6llprnj0m3fhqqbhbvkrynm0000gn/T/tmp0nu2f5lxwandb/3qrun2an-media/images/examples_44.png size shrank from 69207 to 0 while it was being uploaded.\n",
      "\u001b[34m\u001b[1mwandb\u001b[0m: \u001b[32m\u001b[41mERROR\u001b[0m Error uploading \"media/images/examples_112.png\": CommError, File /var/folders/px/t6llprnj0m3fhqqbhbvkrynm0000gn/T/tmp0nu2f5lxwandb/2a23z2jm-media/images/examples_112.png size shrank from 64374 to 0 while it was being uploaded.\n",
      "\u001b[34m\u001b[1mwandb\u001b[0m: \u001b[32m\u001b[41mERROR\u001b[0m Error uploading \"media/images/examples_93.png\": CommError, File /var/folders/px/t6llprnj0m3fhqqbhbvkrynm0000gn/T/tmp0nu2f5lxwandb/19wfknr0-media/images/examples_93.png size shrank from 71448 to 0 while it was being uploaded.\n"
     ]
    },
    {
     "name": "stderr",
     "output_type": "stream",
     "text": [
      "\u001b[34m\u001b[1mwandb\u001b[0m: \u001b[32m\u001b[41mERROR\u001b[0m Error uploading \"media/images/examples_50.png\": CommError, File /var/folders/px/t6llprnj0m3fhqqbhbvkrynm0000gn/T/tmp0nu2f5lxwandb/8y8je4bk-media/images/examples_50.png size shrank from 68432 to 0 while it was being uploaded.\n",
      "\u001b[34m\u001b[1mwandb\u001b[0m: \u001b[32m\u001b[41mERROR\u001b[0m Error uploading \"config.yaml\": CommError, File /var/folders/px/t6llprnj0m3fhqqbhbvkrynm0000gn/T/tmp0nu2f5lxwandb/21nm1c2l-config.yaml size shrank from 176 to 0 while it was being uploaded.\n",
      "\u001b[34m\u001b[1mwandb\u001b[0m: \u001b[32m\u001b[41mERROR\u001b[0m Error uploading \"media/images/examples_90.png\": CommError, File /var/folders/px/t6llprnj0m3fhqqbhbvkrynm0000gn/T/tmp0nu2f5lxwandb/2e0bom9n-media/images/examples_90.png size shrank from 69138 to 0 while it was being uploaded.\n",
      "\u001b[34m\u001b[1mwandb\u001b[0m: \u001b[32m\u001b[41mERROR\u001b[0m Error uploading \"media/images/examples_79.png\": CommError, File /var/folders/px/t6llprnj0m3fhqqbhbvkrynm0000gn/T/tmp0nu2f5lxwandb/od54lepg-media/images/examples_79.png size shrank from 66126 to 0 while it was being uploaded.\n",
      "\u001b[34m\u001b[1mwandb\u001b[0m: \u001b[32m\u001b[41mERROR\u001b[0m Error uploading \"media/images/examples_106.png\": CommError, File /var/folders/px/t6llprnj0m3fhqqbhbvkrynm0000gn/T/tmp0nu2f5lxwandb/1i8br14k-media/images/examples_106.png size shrank from 69831 to 0 while it was being uploaded.\n",
      "\u001b[34m\u001b[1mwandb\u001b[0m: \u001b[32m\u001b[41mERROR\u001b[0m Error uploading \"media/images/examples_45.png\": CommError, File /var/folders/px/t6llprnj0m3fhqqbhbvkrynm0000gn/T/tmp0nu2f5lxwandb/3dtwydpp-media/images/examples_45.png size shrank from 66132 to 0 while it was being uploaded.\n",
      "\u001b[34m\u001b[1mwandb\u001b[0m: \u001b[32m\u001b[41mERROR\u001b[0m Error uploading \"media/images/examples_52.png\": CommError, File /var/folders/px/t6llprnj0m3fhqqbhbvkrynm0000gn/T/tmp0nu2f5lxwandb/3079wnfd-media/images/examples_52.png size shrank from 65755 to 0 while it was being uploaded.\n",
      "\u001b[34m\u001b[1mwandb\u001b[0m: Network error resolved after 0:00:27.006845, resuming normal operation.\n",
      "\u001b[34m\u001b[1mwandb\u001b[0m: \u001b[32m\u001b[41mERROR\u001b[0m Error uploading \"media/images/examples_113.png\": CommError, File /var/folders/px/t6llprnj0m3fhqqbhbvkrynm0000gn/T/tmp0nu2f5lxwandb/3j2coac6-media/images/examples_113.png size shrank from 59249 to 0 while it was being uploaded.\n",
      "\u001b[34m\u001b[1mwandb\u001b[0m: \u001b[32m\u001b[41mERROR\u001b[0m Error uploading \"media/images/examples_84.png\": CommError, File /var/folders/px/t6llprnj0m3fhqqbhbvkrynm0000gn/T/tmp0nu2f5lxwandb/2y8oyqp2-media/images/examples_84.png size shrank from 65319 to 0 while it was being uploaded.\n",
      "\u001b[34m\u001b[1mwandb\u001b[0m: \u001b[32m\u001b[41mERROR\u001b[0m Error uploading \"media/images/examples_53.png\": CommError, File /var/folders/px/t6llprnj0m3fhqqbhbvkrynm0000gn/T/tmp0nu2f5lxwandb/2xa6hy34-media/images/examples_53.png size shrank from 70213 to 0 while it was being uploaded.\n",
      "\u001b[34m\u001b[1mwandb\u001b[0m: \u001b[32m\u001b[41mERROR\u001b[0m Error uploading \"media/images/examples_110.png\": CommError, File /var/folders/px/t6llprnj0m3fhqqbhbvkrynm0000gn/T/tmp0nu2f5lxwandb/30ec3hk7-media/images/examples_110.png size shrank from 66726 to 0 while it was being uploaded.\n",
      "\u001b[34m\u001b[1mwandb\u001b[0m: \u001b[32m\u001b[41mERROR\u001b[0m Error uploading \"media/images/examples_47.png\": CommError, File /var/folders/px/t6llprnj0m3fhqqbhbvkrynm0000gn/T/tmp0nu2f5lxwandb/1yenxin1-media/images/examples_47.png size shrank from 63866 to 0 while it was being uploaded.\n",
      "\u001b[34m\u001b[1mwandb\u001b[0m: \u001b[32m\u001b[41mERROR\u001b[0m Error uploading \"media/images/examples_104.png\": CommError, File /var/folders/px/t6llprnj0m3fhqqbhbvkrynm0000gn/T/tmp0nu2f5lxwandb/kaiouv98-media/images/examples_104.png size shrank from 70471 to 0 while it was being uploaded.\n",
      "\u001b[34m\u001b[1mwandb\u001b[0m: Network error resolved after 0:00:32.503735, resuming normal operation.\n"
     ]
    }
   ],
   "source": [
    "history3=model3.fit(X_train2, y_train_hot, epochs=config.epochs, validation_data=(X_val2, y_val_hot), callbacks=[WandbCallback(data_type=\"image\", labels=labels)])"
   ]
  },
  {
   "cell_type": "code",
   "execution_count": 92,
   "metadata": {},
   "outputs": [
    {
     "name": "stdout",
     "output_type": "stream",
     "text": [
      "7/7 [==============================] - 0s 8ms/step - loss: 0.1558 - recall_2: 1.0000\n",
      "\n",
      "The recall is: 100.0 %\n"
     ]
    },
    {
     "name": "stderr",
     "output_type": "stream",
     "text": [
      "\u001b[34m\u001b[1mwandb\u001b[0m: \u001b[32m\u001b[41mERROR\u001b[0m Error uploading \"media/images/examples_33.png\": CommError, File /var/folders/px/t6llprnj0m3fhqqbhbvkrynm0000gn/T/tmp0nu2f5lxwandb/2slke5um-media/images/examples_33.png size shrank from 75289 to 0 while it was being uploaded.\n",
      "\u001b[34m\u001b[1mwandb\u001b[0m: Network error resolved after 0:00:39.752741, resuming normal operation.\n",
      "\u001b[34m\u001b[1mwandb\u001b[0m: Network error resolved after 0:00:39.906924, resuming normal operation.\n",
      "\u001b[34m\u001b[1mwandb\u001b[0m: Network error resolved after 0:00:51.783010, resuming normal operation.\n",
      "\u001b[34m\u001b[1mwandb\u001b[0m: Network error resolved after 0:00:39.943586, resuming normal operation.\n"
     ]
    }
   ],
   "source": [
    "m3_eval=model3.evaluate(X_test, np.abs(Y_test_hot))\n",
    "recall3=round(m3_eval[1]*100,1)\n",
    "print('\\nThe recall is:', recall3,'%')"
   ]
  },
  {
   "cell_type": "code",
   "execution_count": 93,
   "metadata": {},
   "outputs": [
    {
     "data": {
      "image/png": "[encoded data removed]",
      "text/plain": [
       "<Figure size 576x360 with 1 Axes>"
      ]
     },
     "metadata": {
      "needs_background": "light"
     },
     "output_type": "display_data"
    },
    {
     "name": "stderr",
     "output_type": "stream",
     "text": [
      "\u001b[34m\u001b[1mwandb\u001b[0m: \u001b[32m\u001b[41mERROR\u001b[0m Error uploading \"media/images/examples_32.png\": CommError, File /var/folders/px/t6llprnj0m3fhqqbhbvkrynm0000gn/T/tmp0nu2f5lxwandb/3sbxsz7l-media/images/examples_32.png size shrank from 64306 to 0 while it was being uploaded.\n",
      "Retry attempt failed:\n",
      "Traceback (most recent call last):\n",
      "  File \"/opt/anaconda3/envs/add_librosa/lib/python3.7/site-packages/urllib3/connection.py\", line 160, in _new_conn\n",
      "    (self._dns_host, self.port), self.timeout, **extra_kw\n",
      "  File \"/opt/anaconda3/envs/add_librosa/lib/python3.7/site-packages/urllib3/util/connection.py\", line 84, in create_connection\n",
      "    raise err\n",
      "  File \"/opt/anaconda3/envs/add_librosa/lib/python3.7/site-packages/urllib3/util/connection.py\", line 74, in create_connection\n",
      "    sock.connect(sa)\n",
      "socket.timeout: timed out\n",
      "\n",
      "During handling of the above exception, another exception occurred:\n",
      "\n",
      "Traceback (most recent call last):\n",
      "  File \"/opt/anaconda3/envs/add_librosa/lib/python3.7/site-packages/urllib3/connectionpool.py\", line 677, in urlopen\n",
      "    chunked=chunked,\n",
      "  File \"/opt/anaconda3/envs/add_librosa/lib/python3.7/site-packages/urllib3/connectionpool.py\", line 381, in _make_request\n",
      "    self._validate_conn(conn)\n",
      "  File \"/opt/anaconda3/envs/add_librosa/lib/python3.7/site-packages/urllib3/connectionpool.py\", line 976, in _validate_conn\n",
      "    conn.connect()\n",
      "  File \"/opt/anaconda3/envs/add_librosa/lib/python3.7/site-packages/urllib3/connection.py\", line 308, in connect\n",
      "    conn = self._new_conn()\n",
      "  File \"/opt/anaconda3/envs/add_librosa/lib/python3.7/site-packages/urllib3/connection.py\", line 167, in _new_conn\n",
      "    % (self.host, self.timeout),\n",
      "urllib3.exceptions.ConnectTimeoutError: (<urllib3.connection.HTTPSConnection object at 0x14fc6c3d0>, 'Connection to api.wandb.ai timed out. (connect timeout=10)')\n",
      "\n",
      "During handling of the above exception, another exception occurred:\n",
      "\n",
      "Traceback (most recent call last):\n",
      "  File \"/opt/anaconda3/envs/add_librosa/lib/python3.7/site-packages/requests/adapters.py\", line 449, in send\n",
      "    timeout=timeout\n",
      "  File \"/opt/anaconda3/envs/add_librosa/lib/python3.7/site-packages/urllib3/connectionpool.py\", line 725, in urlopen\n",
      "    method, url, error=e, _pool=self, _stacktrace=sys.exc_info()[2]\n",
      "  File \"/opt/anaconda3/envs/add_librosa/lib/python3.7/site-packages/urllib3/util/retry.py\", line 439, in increment\n",
      "    raise MaxRetryError(_pool, url, error or ResponseError(cause))\n",
      "urllib3.exceptions.MaxRetryError: HTTPSConnectionPool(host='api.wandb.ai', port=443): Max retries exceeded with url: /graphql (Caused by ConnectTimeoutError(<urllib3.connection.HTTPSConnection object at 0x14fc6c3d0>, 'Connection to api.wandb.ai timed out. (connect timeout=10)'))\n",
      "\n",
      "During handling of the above exception, another exception occurred:\n",
      "\n",
      "Traceback (most recent call last):\n",
      "  File \"/opt/anaconda3/envs/add_librosa/lib/python3.7/site-packages/wandb/retry.py\", line 95, in __call__\n",
      "    result = self._call_fn(*args, **kwargs)\n",
      "  File \"/opt/anaconda3/envs/add_librosa/lib/python3.7/site-packages/wandb/apis/internal.py\", line 108, in execute\n",
      "    return self.client.execute(*args, **kwargs)\n",
      "  File \"/opt/anaconda3/envs/add_librosa/lib/python3.7/site-packages/gql/client.py\", line 52, in execute\n",
      "    result = self._get_result(document, *args, **kwargs)\n",
      "  File \"/opt/anaconda3/envs/add_librosa/lib/python3.7/site-packages/gql/client.py\", line 60, in _get_result\n",
      "    return self.transport.execute(document, *args, **kwargs)\n",
      "  File \"/opt/anaconda3/envs/add_librosa/lib/python3.7/site-packages/gql/transport/requests.py\", line 38, in execute\n",
      "    request = requests.post(self.url, **post_args)\n",
      "  File \"/opt/anaconda3/envs/add_librosa/lib/python3.7/site-packages/requests/api.py\", line 119, in post\n",
      "    return request('post', url, data=data, json=json, **kwargs)\n",
      "  File \"/opt/anaconda3/envs/add_librosa/lib/python3.7/site-packages/requests/api.py\", line 61, in request\n",
      "    return session.request(method=method, url=url, **kwargs)\n",
      "  File \"/opt/anaconda3/envs/add_librosa/lib/python3.7/site-packages/requests/sessions.py\", line 530, in request\n",
      "    resp = self.send(prep, **send_kwargs)\n",
      "  File \"/opt/anaconda3/envs/add_librosa/lib/python3.7/site-packages/requests/sessions.py\", line 643, in send\n",
      "    r = adapter.send(request, **kwargs)\n",
      "  File \"/opt/anaconda3/envs/add_librosa/lib/python3.7/site-packages/requests/adapters.py\", line 504, in send\n",
      "    raise ConnectTimeout(e, request=request)\n",
      "requests.exceptions.ConnectTimeout: HTTPSConnectionPool(host='api.wandb.ai', port=443): Max retries exceeded with url: /graphql (Caused by ConnectTimeoutError(<urllib3.connection.HTTPSConnection object at 0x14fc6c3d0>, 'Connection to api.wandb.ai timed out. (connect timeout=10)'))\n",
      "\u001b[34m\u001b[1mwandb\u001b[0m: Network error (ConnectTimeout), entering retry loop. See /Users/aarojas/Documents/Data_Science_Resources/Insight_20B/AAR_Insight_Project/Firearm_Detection/notebooks/wandb/debug.log for full traceback.\n",
      "Retry attempt failed:\n",
      "Traceback (most recent call last):\n",
      "  File \"/opt/anaconda3/envs/add_librosa/lib/python3.7/site-packages/urllib3/connection.py\", line 160, in _new_conn\n",
      "    (self._dns_host, self.port), self.timeout, **extra_kw\n",
      "  File \"/opt/anaconda3/envs/add_librosa/lib/python3.7/site-packages/urllib3/util/connection.py\", line 84, in create_connection\n",
      "    raise err\n",
      "  File \"/opt/anaconda3/envs/add_librosa/lib/python3.7/site-packages/urllib3/util/connection.py\", line 74, in create_connection\n",
      "    sock.connect(sa)\n",
      "socket.timeout: timed out\n",
      "\n",
      "During handling of the above exception, another exception occurred:\n",
      "\n",
      "Traceback (most recent call last):\n",
      "  File \"/opt/anaconda3/envs/add_librosa/lib/python3.7/site-packages/urllib3/connectionpool.py\", line 677, in urlopen\n",
      "    chunked=chunked,\n",
      "  File \"/opt/anaconda3/envs/add_librosa/lib/python3.7/site-packages/urllib3/connectionpool.py\", line 381, in _make_request\n",
      "    self._validate_conn(conn)\n",
      "  File \"/opt/anaconda3/envs/add_librosa/lib/python3.7/site-packages/urllib3/connectionpool.py\", line 976, in _validate_conn\n",
      "    conn.connect()\n",
      "  File \"/opt/anaconda3/envs/add_librosa/lib/python3.7/site-packages/urllib3/connection.py\", line 308, in connect\n",
      "    conn = self._new_conn()\n",
      "  File \"/opt/anaconda3/envs/add_librosa/lib/python3.7/site-packages/urllib3/connection.py\", line 167, in _new_conn\n",
      "    % (self.host, self.timeout),\n",
      "urllib3.exceptions.ConnectTimeoutError: (<urllib3.connection.HTTPSConnection object at 0x14fb51dd0>, 'Connection to api.wandb.ai timed out. (connect timeout=10)')\n",
      "\n",
      "During handling of the above exception, another exception occurred:\n",
      "\n",
      "Traceback (most recent call last):\n",
      "  File \"/opt/anaconda3/envs/add_librosa/lib/python3.7/site-packages/requests/adapters.py\", line 449, in send\n",
      "    timeout=timeout\n",
      "  File \"/opt/anaconda3/envs/add_librosa/lib/python3.7/site-packages/urllib3/connectionpool.py\", line 725, in urlopen\n",
      "    method, url, error=e, _pool=self, _stacktrace=sys.exc_info()[2]\n",
      "  File \"/opt/anaconda3/envs/add_librosa/lib/python3.7/site-packages/urllib3/util/retry.py\", line 439, in increment\n",
      "    raise MaxRetryError(_pool, url, error or ResponseError(cause))\n",
      "urllib3.exceptions.MaxRetryError: HTTPSConnectionPool(host='api.wandb.ai', port=443): Max retries exceeded with url: /graphql (Caused by ConnectTimeoutError(<urllib3.connection.HTTPSConnection object at 0x14fb51dd0>, 'Connection to api.wandb.ai timed out. (connect timeout=10)'))\n",
      "\n",
      "During handling of the above exception, another exception occurred:\n",
      "\n",
      "Traceback (most recent call last):\n",
      "  File \"/opt/anaconda3/envs/add_librosa/lib/python3.7/site-packages/wandb/retry.py\", line 95, in __call__\n",
      "    result = self._call_fn(*args, **kwargs)\n",
      "  File \"/opt/anaconda3/envs/add_librosa/lib/python3.7/site-packages/wandb/apis/internal.py\", line 108, in execute\n",
      "    return self.client.execute(*args, **kwargs)\n",
      "  File \"/opt/anaconda3/envs/add_librosa/lib/python3.7/site-packages/gql/client.py\", line 52, in execute\n",
      "    result = self._get_result(document, *args, **kwargs)\n",
      "  File \"/opt/anaconda3/envs/add_librosa/lib/python3.7/site-packages/gql/client.py\", line 60, in _get_result\n",
      "    return self.transport.execute(document, *args, **kwargs)\n",
      "  File \"/opt/anaconda3/envs/add_librosa/lib/python3.7/site-packages/gql/transport/requests.py\", line 38, in execute\n",
      "    request = requests.post(self.url, **post_args)\n",
      "  File \"/opt/anaconda3/envs/add_librosa/lib/python3.7/site-packages/requests/api.py\", line 119, in post\n",
      "    return request('post', url, data=data, json=json, **kwargs)\n",
      "  File \"/opt/anaconda3/envs/add_librosa/lib/python3.7/site-packages/requests/api.py\", line 61, in request\n",
      "    return session.request(method=method, url=url, **kwargs)\n",
      "  File \"/opt/anaconda3/envs/add_librosa/lib/python3.7/site-packages/requests/sessions.py\", line 530, in request\n",
      "    resp = self.send(prep, **send_kwargs)\n",
      "  File \"/opt/anaconda3/envs/add_librosa/lib/python3.7/site-packages/requests/sessions.py\", line 643, in send\n",
      "    r = adapter.send(request, **kwargs)\n",
      "  File \"/opt/anaconda3/envs/add_librosa/lib/python3.7/site-packages/requests/adapters.py\", line 504, in send\n",
      "    raise ConnectTimeout(e, request=request)\n",
      "requests.exceptions.ConnectTimeout: HTTPSConnectionPool(host='api.wandb.ai', port=443): Max retries exceeded with url: /graphql (Caused by ConnectTimeoutError(<urllib3.connection.HTTPSConnection object at 0x14fb51dd0>, 'Connection to api.wandb.ai timed out. (connect timeout=10)'))\n"
     ]
    },
    {
     "name": "stderr",
     "output_type": "stream",
     "text": [
      "\u001b[34m\u001b[1mwandb\u001b[0m: Network error (ConnectTimeout), entering retry loop. See /Users/aarojas/Documents/Data_Science_Resources/Insight_20B/AAR_Insight_Project/Firearm_Detection/notebooks/wandb/debug.log for full traceback.\n",
      "Retry attempt failed:\n",
      "Traceback (most recent call last):\n",
      "  File \"/opt/anaconda3/envs/add_librosa/lib/python3.7/site-packages/urllib3/connection.py\", line 160, in _new_conn\n",
      "    (self._dns_host, self.port), self.timeout, **extra_kw\n",
      "  File \"/opt/anaconda3/envs/add_librosa/lib/python3.7/site-packages/urllib3/util/connection.py\", line 84, in create_connection\n",
      "    raise err\n",
      "  File \"/opt/anaconda3/envs/add_librosa/lib/python3.7/site-packages/urllib3/util/connection.py\", line 74, in create_connection\n",
      "    sock.connect(sa)\n",
      "socket.timeout: timed out\n",
      "\n",
      "During handling of the above exception, another exception occurred:\n",
      "\n",
      "Traceback (most recent call last):\n",
      "  File \"/opt/anaconda3/envs/add_librosa/lib/python3.7/site-packages/urllib3/connectionpool.py\", line 677, in urlopen\n",
      "    chunked=chunked,\n",
      "  File \"/opt/anaconda3/envs/add_librosa/lib/python3.7/site-packages/urllib3/connectionpool.py\", line 381, in _make_request\n",
      "    self._validate_conn(conn)\n",
      "  File \"/opt/anaconda3/envs/add_librosa/lib/python3.7/site-packages/urllib3/connectionpool.py\", line 976, in _validate_conn\n",
      "    conn.connect()\n",
      "  File \"/opt/anaconda3/envs/add_librosa/lib/python3.7/site-packages/urllib3/connection.py\", line 308, in connect\n",
      "    conn = self._new_conn()\n",
      "  File \"/opt/anaconda3/envs/add_librosa/lib/python3.7/site-packages/urllib3/connection.py\", line 167, in _new_conn\n",
      "    % (self.host, self.timeout),\n",
      "urllib3.exceptions.ConnectTimeoutError: (<urllib3.connection.HTTPSConnection object at 0x151a6ef10>, 'Connection to api.wandb.ai timed out. (connect timeout=10)')\n",
      "\n",
      "During handling of the above exception, another exception occurred:\n",
      "\n",
      "Traceback (most recent call last):\n",
      "  File \"/opt/anaconda3/envs/add_librosa/lib/python3.7/site-packages/requests/adapters.py\", line 449, in send\n",
      "    timeout=timeout\n",
      "  File \"/opt/anaconda3/envs/add_librosa/lib/python3.7/site-packages/urllib3/connectionpool.py\", line 725, in urlopen\n",
      "    method, url, error=e, _pool=self, _stacktrace=sys.exc_info()[2]\n",
      "  File \"/opt/anaconda3/envs/add_librosa/lib/python3.7/site-packages/urllib3/util/retry.py\", line 439, in increment\n",
      "    raise MaxRetryError(_pool, url, error or ResponseError(cause))\n",
      "urllib3.exceptions.MaxRetryError: HTTPSConnectionPool(host='api.wandb.ai', port=443): Max retries exceeded with url: /graphql (Caused by ConnectTimeoutError(<urllib3.connection.HTTPSConnection object at 0x151a6ef10>, 'Connection to api.wandb.ai timed out. (connect timeout=10)'))\n",
      "\n",
      "During handling of the above exception, another exception occurred:\n",
      "\n",
      "Traceback (most recent call last):\n",
      "  File \"/opt/anaconda3/envs/add_librosa/lib/python3.7/site-packages/wandb/retry.py\", line 95, in __call__\n",
      "    result = self._call_fn(*args, **kwargs)\n",
      "  File \"/opt/anaconda3/envs/add_librosa/lib/python3.7/site-packages/wandb/apis/internal.py\", line 108, in execute\n",
      "    return self.client.execute(*args, **kwargs)\n",
      "  File \"/opt/anaconda3/envs/add_librosa/lib/python3.7/site-packages/gql/client.py\", line 52, in execute\n",
      "    result = self._get_result(document, *args, **kwargs)\n",
      "  File \"/opt/anaconda3/envs/add_librosa/lib/python3.7/site-packages/gql/client.py\", line 60, in _get_result\n",
      "    return self.transport.execute(document, *args, **kwargs)\n",
      "  File \"/opt/anaconda3/envs/add_librosa/lib/python3.7/site-packages/gql/transport/requests.py\", line 38, in execute\n",
      "    request = requests.post(self.url, **post_args)\n",
      "  File \"/opt/anaconda3/envs/add_librosa/lib/python3.7/site-packages/requests/api.py\", line 119, in post\n",
      "    return request('post', url, data=data, json=json, **kwargs)\n",
      "  File \"/opt/anaconda3/envs/add_librosa/lib/python3.7/site-packages/requests/api.py\", line 61, in request\n",
      "    return session.request(method=method, url=url, **kwargs)\n",
      "  File \"/opt/anaconda3/envs/add_librosa/lib/python3.7/site-packages/requests/sessions.py\", line 530, in request\n",
      "    resp = self.send(prep, **send_kwargs)\n",
      "  File \"/opt/anaconda3/envs/add_librosa/lib/python3.7/site-packages/requests/sessions.py\", line 643, in send\n",
      "    r = adapter.send(request, **kwargs)\n",
      "  File \"/opt/anaconda3/envs/add_librosa/lib/python3.7/site-packages/requests/adapters.py\", line 504, in send\n",
      "    raise ConnectTimeout(e, request=request)\n",
      "requests.exceptions.ConnectTimeout: HTTPSConnectionPool(host='api.wandb.ai', port=443): Max retries exceeded with url: /graphql (Caused by ConnectTimeoutError(<urllib3.connection.HTTPSConnection object at 0x151a6ef10>, 'Connection to api.wandb.ai timed out. (connect timeout=10)'))\n",
      "\u001b[34m\u001b[1mwandb\u001b[0m: Network error (ConnectTimeout), entering retry loop. See /Users/aarojas/Documents/Data_Science_Resources/Insight_20B/AAR_Insight_Project/Firearm_Detection/notebooks/wandb/debug.log for full traceback.\n",
      "\u001b[34m\u001b[1mwandb\u001b[0m: Network error resolved after 0:00:46.343434, resuming normal operation.\n"
     ]
    }
   ],
   "source": [
    "pd.DataFrame(history3.history).plot(figsize=(8,5),fontsize=20)\n",
    "plt.grid(True)\n",
    "plt.gca().set_ylim(0,1)\n",
    "plt.xlabel('Epochs',fontsize=20)\n",
    "plt.ylabel('Accuracy and Loss',fontsize=20)\n",
    "plt.show();\n",
    "# plt.savefig('../reports/CNN_'+'alpha_'+str(alpha)+'_recall'+str(recall3)+'.png')"
   ]
  },
  {
   "cell_type": "code",
   "execution_count": 94,
   "metadata": {},
   "outputs": [],
   "source": [
    "Y_predict3=model3.predict(X_test)"
   ]
  },
  {
   "cell_type": "code",
   "execution_count": 95,
   "metadata": {},
   "outputs": [],
   "source": [
    "conf_mat3=sklearn.metrics.confusion_matrix(pd.DataFrame(Y_test_hot)[1],pd.DataFrame(Y_predict3).round()[1])"
   ]
  },
  {
   "cell_type": "code",
   "execution_count": 96,
   "metadata": {},
   "outputs": [
    {
     "data": {
      "text/plain": [
       "<matplotlib.axes._subplots.AxesSubplot at 0x14fb37110>"
      ]
     },
     "execution_count": 96,
     "metadata": {},
     "output_type": "execute_result"
    },
    {
     "data": {
      "image/png": "[encoded data removed]",
      "text/plain": [
       "<Figure size 540x450 with 2 Axes>"
      ]
     },
     "metadata": {
      "needs_background": "light"
     },
     "output_type": "display_data"
    },
    {
     "name": "stderr",
     "output_type": "stream",
     "text": [
      "\u001b[34m\u001b[1mwandb\u001b[0m: Network error resolved after 0:01:00.837354, resuming normal operation.\n",
      "\u001b[34m\u001b[1mwandb\u001b[0m: Network error resolved after 0:00:39.112100, resuming normal operation.\n",
      "\u001b[34m\u001b[1mwandb\u001b[0m: Network error resolved after 0:00:45.155394, resuming normal operation.\n",
      "\u001b[34m\u001b[1mwandb\u001b[0m: Network error resolved after 0:01:01.522028, resuming normal operation.\n",
      "\u001b[34m\u001b[1mwandb\u001b[0m: Network error resolved after 0:00:43.427673, resuming normal operation.\n",
      "\u001b[34m\u001b[1mwandb\u001b[0m: Network error resolved after 0:01:02.366990, resuming normal operation.\n",
      "\u001b[34m\u001b[1mwandb\u001b[0m: Network error resolved after 0:01:02.947708, resuming normal operation.\n",
      "\u001b[34m\u001b[1mwandb\u001b[0m: Network error resolved after 0:01:02.461096, resuming normal operation.\n",
      "\u001b[34m\u001b[1mwandb\u001b[0m: Network error resolved after 0:01:03.632566, resuming normal operation.\n",
      "\u001b[34m\u001b[1mwandb\u001b[0m: Network error resolved after 0:01:02.363238, resuming normal operation.\n",
      "\u001b[34m\u001b[1mwandb\u001b[0m: Network error resolved after 0:00:28.247441, resuming normal operation.\n",
      "\u001b[34m\u001b[1mwandb\u001b[0m: Network error resolved after 0:00:44.551081, resuming normal operation.\n",
      "\u001b[34m\u001b[1mwandb\u001b[0m: Network error resolved after 0:00:40.112866, resuming normal operation.\n",
      "\u001b[34m\u001b[1mwandb\u001b[0m: Network error resolved after 0:01:09.950712, resuming normal operation.\n",
      "\u001b[34m\u001b[1mwandb\u001b[0m: Network error resolved after 0:00:44.934654, resuming normal operation.\n",
      "\u001b[34m\u001b[1mwandb\u001b[0m: Network error resolved after 0:00:39.442254, resuming normal operation.\n",
      "\u001b[34m\u001b[1mwandb\u001b[0m: Network error resolved after 0:01:04.819935, resuming normal operation.\n",
      "\u001b[34m\u001b[1mwandb\u001b[0m: Network error resolved after 0:01:05.190231, resuming normal operation.\n",
      "\u001b[34m\u001b[1mwandb\u001b[0m: Network error resolved after 0:01:06.567189, resuming normal operation.\n",
      "\u001b[34m\u001b[1mwandb\u001b[0m: \u001b[32m\u001b[41mERROR\u001b[0m Error uploading \"media/images/examples_26.png\": CommError, File /var/folders/px/t6llprnj0m3fhqqbhbvkrynm0000gn/T/tmp0nu2f5lxwandb/3s8g33m1-media/images/examples_26.png size shrank from 66865 to 0 while it was being uploaded.\n",
      "\u001b[34m\u001b[1mwandb\u001b[0m: Network error resolved after 0:00:54.606751, resuming normal operation.\n",
      "\u001b[34m\u001b[1mwandb\u001b[0m: Network error resolved after 0:01:06.414314, resuming normal operation.\n",
      "\u001b[34m\u001b[1mwandb\u001b[0m: Network error resolved after 0:00:11.643233, resuming normal operation.\n",
      "\u001b[34m\u001b[1mwandb\u001b[0m: Network error resolved after 0:00:11.454475, resuming normal operation.\n",
      "Retry attempt failed:\n",
      "Traceback (most recent call last):\n",
      "  File \"/opt/anaconda3/envs/add_librosa/lib/python3.7/site-packages/urllib3/connectionpool.py\", line 426, in _make_request\n",
      "    six.raise_from(e, None)\n",
      "  File \"<string>\", line 3, in raise_from\n",
      "  File \"/opt/anaconda3/envs/add_librosa/lib/python3.7/site-packages/urllib3/connectionpool.py\", line 421, in _make_request\n",
      "    httplib_response = conn.getresponse()\n",
      "  File \"/opt/anaconda3/envs/add_librosa/lib/python3.7/http/client.py\", line 1344, in getresponse\n",
      "    response.begin()\n",
      "  File \"/opt/anaconda3/envs/add_librosa/lib/python3.7/http/client.py\", line 306, in begin\n",
      "    version, status, reason = self._read_status()\n",
      "  File \"/opt/anaconda3/envs/add_librosa/lib/python3.7/http/client.py\", line 267, in _read_status\n",
      "    line = str(self.fp.readline(_MAXLINE + 1), \"iso-8859-1\")\n",
      "  File \"/opt/anaconda3/envs/add_librosa/lib/python3.7/socket.py\", line 589, in readinto\n",
      "    return self._sock.recv_into(b)\n",
      "  File \"/opt/anaconda3/envs/add_librosa/lib/python3.7/site-packages/urllib3/contrib/pyopenssl.py\", line 326, in recv_into\n",
      "    raise timeout(\"The read operation timed out\")\n",
      "socket.timeout: The read operation timed out\n",
      "\n",
      "During handling of the above exception, another exception occurred:\n",
      "\n",
      "Traceback (most recent call last):\n",
      "  File \"/opt/anaconda3/envs/add_librosa/lib/python3.7/site-packages/requests/adapters.py\", line 449, in send\n",
      "    timeout=timeout\n",
      "  File \"/opt/anaconda3/envs/add_librosa/lib/python3.7/site-packages/urllib3/connectionpool.py\", line 725, in urlopen\n",
      "    method, url, error=e, _pool=self, _stacktrace=sys.exc_info()[2]\n",
      "  File \"/opt/anaconda3/envs/add_librosa/lib/python3.7/site-packages/urllib3/util/retry.py\", line 403, in increment\n",
      "    raise six.reraise(type(error), error, _stacktrace)\n",
      "  File \"/opt/anaconda3/envs/add_librosa/lib/python3.7/site-packages/urllib3/packages/six.py\", line 735, in reraise\n",
      "    raise value\n",
      "  File \"/opt/anaconda3/envs/add_librosa/lib/python3.7/site-packages/urllib3/connectionpool.py\", line 677, in urlopen\n",
      "    chunked=chunked,\n",
      "  File \"/opt/anaconda3/envs/add_librosa/lib/python3.7/site-packages/urllib3/connectionpool.py\", line 428, in _make_request\n",
      "    self._raise_timeout(err=e, url=url, timeout_value=read_timeout)\n",
      "  File \"/opt/anaconda3/envs/add_librosa/lib/python3.7/site-packages/urllib3/connectionpool.py\", line 336, in _raise_timeout\n",
      "    self, url, \"Read timed out. (read timeout=%s)\" % timeout_value\n",
      "urllib3.exceptions.ReadTimeoutError: HTTPSConnectionPool(host='api.wandb.ai', port=443): Read timed out. (read timeout=10)\n",
      "\n",
      "During handling of the above exception, another exception occurred:\n",
      "\n",
      "Traceback (most recent call last):\n",
      "  File \"/opt/anaconda3/envs/add_librosa/lib/python3.7/site-packages/wandb/retry.py\", line 95, in __call__\n",
      "    result = self._call_fn(*args, **kwargs)\n",
      "  File \"/opt/anaconda3/envs/add_librosa/lib/python3.7/site-packages/wandb/apis/internal.py\", line 108, in execute\n",
      "    return self.client.execute(*args, **kwargs)\n",
      "  File \"/opt/anaconda3/envs/add_librosa/lib/python3.7/site-packages/gql/client.py\", line 52, in execute\n",
      "    result = self._get_result(document, *args, **kwargs)\n",
      "  File \"/opt/anaconda3/envs/add_librosa/lib/python3.7/site-packages/gql/client.py\", line 60, in _get_result\n",
      "    return self.transport.execute(document, *args, **kwargs)\n",
      "  File \"/opt/anaconda3/envs/add_librosa/lib/python3.7/site-packages/gql/transport/requests.py\", line 38, in execute\n",
      "    request = requests.post(self.url, **post_args)\n",
      "  File \"/opt/anaconda3/envs/add_librosa/lib/python3.7/site-packages/requests/api.py\", line 119, in post\n",
      "    return request('post', url, data=data, json=json, **kwargs)\n",
      "  File \"/opt/anaconda3/envs/add_librosa/lib/python3.7/site-packages/requests/api.py\", line 61, in request\n",
      "    return session.request(method=method, url=url, **kwargs)\n",
      "  File \"/opt/anaconda3/envs/add_librosa/lib/python3.7/site-packages/requests/sessions.py\", line 530, in request\n",
      "    resp = self.send(prep, **send_kwargs)\n",
      "  File \"/opt/anaconda3/envs/add_librosa/lib/python3.7/site-packages/requests/sessions.py\", line 643, in send\n",
      "    r = adapter.send(request, **kwargs)\n",
      "  File \"/opt/anaconda3/envs/add_librosa/lib/python3.7/site-packages/requests/adapters.py\", line 529, in send\n",
      "    raise ReadTimeout(e, request=request)\n",
      "requests.exceptions.ReadTimeout: HTTPSConnectionPool(host='api.wandb.ai', port=443): Read timed out. (read timeout=10)\n",
      "\u001b[34m\u001b[1mwandb\u001b[0m: Network error (ReadTimeout), entering retry loop. See /Users/aarojas/Documents/Data_Science_Resources/Insight_20B/AAR_Insight_Project/Firearm_Detection/notebooks/wandb/debug.log for full traceback.\n",
      "\u001b[34m\u001b[1mwandb\u001b[0m: Network error resolved after 0:01:17.362337, resuming normal operation.\n",
      "\u001b[34m\u001b[1mwandb\u001b[0m: Network error resolved after 0:01:06.892365, resuming normal operation.\n"
     ]
    }
   ],
   "source": [
    "df_cm = pd.DataFrame(conf_mat3, index = [i for i in \"01\"],\n",
    "                  columns = [i for i in \"01\"])\n",
    "plt.figure(figsize = (3,2.5),dpi=180)\n",
    "sn.heatmap(df_cm, annot=True,annot_kws={\"size\": 10},cmap=\"GnBu\",cbar_kws={'label': 'Count'},fmt='d')\n",
    "# plt.savefig('../reports/figures/CNN_confusion_mat_'+str(recall3)+'_alpha_'+str(alpha)+'.png')"
   ]
  },
  {
   "cell_type": "code",
   "execution_count": null,
   "metadata": {},
   "outputs": [],
   "source": []
  }
 ],
 "metadata": {
  "kernelspec": {
   "display_name": "Python 3",
   "language": "python",
   "name": "python3"
  },
  "language_info": {
   "codemirror_mode": {
    "name": "ipython",
    "version": 3
   },
   "file_extension": ".py",
   "mimetype": "text/x-python",
   "name": "python",
   "nbconvert_exporter": "python",
   "pygments_lexer": "ipython3",
   "version": "3.7.7"
  }
 },
 "nbformat": 4,
 "nbformat_minor": 4
}
