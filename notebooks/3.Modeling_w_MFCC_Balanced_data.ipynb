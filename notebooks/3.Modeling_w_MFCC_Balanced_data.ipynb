{
 "cells": [
  {
   "cell_type": "markdown",
   "metadata": {},
   "source": [
    "## A Model for Sound Classification\n",
    "In this notebook, I have explored different neural networks to generate a classification between firearm sounds and non firearm sounds. "
   ]
  },
  {
   "cell_type": "code",
   "execution_count": 1,
   "metadata": {},
   "outputs": [],
   "source": [
    "from preprocess_train_val import *\n",
    "from tensorflow import keras\n",
    "from tensorflow.keras.models import Sequential\n",
    "from tensorflow.keras.layers import Dense, Dropout, Flatten, Conv2D, MaxPooling2D, LSTM\n",
    "from tensorflow.keras.utils import to_categorical\n",
    "import wandb\n",
    "from wandb.keras import WandbCallback\n",
    "import matplotlib.pyplot as plt\n",
    "import os\n",
    "import pandas as pd\n",
    "import sklearn\n",
    "import librosa.display"
   ]
  },
  {
   "cell_type": "code",
   "execution_count": 2,
   "metadata": {},
   "outputs": [
    {
     "name": "stdout",
     "output_type": "stream",
     "text": [
      "../data/train_validate_bal/\n"
     ]
    }
   ],
   "source": [
    "print(DATA_PATH)"
   ]
  },
  {
   "cell_type": "markdown",
   "metadata": {},
   "source": [
    "First, specify the dimensions of the MFCC spectrogram data. \n",
    "\n",
    "Read the data with **save_data_to_array**, and save it to .npy files. "
   ]
  },
  {
   "cell_type": "code",
   "execution_count": 5,
   "metadata": {
    "scrolled": true
   },
   "outputs": [
    {
     "data": {
      "text/html": [
       "\n",
       "                Logging results to <a href=\"https://wandb.com\" target=\"_blank\">Weights & Biases</a> <a href=\"https://docs.wandb.com/integrations/jupyter.html\" target=\"_blank\">(Documentation)</a>.<br/>\n",
       "                Project page: <a href=\"https://app.wandb.ai/adri-rojas/Firearm_Detection-notebooks\" target=\"_blank\">https://app.wandb.ai/adri-rojas/Firearm_Detection-notebooks</a><br/>\n",
       "                Run page: <a href=\"https://app.wandb.ai/adri-rojas/Firearm_Detection-notebooks/runs/178k2na5\" target=\"_blank\">https://app.wandb.ai/adri-rojas/Firearm_Detection-notebooks/runs/178k2na5</a><br/>\n",
       "            "
      ],
      "text/plain": [
       "<IPython.core.display.HTML object>"
      ]
     },
     "metadata": {},
     "output_type": "display_data"
    },
    {
     "name": "stderr",
     "output_type": "stream",
     "text": [
      "\u001b[34m\u001b[1mwandb\u001b[0m: Wandb version 0.9.2 is available!  To upgrade, please run:\n",
      "\u001b[34m\u001b[1mwandb\u001b[0m:  $ pip install wandb --upgrade\n",
      "Saving vectors of label - 'nonfirearm_bal':   0%|          | 0/440 [00:00<?, ?it/s]"
     ]
    },
    {
     "name": "stdout",
     "output_type": "stream",
     "text": [
      "The number of labels is:  2\n"
     ]
    },
    {
     "name": "stderr",
     "output_type": "stream",
     "text": [
      "Saving vectors of label - 'nonfirearm_bal': 100%|██████████| 440/440 [01:46<00:00,  4.15it/s]\n",
      "Saving vectors of label - 'firearm_bal':   4%|▍         | 20/451 [00:03<01:27,  4.90it/s]/opt/anaconda3/envs/add_librosa/lib/python3.7/site-packages/librosa/core/audio.py:161: UserWarning: PySoundFile failed. Trying audioread instead.\n",
      "  warnings.warn('PySoundFile failed. Trying audioread instead.')\n",
      "Saving vectors of label - 'firearm_bal':   5%|▌         | 23/451 [00:05<02:09,  3.30it/s]/opt/anaconda3/envs/add_librosa/lib/python3.7/site-packages/librosa/core/audio.py:161: UserWarning: PySoundFile failed. Trying audioread instead.\n",
      "  warnings.warn('PySoundFile failed. Trying audioread instead.')\n",
      "Saving vectors of label - 'firearm_bal':  10%|█         | 47/451 [00:08<00:54,  7.40it/s]/opt/anaconda3/envs/add_librosa/lib/python3.7/site-packages/librosa/core/audio.py:161: UserWarning: PySoundFile failed. Trying audioread instead.\n",
      "  warnings.warn('PySoundFile failed. Trying audioread instead.')\n",
      "Saving vectors of label - 'firearm_bal':  14%|█▎        | 62/451 [00:10<00:51,  7.54it/s]/opt/anaconda3/envs/add_librosa/lib/python3.7/site-packages/librosa/core/audio.py:161: UserWarning: PySoundFile failed. Trying audioread instead.\n",
      "  warnings.warn('PySoundFile failed. Trying audioread instead.')\n",
      "Saving vectors of label - 'firearm_bal':  15%|█▍        | 66/451 [00:11<00:47,  8.08it/s]/opt/anaconda3/envs/add_librosa/lib/python3.7/site-packages/librosa/core/audio.py:161: UserWarning: PySoundFile failed. Trying audioread instead.\n",
      "  warnings.warn('PySoundFile failed. Trying audioread instead.')\n",
      "Saving vectors of label - 'firearm_bal':  16%|█▌        | 73/451 [00:12<01:01,  6.19it/s]/opt/anaconda3/envs/add_librosa/lib/python3.7/site-packages/librosa/core/audio.py:161: UserWarning: PySoundFile failed. Trying audioread instead.\n",
      "  warnings.warn('PySoundFile failed. Trying audioread instead.')\n",
      "Saving vectors of label - 'firearm_bal':  17%|█▋        | 77/451 [00:13<01:10,  5.31it/s]/opt/anaconda3/envs/add_librosa/lib/python3.7/site-packages/librosa/core/audio.py:161: UserWarning: PySoundFile failed. Trying audioread instead.\n",
      "  warnings.warn('PySoundFile failed. Trying audioread instead.')\n",
      "Saving vectors of label - 'firearm_bal':  19%|█▉        | 86/451 [00:15<01:30,  4.05it/s]/opt/anaconda3/envs/add_librosa/lib/python3.7/site-packages/librosa/core/audio.py:161: UserWarning: PySoundFile failed. Trying audioread instead.\n",
      "  warnings.warn('PySoundFile failed. Trying audioread instead.')\n",
      "Saving vectors of label - 'firearm_bal':  21%|██        | 94/451 [00:16<00:55,  6.40it/s]/opt/anaconda3/envs/add_librosa/lib/python3.7/site-packages/librosa/core/audio.py:161: UserWarning: PySoundFile failed. Trying audioread instead.\n",
      "  warnings.warn('PySoundFile failed. Trying audioread instead.')\n",
      "Saving vectors of label - 'firearm_bal':  23%|██▎       | 103/451 [00:17<00:54,  6.37it/s]/opt/anaconda3/envs/add_librosa/lib/python3.7/site-packages/librosa/core/audio.py:161: UserWarning: PySoundFile failed. Trying audioread instead.\n",
      "  warnings.warn('PySoundFile failed. Trying audioread instead.')\n",
      "Saving vectors of label - 'firearm_bal':  23%|██▎       | 104/451 [00:18<01:06,  5.20it/s]/opt/anaconda3/envs/add_librosa/lib/python3.7/site-packages/librosa/core/audio.py:161: UserWarning: PySoundFile failed. Trying audioread instead.\n",
      "  warnings.warn('PySoundFile failed. Trying audioread instead.')\n",
      "Saving vectors of label - 'firearm_bal':  24%|██▎       | 107/451 [00:19<01:29,  3.84it/s]/opt/anaconda3/envs/add_librosa/lib/python3.7/site-packages/librosa/core/audio.py:161: UserWarning: PySoundFile failed. Trying audioread instead.\n",
      "  warnings.warn('PySoundFile failed. Trying audioread instead.')\n",
      "Saving vectors of label - 'firearm_bal':  26%|██▌       | 117/451 [00:21<01:14,  4.49it/s]/opt/anaconda3/envs/add_librosa/lib/python3.7/site-packages/librosa/core/audio.py:161: UserWarning: PySoundFile failed. Trying audioread instead.\n",
      "  warnings.warn('PySoundFile failed. Trying audioread instead.')\n",
      "Saving vectors of label - 'firearm_bal':  27%|██▋       | 122/451 [00:22<00:56,  5.83it/s]/opt/anaconda3/envs/add_librosa/lib/python3.7/site-packages/librosa/core/audio.py:161: UserWarning: PySoundFile failed. Trying audioread instead.\n",
      "  warnings.warn('PySoundFile failed. Trying audioread instead.')\n",
      "Saving vectors of label - 'firearm_bal':  27%|██▋       | 123/451 [00:22<00:57,  5.75it/s]/opt/anaconda3/envs/add_librosa/lib/python3.7/site-packages/librosa/core/audio.py:161: UserWarning: PySoundFile failed. Trying audioread instead.\n",
      "  warnings.warn('PySoundFile failed. Trying audioread instead.')\n",
      "Saving vectors of label - 'firearm_bal':  31%|███       | 139/451 [00:24<00:31,  9.81it/s]/opt/anaconda3/envs/add_librosa/lib/python3.7/site-packages/librosa/core/audio.py:161: UserWarning: PySoundFile failed. Trying audioread instead.\n",
      "  warnings.warn('PySoundFile failed. Trying audioread instead.')\n",
      "Saving vectors of label - 'firearm_bal':  33%|███▎      | 149/451 [00:26<00:46,  6.48it/s]/opt/anaconda3/envs/add_librosa/lib/python3.7/site-packages/librosa/core/audio.py:161: UserWarning: PySoundFile failed. Trying audioread instead.\n",
      "  warnings.warn('PySoundFile failed. Trying audioread instead.')\n",
      "Saving vectors of label - 'firearm_bal':  36%|███▌      | 162/451 [00:27<00:35,  8.21it/s]/opt/anaconda3/envs/add_librosa/lib/python3.7/site-packages/librosa/core/audio.py:161: UserWarning: PySoundFile failed. Trying audioread instead.\n",
      "  warnings.warn('PySoundFile failed. Trying audioread instead.')\n",
      "Saving vectors of label - 'firearm_bal':  41%|████      | 183/451 [00:31<00:42,  6.24it/s]/opt/anaconda3/envs/add_librosa/lib/python3.7/site-packages/librosa/core/audio.py:161: UserWarning: PySoundFile failed. Trying audioread instead.\n",
      "  warnings.warn('PySoundFile failed. Trying audioread instead.')\n",
      "Saving vectors of label - 'firearm_bal':  45%|████▌     | 205/451 [00:35<00:36,  6.73it/s]/opt/anaconda3/envs/add_librosa/lib/python3.7/site-packages/librosa/core/audio.py:161: UserWarning: PySoundFile failed. Trying audioread instead.\n",
      "  warnings.warn('PySoundFile failed. Trying audioread instead.')\n",
      "Saving vectors of label - 'firearm_bal':  46%|████▌     | 208/451 [00:35<00:35,  6.87it/s]/opt/anaconda3/envs/add_librosa/lib/python3.7/site-packages/librosa/core/audio.py:161: UserWarning: PySoundFile failed. Trying audioread instead.\n",
      "  warnings.warn('PySoundFile failed. Trying audioread instead.')\n",
      "Saving vectors of label - 'firearm_bal':  50%|████▉     | 225/451 [00:38<00:31,  7.18it/s]/opt/anaconda3/envs/add_librosa/lib/python3.7/site-packages/librosa/core/audio.py:161: UserWarning: PySoundFile failed. Trying audioread instead.\n",
      "  warnings.warn('PySoundFile failed. Trying audioread instead.')\n",
      "Saving vectors of label - 'firearm_bal':  50%|█████     | 226/451 [00:38<00:42,  5.31it/s]/opt/anaconda3/envs/add_librosa/lib/python3.7/site-packages/librosa/core/audio.py:161: UserWarning: PySoundFile failed. Trying audioread instead.\n",
      "  warnings.warn('PySoundFile failed. Trying audioread instead.')\n",
      "Saving vectors of label - 'firearm_bal':  51%|█████     | 228/451 [00:39<00:58,  3.84it/s]/opt/anaconda3/envs/add_librosa/lib/python3.7/site-packages/librosa/core/audio.py:161: UserWarning: PySoundFile failed. Trying audioread instead.\n",
      "  warnings.warn('PySoundFile failed. Trying audioread instead.')\n",
      "Saving vectors of label - 'firearm_bal':  55%|█████▌    | 250/451 [00:42<00:27,  7.40it/s]/opt/anaconda3/envs/add_librosa/lib/python3.7/site-packages/librosa/core/audio.py:161: UserWarning: PySoundFile failed. Trying audioread instead.\n",
      "  warnings.warn('PySoundFile failed. Trying audioread instead.')\n",
      "Saving vectors of label - 'firearm_bal':  56%|█████▌    | 253/451 [00:43<00:27,  7.21it/s]/opt/anaconda3/envs/add_librosa/lib/python3.7/site-packages/librosa/core/audio.py:161: UserWarning: PySoundFile failed. Trying audioread instead.\n",
      "  warnings.warn('PySoundFile failed. Trying audioread instead.')\n",
      "Saving vectors of label - 'firearm_bal':  57%|█████▋    | 258/451 [00:44<00:27,  7.12it/s]/opt/anaconda3/envs/add_librosa/lib/python3.7/site-packages/librosa/core/audio.py:161: UserWarning: PySoundFile failed. Trying audioread instead.\n",
      "  warnings.warn('PySoundFile failed. Trying audioread instead.')\n"
     ]
    },
    {
     "name": "stderr",
     "output_type": "stream",
     "text": [
      "Saving vectors of label - 'firearm_bal':  58%|█████▊    | 261/451 [00:44<00:27,  6.99it/s]/opt/anaconda3/envs/add_librosa/lib/python3.7/site-packages/librosa/core/audio.py:161: UserWarning: PySoundFile failed. Trying audioread instead.\n",
      "  warnings.warn('PySoundFile failed. Trying audioread instead.')\n",
      "Saving vectors of label - 'firearm_bal':  60%|██████    | 271/451 [00:46<00:36,  4.99it/s]/opt/anaconda3/envs/add_librosa/lib/python3.7/site-packages/librosa/core/audio.py:161: UserWarning: PySoundFile failed. Trying audioread instead.\n",
      "  warnings.warn('PySoundFile failed. Trying audioread instead.')\n",
      "Saving vectors of label - 'firearm_bal':  63%|██████▎   | 283/451 [00:48<00:36,  4.58it/s]/opt/anaconda3/envs/add_librosa/lib/python3.7/site-packages/librosa/core/audio.py:161: UserWarning: PySoundFile failed. Trying audioread instead.\n",
      "  warnings.warn('PySoundFile failed. Trying audioread instead.')\n",
      "Saving vectors of label - 'firearm_bal':  63%|██████▎   | 284/451 [00:49<00:40,  4.17it/s]/opt/anaconda3/envs/add_librosa/lib/python3.7/site-packages/librosa/core/audio.py:161: UserWarning: PySoundFile failed. Trying audioread instead.\n",
      "  warnings.warn('PySoundFile failed. Trying audioread instead.')\n",
      "Saving vectors of label - 'firearm_bal':  65%|██████▍   | 291/451 [00:50<00:47,  3.40it/s]/opt/anaconda3/envs/add_librosa/lib/python3.7/site-packages/librosa/core/audio.py:161: UserWarning: PySoundFile failed. Trying audioread instead.\n",
      "  warnings.warn('PySoundFile failed. Trying audioread instead.')\n",
      "Saving vectors of label - 'firearm_bal':  66%|██████▌   | 297/451 [00:52<00:40,  3.83it/s]/opt/anaconda3/envs/add_librosa/lib/python3.7/site-packages/librosa/core/audio.py:161: UserWarning: PySoundFile failed. Trying audioread instead.\n",
      "  warnings.warn('PySoundFile failed. Trying audioread instead.')\n",
      "Saving vectors of label - 'firearm_bal':  67%|██████▋   | 301/451 [00:53<00:49,  3.06it/s]/opt/anaconda3/envs/add_librosa/lib/python3.7/site-packages/librosa/core/audio.py:161: UserWarning: PySoundFile failed. Trying audioread instead.\n",
      "  warnings.warn('PySoundFile failed. Trying audioread instead.')\n",
      "Saving vectors of label - 'firearm_bal':  68%|██████▊   | 308/451 [00:54<00:25,  5.59it/s]/opt/anaconda3/envs/add_librosa/lib/python3.7/site-packages/librosa/core/audio.py:161: UserWarning: PySoundFile failed. Trying audioread instead.\n",
      "  warnings.warn('PySoundFile failed. Trying audioread instead.')\n",
      "Saving vectors of label - 'firearm_bal':  70%|██████▉   | 314/451 [00:55<00:25,  5.40it/s]/opt/anaconda3/envs/add_librosa/lib/python3.7/site-packages/librosa/core/audio.py:161: UserWarning: PySoundFile failed. Trying audioread instead.\n",
      "  warnings.warn('PySoundFile failed. Trying audioread instead.')\n",
      "Saving vectors of label - 'firearm_bal':  71%|███████▏  | 322/451 [00:56<00:21,  5.91it/s]/opt/anaconda3/envs/add_librosa/lib/python3.7/site-packages/librosa/core/audio.py:161: UserWarning: PySoundFile failed. Trying audioread instead.\n",
      "  warnings.warn('PySoundFile failed. Trying audioread instead.')\n",
      "Saving vectors of label - 'firearm_bal':  72%|███████▏  | 324/451 [00:57<00:24,  5.22it/s]/opt/anaconda3/envs/add_librosa/lib/python3.7/site-packages/librosa/core/audio.py:161: UserWarning: PySoundFile failed. Trying audioread instead.\n",
      "  warnings.warn('PySoundFile failed. Trying audioread instead.')\n",
      "Saving vectors of label - 'firearm_bal':  73%|███████▎  | 327/451 [00:57<00:23,  5.19it/s]/opt/anaconda3/envs/add_librosa/lib/python3.7/site-packages/librosa/core/audio.py:161: UserWarning: PySoundFile failed. Trying audioread instead.\n",
      "  warnings.warn('PySoundFile failed. Trying audioread instead.')\n",
      "Saving vectors of label - 'firearm_bal':  73%|███████▎  | 328/451 [00:58<00:28,  4.39it/s]/opt/anaconda3/envs/add_librosa/lib/python3.7/site-packages/librosa/core/audio.py:161: UserWarning: PySoundFile failed. Trying audioread instead.\n",
      "  warnings.warn('PySoundFile failed. Trying audioread instead.')\n",
      "Saving vectors of label - 'firearm_bal':  73%|███████▎  | 331/451 [00:58<00:20,  5.75it/s]/opt/anaconda3/envs/add_librosa/lib/python3.7/site-packages/librosa/core/audio.py:161: UserWarning: PySoundFile failed. Trying audioread instead.\n",
      "  warnings.warn('PySoundFile failed. Trying audioread instead.')\n",
      "Saving vectors of label - 'firearm_bal':  76%|███████▌  | 342/451 [01:00<00:21,  5.11it/s]/opt/anaconda3/envs/add_librosa/lib/python3.7/site-packages/librosa/core/audio.py:161: UserWarning: PySoundFile failed. Trying audioread instead.\n",
      "  warnings.warn('PySoundFile failed. Trying audioread instead.')\n",
      "Saving vectors of label - 'firearm_bal':  78%|███████▊  | 354/451 [01:02<00:17,  5.44it/s]/opt/anaconda3/envs/add_librosa/lib/python3.7/site-packages/librosa/core/audio.py:161: UserWarning: PySoundFile failed. Trying audioread instead.\n",
      "  warnings.warn('PySoundFile failed. Trying audioread instead.')\n",
      "Saving vectors of label - 'firearm_bal':  83%|████████▎ | 373/451 [01:05<00:10,  7.16it/s]/opt/anaconda3/envs/add_librosa/lib/python3.7/site-packages/librosa/core/audio.py:161: UserWarning: PySoundFile failed. Trying audioread instead.\n",
      "  warnings.warn('PySoundFile failed. Trying audioread instead.')\n",
      "Saving vectors of label - 'firearm_bal':  84%|████████▎ | 377/451 [01:06<00:09,  7.70it/s]/opt/anaconda3/envs/add_librosa/lib/python3.7/site-packages/librosa/core/audio.py:161: UserWarning: PySoundFile failed. Trying audioread instead.\n",
      "  warnings.warn('PySoundFile failed. Trying audioread instead.')\n",
      "Saving vectors of label - 'firearm_bal':  85%|████████▍ | 382/451 [01:07<00:16,  4.28it/s]/opt/anaconda3/envs/add_librosa/lib/python3.7/site-packages/librosa/core/audio.py:161: UserWarning: PySoundFile failed. Trying audioread instead.\n",
      "  warnings.warn('PySoundFile failed. Trying audioread instead.')\n",
      "Saving vectors of label - 'firearm_bal':  86%|████████▌ | 388/451 [01:08<00:12,  5.20it/s]/opt/anaconda3/envs/add_librosa/lib/python3.7/site-packages/librosa/core/audio.py:161: UserWarning: PySoundFile failed. Trying audioread instead.\n",
      "  warnings.warn('PySoundFile failed. Trying audioread instead.')\n",
      "Saving vectors of label - 'firearm_bal':  87%|████████▋ | 391/451 [01:09<00:10,  5.72it/s]/opt/anaconda3/envs/add_librosa/lib/python3.7/site-packages/librosa/core/audio.py:161: UserWarning: PySoundFile failed. Trying audioread instead.\n",
      "  warnings.warn('PySoundFile failed. Trying audioread instead.')\n",
      "Saving vectors of label - 'firearm_bal':  88%|████████▊ | 395/451 [01:10<00:11,  4.93it/s]/opt/anaconda3/envs/add_librosa/lib/python3.7/site-packages/librosa/core/audio.py:161: UserWarning: PySoundFile failed. Trying audioread instead.\n",
      "  warnings.warn('PySoundFile failed. Trying audioread instead.')\n",
      "Saving vectors of label - 'firearm_bal':  88%|████████▊ | 396/451 [01:10<00:09,  5.61it/s]/opt/anaconda3/envs/add_librosa/lib/python3.7/site-packages/librosa/core/audio.py:161: UserWarning: PySoundFile failed. Trying audioread instead.\n",
      "  warnings.warn('PySoundFile failed. Trying audioread instead.')\n",
      "Saving vectors of label - 'firearm_bal':  89%|████████▉ | 401/451 [01:11<00:08,  6.20it/s]/opt/anaconda3/envs/add_librosa/lib/python3.7/site-packages/librosa/core/audio.py:161: UserWarning: PySoundFile failed. Trying audioread instead.\n",
      "  warnings.warn('PySoundFile failed. Trying audioread instead.')\n",
      "Saving vectors of label - 'firearm_bal':  90%|█████████ | 408/451 [01:12<00:06,  6.29it/s]/opt/anaconda3/envs/add_librosa/lib/python3.7/site-packages/librosa/core/audio.py:161: UserWarning: PySoundFile failed. Trying audioread instead.\n",
      "  warnings.warn('PySoundFile failed. Trying audioread instead.')\n",
      "Saving vectors of label - 'firearm_bal':  91%|█████████▏| 412/451 [01:13<00:09,  4.28it/s]/opt/anaconda3/envs/add_librosa/lib/python3.7/site-packages/librosa/core/audio.py:161: UserWarning: PySoundFile failed. Trying audioread instead.\n",
      "  warnings.warn('PySoundFile failed. Trying audioread instead.')\n",
      "Saving vectors of label - 'firearm_bal':  93%|█████████▎| 419/451 [01:14<00:06,  4.60it/s]/opt/anaconda3/envs/add_librosa/lib/python3.7/site-packages/librosa/core/audio.py:161: UserWarning: PySoundFile failed. Trying audioread instead.\n",
      "  warnings.warn('PySoundFile failed. Trying audioread instead.')\n",
      "Saving vectors of label - 'firearm_bal':  95%|█████████▌| 430/451 [01:15<00:03,  6.70it/s]/opt/anaconda3/envs/add_librosa/lib/python3.7/site-packages/librosa/core/audio.py:161: UserWarning: PySoundFile failed. Trying audioread instead.\n",
      "  warnings.warn('PySoundFile failed. Trying audioread instead.')\n",
      "Saving vectors of label - 'firearm_bal':  99%|█████████▉| 446/451 [01:18<00:01,  4.99it/s]/opt/anaconda3/envs/add_librosa/lib/python3.7/site-packages/librosa/core/audio.py:161: UserWarning: PySoundFile failed. Trying audioread instead.\n",
      "  warnings.warn('PySoundFile failed. Trying audioread instead.')\n",
      "Saving vectors of label - 'firearm_bal':  99%|█████████▉| 448/451 [01:18<00:00,  5.50it/s]/opt/anaconda3/envs/add_librosa/lib/python3.7/site-packages/librosa/core/audio.py:161: UserWarning: PySoundFile failed. Trying audioread instead.\n",
      "  warnings.warn('PySoundFile failed. Trying audioread instead.')\n",
      "Saving vectors of label - 'firearm_bal': 100%|██████████| 451/451 [01:19<00:00,  5.65it/s]\n"
     ]
    }
   ],
   "source": [
    "wandb.init()\n",
    "config = wandb.config\n",
    "\n",
    "config.max_len = 170  # the number of \"columns\" or \"time\" for the MFCCs \n",
    "config.buckets = 20  # the number of MFCCs\n",
    "\n",
    "# Save data to array file first\n",
    "save_data_to_array(max_len=config.max_len, n_mfcc=config.buckets)\n",
    "\n",
    "labels=[\"firearm_bal\", \"nonfirearm_bal\"]"
   ]
  },
  {
   "cell_type": "markdown",
   "metadata": {},
   "source": [
    "* There are 440 files for training and validation pertaining to the **nonfirearm** class\n",
    "* There are 451 audio files for training/validation belonging to the **firearm** class\n",
    "* Together, the total sum of data for training/validation amounts to 891 audio files\n",
    "\n",
    "\n",
    "* 25% of this value will be split into a dataset for validation, that is 268 data files\n",
    "* The remainder, 75%, will be split into a dataset for training, that is 623 data files"
   ]
  },
  {
   "cell_type": "code",
   "execution_count": 6,
   "metadata": {},
   "outputs": [
    {
     "name": "stdout",
     "output_type": "stream",
     "text": [
      "The number of labels is:  2\n"
     ]
    }
   ],
   "source": [
    "# # Loading train set and validation set\n",
    "X_train, X_val, y_train, y_val = get_train_validation()"
   ]
  },
  {
   "cell_type": "code",
   "execution_count": 7,
   "metadata": {},
   "outputs": [
    {
     "name": "stdout",
     "output_type": "stream",
     "text": [
      "(668, 20, 170)\n"
     ]
    }
   ],
   "source": [
    "print(X_train.shape)"
   ]
  },
  {
   "cell_type": "markdown",
   "metadata": {},
   "source": [
    "Next, I have specified the number of epochs and the batch size to run a simple neural network. "
   ]
  },
  {
   "cell_type": "code",
   "execution_count": 8,
   "metadata": {},
   "outputs": [
    {
     "name": "stderr",
     "output_type": "stream",
     "text": [
      "\u001b[34m\u001b[1mwandb\u001b[0m: Wandb version 0.9.2 is available!  To upgrade, please run:\n",
      "\u001b[34m\u001b[1mwandb\u001b[0m:  $ pip install wandb --upgrade\n"
     ]
    }
   ],
   "source": [
    "# Feature dimension\n",
    "channels = 1\n",
    "config.epochs = 50 # hyperparameter\n",
    "config.batch_size = 100 # hyperparameter\n",
    "\n",
    "num_classes = 2\n",
    "\n",
    "X_train = X_train.reshape(X_train.shape[0], config.buckets, config.max_len, channels)\n",
    "X_val = X_val.reshape(X_val.shape[0], config.buckets, config.max_len, channels)"
   ]
  },
  {
   "cell_type": "code",
   "execution_count": 9,
   "metadata": {},
   "outputs": [
    {
     "data": {
      "text/plain": [
       "(668, 20, 170, 1)"
      ]
     },
     "execution_count": 9,
     "metadata": {},
     "output_type": "execute_result"
    }
   ],
   "source": [
    "X_train.shape"
   ]
  },
  {
   "cell_type": "code",
   "execution_count": 10,
   "metadata": {},
   "outputs": [
    {
     "data": {
      "text/plain": [
       "(223, 20, 170, 1)"
      ]
     },
     "execution_count": 10,
     "metadata": {},
     "output_type": "execute_result"
    }
   ],
   "source": [
    "X_val.shape"
   ]
  },
  {
   "cell_type": "code",
   "execution_count": 11,
   "metadata": {},
   "outputs": [
    {
     "data": {
      "text/plain": [
       "(668,)"
      ]
     },
     "execution_count": 11,
     "metadata": {},
     "output_type": "execute_result"
    }
   ],
   "source": [
    "y_train.shape"
   ]
  },
  {
   "cell_type": "markdown",
   "metadata": {},
   "source": [
    "Next, the code below identifies the element positions in y_train that correspond to non firearm sounds, that is where `y_train[c]==0.` "
   ]
  },
  {
   "cell_type": "code",
   "execution_count": 12,
   "metadata": {
    "scrolled": true
   },
   "outputs": [
    {
     "name": "stdout",
     "output_type": "stream",
     "text": [
      "0\n",
      "2\n",
      "4\n",
      "5\n",
      "6\n",
      "7\n",
      "9\n",
      "10\n",
      "11\n",
      "15\n",
      "17\n",
      "18\n",
      "20\n",
      "22\n",
      "25\n",
      "27\n",
      "28\n",
      "29\n",
      "30\n",
      "35\n",
      "36\n",
      "39\n",
      "44\n",
      "47\n",
      "49\n",
      "50\n",
      "52\n",
      "54\n",
      "57\n",
      "58\n",
      "59\n",
      "61\n",
      "62\n",
      "63\n",
      "65\n",
      "69\n",
      "70\n",
      "71\n",
      "72\n",
      "75\n",
      "77\n",
      "79\n",
      "80\n",
      "81\n",
      "82\n",
      "84\n",
      "87\n",
      "88\n",
      "90\n",
      "92\n",
      "93\n",
      "96\n",
      "97\n",
      "98\n",
      "99\n",
      "100\n",
      "104\n",
      "105\n",
      "108\n",
      "109\n",
      "112\n",
      "113\n",
      "114\n",
      "115\n",
      "118\n",
      "119\n",
      "122\n",
      "129\n",
      "132\n",
      "133\n",
      "136\n",
      "137\n",
      "140\n",
      "141\n",
      "142\n",
      "143\n",
      "145\n",
      "146\n",
      "152\n",
      "153\n",
      "154\n",
      "155\n",
      "156\n",
      "157\n",
      "158\n",
      "163\n",
      "167\n",
      "171\n",
      "172\n",
      "174\n",
      "176\n",
      "177\n",
      "178\n",
      "179\n",
      "183\n",
      "184\n",
      "187\n",
      "188\n",
      "190\n",
      "191\n",
      "192\n",
      "193\n",
      "194\n",
      "199\n",
      "202\n",
      "203\n",
      "204\n",
      "208\n",
      "209\n",
      "212\n",
      "213\n",
      "216\n",
      "217\n",
      "219\n",
      "220\n",
      "223\n",
      "224\n",
      "226\n",
      "227\n",
      "229\n",
      "230\n",
      "231\n",
      "235\n",
      "237\n",
      "238\n",
      "240\n",
      "241\n",
      "246\n",
      "247\n",
      "249\n",
      "254\n",
      "255\n",
      "257\n",
      "258\n",
      "259\n",
      "260\n",
      "261\n",
      "262\n",
      "263\n",
      "266\n",
      "267\n",
      "270\n",
      "272\n",
      "274\n",
      "276\n",
      "282\n",
      "283\n",
      "284\n",
      "285\n",
      "286\n",
      "288\n",
      "289\n",
      "291\n",
      "292\n",
      "294\n",
      "296\n",
      "298\n",
      "299\n",
      "303\n",
      "305\n",
      "306\n",
      "307\n",
      "312\n",
      "313\n",
      "315\n",
      "316\n",
      "317\n",
      "318\n",
      "321\n",
      "322\n",
      "324\n",
      "325\n",
      "333\n",
      "335\n",
      "337\n",
      "338\n",
      "340\n",
      "346\n",
      "348\n",
      "349\n",
      "351\n",
      "353\n",
      "354\n",
      "355\n",
      "357\n",
      "362\n",
      "370\n",
      "372\n",
      "376\n",
      "377\n",
      "379\n",
      "380\n",
      "381\n",
      "383\n",
      "384\n",
      "385\n",
      "386\n",
      "388\n",
      "391\n",
      "393\n",
      "395\n",
      "396\n",
      "401\n",
      "403\n",
      "404\n",
      "405\n",
      "410\n",
      "411\n",
      "415\n",
      "417\n",
      "418\n",
      "419\n",
      "422\n",
      "424\n",
      "426\n",
      "427\n",
      "428\n",
      "429\n",
      "430\n",
      "431\n",
      "432\n",
      "433\n",
      "434\n",
      "436\n",
      "438\n",
      "442\n",
      "450\n",
      "453\n",
      "457\n",
      "458\n",
      "462\n",
      "465\n",
      "468\n",
      "470\n",
      "472\n",
      "473\n",
      "476\n",
      "477\n",
      "478\n",
      "479\n",
      "483\n",
      "496\n",
      "497\n",
      "499\n",
      "501\n",
      "503\n",
      "508\n",
      "510\n",
      "516\n",
      "517\n",
      "518\n",
      "520\n",
      "521\n",
      "529\n",
      "532\n",
      "534\n",
      "535\n",
      "536\n",
      "537\n",
      "538\n",
      "540\n",
      "542\n",
      "543\n",
      "544\n",
      "546\n",
      "549\n",
      "550\n",
      "553\n",
      "556\n",
      "557\n",
      "558\n",
      "559\n",
      "561\n",
      "562\n",
      "564\n",
      "565\n",
      "566\n",
      "570\n",
      "572\n",
      "577\n",
      "578\n",
      "579\n",
      "582\n",
      "586\n",
      "588\n",
      "589\n",
      "592\n",
      "593\n",
      "594\n",
      "597\n",
      "599\n",
      "600\n",
      "601\n",
      "603\n",
      "605\n",
      "606\n",
      "607\n",
      "609\n",
      "610\n",
      "611\n",
      "619\n",
      "623\n",
      "629\n",
      "633\n",
      "634\n",
      "635\n",
      "637\n",
      "638\n",
      "639\n",
      "640\n",
      "642\n",
      "644\n",
      "646\n",
      "648\n",
      "651\n",
      "652\n",
      "653\n",
      "655\n",
      "656\n",
      "658\n",
      "660\n",
      "662\n",
      "663\n",
      "664\n",
      "666\n",
      "667\n"
     ]
    }
   ],
   "source": [
    "c=0\n",
    "for element in y_train:\n",
    "    if element==0:\n",
    "        print(c)\n",
    "    c+=1"
   ]
  },
  {
   "cell_type": "markdown",
   "metadata": {},
   "source": [
    "Below, I have graphed a representative image of the MFCC spectrogram using the `specshow` attribute in `librosa.display`. "
   ]
  },
  {
   "cell_type": "code",
   "execution_count": 13,
   "metadata": {
    "scrolled": true
   },
   "outputs": [
    {
     "data": {
      "image/png": "[encoded data removed]",
      "text/plain": [
       "<Figure size 540x360 with 2 Axes>"
      ]
     },
     "metadata": {
      "needs_background": "light"
     },
     "output_type": "display_data"
    }
   ],
   "source": [
    "num=0\n",
    "plt.figure(figsize=(3,2),dpi=180)\n",
    "librosa.display.specshow(X_train[num, :, :, 0],x_axis='time')\n",
    "plt.title(str(y_train[num]),fontsize=10)\n",
    "cbar=plt.colorbar()\n",
    "cbar.set_label('MFCC',rotation=270,fontsize=10,labelpad=10)\n",
    "plt.tight_layout()\n",
    "plt.savefig('../reports/figures/'+'MFCC_'+str(num)+'.png')"
   ]
  },
  {
   "cell_type": "markdown",
   "metadata": {},
   "source": [
    "The x-axis is time (seconds), the y-axis is the position of a pixel, and the color represents the MFCC according to the colorbar values. \n",
    "\n",
    "Next, the y_train values (single vector) are converted to categorical from keras.  That is to mean that there are now two columns, one for each category of firearm sounds, and non-firearm sounds. "
   ]
  },
  {
   "cell_type": "code",
   "execution_count": 14,
   "metadata": {},
   "outputs": [],
   "source": [
    "y_train_hot = to_categorical(y_train)\n",
    "y_val_hot = to_categorical(y_val)"
   ]
  },
  {
   "cell_type": "markdown",
   "metadata": {},
   "source": [
    "To identify, which category is which, a quick addition of the values in each column can help: "
   ]
  },
  {
   "cell_type": "code",
   "execution_count": 15,
   "metadata": {
    "scrolled": true
   },
   "outputs": [
    {
     "data": {
      "text/plain": [
       "0    326.0\n",
       "1    342.0\n",
       "dtype: float32"
      ]
     },
     "execution_count": 15,
     "metadata": {},
     "output_type": "execute_result"
    }
   ],
   "source": [
    "pd.DataFrame(y_train_hot).sum()"
   ]
  },
  {
   "cell_type": "code",
   "execution_count": 16,
   "metadata": {
    "scrolled": true
   },
   "outputs": [
    {
     "data": {
      "text/plain": [
       "0    114.0\n",
       "1    109.0\n",
       "dtype: float32"
      ]
     },
     "execution_count": 16,
     "metadata": {},
     "output_type": "execute_result"
    }
   ],
   "source": [
    "pd.DataFrame(y_val_hot).sum()"
   ]
  },
  {
   "cell_type": "markdown",
   "metadata": {},
   "source": [
    "Here, the nonfirearm sounds correspond to the 0th row.  In the 0th row, values of one indicate nonfirearm sounds. There are 326 non firearm sounds for training, and there are 114 non firearm sounds for validation.  \n",
    "\n",
    "In the first row, values of one pertain to firearm sounds, and zeros belong to nonfirearm sounds.  There are 342 firearm sounds for training, and there are 109 firearm sounds for validation. "
   ]
  },
  {
   "cell_type": "markdown",
   "metadata": {},
   "source": [
    "Next, reshape `X_train` and `X_val` according to the pre-specified spectrogram dimensions. \n",
    "Below, I have also built a simple sequential neural network: \n",
    "* an input layer\n",
    "* a hidden layer with activation 'softmax'\n",
    "* \"Adam\" optimizer with a specified learning rate"
   ]
  },
  {
   "cell_type": "code",
   "execution_count": 17,
   "metadata": {},
   "outputs": [],
   "source": [
    "X_train = X_train.reshape(X_train.shape[0], config.buckets, config.max_len)\n",
    "X_val = X_val.reshape(X_val.shape[0], config.buckets, config.max_len)\n",
    "\n",
    "model = Sequential()\n",
    "model.add(Flatten(input_shape=(config.buckets, config.max_len)))\n",
    "model.add(Dense(num_classes, activation='softmax'))\n",
    "\n",
    "opt = keras.optimizers.Adam(learning_rate=.05) #optimizer\n",
    "\n",
    "model.compile(loss=\"categorical_crossentropy\",\n",
    "                  optimizer=opt,\n",
    "                  metrics=['accuracy'])"
   ]
  },
  {
   "cell_type": "code",
   "execution_count": 18,
   "metadata": {},
   "outputs": [
    {
     "name": "stdout",
     "output_type": "stream",
     "text": [
      "Model: \"sequential\"\n",
      "_________________________________________________________________\n",
      "Layer (type)                 Output Shape              Param #   \n",
      "=================================================================\n",
      "flatten (Flatten)            (None, 3400)              0         \n",
      "_________________________________________________________________\n",
      "dense (Dense)                (None, 2)                 6802      \n",
      "=================================================================\n",
      "Total params: 6,802\n",
      "Trainable params: 6,802\n",
      "Non-trainable params: 0\n",
      "_________________________________________________________________\n"
     ]
    }
   ],
   "source": [
    "model.summary()"
   ]
  },
  {
   "cell_type": "markdown",
   "metadata": {},
   "source": [
    "Below, the model is fit to the trainind data and validated with the validation data. "
   ]
  },
  {
   "cell_type": "code",
   "execution_count": 19,
   "metadata": {
    "scrolled": true
   },
   "outputs": [
    {
     "data": {
      "text/html": [
       "\n",
       "                Logging results to <a href=\"https://wandb.com\" target=\"_blank\">Weights & Biases</a> <a href=\"https://docs.wandb.com/integrations/jupyter.html\" target=\"_blank\">(Documentation)</a>.<br/>\n",
       "                Project page: <a href=\"https://app.wandb.ai/adri-rojas/Firearm_Detection-notebooks\" target=\"_blank\">https://app.wandb.ai/adri-rojas/Firearm_Detection-notebooks</a><br/>\n",
       "                Run page: <a href=\"https://app.wandb.ai/adri-rojas/Firearm_Detection-notebooks/runs/sh387y0i\" target=\"_blank\">https://app.wandb.ai/adri-rojas/Firearm_Detection-notebooks/runs/sh387y0i</a><br/>\n",
       "            "
      ],
      "text/plain": [
       "<IPython.core.display.HTML object>"
      ]
     },
     "metadata": {},
     "output_type": "display_data"
    },
    {
     "name": "stderr",
     "output_type": "stream",
     "text": [
      "\u001b[34m\u001b[1mwandb\u001b[0m: Wandb version 0.9.2 is available!  To upgrade, please run:\n",
      "\u001b[34m\u001b[1mwandb\u001b[0m:  $ pip install wandb --upgrade\n"
     ]
    },
    {
     "name": "stdout",
     "output_type": "stream",
     "text": [
      "Epoch 1/50\n",
      "21/21 [==============================] - 0s 22ms/step - loss: 717.2950 - accuracy: 0.7320 - val_loss: 234.3728 - val_accuracy: 0.8789\n",
      "Epoch 2/50\n",
      "21/21 [==============================] - 0s 8ms/step - loss: 181.6866 - accuracy: 0.8817 - val_loss: 141.5081 - val_accuracy: 0.9103\n",
      "Epoch 3/50\n",
      "21/21 [==============================] - 0s 7ms/step - loss: 99.7648 - accuracy: 0.9132 - val_loss: 152.5197 - val_accuracy: 0.9327\n",
      "Epoch 4/50\n",
      "21/21 [==============================] - 0s 8ms/step - loss: 95.2301 - accuracy: 0.9162 - val_loss: 164.3213 - val_accuracy: 0.9013\n",
      "Epoch 5/50\n",
      "21/21 [==============================] - 0s 9ms/step - loss: 68.4230 - accuracy: 0.9281 - val_loss: 180.0019 - val_accuracy: 0.8700\n",
      "Epoch 6/50\n",
      "21/21 [==============================] - 0s 8ms/step - loss: 29.1528 - accuracy: 0.9461 - val_loss: 169.4343 - val_accuracy: 0.8475\n",
      "Epoch 7/50\n",
      "21/21 [==============================] - 0s 8ms/step - loss: 54.5589 - accuracy: 0.9296 - val_loss: 158.7165 - val_accuracy: 0.8610\n",
      "Epoch 8/50\n",
      "21/21 [==============================] - 0s 8ms/step - loss: 31.3504 - accuracy: 0.9551 - val_loss: 120.5568 - val_accuracy: 0.8924\n",
      "Epoch 9/50\n",
      "21/21 [==============================] - 0s 7ms/step - loss: 19.2622 - accuracy: 0.9626 - val_loss: 318.3405 - val_accuracy: 0.7937\n",
      "Epoch 10/50\n",
      "21/21 [==============================] - 0s 14ms/step - loss: 53.6179 - accuracy: 0.9251 - val_loss: 218.1400 - val_accuracy: 0.8789\n",
      "Epoch 11/50\n",
      "21/21 [==============================] - 0s 9ms/step - loss: 22.8583 - accuracy: 0.9581 - val_loss: 207.1344 - val_accuracy: 0.8565\n",
      "Epoch 12/50\n",
      "21/21 [==============================] - 0s 7ms/step - loss: 7.5150 - accuracy: 0.9775 - val_loss: 189.1854 - val_accuracy: 0.8834\n",
      "Epoch 13/50\n",
      "21/21 [==============================] - 0s 7ms/step - loss: 14.1939 - accuracy: 0.9686 - val_loss: 190.6931 - val_accuracy: 0.8789\n",
      "Epoch 14/50\n",
      "21/21 [==============================] - 0s 7ms/step - loss: 13.7559 - accuracy: 0.9746 - val_loss: 248.2067 - val_accuracy: 0.8386\n",
      "Epoch 15/50\n",
      "21/21 [==============================] - 0s 7ms/step - loss: 7.0796 - accuracy: 0.9835 - val_loss: 188.8391 - val_accuracy: 0.8834\n",
      "Epoch 16/50\n",
      "21/21 [==============================] - 0s 8ms/step - loss: 11.7252 - accuracy: 0.9701 - val_loss: 199.5489 - val_accuracy: 0.8700\n",
      "Epoch 17/50\n",
      "21/21 [==============================] - 0s 7ms/step - loss: 25.0038 - accuracy: 0.9641 - val_loss: 217.5862 - val_accuracy: 0.8789\n",
      "Epoch 18/50\n",
      "21/21 [==============================] - 0s 8ms/step - loss: 70.5131 - accuracy: 0.9356 - val_loss: 334.8102 - val_accuracy: 0.8789\n",
      "Epoch 19/50\n",
      "21/21 [==============================] - 0s 7ms/step - loss: 225.7766 - accuracy: 0.8832 - val_loss: 303.0250 - val_accuracy: 0.8969\n",
      "Epoch 20/50\n",
      "21/21 [==============================] - 0s 7ms/step - loss: 40.1386 - accuracy: 0.9641 - val_loss: 284.1263 - val_accuracy: 0.8924\n",
      "Epoch 21/50\n",
      "21/21 [==============================] - 0s 7ms/step - loss: 23.6396 - accuracy: 0.9731 - val_loss: 305.7903 - val_accuracy: 0.8834\n",
      "Epoch 22/50\n",
      "21/21 [==============================] - 0s 8ms/step - loss: 10.6453 - accuracy: 0.9925 - val_loss: 314.2905 - val_accuracy: 0.8879\n",
      "Epoch 23/50\n",
      "21/21 [==============================] - 0s 7ms/step - loss: 17.6782 - accuracy: 0.9820 - val_loss: 305.0750 - val_accuracy: 0.9103\n",
      "Epoch 24/50\n",
      "21/21 [==============================] - 0s 8ms/step - loss: 16.8512 - accuracy: 0.9790 - val_loss: 403.7284 - val_accuracy: 0.8430\n",
      "Epoch 25/50\n",
      "21/21 [==============================] - 0s 8ms/step - loss: 27.2482 - accuracy: 0.9656 - val_loss: 274.6404 - val_accuracy: 0.8744\n",
      "Epoch 26/50\n",
      "21/21 [==============================] - 0s 8ms/step - loss: 8.3509 - accuracy: 0.9880 - val_loss: 292.7903 - val_accuracy: 0.8969\n",
      "Epoch 27/50\n",
      "21/21 [==============================] - 0s 8ms/step - loss: 25.5805 - accuracy: 0.9775 - val_loss: 236.4224 - val_accuracy: 0.9103\n",
      "Epoch 28/50\n",
      "21/21 [==============================] - 0s 8ms/step - loss: 49.4627 - accuracy: 0.9491 - val_loss: 364.6658 - val_accuracy: 0.8610\n",
      "Epoch 29/50\n",
      "21/21 [==============================] - 0s 8ms/step - loss: 22.2680 - accuracy: 0.9701 - val_loss: 273.4060 - val_accuracy: 0.8834\n",
      "Epoch 30/50\n",
      "21/21 [==============================] - 0s 8ms/step - loss: 12.2350 - accuracy: 0.9820 - val_loss: 347.7990 - val_accuracy: 0.8834\n",
      "Epoch 31/50\n",
      "21/21 [==============================] - 0s 7ms/step - loss: 33.5590 - accuracy: 0.9656 - val_loss: 345.4677 - val_accuracy: 0.8969\n",
      "Epoch 32/50\n",
      "21/21 [==============================] - 0s 7ms/step - loss: 53.1664 - accuracy: 0.9626 - val_loss: 318.5939 - val_accuracy: 0.8969\n",
      "Epoch 33/50\n",
      "21/21 [==============================] - 0s 7ms/step - loss: 20.4122 - accuracy: 0.9746 - val_loss: 423.7672 - val_accuracy: 0.8520\n",
      "Epoch 34/50\n",
      "21/21 [==============================] - 0s 9ms/step - loss: 12.6522 - accuracy: 0.9865 - val_loss: 306.5074 - val_accuracy: 0.8924\n",
      "Epoch 35/50\n",
      "21/21 [==============================] - 0s 8ms/step - loss: 1.9031 - accuracy: 0.9925 - val_loss: 319.6011 - val_accuracy: 0.8655\n",
      "Epoch 36/50\n",
      "21/21 [==============================] - 0s 7ms/step - loss: 0.0000e+00 - accuracy: 1.0000 - val_loss: 281.1544 - val_accuracy: 0.8924\n",
      "Epoch 37/50\n",
      "21/21 [==============================] - 0s 8ms/step - loss: 0.0000e+00 - accuracy: 1.0000 - val_loss: 277.7574 - val_accuracy: 0.8924\n",
      "Epoch 38/50\n",
      "21/21 [==============================] - 0s 7ms/step - loss: 0.0000e+00 - accuracy: 1.0000 - val_loss: 277.3784 - val_accuracy: 0.8924\n",
      "Epoch 39/50\n",
      "21/21 [==============================] - 0s 7ms/step - loss: 0.0000e+00 - accuracy: 1.0000 - val_loss: 277.3361 - val_accuracy: 0.8924\n",
      "Epoch 40/50\n",
      "21/21 [==============================] - 0s 8ms/step - loss: 0.0000e+00 - accuracy: 1.0000 - val_loss: 277.3314 - val_accuracy: 0.8924\n",
      "Epoch 41/50\n",
      "21/21 [==============================] - 0s 9ms/step - loss: 0.0000e+00 - accuracy: 1.0000 - val_loss: 277.3310 - val_accuracy: 0.8924\n",
      "Epoch 42/50\n",
      "21/21 [==============================] - 0s 7ms/step - loss: 0.0000e+00 - accuracy: 1.0000 - val_loss: 277.3309 - val_accuracy: 0.8924\n",
      "Epoch 43/50\n",
      "21/21 [==============================] - 0s 7ms/step - loss: 0.0000e+00 - accuracy: 1.0000 - val_loss: 277.3309 - val_accuracy: 0.8924\n",
      "Epoch 44/50\n",
      "21/21 [==============================] - 0s 7ms/step - loss: 0.0000e+00 - accuracy: 1.0000 - val_loss: 277.3309 - val_accuracy: 0.8924\n",
      "Epoch 45/50\n",
      "21/21 [==============================] - 0s 7ms/step - loss: 0.0000e+00 - accuracy: 1.0000 - val_loss: 277.3309 - val_accuracy: 0.8924\n",
      "Epoch 46/50\n",
      "21/21 [==============================] - 0s 8ms/step - loss: 0.0000e+00 - accuracy: 1.0000 - val_loss: 277.3309 - val_accuracy: 0.8924\n",
      "Epoch 47/50\n",
      "21/21 [==============================] - 0s 8ms/step - loss: 0.0000e+00 - accuracy: 1.0000 - val_loss: 277.3309 - val_accuracy: 0.8924\n",
      "Epoch 48/50\n",
      "21/21 [==============================] - 0s 7ms/step - loss: 0.0000e+00 - accuracy: 1.0000 - val_loss: 277.3309 - val_accuracy: 0.8924\n",
      "Epoch 49/50\n",
      "21/21 [==============================] - 0s 7ms/step - loss: 0.0000e+00 - accuracy: 1.0000 - val_loss: 277.3309 - val_accuracy: 0.8924\n",
      "Epoch 50/50\n",
      "21/21 [==============================] - 0s 9ms/step - loss: 0.0000e+00 - accuracy: 1.0000 - val_loss: 277.3309 - val_accuracy: 0.8924\n"
     ]
    },
    {
     "name": "stderr",
     "output_type": "stream",
     "text": [
      "\u001b[34m\u001b[1mwandb\u001b[0m: Network error resolved after 0:00:15.168794, resuming normal operation.\n",
      "\u001b[34m\u001b[1mwandb\u001b[0m: Network error resolved after 0:00:15.266712, resuming normal operation.\n",
      "\u001b[34m\u001b[1mwandb\u001b[0m: Network error resolved after 0:00:15.469269, resuming normal operation.\n",
      "\u001b[34m\u001b[1mwandb\u001b[0m: Network error resolved after 0:00:15.625127, resuming normal operation.\n",
      "\u001b[34m\u001b[1mwandb\u001b[0m: Network error resolved after 0:00:15.995836, resuming normal operation.\n",
      "\u001b[34m\u001b[1mwandb\u001b[0m: Network error resolved after 0:00:16.335898, resuming normal operation.\n",
      "\u001b[34m\u001b[1mwandb\u001b[0m: \u001b[32m\u001b[41mERROR\u001b[0m Error uploading \"media/images/examples_30.png\": CommError, None\n",
      "\u001b[34m\u001b[1mwandb\u001b[0m: \u001b[32m\u001b[41mERROR\u001b[0m Error uploading \"media/images/examples_19.png\": CommError, None\n",
      "\u001b[34m\u001b[1mwandb\u001b[0m: \u001b[32m\u001b[41mERROR\u001b[0m Error uploading \"media/images/examples_18.png\": CommError, None\n",
      "\u001b[34m\u001b[1mwandb\u001b[0m: \u001b[32m\u001b[41mERROR\u001b[0m Error uploading \"media/images/examples_31.png\": CommError, None\n",
      "\u001b[34m\u001b[1mwandb\u001b[0m: \u001b[32m\u001b[41mERROR\u001b[0m Error uploading \"media/images/examples_15.png\": CommError, File /var/folders/px/t6llprnj0m3fhqqbhbvkrynm0000gn/T/tmpj49qpfuawandb/1j088klf-media/images/examples_15.png size shrank from 69926 to 0 while it was being uploaded.\n",
      "\u001b[34m\u001b[1mwandb\u001b[0m: \u001b[32m\u001b[41mERROR\u001b[0m Error uploading \"media/images/examples_20.png\": CommError, File /var/folders/px/t6llprnj0m3fhqqbhbvkrynm0000gn/T/tmpj49qpfuawandb/2lilrgko-media/images/examples_20.png size shrank from 78663 to 0 while it was being uploaded.\n",
      "\u001b[34m\u001b[1mwandb\u001b[0m: \u001b[32m\u001b[41mERROR\u001b[0m Error uploading \"media/images/examples_17.png\": CommError, File /var/folders/px/t6llprnj0m3fhqqbhbvkrynm0000gn/T/tmpj49qpfuawandb/30jb1bh2-media/images/examples_17.png size shrank from 65985 to 0 while it was being uploaded.\n",
      "\u001b[34m\u001b[1mwandb\u001b[0m: \u001b[32m\u001b[41mERROR\u001b[0m Error uploading \"media/images/examples_16.png\": CommError, File /var/folders/px/t6llprnj0m3fhqqbhbvkrynm0000gn/T/tmpj49qpfuawandb/oa5hp9mk-media/images/examples_16.png size shrank from 64688 to 0 while it was being uploaded.\n",
      "\u001b[34m\u001b[1mwandb\u001b[0m: Network error resolved after 0:00:33.190710, resuming normal operation.\n",
      "\u001b[34m\u001b[1mwandb\u001b[0m: Network error resolved after 0:00:33.293719, resuming normal operation.\n",
      "\u001b[34m\u001b[1mwandb\u001b[0m: Network error resolved after 0:00:33.307993, resuming normal operation.\n",
      "\u001b[34m\u001b[1mwandb\u001b[0m: Network error resolved after 0:00:33.358861, resuming normal operation.\n",
      "\u001b[34m\u001b[1mwandb\u001b[0m: Network error resolved after 0:00:33.320380, resuming normal operation.\n"
     ]
    }
   ],
   "source": [
    "wandb.init()\n",
    "history1=model.fit(X_train, y_train_hot, epochs=config.epochs, validation_data=(X_val, y_val_hot), callbacks=[WandbCallback(data_type=\"image\", labels=labels)])\n"
   ]
  },
  {
   "cell_type": "markdown",
   "metadata": {},
   "source": [
    "The results of the fit are visualized below: "
   ]
  },
  {
   "cell_type": "code",
   "execution_count": 20,
   "metadata": {
    "scrolled": true
   },
   "outputs": [
    {
     "data": {
      "image/png": "[encoded data removed]",
      "text/plain": [
       "<Figure size 576x360 with 1 Axes>"
      ]
     },
     "metadata": {
      "needs_background": "light"
     },
     "output_type": "display_data"
    },
    {
     "name": "stderr",
     "output_type": "stream",
     "text": [
      "\u001b[34m\u001b[1mwandb\u001b[0m: Network error resolved after 0:00:42.268923, resuming normal operation.\n",
      "\u001b[34m\u001b[1mwandb\u001b[0m: Network error resolved after 0:00:23.234109, resuming normal operation.\n",
      "\u001b[34m\u001b[1mwandb\u001b[0m: Network error resolved after 0:00:23.223283, resuming normal operation.\n",
      "\u001b[34m\u001b[1mwandb\u001b[0m: Network error resolved after 0:00:23.473500, resuming normal operation.\n",
      "\u001b[34m\u001b[1mwandb\u001b[0m: Network error resolved after 0:00:56.825231, resuming normal operation.\n",
      "\u001b[34m\u001b[1mwandb\u001b[0m: Network error resolved after 0:00:58.328257, resuming normal operation.\n",
      "\u001b[34m\u001b[1mwandb\u001b[0m: Network error resolved after 0:00:58.676675, resuming normal operation.\n",
      "\u001b[34m\u001b[1mwandb\u001b[0m: Network error resolved after 0:01:08.836482, resuming normal operation.\n",
      "\u001b[34m\u001b[1mwandb\u001b[0m: Network error resolved after 0:01:12.601730, resuming normal operation.\n",
      "\u001b[34m\u001b[1mwandb\u001b[0m: Network error resolved after 0:01:11.443963, resuming normal operation.\n",
      "\u001b[34m\u001b[1mwandb\u001b[0m: Network error resolved after 0:01:15.391790, resuming normal operation.\n",
      "\u001b[34m\u001b[1mwandb\u001b[0m: Network error resolved after 0:01:17.400970, resuming normal operation.\n",
      "\u001b[34m\u001b[1mwandb\u001b[0m: \u001b[32m\u001b[41mERROR\u001b[0m Error uploading \"config.yaml\": CommError, File /var/folders/px/t6llprnj0m3fhqqbhbvkrynm0000gn/T/tmpj49qpfuawandb/2h3ykxt8-config.yaml size shrank from 176 to 0 while it was being uploaded.\n",
      "\u001b[34m\u001b[1mwandb\u001b[0m: \u001b[32m\u001b[41mERROR\u001b[0m Error uploading \"wandb-summary.json\": CommError, File /var/folders/px/t6llprnj0m3fhqqbhbvkrynm0000gn/T/tmpj49qpfuawandb/wzwgqpjc-wandb-summary.json size shrank from 1121 to 0 while it was being uploaded.\n",
      "\u001b[34m\u001b[1mwandb\u001b[0m: \u001b[32m\u001b[41mERROR\u001b[0m Error uploading \"wandb-metadata.json\": CommError, File /var/folders/px/t6llprnj0m3fhqqbhbvkrynm0000gn/T/tmpj49qpfuawandb/2izuve1g-wandb-metadata.json size shrank from 925 to 0 while it was being uploaded.\n",
      "\u001b[34m\u001b[1mwandb\u001b[0m: Network error resolved after 0:01:21.547803, resuming normal operation.\n"
     ]
    }
   ],
   "source": [
    "pd.DataFrame(history1.history).plot(figsize=(8,5),fontsize=20)\n",
    "# plt.grid(True)\n",
    "plt.gca().set_ylim(.5,1)\n",
    "plt.xlabel('Epochs',fontsize=20)\n",
    "plt.ylabel('Accuracy and Loss',fontsize=20)\n",
    "plt.show();"
   ]
  },
  {
   "cell_type": "markdown",
   "metadata": {},
   "source": [
    "The accuracy approaches 100% after 50 epochs, and the validation accuracy approaches 90%. "
   ]
  },
  {
   "cell_type": "markdown",
   "metadata": {},
   "source": [
    "## Test the Sequential NN with some Test Data\n",
    "Below, I demonstrate this model's ability to detect firearm sounds from non-firearm sounds from the test data. "
   ]
  },
  {
   "cell_type": "code",
   "execution_count": 21,
   "metadata": {},
   "outputs": [],
   "source": [
    "from preprocess_test import *"
   ]
  },
  {
   "cell_type": "code",
   "execution_count": 22,
   "metadata": {},
   "outputs": [
    {
     "name": "stdout",
     "output_type": "stream",
     "text": [
      "../data/test_bal/\n"
     ]
    }
   ],
   "source": [
    "print(DATA_PATH_TEST)"
   ]
  },
  {
   "cell_type": "markdown",
   "metadata": {},
   "source": [
    "Read the test data and obtain the MFCC spectrogram values for each.  Save to .npy files. "
   ]
  },
  {
   "cell_type": "code",
   "execution_count": 24,
   "metadata": {
    "scrolled": true
   },
   "outputs": [
    {
     "name": "stderr",
     "output_type": "stream",
     "text": [
      "\r",
      "Saving vectors of label - 'nonfirearm_test_bal':   0%|          | 0/110 [00:00<?, ?it/s]"
     ]
    },
    {
     "name": "stdout",
     "output_type": "stream",
     "text": [
      "The number of labels is:  2\n"
     ]
    },
    {
     "name": "stderr",
     "output_type": "stream",
     "text": [
      "Saving vectors of label - 'nonfirearm_test_bal': 100%|██████████| 110/110 [00:25<00:00,  4.29it/s]\n",
      "Saving vectors of label - 'firearm_test_bal':   1%|          | 1/111 [00:00<00:12,  8.81it/s]/opt/anaconda3/envs/add_librosa/lib/python3.7/site-packages/librosa/core/audio.py:161: UserWarning: PySoundFile failed. Trying audioread instead.\n",
      "  warnings.warn('PySoundFile failed. Trying audioread instead.')\n",
      "Saving vectors of label - 'firearm_test_bal':   5%|▍         | 5/111 [00:00<00:12,  8.39it/s]/opt/anaconda3/envs/add_librosa/lib/python3.7/site-packages/librosa/core/audio.py:161: UserWarning: PySoundFile failed. Trying audioread instead.\n",
      "  warnings.warn('PySoundFile failed. Trying audioread instead.')\n",
      "Saving vectors of label - 'firearm_test_bal':   6%|▋         | 7/111 [00:01<00:16,  6.43it/s]/opt/anaconda3/envs/add_librosa/lib/python3.7/site-packages/librosa/core/audio.py:161: UserWarning: PySoundFile failed. Trying audioread instead.\n",
      "  warnings.warn('PySoundFile failed. Trying audioread instead.')\n",
      "Saving vectors of label - 'firearm_test_bal':  13%|█▎        | 14/111 [00:02<00:16,  5.94it/s]/opt/anaconda3/envs/add_librosa/lib/python3.7/site-packages/librosa/core/audio.py:161: UserWarning: PySoundFile failed. Trying audioread instead.\n",
      "  warnings.warn('PySoundFile failed. Trying audioread instead.')\n",
      "Saving vectors of label - 'firearm_test_bal':  15%|█▌        | 17/111 [00:03<00:24,  3.90it/s]/opt/anaconda3/envs/add_librosa/lib/python3.7/site-packages/librosa/core/audio.py:161: UserWarning: PySoundFile failed. Trying audioread instead.\n",
      "  warnings.warn('PySoundFile failed. Trying audioread instead.')\n",
      "Saving vectors of label - 'firearm_test_bal':  19%|█▉        | 21/111 [00:03<00:14,  6.02it/s]/opt/anaconda3/envs/add_librosa/lib/python3.7/site-packages/librosa/core/audio.py:161: UserWarning: PySoundFile failed. Trying audioread instead.\n",
      "  warnings.warn('PySoundFile failed. Trying audioread instead.')\n",
      "Saving vectors of label - 'firearm_test_bal':  23%|██▎       | 25/111 [00:04<00:22,  3.76it/s]/opt/anaconda3/envs/add_librosa/lib/python3.7/site-packages/librosa/core/audio.py:161: UserWarning: PySoundFile failed. Trying audioread instead.\n",
      "  warnings.warn('PySoundFile failed. Trying audioread instead.')\n",
      "Saving vectors of label - 'firearm_test_bal':  25%|██▌       | 28/111 [00:05<00:16,  5.19it/s]/opt/anaconda3/envs/add_librosa/lib/python3.7/site-packages/librosa/core/audio.py:161: UserWarning: PySoundFile failed. Trying audioread instead.\n",
      "  warnings.warn('PySoundFile failed. Trying audioread instead.')\n",
      "Saving vectors of label - 'firearm_test_bal':  31%|███       | 34/111 [00:05<00:10,  7.44it/s]/opt/anaconda3/envs/add_librosa/lib/python3.7/site-packages/librosa/core/audio.py:161: UserWarning: PySoundFile failed. Trying audioread instead.\n",
      "  warnings.warn('PySoundFile failed. Trying audioread instead.')\n",
      "Saving vectors of label - 'firearm_test_bal':  56%|█████▌    | 62/111 [00:09<00:07,  6.23it/s]/opt/anaconda3/envs/add_librosa/lib/python3.7/site-packages/librosa/core/audio.py:161: UserWarning: PySoundFile failed. Trying audioread instead.\n",
      "  warnings.warn('PySoundFile failed. Trying audioread instead.')\n",
      "Saving vectors of label - 'firearm_test_bal':  58%|█████▊    | 64/111 [00:10<00:11,  4.03it/s]/opt/anaconda3/envs/add_librosa/lib/python3.7/site-packages/librosa/core/audio.py:161: UserWarning: PySoundFile failed. Trying audioread instead.\n",
      "  warnings.warn('PySoundFile failed. Trying audioread instead.')\n",
      "Saving vectors of label - 'firearm_test_bal':  59%|█████▊    | 65/111 [00:10<00:10,  4.37it/s]/opt/anaconda3/envs/add_librosa/lib/python3.7/site-packages/librosa/core/audio.py:161: UserWarning: PySoundFile failed. Trying audioread instead.\n",
      "  warnings.warn('PySoundFile failed. Trying audioread instead.')\n",
      "Saving vectors of label - 'firearm_test_bal':  68%|██████▊   | 76/111 [00:12<00:05,  6.71it/s]/opt/anaconda3/envs/add_librosa/lib/python3.7/site-packages/librosa/core/audio.py:161: UserWarning: PySoundFile failed. Trying audioread instead.\n",
      "  warnings.warn('PySoundFile failed. Trying audioread instead.')\n",
      "Saving vectors of label - 'firearm_test_bal':  69%|██████▉   | 77/111 [00:12<00:06,  5.41it/s]/opt/anaconda3/envs/add_librosa/lib/python3.7/site-packages/librosa/core/audio.py:161: UserWarning: PySoundFile failed. Trying audioread instead.\n",
      "  warnings.warn('PySoundFile failed. Trying audioread instead.')\n",
      "Saving vectors of label - 'firearm_test_bal':  70%|███████   | 78/111 [00:12<00:06,  4.76it/s]/opt/anaconda3/envs/add_librosa/lib/python3.7/site-packages/librosa/core/audio.py:161: UserWarning: PySoundFile failed. Trying audioread instead.\n",
      "  warnings.warn('PySoundFile failed. Trying audioread instead.')\n",
      "Saving vectors of label - 'firearm_test_bal':  79%|███████▉  | 88/111 [00:14<00:03,  7.26it/s]/opt/anaconda3/envs/add_librosa/lib/python3.7/site-packages/librosa/core/audio.py:161: UserWarning: PySoundFile failed. Trying audioread instead.\n",
      "  warnings.warn('PySoundFile failed. Trying audioread instead.')\n",
      "Saving vectors of label - 'firearm_test_bal':  80%|████████  | 89/111 [00:14<00:03,  5.60it/s]/opt/anaconda3/envs/add_librosa/lib/python3.7/site-packages/librosa/core/audio.py:161: UserWarning: PySoundFile failed. Trying audioread instead.\n",
      "  warnings.warn('PySoundFile failed. Trying audioread instead.')\n",
      "Saving vectors of label - 'firearm_test_bal':  84%|████████▍ | 93/111 [00:14<00:03,  5.99it/s]/opt/anaconda3/envs/add_librosa/lib/python3.7/site-packages/librosa/core/audio.py:161: UserWarning: PySoundFile failed. Trying audioread instead.\n",
      "  warnings.warn('PySoundFile failed. Trying audioread instead.')\n",
      "Saving vectors of label - 'firearm_test_bal':  86%|████████▌ | 95/111 [00:15<00:02,  5.97it/s]/opt/anaconda3/envs/add_librosa/lib/python3.7/site-packages/librosa/core/audio.py:161: UserWarning: PySoundFile failed. Trying audioread instead.\n",
      "  warnings.warn('PySoundFile failed. Trying audioread instead.')\n",
      "Saving vectors of label - 'firearm_test_bal': 100%|██████████| 111/111 [00:17<00:00,  6.22it/s]\n"
     ]
    }
   ],
   "source": [
    "save_data_to_array(max_len=config.max_len, n_mfcc=config.buckets)\n",
    "labels=[\"firearm_test_bal\", \"nonfirearm_test_bal\"]"
   ]
  },
  {
   "cell_type": "code",
   "execution_count": 25,
   "metadata": {},
   "outputs": [
    {
     "name": "stdout",
     "output_type": "stream",
     "text": [
      "The number of non firearms 110\n",
      "The number of firearms 111\n"
     ]
    }
   ],
   "source": [
    "x_non = np.load(labels[1] + '.npy')\n",
    "print('The number of non firearms',len(x_non))\n",
    "x_fa= np.load(labels[0] + '.npy')\n",
    "print('The number of firearms',len(x_fa))"
   ]
  },
  {
   "cell_type": "code",
   "execution_count": 26,
   "metadata": {
    "scrolled": true
   },
   "outputs": [
    {
     "name": "stdout",
     "output_type": "stream",
     "text": [
      "The number of labels is:  2\n"
     ]
    }
   ],
   "source": [
    "X_test, X_none, y_test, y_none = get_test()"
   ]
  },
  {
   "cell_type": "code",
   "execution_count": 27,
   "metadata": {},
   "outputs": [
    {
     "name": "stdout",
     "output_type": "stream",
     "text": [
      "(198, 20, 170)\n",
      "(198,)\n",
      "(23, 20, 170)\n",
      "(23,)\n"
     ]
    }
   ],
   "source": [
    "print(X_test.shape)\n",
    "print(y_test.shape)\n",
    "print(X_none.shape)\n",
    "print(y_none.shape)"
   ]
  },
  {
   "cell_type": "markdown",
   "metadata": {},
   "source": [
    "The code above split the data, but below I have recombined it to test on the entire test data set. "
   ]
  },
  {
   "cell_type": "code",
   "execution_count": 28,
   "metadata": {},
   "outputs": [
    {
     "name": "stdout",
     "output_type": "stream",
     "text": [
      "(221, 20, 170)\n",
      "(221,)\n"
     ]
    }
   ],
   "source": [
    "X_test=np.concatenate((X_test,X_none),axis=0)\n",
    "Y_test=np.concatenate((y_test,y_none),axis=0)\n",
    "print(X_test.shape)\n",
    "print(Y_test.shape)"
   ]
  },
  {
   "cell_type": "markdown",
   "metadata": {},
   "source": [
    "Reshape the test data set. "
   ]
  },
  {
   "cell_type": "code",
   "execution_count": 29,
   "metadata": {
    "scrolled": false
   },
   "outputs": [
    {
     "name": "stdout",
     "output_type": "stream",
     "text": [
      "(221, 20, 170, 1)\n"
     ]
    }
   ],
   "source": [
    "X_test = X_test.reshape(X_test.shape[0], config.buckets, config.max_len, channels)\n",
    "print(X_test.shape)"
   ]
  },
  {
   "cell_type": "markdown",
   "metadata": {},
   "source": [
    "Convert to categorical columns. "
   ]
  },
  {
   "cell_type": "code",
   "execution_count": 30,
   "metadata": {
    "scrolled": true
   },
   "outputs": [
    {
     "name": "stdout",
     "output_type": "stream",
     "text": [
      "(221, 2)\n"
     ]
    }
   ],
   "source": [
    "Y_test_hot = to_categorical(Y_test)\n",
    "print(Y_test_hot.shape)"
   ]
  },
  {
   "cell_type": "markdown",
   "metadata": {},
   "source": [
    "Similarly as above, I have verified the content of the categorical values:"
   ]
  },
  {
   "cell_type": "code",
   "execution_count": 31,
   "metadata": {
    "scrolled": true
   },
   "outputs": [
    {
     "data": {
      "text/plain": [
       "0    110.0\n",
       "1    111.0\n",
       "dtype: float32"
      ]
     },
     "execution_count": 31,
     "metadata": {},
     "output_type": "execute_result"
    }
   ],
   "source": [
    "pd.DataFrame(Y_test_hot).sum()"
   ]
  },
  {
   "cell_type": "markdown",
   "metadata": {},
   "source": [
    "This corresponds to the patterns above, where the ones in the 0th row correspond to nonfirearm sounds, and ones in the 1st row correspond to firearm sounds. Thus, there are 110 nonfirearm sounds, and there are 111 firearm sounds. \n",
    "\n",
    "Below, I have applied the model to the test data set using `model.evaluate`. "
   ]
  },
  {
   "cell_type": "code",
   "execution_count": 32,
   "metadata": {
    "scrolled": true
   },
   "outputs": [
    {
     "name": "stdout",
     "output_type": "stream",
     "text": [
      "7/7 [==============================] - 0s 2ms/step - loss: 296.3967 - accuracy: 0.8914\n",
      "\n",
      "The accuracy is: 89.1 %\n"
     ]
    }
   ],
   "source": [
    "m_eval=model.evaluate(X_test, np.abs(Y_test_hot))\n",
    "accuracy=round(m_eval[1]*100,1)\n",
    "print('\\nThe accuracy is:', accuracy,'%')"
   ]
  },
  {
   "cell_type": "markdown",
   "metadata": {},
   "source": [
    "Similarly, I can apply the model with `model.predict` to obtain the output predictions from each MFCC spectrogram. "
   ]
  },
  {
   "cell_type": "code",
   "execution_count": 33,
   "metadata": {},
   "outputs": [],
   "source": [
    "Y_predict=model.predict(X_test)"
   ]
  },
  {
   "cell_type": "code",
   "execution_count": 34,
   "metadata": {
    "scrolled": true
   },
   "outputs": [
    {
     "data": {
      "text/html": [
       "<div>\n",
       "<style scoped>\n",
       "    .dataframe tbody tr th:only-of-type {\n",
       "        vertical-align: middle;\n",
       "    }\n",
       "\n",
       "    .dataframe tbody tr th {\n",
       "        vertical-align: top;\n",
       "    }\n",
       "\n",
       "    .dataframe thead th {\n",
       "        text-align: right;\n",
       "    }\n",
       "</style>\n",
       "<table border=\"1\" class=\"dataframe\">\n",
       "  <thead>\n",
       "    <tr style=\"text-align: right;\">\n",
       "      <th></th>\n",
       "      <th>0</th>\n",
       "      <th>1</th>\n",
       "    </tr>\n",
       "  </thead>\n",
       "  <tbody>\n",
       "    <tr>\n",
       "      <th>0</th>\n",
       "      <td>1.0</td>\n",
       "      <td>0.0</td>\n",
       "    </tr>\n",
       "    <tr>\n",
       "      <th>1</th>\n",
       "      <td>0.0</td>\n",
       "      <td>1.0</td>\n",
       "    </tr>\n",
       "    <tr>\n",
       "      <th>2</th>\n",
       "      <td>0.0</td>\n",
       "      <td>1.0</td>\n",
       "    </tr>\n",
       "    <tr>\n",
       "      <th>3</th>\n",
       "      <td>0.0</td>\n",
       "      <td>1.0</td>\n",
       "    </tr>\n",
       "    <tr>\n",
       "      <th>4</th>\n",
       "      <td>1.0</td>\n",
       "      <td>0.0</td>\n",
       "    </tr>\n",
       "    <tr>\n",
       "      <th>...</th>\n",
       "      <td>...</td>\n",
       "      <td>...</td>\n",
       "    </tr>\n",
       "    <tr>\n",
       "      <th>216</th>\n",
       "      <td>0.0</td>\n",
       "      <td>1.0</td>\n",
       "    </tr>\n",
       "    <tr>\n",
       "      <th>217</th>\n",
       "      <td>1.0</td>\n",
       "      <td>0.0</td>\n",
       "    </tr>\n",
       "    <tr>\n",
       "      <th>218</th>\n",
       "      <td>0.0</td>\n",
       "      <td>1.0</td>\n",
       "    </tr>\n",
       "    <tr>\n",
       "      <th>219</th>\n",
       "      <td>1.0</td>\n",
       "      <td>0.0</td>\n",
       "    </tr>\n",
       "    <tr>\n",
       "      <th>220</th>\n",
       "      <td>0.0</td>\n",
       "      <td>1.0</td>\n",
       "    </tr>\n",
       "  </tbody>\n",
       "</table>\n",
       "<p>221 rows × 2 columns</p>\n",
       "</div>"
      ],
      "text/plain": [
       "       0    1\n",
       "0    1.0  0.0\n",
       "1    0.0  1.0\n",
       "2    0.0  1.0\n",
       "3    0.0  1.0\n",
       "4    1.0  0.0\n",
       "..   ...  ...\n",
       "216  0.0  1.0\n",
       "217  1.0  0.0\n",
       "218  0.0  1.0\n",
       "219  1.0  0.0\n",
       "220  0.0  1.0\n",
       "\n",
       "[221 rows x 2 columns]"
      ]
     },
     "execution_count": 34,
     "metadata": {},
     "output_type": "execute_result"
    }
   ],
   "source": [
    "pd.DataFrame(Y_predict.round())"
   ]
  },
  {
   "cell_type": "markdown",
   "metadata": {},
   "source": [
    "How well did it do at predicting? "
   ]
  },
  {
   "cell_type": "code",
   "execution_count": 35,
   "metadata": {},
   "outputs": [
    {
     "data": {
      "text/plain": [
       "0    108.0\n",
       "1    113.0\n",
       "dtype: float32"
      ]
     },
     "execution_count": 35,
     "metadata": {},
     "output_type": "execute_result"
    }
   ],
   "source": [
    "pd.DataFrame(Y_predict.round()).sum()"
   ]
  },
  {
   "cell_type": "code",
   "execution_count": 36,
   "metadata": {
    "scrolled": false
   },
   "outputs": [
    {
     "data": {
      "text/plain": [
       "0    110.0\n",
       "1    111.0\n",
       "dtype: float32"
      ]
     },
     "execution_count": 36,
     "metadata": {},
     "output_type": "execute_result"
    }
   ],
   "source": [
    "pd.DataFrame(Y_test_hot).sum()"
   ]
  },
  {
   "cell_type": "markdown",
   "metadata": {},
   "source": [
    "It appears that the model miscategorized 10 of the non-firearm sounds as firearm sounds. "
   ]
  },
  {
   "cell_type": "code",
   "execution_count": 37,
   "metadata": {},
   "outputs": [
    {
     "data": {
      "text/plain": [
       "0    326.0\n",
       "1    342.0\n",
       "dtype: float32"
      ]
     },
     "execution_count": 37,
     "metadata": {},
     "output_type": "execute_result"
    }
   ],
   "source": [
    "pd.DataFrame(y_train_hot).sum()"
   ]
  },
  {
   "cell_type": "code",
   "execution_count": 38,
   "metadata": {
    "scrolled": false
   },
   "outputs": [
    {
     "data": {
      "text/plain": [
       "110.0"
      ]
     },
     "execution_count": 38,
     "metadata": {},
     "output_type": "execute_result"
    }
   ],
   "source": [
    "Y_test_hot[:,0:1].sum()"
   ]
  },
  {
   "cell_type": "code",
   "execution_count": 39,
   "metadata": {
    "scrolled": true
   },
   "outputs": [
    {
     "data": {
      "text/plain": [
       "111.0"
      ]
     },
     "execution_count": 39,
     "metadata": {},
     "output_type": "execute_result"
    }
   ],
   "source": [
    "Y_test_hot[:,1].sum()"
   ]
  },
  {
   "cell_type": "markdown",
   "metadata": {},
   "source": [
    "The results will be easier to observe through a confusion matrix: "
   ]
  },
  {
   "cell_type": "code",
   "execution_count": 40,
   "metadata": {},
   "outputs": [],
   "source": [
    "import sklearn\n",
    "conf_mat1=sklearn.metrics.confusion_matrix(pd.DataFrame(Y_test_hot)[1],pd.DataFrame(Y_predict).round()[1])"
   ]
  },
  {
   "cell_type": "code",
   "execution_count": 41,
   "metadata": {
    "scrolled": false
   },
   "outputs": [
    {
     "data": {
      "text/plain": [
       "<matplotlib.axes._subplots.AxesSubplot at 0x7fa8312f0950>"
      ]
     },
     "execution_count": 41,
     "metadata": {},
     "output_type": "execute_result"
    },
    {
     "data": {
      "image/png": "[encoded data removed]",
      "text/plain": [
       "<Figure size 720x504 with 2 Axes>"
      ]
     },
     "metadata": {
      "needs_background": "light"
     },
     "output_type": "display_data"
    }
   ],
   "source": [
    "import seaborn as sn \n",
    "\n",
    "df_cm = pd.DataFrame(conf_mat1, index = [i for i in \"01\"],\n",
    "                  columns = [i for i in \"01\"])\n",
    "plt.figure(figsize = (10,7))\n",
    "sn.heatmap(df_cm, annot=True,annot_kws={\"size\": 20},cmap=\"GnBu\",cbar_kws={'label': 'Count'},fmt='d')"
   ]
  },
  {
   "cell_type": "markdown",
   "metadata": {},
   "source": [
    "\n",
    "* The element, c$_{0,0}$, is equal to 94.  This indicates that there are 94 true negatives.\n",
    "* The element, c$_{1,0}$, is equal to 6.  This indicates that there are 6 false negatives.\n",
    "* The element, c$_{0,1}$, is equal to 16.  This indicates that there are 16 false positives. \n",
    "* The element, c$_{1,1}$, is equal to 105.  Thus, there are 105 true positives. \n",
    "\n",
    "In the context of predicting firearms, the presence of false negatives is grave.  This means that the 6 sounds were actually the sounds of firearms, but it was predicted that they were not. "
   ]
  },
  {
   "cell_type": "markdown",
   "metadata": {},
   "source": [
    "Below, I have saved the model. "
   ]
  },
  {
   "cell_type": "code",
   "execution_count": 42,
   "metadata": {},
   "outputs": [],
   "source": [
    "# models_path='../models/'\n",
    "# filename = 'bal_seq_nn_model'+str(accuracy)+'_accuracy.h5'\n",
    "# nn_model = models_path+filename\n",
    "\n",
    "# print(nn_model)\n",
    "# model.save(nn_model)"
   ]
  },
  {
   "cell_type": "markdown",
   "metadata": {},
   "source": [
    "## Adding Convolution "
   ]
  },
  {
   "cell_type": "markdown",
   "metadata": {},
   "source": [
    "Next, I have shown how adding a convolution layer can affect the results of the model. The following draws inspiration from LeNet-5. \n",
    "\n",
    "* The learning rate is specified by `alpha`\n",
    "* The input shape is specified to (20, 170, 1)\n",
    "\n",
    "The CNN:\n",
    "* There is a convolusion layer with 8 output filters, a (3,3) kernel_size (height and width of the 2D convolution window), and 'relu' activation. \n",
    "* There is a MaxPooling layer with pool_size=(2,2) and strides=2. Thus, the input is downsampled by taking the maximum value over the (2,2) window  for each dimension along the features axis. \n",
    "* There is a second convolusion layer with 16 output filters, a (5,5) kernel_size (height and width of the 2D convolution window), and 'relu' activation. \n",
    "* There is a MaxPooling layer with pool_size=(2,2) and strides=2. \n",
    "\n",
    "\n",
    "* Next, there are two fully connected layers. \n",
    "* Last, is the output. "
   ]
  },
  {
   "cell_type": "code",
   "execution_count": 162,
   "metadata": {},
   "outputs": [],
   "source": [
    "#input_shape=(batch_size, channels, rows, cols)\n",
    "alpha=0.0001\n",
    "# config.epochs = 30 # hyperparameter\n",
    "input_shape=(20,170,1)\n",
    "\n",
    "model2 = Sequential()\n",
    "model2.add(Conv2D(filters=8,\n",
    "                  kernel_size=(3,3),\n",
    "                  input_shape=input_shape,\n",
    "                  activation='relu',\n",
    "                  padding='valid',\n",
    "                  data_format='channels_last')\n",
    "          )\n",
    "model2.add(MaxPooling2D(pool_size=(2, 2),\n",
    "                       strides=2)\n",
    "          )\n",
    "model2.add(Conv2D(filters=16, \n",
    "                  kernel_size=(5, 5), \n",
    "                  activation='relu')\n",
    "          )\n",
    "model2.add(MaxPooling2D(pool_size=(2, 2),\n",
    "                        strides=2)\n",
    "          )\n",
    "model2.add(Flatten())\n",
    "model2.add(Dense(128, activation='relu'))\n",
    "model2.add(Dense(units=84, activation='relu'))\n",
    "model2.add(Dense(num_classes, activation='softmax'))\n",
    "\n",
    "opt2 = keras.optimizers.Adam(learning_rate=alpha)\n",
    "\n",
    "model2.compile(loss=\"categorical_crossentropy\",\n",
    "              optimizer=opt2,\n",
    "              metrics=['accuracy'])"
   ]
  },
  {
   "cell_type": "code",
   "execution_count": 163,
   "metadata": {},
   "outputs": [
    {
     "name": "stdout",
     "output_type": "stream",
     "text": [
      "Model: \"sequential_17\"\n",
      "_________________________________________________________________\n",
      "Layer (type)                 Output Shape              Param #   \n",
      "=================================================================\n",
      "conv2d_20 (Conv2D)           (None, 18, 168, 8)        80        \n",
      "_________________________________________________________________\n",
      "max_pooling2d_20 (MaxPooling (None, 9, 84, 8)          0         \n",
      "_________________________________________________________________\n",
      "conv2d_21 (Conv2D)           (None, 5, 80, 16)         3216      \n",
      "_________________________________________________________________\n",
      "max_pooling2d_21 (MaxPooling (None, 2, 40, 16)         0         \n",
      "_________________________________________________________________\n",
      "flatten_17 (Flatten)         (None, 1280)              0         \n",
      "_________________________________________________________________\n",
      "dense_32 (Dense)             (None, 128)               163968    \n",
      "_________________________________________________________________\n",
      "dense_33 (Dense)             (None, 84)                10836     \n",
      "_________________________________________________________________\n",
      "dense_34 (Dense)             (None, 2)                 170       \n",
      "=================================================================\n",
      "Total params: 178,270\n",
      "Trainable params: 178,270\n",
      "Non-trainable params: 0\n",
      "_________________________________________________________________\n"
     ]
    }
   ],
   "source": [
    "model2.summary()"
   ]
  },
  {
   "cell_type": "code",
   "execution_count": 152,
   "metadata": {},
   "outputs": [
    {
     "name": "stdout",
     "output_type": "stream",
     "text": [
      "(668, 20, 170)\n",
      "(668, 20, 170, 1)\n",
      "(668, 2)\n",
      "(223, 20, 170)\n",
      "(223, 20, 170, 1)\n",
      "(223, 2)\n",
      "20\n",
      "170\n",
      "1\n"
     ]
    }
   ],
   "source": [
    "print(X_train.shape)\n",
    "print(np.reshape(X_train,(668,20,170,1)).shape)\n",
    "X_train2=np.reshape(X_train,(668,20,170,1))\n",
    "print(y_train_hot.shape)\n",
    "print(X_val.shape)\n",
    "X_val2=np.reshape(X_val,(223,20,170,1))\n",
    "print(X_val2.shape)\n",
    "print(y_val_hot.shape)\n",
    "print(config.buckets)\n",
    "print(config.max_len)\n",
    "print(channels)"
   ]
  },
  {
   "cell_type": "markdown",
   "metadata": {},
   "source": [
    "Fit this model with convolution to the training and validation data. "
   ]
  },
  {
   "cell_type": "code",
   "execution_count": 164,
   "metadata": {
    "scrolled": true
   },
   "outputs": [
    {
     "name": "stdout",
     "output_type": "stream",
     "text": [
      "Epoch 1/30\n",
      "21/21 [==============================] - 1s 33ms/step - loss: 3.0992 - accuracy: 0.4671 - val_loss: 0.8439 - val_accuracy: 0.7623\n",
      "Epoch 2/30\n",
      "21/21 [==============================] - 1s 25ms/step - loss: 0.7747 - accuracy: 0.7874 - val_loss: 0.3814 - val_accuracy: 0.9103\n",
      "Epoch 3/30\n",
      "21/21 [==============================] - 0s 20ms/step - loss: 0.4644 - accuracy: 0.8473 - val_loss: 0.2822 - val_accuracy: 0.9058\n",
      "Epoch 4/30\n",
      "21/21 [==============================] - 0s 22ms/step - loss: 0.2835 - accuracy: 0.8952 - val_loss: 0.2686 - val_accuracy: 0.9148\n",
      "Epoch 5/30\n",
      "21/21 [==============================] - 0s 22ms/step - loss: 0.1850 - accuracy: 0.9401 - val_loss: 0.2113 - val_accuracy: 0.9417\n",
      "Epoch 6/30\n",
      "21/21 [==============================] - 0s 21ms/step - loss: 0.1205 - accuracy: 0.9641 - val_loss: 0.2264 - val_accuracy: 0.9283\n",
      "Epoch 7/30\n",
      "21/21 [==============================] - 0s 18ms/step - loss: 0.0929 - accuracy: 0.9671 - val_loss: 0.2085 - val_accuracy: 0.9507\n",
      "Epoch 8/30\n",
      "21/21 [==============================] - 0s 17ms/step - loss: 0.0670 - accuracy: 0.9820 - val_loss: 0.2033 - val_accuracy: 0.9507\n",
      "Epoch 9/30\n",
      "21/21 [==============================] - 0s 20ms/step - loss: 0.0500 - accuracy: 0.9880 - val_loss: 0.2076 - val_accuracy: 0.9462\n",
      "Epoch 10/30\n",
      "21/21 [==============================] - 0s 19ms/step - loss: 0.0436 - accuracy: 0.9910 - val_loss: 0.2106 - val_accuracy: 0.9462\n",
      "Epoch 11/30\n",
      "21/21 [==============================] - 0s 22ms/step - loss: 0.0334 - accuracy: 0.9970 - val_loss: 0.1974 - val_accuracy: 0.9552\n",
      "Epoch 12/30\n",
      "21/21 [==============================] - 0s 21ms/step - loss: 0.0286 - accuracy: 0.9970 - val_loss: 0.2036 - val_accuracy: 0.9462\n",
      "Epoch 13/30\n",
      "21/21 [==============================] - 0s 21ms/step - loss: 0.0251 - accuracy: 0.9985 - val_loss: 0.1899 - val_accuracy: 0.9552\n",
      "Epoch 14/30\n",
      "21/21 [==============================] - 0s 21ms/step - loss: 0.0220 - accuracy: 0.9985 - val_loss: 0.1898 - val_accuracy: 0.9596\n",
      "Epoch 15/30\n",
      "21/21 [==============================] - 0s 21ms/step - loss: 0.0179 - accuracy: 0.9985 - val_loss: 0.2070 - val_accuracy: 0.9462\n",
      "Epoch 16/30\n",
      "21/21 [==============================] - 0s 20ms/step - loss: 0.0167 - accuracy: 0.9985 - val_loss: 0.2208 - val_accuracy: 0.9462\n",
      "Epoch 17/30\n",
      "21/21 [==============================] - 0s 19ms/step - loss: 0.0153 - accuracy: 0.9985 - val_loss: 0.1974 - val_accuracy: 0.9552\n",
      "Epoch 18/30\n",
      "21/21 [==============================] - 0s 21ms/step - loss: 0.0120 - accuracy: 0.9985 - val_loss: 0.2086 - val_accuracy: 0.9462\n",
      "Epoch 19/30\n",
      "21/21 [==============================] - 0s 20ms/step - loss: 0.0109 - accuracy: 1.0000 - val_loss: 0.1990 - val_accuracy: 0.9552\n",
      "Epoch 20/30\n",
      "21/21 [==============================] - 0s 20ms/step - loss: 0.0111 - accuracy: 0.9985 - val_loss: 0.2350 - val_accuracy: 0.9372\n",
      "Epoch 21/30\n",
      "21/21 [==============================] - 0s 21ms/step - loss: 0.0092 - accuracy: 1.0000 - val_loss: 0.2077 - val_accuracy: 0.9507\n",
      "Epoch 22/30\n",
      "21/21 [==============================] - 0s 22ms/step - loss: 0.0077 - accuracy: 1.0000 - val_loss: 0.2026 - val_accuracy: 0.9552\n",
      "Epoch 23/30\n",
      "21/21 [==============================] - 0s 23ms/step - loss: 0.0072 - accuracy: 1.0000 - val_loss: 0.2037 - val_accuracy: 0.9552\n",
      "Epoch 24/30\n",
      "21/21 [==============================] - 0s 23ms/step - loss: 0.0067 - accuracy: 1.0000 - val_loss: 0.2085 - val_accuracy: 0.9507\n",
      "Epoch 25/30\n",
      "21/21 [==============================] - 0s 23ms/step - loss: 0.0060 - accuracy: 1.0000 - val_loss: 0.2132 - val_accuracy: 0.9507\n",
      "Epoch 26/30\n",
      "21/21 [==============================] - 0s 22ms/step - loss: 0.0056 - accuracy: 1.0000 - val_loss: 0.2192 - val_accuracy: 0.9462\n",
      "Epoch 27/30\n",
      "21/21 [==============================] - 1s 24ms/step - loss: 0.0051 - accuracy: 1.0000 - val_loss: 0.2075 - val_accuracy: 0.9552\n",
      "Epoch 28/30\n",
      "21/21 [==============================] - 0s 22ms/step - loss: 0.0048 - accuracy: 1.0000 - val_loss: 0.2201 - val_accuracy: 0.9462\n",
      "Epoch 29/30\n",
      "21/21 [==============================] - 0s 22ms/step - loss: 0.0044 - accuracy: 1.0000 - val_loss: 0.2112 - val_accuracy: 0.9552\n",
      "Epoch 30/30\n",
      "21/21 [==============================] - 0s 21ms/step - loss: 0.0041 - accuracy: 1.0000 - val_loss: 0.2098 - val_accuracy: 0.9552\n"
     ]
    }
   ],
   "source": [
    "# history2=model2.fit(X_train2, y_train_hot, epochs=epochs.config, validation_data=(X_val2, y_val_hot), callbacks=[WandbCallback(data_type=\"image\", labels=labels)])\n",
    "history2=model2.fit(X_train2, y_train_hot, epochs=30, validation_data=(X_val2, y_val_hot))#, callbacks=[WandbCallback(data_type=\"image\", labels=labels)])"
   ]
  },
  {
   "cell_type": "markdown",
   "metadata": {},
   "source": [
    "Evaluate the accuracy of the model to some test data with `model2.evaluation`."
   ]
  },
  {
   "cell_type": "code",
   "execution_count": 165,
   "metadata": {},
   "outputs": [
    {
     "name": "stdout",
     "output_type": "stream",
     "text": [
      "7/7 [==============================] - 0s 5ms/step - loss: 0.1041 - accuracy: 0.9593\n",
      "\n",
      "The accuracy is: 95.9 %\n"
     ]
    }
   ],
   "source": [
    "m2_eval=model2.evaluate(X_test, np.abs(Y_test_hot))\n",
    "accuracy2=round(m2_eval[1]*100,1)\n",
    "print('\\nThe accuracy is:', accuracy2,'%')"
   ]
  },
  {
   "cell_type": "markdown",
   "metadata": {},
   "source": [
    "The results of the fit are shown below: "
   ]
  },
  {
   "cell_type": "code",
   "execution_count": 166,
   "metadata": {
    "scrolled": true
   },
   "outputs": [
    {
     "data": {
      "image/png": "[encoded data removed]",
      "text/plain": [
       "<Figure size 576x360 with 1 Axes>"
      ]
     },
     "metadata": {
      "needs_background": "light"
     },
     "output_type": "display_data"
    }
   ],
   "source": [
    "pd.DataFrame(history2.history).plot(figsize=(8,5),fontsize=20)\n",
    "plt.grid(True)\n",
    "plt.gca().set_ylim(0,1)\n",
    "plt.xlabel('Epochs',fontsize=20)\n",
    "plt.ylabel('Accuracy and Loss',fontsize=20)\n",
    "plt.show();\n",
    "# save the figure\n",
    "# plt.savefig('../reports/CNN_'+'alpha_'+str(alpha)+'_'+str(accuracy2)+'.png')"
   ]
  },
  {
   "cell_type": "markdown",
   "metadata": {},
   "source": [
    "* The loss function decreases gradually, and plateaus after 20 epochs. \n",
    "* The accuracy plateaus to 100% , and the validation accuracy approaches 95%. "
   ]
  },
  {
   "cell_type": "markdown",
   "metadata": {},
   "source": [
    "Save the CNN model:"
   ]
  },
  {
   "cell_type": "code",
   "execution_count": null,
   "metadata": {},
   "outputs": [],
   "source": [
    "# models_path='../models/'\n",
    "# filename = 'bal_cnn_model_accuracy_' +str(accuracy2)+'_alpha_'+str(alpha)+'.h5'\n",
    "# cnn_model = models_path+filename\n",
    "\n",
    "# print(cnn_model)\n",
    "# model2.save(cnn_model)"
   ]
  },
  {
   "cell_type": "markdown",
   "metadata": {},
   "source": [
    "Next, run a prediction and visualize the results with a confusion matrix: "
   ]
  },
  {
   "cell_type": "code",
   "execution_count": 167,
   "metadata": {},
   "outputs": [],
   "source": [
    "Y_predict2=model2.predict(X_test)\n",
    "# conf_mat2=sklearn.metrics.confusion_matrix(pd.DataFrame(Y_test_hot)[1],pd.DataFrame(Y_predict2).round()[1])"
   ]
  },
  {
   "cell_type": "code",
   "execution_count": 168,
   "metadata": {},
   "outputs": [],
   "source": [
    "conf_mat2=sklearn.metrics.confusion_matrix(pd.DataFrame(Y_test_hot)[1],pd.DataFrame(Y_predict2).round()[1])"
   ]
  },
  {
   "cell_type": "code",
   "execution_count": 169,
   "metadata": {
    "scrolled": true
   },
   "outputs": [
    {
     "data": {
      "text/plain": [
       "<matplotlib.axes._subplots.AxesSubplot at 0x7fa81fcfd710>"
      ]
     },
     "execution_count": 169,
     "metadata": {},
     "output_type": "execute_result"
    },
    {
     "data": {
      "image/png": "[encoded data removed]",
      "text/plain": [
       "<Figure size 540x450 with 2 Axes>"
      ]
     },
     "metadata": {
      "needs_background": "light"
     },
     "output_type": "display_data"
    }
   ],
   "source": [
    "df_cm = pd.DataFrame(conf_mat2, index = [i for i in \"01\"],\n",
    "                  columns = [i for i in \"01\"])\n",
    "plt.figure(figsize = (3,2.5),dpi=180)\n",
    "sn.heatmap(df_cm, annot=True,annot_kws={\"size\": 10},cmap=\"GnBu\",cbar_kws={'label': 'Count'},fmt='d')\n",
    "# plt.savefig('../reports/figures/CNN_confusion_mat_'+str(accuracy2)+'_alpha_'+str(alpha)+'.png')"
   ]
  },
  {
   "cell_type": "markdown",
   "metadata": {},
   "source": [
    "\n",
    "* The element, c$_{0,0}$, is equal to 106.  This indicates that there are 107 true negatives.\n",
    "* The element, c$_{1,0}$, is equal to 4.  This indicates that there are 4 false negatives.\n",
    "* The element, c$_{0,1}$, is equal to 5.  This indicates that there are 5 false positives. \n",
    "* The element, c$_{1,1}$, is equal to 106.  Thus, there are 106 true positives. \n",
    "\n",
    "This model performed significantly better relative to the model without convolution. However, there were still 4 false negatives.  "
   ]
  },
  {
   "cell_type": "markdown",
   "metadata": {},
   "source": [
    "## Modification to Architecture\n",
    "\n",
    "* The learning rate is specified by `alpha`\n",
    "* The input shape is specified to (20, 170, 1)\n",
    "\n",
    "The CNN is the same as previously described:\n",
    "* There is a convolusion layer with 8 output filters, a (3,3) kernel_size (height and width of the 2D convolution window), and 'relu' activation. \n",
    "* There is a MaxPooling layer with pool_size=(2,2) and strides=2. Thus, the input is downsampled by taking the maximum value over the (2,2) window  for each dimension along the features axis. \n",
    "* There is a second convolusion layer with 16 output filters, a (5,5) kernel_size (height and width of the 2D convolution window), and 'relu' activation. \n",
    "* There is a MaxPooling layer with pool_size=(2,2) and strides=2. \n",
    "\n",
    "Added an additional hidden layer:  \n",
    "\n",
    "* Finally, there are three fully connected layers. \n",
    "* Last, is the output. "
   ]
  },
  {
   "cell_type": "code",
   "execution_count": 219,
   "metadata": {},
   "outputs": [],
   "source": [
    "#input_shape=(batch_size, channels, rows, cols)\n",
    "alpha=0.0001\n",
    "# config.epochs = 30 # hyperparameter\n",
    "input_shape=(20,170,1)\n",
    "\n",
    "model3 = Sequential()\n",
    "# first convolution and max pooling\n",
    "model3.add(Conv2D(filters=8,\n",
    "                  kernel_size=(3,3),\n",
    "                  input_shape=input_shape,\n",
    "                  activation='relu',\n",
    "                  padding='valid',\n",
    "                  data_format='channels_last')\n",
    "          )\n",
    "model3.add(MaxPooling2D(pool_size=(2, 2),\n",
    "                       strides=2)\n",
    "          )\n",
    "# second convolution and max pooling\n",
    "model3.add(Conv2D(filters=16, \n",
    "                  kernel_size=(5,5),\n",
    "                  activation='relu')\n",
    "          )\n",
    "model3.add(MaxPooling2D(pool_size=(2, 2),\n",
    "                        strides=2)\n",
    "          )\n",
    "model3.add(Flatten())\n",
    "model3.add(Dense(128, activation='relu'))\n",
    "model3.add(Dense(units=64, activation='relu'))\n",
    "model3.add(Dense(units=32, activation='relu'))\n",
    "model3.add(Dense(num_classes, activation='softmax'))\n",
    "\n",
    "opt3 = keras.optimizers.Adam(learning_rate=alpha)\n",
    "\n",
    "model3.compile(loss=\"categorical_crossentropy\",\n",
    "              optimizer=opt3,\n",
    "              metrics=['accuracy'])"
   ]
  },
  {
   "cell_type": "code",
   "execution_count": 220,
   "metadata": {},
   "outputs": [
    {
     "name": "stdout",
     "output_type": "stream",
     "text": [
      "Model: \"sequential_39\"\n",
      "_________________________________________________________________\n",
      "Layer (type)                 Output Shape              Param #   \n",
      "=================================================================\n",
      "conv2d_72 (Conv2D)           (None, 18, 168, 8)        80        \n",
      "_________________________________________________________________\n",
      "max_pooling2d_69 (MaxPooling (None, 9, 84, 8)          0         \n",
      "_________________________________________________________________\n",
      "conv2d_73 (Conv2D)           (None, 5, 80, 16)         3216      \n",
      "_________________________________________________________________\n",
      "max_pooling2d_70 (MaxPooling (None, 2, 40, 16)         0         \n",
      "_________________________________________________________________\n",
      "flatten_31 (Flatten)         (None, 1280)              0         \n",
      "_________________________________________________________________\n",
      "dense_65 (Dense)             (None, 128)               163968    \n",
      "_________________________________________________________________\n",
      "dense_66 (Dense)             (None, 64)                8256      \n",
      "_________________________________________________________________\n",
      "dense_67 (Dense)             (None, 32)                2080      \n",
      "_________________________________________________________________\n",
      "dense_68 (Dense)             (None, 16)                528       \n",
      "_________________________________________________________________\n",
      "dense_69 (Dense)             (None, 2)                 34        \n",
      "=================================================================\n",
      "Total params: 178,162\n",
      "Trainable params: 178,162\n",
      "Non-trainable params: 0\n",
      "_________________________________________________________________\n"
     ]
    }
   ],
   "source": [
    "model3.summary()"
   ]
  },
  {
   "cell_type": "code",
   "execution_count": 221,
   "metadata": {
    "scrolled": true
   },
   "outputs": [
    {
     "name": "stdout",
     "output_type": "stream",
     "text": [
      "Epoch 1/30\n",
      "21/21 [==============================] - 1s 39ms/step - loss: 1.7234 - accuracy: 0.5793 - val_loss: 0.4182 - val_accuracy: 0.8610\n",
      "Epoch 2/30\n",
      "21/21 [==============================] - 1s 25ms/step - loss: 0.3744 - accuracy: 0.8623 - val_loss: 0.2819 - val_accuracy: 0.8834\n",
      "Epoch 3/30\n",
      "21/21 [==============================] - 0s 19ms/step - loss: 0.2501 - accuracy: 0.9012 - val_loss: 0.2802 - val_accuracy: 0.8834\n",
      "Epoch 4/30\n",
      "21/21 [==============================] - 0s 18ms/step - loss: 0.2056 - accuracy: 0.9132 - val_loss: 0.2859 - val_accuracy: 0.8700\n",
      "Epoch 5/30\n",
      "21/21 [==============================] - 0s 19ms/step - loss: 0.1681 - accuracy: 0.9326 - val_loss: 0.2482 - val_accuracy: 0.8924\n",
      "Epoch 6/30\n",
      "21/21 [==============================] - 0s 21ms/step - loss: 0.1491 - accuracy: 0.9446 - val_loss: 0.2169 - val_accuracy: 0.9058\n",
      "Epoch 7/30\n",
      "21/21 [==============================] - 0s 20ms/step - loss: 0.1392 - accuracy: 0.9386 - val_loss: 0.2242 - val_accuracy: 0.9103\n",
      "Epoch 8/30\n",
      "21/21 [==============================] - 0s 20ms/step - loss: 0.1168 - accuracy: 0.9596 - val_loss: 0.1859 - val_accuracy: 0.9327\n",
      "Epoch 9/30\n",
      "21/21 [==============================] - 1s 28ms/step - loss: 0.1179 - accuracy: 0.9506 - val_loss: 0.2291 - val_accuracy: 0.9193\n",
      "Epoch 10/30\n",
      "21/21 [==============================] - 1s 25ms/step - loss: 0.0913 - accuracy: 0.9671 - val_loss: 0.1863 - val_accuracy: 0.9238\n",
      "Epoch 11/30\n",
      "21/21 [==============================] - 1s 24ms/step - loss: 0.0806 - accuracy: 0.9790 - val_loss: 0.1969 - val_accuracy: 0.9327\n",
      "Epoch 12/30\n",
      "21/21 [==============================] - 0s 22ms/step - loss: 0.0662 - accuracy: 0.9805 - val_loss: 0.1863 - val_accuracy: 0.9327\n",
      "Epoch 13/30\n",
      "21/21 [==============================] - 0s 20ms/step - loss: 0.0621 - accuracy: 0.9865 - val_loss: 0.1873 - val_accuracy: 0.9283\n",
      "Epoch 14/30\n",
      "21/21 [==============================] - 0s 22ms/step - loss: 0.0518 - accuracy: 0.9895 - val_loss: 0.2075 - val_accuracy: 0.9193\n",
      "Epoch 15/30\n",
      "21/21 [==============================] - 0s 21ms/step - loss: 0.0463 - accuracy: 0.9925 - val_loss: 0.1972 - val_accuracy: 0.9327\n",
      "Epoch 16/30\n",
      "21/21 [==============================] - 0s 22ms/step - loss: 0.0458 - accuracy: 0.9910 - val_loss: 0.2188 - val_accuracy: 0.9283\n",
      "Epoch 17/30\n",
      "21/21 [==============================] - 0s 21ms/step - loss: 0.0404 - accuracy: 0.9910 - val_loss: 0.1892 - val_accuracy: 0.9372\n",
      "Epoch 18/30\n",
      "21/21 [==============================] - 0s 22ms/step - loss: 0.0344 - accuracy: 0.9940 - val_loss: 0.2278 - val_accuracy: 0.9193\n",
      "Epoch 19/30\n",
      "21/21 [==============================] - 0s 21ms/step - loss: 0.0346 - accuracy: 0.9940 - val_loss: 0.1761 - val_accuracy: 0.9417\n",
      "Epoch 20/30\n",
      "21/21 [==============================] - 0s 23ms/step - loss: 0.0317 - accuracy: 0.9925 - val_loss: 0.1866 - val_accuracy: 0.9327\n",
      "Epoch 21/30\n",
      "21/21 [==============================] - 0s 23ms/step - loss: 0.0297 - accuracy: 0.9970 - val_loss: 0.1791 - val_accuracy: 0.9372\n",
      "Epoch 22/30\n",
      "21/21 [==============================] - 0s 20ms/step - loss: 0.0292 - accuracy: 0.9910 - val_loss: 0.1966 - val_accuracy: 0.9417\n",
      "Epoch 23/30\n",
      "21/21 [==============================] - 1s 26ms/step - loss: 0.0213 - accuracy: 0.9970 - val_loss: 0.1955 - val_accuracy: 0.9417\n",
      "Epoch 24/30\n",
      "21/21 [==============================] - 0s 23ms/step - loss: 0.0176 - accuracy: 0.9985 - val_loss: 0.1925 - val_accuracy: 0.9417\n",
      "Epoch 25/30\n",
      "21/21 [==============================] - 0s 21ms/step - loss: 0.0157 - accuracy: 0.9985 - val_loss: 0.1945 - val_accuracy: 0.9417\n",
      "Epoch 26/30\n",
      "21/21 [==============================] - 0s 18ms/step - loss: 0.0140 - accuracy: 0.9985 - val_loss: 0.2054 - val_accuracy: 0.9327\n",
      "Epoch 27/30\n",
      "21/21 [==============================] - 0s 23ms/step - loss: 0.0141 - accuracy: 1.0000 - val_loss: 0.2093 - val_accuracy: 0.9372\n",
      "Epoch 28/30\n",
      "21/21 [==============================] - 0s 22ms/step - loss: 0.0133 - accuracy: 0.9985 - val_loss: 0.2039 - val_accuracy: 0.9372\n",
      "Epoch 29/30\n",
      "21/21 [==============================] - 0s 23ms/step - loss: 0.0110 - accuracy: 1.0000 - val_loss: 0.1847 - val_accuracy: 0.9417\n",
      "Epoch 30/30\n",
      "21/21 [==============================] - 0s 21ms/step - loss: 0.0101 - accuracy: 1.0000 - val_loss: 0.2089 - val_accuracy: 0.9372\n"
     ]
    }
   ],
   "source": [
    "history3=model3.fit(X_train2, y_train_hot, epochs=30, validation_data=(X_val2, y_val_hot))"
   ]
  },
  {
   "cell_type": "code",
   "execution_count": 216,
   "metadata": {
    "scrolled": false
   },
   "outputs": [
    {
     "data": {
      "image/png": "[encoded data removed]",
      "text/plain": [
       "<Figure size 576x360 with 1 Axes>"
      ]
     },
     "metadata": {
      "needs_background": "light"
     },
     "output_type": "display_data"
    }
   ],
   "source": [
    "pd.DataFrame(history3.history).plot(figsize=(8,5),fontsize=20)\n",
    "plt.grid(True)\n",
    "plt.gca().set_ylim(0,1)\n",
    "plt.xlabel('Epochs',fontsize=20)\n",
    "plt.ylabel('Accuracy and Loss',fontsize=20)\n",
    "plt.show();"
   ]
  },
  {
   "cell_type": "markdown",
   "metadata": {},
   "source": [
    "The loss of the training data (blue) is lower than that of the the loss of the validation data (green).  This indicates that the model may be overfitting the training data.  "
   ]
  },
  {
   "cell_type": "code",
   "execution_count": 217,
   "metadata": {},
   "outputs": [],
   "source": [
    "Y_predict3=model3.predict(X_test)\n",
    "conf_mat3=sklearn.metrics.confusion_matrix(pd.DataFrame(Y_test_hot)[1],pd.DataFrame(Y_predict3).round()[1])"
   ]
  },
  {
   "cell_type": "code",
   "execution_count": 218,
   "metadata": {
    "scrolled": true
   },
   "outputs": [
    {
     "data": {
      "text/plain": [
       "<matplotlib.axes._subplots.AxesSubplot at 0x7fa7afe86a90>"
      ]
     },
     "execution_count": 218,
     "metadata": {},
     "output_type": "execute_result"
    },
    {
     "data": {
      "image/png": "[encoded data removed]",
      "text/plain": [
       "<Figure size 540x450 with 2 Axes>"
      ]
     },
     "metadata": {
      "needs_background": "light"
     },
     "output_type": "display_data"
    }
   ],
   "source": [
    "df_cm = pd.DataFrame(conf_mat3, index = [i for i in \"01\"],\n",
    "                  columns = [i for i in \"01\"])\n",
    "plt.figure(figsize = (3,2.5),dpi=180)\n",
    "sn.heatmap(df_cm, annot=True,annot_kws={\"size\": 10},cmap=\"GnBu\",cbar_kws={'label': 'Count'},fmt='d')\n",
    "plt.savefig('../reports/figures/CNN_confusion_mat_'+str(accuracy2)+'_alpha_'+str(alpha)+'.png')"
   ]
  },
  {
   "cell_type": "markdown",
   "metadata": {},
   "source": [
    "## Future work: \n",
    "This model can be improved with additional fine tuning of the hyperparameters.  The main hyperparameter that I would like to explore is the inclusion of regularization. "
   ]
  }
 ],
 "metadata": {
  "kernelspec": {
   "display_name": "Python 3",
   "language": "python",
   "name": "python3"
  },
  "language_info": {
   "codemirror_mode": {
    "name": "ipython",
    "version": 3
   },
   "file_extension": ".py",
   "mimetype": "text/x-python",
   "name": "python",
   "nbconvert_exporter": "python",
   "pygments_lexer": "ipython3",
   "version": "3.7.6"
  }
 },
 "nbformat": 4,
 "nbformat_minor": 4
}
