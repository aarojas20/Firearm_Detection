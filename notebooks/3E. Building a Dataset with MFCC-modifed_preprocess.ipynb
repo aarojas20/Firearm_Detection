{
 "cells": [
  {
   "cell_type": "code",
   "execution_count": 1,
   "metadata": {},
   "outputs": [],
   "source": [
    "from preprocess_train_val import *\n",
    "from tensorflow import keras\n",
    "from tensorflow.keras.models import Sequential\n",
    "from tensorflow.keras.layers import Dense, Dropout, Flatten, Conv2D, MaxPooling2D, LSTM\n",
    "from tensorflow.keras.utils import to_categorical\n",
    "import wandb\n",
    "from wandb.keras import WandbCallback\n",
    "import matplotlib.pyplot as plt\n",
    "import os\n",
    "import pandas as pd\n",
    "import sklearn\n",
    "import librosa.display"
   ]
  },
  {
   "cell_type": "code",
   "execution_count": 2,
   "metadata": {},
   "outputs": [
    {
     "name": "stdout",
     "output_type": "stream",
     "text": [
      "../data/raw/Audio/\n"
     ]
    }
   ],
   "source": [
    "print(DATA_PATH)"
   ]
  },
  {
   "cell_type": "code",
   "execution_count": 11,
   "metadata": {
    "scrolled": true
   },
   "outputs": [
    {
     "data": {
      "text/html": [
       "\n",
       "                Logging results to <a href=\"https://wandb.com\" target=\"_blank\">Weights & Biases</a> <a href=\"https://docs.wandb.com/integrations/jupyter.html\" target=\"_blank\">(Documentation)</a>.<br/>\n",
       "                Project page: <a href=\"https://app.wandb.ai/adri-rojas/Firearm_Detection-notebooks\" target=\"_blank\">https://app.wandb.ai/adri-rojas/Firearm_Detection-notebooks</a><br/>\n",
       "                Run page: <a href=\"https://app.wandb.ai/adri-rojas/Firearm_Detection-notebooks/runs/3awafg1c\" target=\"_blank\">https://app.wandb.ai/adri-rojas/Firearm_Detection-notebooks/runs/3awafg1c</a><br/>\n",
       "            "
      ],
      "text/plain": [
       "<IPython.core.display.HTML object>"
      ]
     },
     "metadata": {},
     "output_type": "display_data"
    },
    {
     "name": "stderr",
     "output_type": "stream",
     "text": [
      "\r",
      "Saving vectors of label - 'Firearms':   0%|          | 0/155 [00:00<?, ?it/s]"
     ]
    },
    {
     "name": "stdout",
     "output_type": "stream",
     "text": [
      "The number of labels is:  2\n"
     ]
    },
    {
     "name": "stderr",
     "output_type": "stream",
     "text": [
      "/opt/anaconda3/envs/add_librosa/lib/python3.7/site-packages/librosa/core/audio.py:161: UserWarning: PySoundFile failed. Trying audioread instead.\n",
      "  warnings.warn('PySoundFile failed. Trying audioread instead.')\n",
      "Saving vectors of label - 'Firearms':   1%|          | 1/155 [00:00<00:43,  3.52it/s]/opt/anaconda3/envs/add_librosa/lib/python3.7/site-packages/librosa/core/audio.py:161: UserWarning: PySoundFile failed. Trying audioread instead.\n",
      "  warnings.warn('PySoundFile failed. Trying audioread instead.')\n",
      "Saving vectors of label - 'Firearms':   1%|▏         | 2/155 [00:00<00:42,  3.64it/s]/opt/anaconda3/envs/add_librosa/lib/python3.7/site-packages/librosa/core/audio.py:161: UserWarning: PySoundFile failed. Trying audioread instead.\n",
      "  warnings.warn('PySoundFile failed. Trying audioread instead.')\n",
      "Saving vectors of label - 'Firearms':   2%|▏         | 3/155 [00:00<00:36,  4.16it/s]/opt/anaconda3/envs/add_librosa/lib/python3.7/site-packages/librosa/core/audio.py:161: UserWarning: PySoundFile failed. Trying audioread instead.\n",
      "  warnings.warn('PySoundFile failed. Trying audioread instead.')\n",
      "Saving vectors of label - 'Firearms':   3%|▎         | 5/155 [00:01<00:40,  3.73it/s]/opt/anaconda3/envs/add_librosa/lib/python3.7/site-packages/librosa/core/audio.py:161: UserWarning: PySoundFile failed. Trying audioread instead.\n",
      "  warnings.warn('PySoundFile failed. Trying audioread instead.')\n",
      "Saving vectors of label - 'Firearms':   4%|▍         | 6/155 [00:01<00:35,  4.21it/s]/opt/anaconda3/envs/add_librosa/lib/python3.7/site-packages/librosa/core/audio.py:161: UserWarning: PySoundFile failed. Trying audioread instead.\n",
      "  warnings.warn('PySoundFile failed. Trying audioread instead.')\n",
      "Saving vectors of label - 'Firearms':   6%|▋         | 10/155 [00:02<00:36,  4.02it/s]/opt/anaconda3/envs/add_librosa/lib/python3.7/site-packages/librosa/core/audio.py:161: UserWarning: PySoundFile failed. Trying audioread instead.\n",
      "  warnings.warn('PySoundFile failed. Trying audioread instead.')\n",
      "Saving vectors of label - 'Firearms':   7%|▋         | 11/155 [00:02<00:31,  4.52it/s]/opt/anaconda3/envs/add_librosa/lib/python3.7/site-packages/librosa/core/audio.py:161: UserWarning: PySoundFile failed. Trying audioread instead.\n",
      "  warnings.warn('PySoundFile failed. Trying audioread instead.')\n",
      "Saving vectors of label - 'Firearms':   8%|▊         | 13/155 [00:02<00:29,  4.88it/s]/opt/anaconda3/envs/add_librosa/lib/python3.7/site-packages/librosa/core/audio.py:161: UserWarning: PySoundFile failed. Trying audioread instead.\n",
      "  warnings.warn('PySoundFile failed. Trying audioread instead.')\n",
      "Saving vectors of label - 'Firearms':  12%|█▏        | 19/155 [00:03<00:26,  5.07it/s]/opt/anaconda3/envs/add_librosa/lib/python3.7/site-packages/librosa/core/audio.py:161: UserWarning: PySoundFile failed. Trying audioread instead.\n",
      "  warnings.warn('PySoundFile failed. Trying audioread instead.')\n",
      "Saving vectors of label - 'Firearms':  14%|█▎        | 21/155 [00:04<00:32,  4.08it/s]/opt/anaconda3/envs/add_librosa/lib/python3.7/site-packages/librosa/core/audio.py:161: UserWarning: PySoundFile failed. Trying audioread instead.\n",
      "  warnings.warn('PySoundFile failed. Trying audioread instead.')\n",
      "Saving vectors of label - 'Firearms':  14%|█▍        | 22/155 [00:04<00:29,  4.58it/s]/opt/anaconda3/envs/add_librosa/lib/python3.7/site-packages/librosa/core/audio.py:161: UserWarning: PySoundFile failed. Trying audioread instead.\n",
      "  warnings.warn('PySoundFile failed. Trying audioread instead.')\n",
      "Saving vectors of label - 'Firearms':  15%|█▌        | 24/155 [00:04<00:24,  5.45it/s]/opt/anaconda3/envs/add_librosa/lib/python3.7/site-packages/librosa/core/audio.py:161: UserWarning: PySoundFile failed. Trying audioread instead.\n",
      "  warnings.warn('PySoundFile failed. Trying audioread instead.')\n",
      "Saving vectors of label - 'Firearms':  16%|█▌        | 25/155 [00:04<00:24,  5.24it/s]/opt/anaconda3/envs/add_librosa/lib/python3.7/site-packages/librosa/core/audio.py:161: UserWarning: PySoundFile failed. Trying audioread instead.\n",
      "  warnings.warn('PySoundFile failed. Trying audioread instead.')\n",
      "Saving vectors of label - 'Firearms':  19%|█▉        | 30/155 [00:05<00:20,  6.17it/s]/opt/anaconda3/envs/add_librosa/lib/python3.7/site-packages/librosa/core/audio.py:161: UserWarning: PySoundFile failed. Trying audioread instead.\n",
      "  warnings.warn('PySoundFile failed. Trying audioread instead.')\n",
      "Saving vectors of label - 'Firearms':  20%|██        | 31/155 [00:05<00:19,  6.24it/s]/opt/anaconda3/envs/add_librosa/lib/python3.7/site-packages/librosa/core/audio.py:161: UserWarning: PySoundFile failed. Trying audioread instead.\n",
      "  warnings.warn('PySoundFile failed. Trying audioread instead.')\n",
      "Saving vectors of label - 'Firearms':  21%|██        | 32/155 [00:06<00:22,  5.58it/s]/opt/anaconda3/envs/add_librosa/lib/python3.7/site-packages/librosa/core/audio.py:161: UserWarning: PySoundFile failed. Trying audioread instead.\n",
      "  warnings.warn('PySoundFile failed. Trying audioread instead.')\n",
      "Saving vectors of label - 'Firearms':  25%|██▌       | 39/155 [00:08<00:35,  3.26it/s]/opt/anaconda3/envs/add_librosa/lib/python3.7/site-packages/librosa/core/audio.py:161: UserWarning: PySoundFile failed. Trying audioread instead.\n",
      "  warnings.warn('PySoundFile failed. Trying audioread instead.')\n",
      "Saving vectors of label - 'Firearms':  26%|██▌       | 40/155 [00:08<00:31,  3.60it/s]/opt/anaconda3/envs/add_librosa/lib/python3.7/site-packages/librosa/core/audio.py:161: UserWarning: PySoundFile failed. Trying audioread instead.\n",
      "  warnings.warn('PySoundFile failed. Trying audioread instead.')\n",
      "Saving vectors of label - 'Firearms':  28%|██▊       | 44/155 [00:09<00:31,  3.58it/s]/opt/anaconda3/envs/add_librosa/lib/python3.7/site-packages/librosa/core/audio.py:161: UserWarning: PySoundFile failed. Trying audioread instead.\n",
      "  warnings.warn('PySoundFile failed. Trying audioread instead.')\n",
      "Saving vectors of label - 'Firearms':  29%|██▉       | 45/155 [00:09<00:29,  3.72it/s]/opt/anaconda3/envs/add_librosa/lib/python3.7/site-packages/librosa/core/audio.py:161: UserWarning: PySoundFile failed. Trying audioread instead.\n",
      "  warnings.warn('PySoundFile failed. Trying audioread instead.')\n",
      "Saving vectors of label - 'Firearms':  30%|███       | 47/155 [00:10<00:24,  4.34it/s]/opt/anaconda3/envs/add_librosa/lib/python3.7/site-packages/librosa/core/audio.py:161: UserWarning: PySoundFile failed. Trying audioread instead.\n",
      "  warnings.warn('PySoundFile failed. Trying audioread instead.')\n",
      "Saving vectors of label - 'Firearms':  34%|███▎      | 52/155 [00:11<00:27,  3.71it/s]/opt/anaconda3/envs/add_librosa/lib/python3.7/site-packages/librosa/core/audio.py:161: UserWarning: PySoundFile failed. Trying audioread instead.\n",
      "  warnings.warn('PySoundFile failed. Trying audioread instead.')\n",
      "Saving vectors of label - 'Firearms':  35%|███▌      | 55/155 [00:12<00:23,  4.34it/s]/opt/anaconda3/envs/add_librosa/lib/python3.7/site-packages/librosa/core/audio.py:161: UserWarning: PySoundFile failed. Trying audioread instead.\n",
      "  warnings.warn('PySoundFile failed. Trying audioread instead.')\n",
      "Saving vectors of label - 'Firearms':  37%|███▋      | 58/155 [00:13<00:28,  3.44it/s]/opt/anaconda3/envs/add_librosa/lib/python3.7/site-packages/librosa/core/audio.py:161: UserWarning: PySoundFile failed. Trying audioread instead.\n",
      "  warnings.warn('PySoundFile failed. Trying audioread instead.')\n",
      "Saving vectors of label - 'Firearms':  38%|███▊      | 59/155 [00:13<00:26,  3.61it/s]/opt/anaconda3/envs/add_librosa/lib/python3.7/site-packages/librosa/core/audio.py:161: UserWarning: PySoundFile failed. Trying audioread instead.\n",
      "  warnings.warn('PySoundFile failed. Trying audioread instead.')\n",
      "Saving vectors of label - 'Firearms':  39%|███▉      | 61/155 [00:13<00:25,  3.67it/s]/opt/anaconda3/envs/add_librosa/lib/python3.7/site-packages/librosa/core/audio.py:161: UserWarning: PySoundFile failed. Trying audioread instead.\n",
      "  warnings.warn('PySoundFile failed. Trying audioread instead.')\n",
      "Saving vectors of label - 'Firearms':  41%|████▏     | 64/155 [00:14<00:27,  3.29it/s]/opt/anaconda3/envs/add_librosa/lib/python3.7/site-packages/librosa/core/audio.py:161: UserWarning: PySoundFile failed. Trying audioread instead.\n",
      "  warnings.warn('PySoundFile failed. Trying audioread instead.')\n"
     ]
    },
    {
     "name": "stderr",
     "output_type": "stream",
     "text": [
      "Saving vectors of label - 'Firearms':  42%|████▏     | 65/155 [00:14<00:25,  3.50it/s]/opt/anaconda3/envs/add_librosa/lib/python3.7/site-packages/librosa/core/audio.py:161: UserWarning: PySoundFile failed. Trying audioread instead.\n",
      "  warnings.warn('PySoundFile failed. Trying audioread instead.')\n",
      "Saving vectors of label - 'Firearms':  43%|████▎     | 67/155 [00:15<00:20,  4.27it/s]/opt/anaconda3/envs/add_librosa/lib/python3.7/site-packages/librosa/core/audio.py:161: UserWarning: PySoundFile failed. Trying audioread instead.\n",
      "  warnings.warn('PySoundFile failed. Trying audioread instead.')\n",
      "Saving vectors of label - 'Firearms':  45%|████▍     | 69/155 [00:15<00:16,  5.28it/s]/opt/anaconda3/envs/add_librosa/lib/python3.7/site-packages/librosa/core/audio.py:161: UserWarning: PySoundFile failed. Trying audioread instead.\n",
      "  warnings.warn('PySoundFile failed. Trying audioread instead.')\n",
      "Saving vectors of label - 'Firearms':  45%|████▌     | 70/155 [00:15<00:17,  4.93it/s]/opt/anaconda3/envs/add_librosa/lib/python3.7/site-packages/librosa/core/audio.py:161: UserWarning: PySoundFile failed. Trying audioread instead.\n",
      "  warnings.warn('PySoundFile failed. Trying audioread instead.')\n",
      "Saving vectors of label - 'Firearms':  46%|████▌     | 71/155 [00:15<00:17,  4.87it/s]/opt/anaconda3/envs/add_librosa/lib/python3.7/site-packages/librosa/core/audio.py:161: UserWarning: PySoundFile failed. Trying audioread instead.\n",
      "  warnings.warn('PySoundFile failed. Trying audioread instead.')\n",
      "Saving vectors of label - 'Firearms':  52%|█████▏    | 81/155 [00:18<00:22,  3.25it/s]/opt/anaconda3/envs/add_librosa/lib/python3.7/site-packages/librosa/core/audio.py:161: UserWarning: PySoundFile failed. Trying audioread instead.\n",
      "  warnings.warn('PySoundFile failed. Trying audioread instead.')\n",
      "Saving vectors of label - 'Firearms':  53%|█████▎    | 82/155 [00:18<00:19,  3.80it/s]/opt/anaconda3/envs/add_librosa/lib/python3.7/site-packages/librosa/core/audio.py:161: UserWarning: PySoundFile failed. Trying audioread instead.\n",
      "  warnings.warn('PySoundFile failed. Trying audioread instead.')\n",
      "Saving vectors of label - 'Firearms':  54%|█████▍    | 84/155 [00:18<00:13,  5.07it/s]/opt/anaconda3/envs/add_librosa/lib/python3.7/site-packages/librosa/core/audio.py:161: UserWarning: PySoundFile failed. Trying audioread instead.\n",
      "  warnings.warn('PySoundFile failed. Trying audioread instead.')\n",
      "Saving vectors of label - 'Firearms':  55%|█████▍    | 85/155 [00:18<00:14,  4.78it/s]/opt/anaconda3/envs/add_librosa/lib/python3.7/site-packages/librosa/core/audio.py:161: UserWarning: PySoundFile failed. Trying audioread instead.\n",
      "  warnings.warn('PySoundFile failed. Trying audioread instead.')\n",
      "Saving vectors of label - 'Firearms':  55%|█████▌    | 86/155 [00:19<00:13,  5.19it/s]/opt/anaconda3/envs/add_librosa/lib/python3.7/site-packages/librosa/core/audio.py:161: UserWarning: PySoundFile failed. Trying audioread instead.\n",
      "  warnings.warn('PySoundFile failed. Trying audioread instead.')\n",
      "Saving vectors of label - 'Firearms':  59%|█████▉    | 92/155 [00:20<00:16,  3.91it/s]/opt/anaconda3/envs/add_librosa/lib/python3.7/site-packages/librosa/core/audio.py:161: UserWarning: PySoundFile failed. Trying audioread instead.\n",
      "  warnings.warn('PySoundFile failed. Trying audioread instead.')\n",
      "Saving vectors of label - 'Firearms':  60%|██████    | 93/155 [00:20<00:15,  3.98it/s]/opt/anaconda3/envs/add_librosa/lib/python3.7/site-packages/librosa/core/audio.py:161: UserWarning: PySoundFile failed. Trying audioread instead.\n",
      "  warnings.warn('PySoundFile failed. Trying audioread instead.')\n",
      "Saving vectors of label - 'Firearms':  61%|██████    | 94/155 [00:21<00:14,  4.18it/s]/opt/anaconda3/envs/add_librosa/lib/python3.7/site-packages/librosa/core/audio.py:161: UserWarning: PySoundFile failed. Trying audioread instead.\n",
      "  warnings.warn('PySoundFile failed. Trying audioread instead.')\n",
      "Saving vectors of label - 'Firearms':  63%|██████▎   | 98/155 [00:22<00:15,  3.61it/s]/opt/anaconda3/envs/add_librosa/lib/python3.7/site-packages/librosa/core/audio.py:161: UserWarning: PySoundFile failed. Trying audioread instead.\n",
      "  warnings.warn('PySoundFile failed. Trying audioread instead.')\n",
      "Saving vectors of label - 'Firearms':  64%|██████▍   | 99/155 [00:22<00:14,  3.90it/s]/opt/anaconda3/envs/add_librosa/lib/python3.7/site-packages/librosa/core/audio.py:161: UserWarning: PySoundFile failed. Trying audioread instead.\n",
      "  warnings.warn('PySoundFile failed. Trying audioread instead.')\n",
      "Saving vectors of label - 'Firearms':  67%|██████▋   | 104/155 [00:23<00:13,  3.65it/s]/opt/anaconda3/envs/add_librosa/lib/python3.7/site-packages/librosa/core/audio.py:161: UserWarning: PySoundFile failed. Trying audioread instead.\n",
      "  warnings.warn('PySoundFile failed. Trying audioread instead.')\n",
      "Saving vectors of label - 'Firearms':  68%|██████▊   | 105/155 [00:23<00:13,  3.78it/s]/opt/anaconda3/envs/add_librosa/lib/python3.7/site-packages/librosa/core/audio.py:161: UserWarning: PySoundFile failed. Trying audioread instead.\n",
      "  warnings.warn('PySoundFile failed. Trying audioread instead.')\n",
      "Saving vectors of label - 'Firearms':  70%|██████▉   | 108/155 [00:24<00:14,  3.30it/s]/opt/anaconda3/envs/add_librosa/lib/python3.7/site-packages/librosa/core/audio.py:161: UserWarning: PySoundFile failed. Trying audioread instead.\n",
      "  warnings.warn('PySoundFile failed. Trying audioread instead.')\n",
      "Saving vectors of label - 'Firearms':  72%|███████▏  | 111/155 [00:25<00:13,  3.22it/s]/opt/anaconda3/envs/add_librosa/lib/python3.7/site-packages/librosa/core/audio.py:161: UserWarning: PySoundFile failed. Trying audioread instead.\n",
      "  warnings.warn('PySoundFile failed. Trying audioread instead.')\n",
      "Saving vectors of label - 'Firearms':  73%|███████▎  | 113/155 [00:26<00:10,  3.86it/s]/opt/anaconda3/envs/add_librosa/lib/python3.7/site-packages/librosa/core/audio.py:161: UserWarning: PySoundFile failed. Trying audioread instead.\n",
      "  warnings.warn('PySoundFile failed. Trying audioread instead.')\n",
      "Saving vectors of label - 'Firearms':  75%|███████▍  | 116/155 [00:26<00:08,  4.44it/s]/opt/anaconda3/envs/add_librosa/lib/python3.7/site-packages/librosa/core/audio.py:161: UserWarning: PySoundFile failed. Trying audioread instead.\n",
      "  warnings.warn('PySoundFile failed. Trying audioread instead.')\n",
      "Saving vectors of label - 'Firearms':  75%|███████▌  | 117/155 [00:26<00:08,  4.71it/s]/opt/anaconda3/envs/add_librosa/lib/python3.7/site-packages/librosa/core/audio.py:161: UserWarning: PySoundFile failed. Trying audioread instead.\n",
      "  warnings.warn('PySoundFile failed. Trying audioread instead.')\n",
      "Saving vectors of label - 'Firearms':  76%|███████▌  | 118/155 [00:27<00:08,  4.52it/s]/opt/anaconda3/envs/add_librosa/lib/python3.7/site-packages/librosa/core/audio.py:161: UserWarning: PySoundFile failed. Trying audioread instead.\n",
      "  warnings.warn('PySoundFile failed. Trying audioread instead.')\n",
      "Saving vectors of label - 'Firearms':  77%|███████▋  | 119/155 [00:27<00:08,  4.39it/s]/opt/anaconda3/envs/add_librosa/lib/python3.7/site-packages/librosa/core/audio.py:161: UserWarning: PySoundFile failed. Trying audioread instead.\n",
      "  warnings.warn('PySoundFile failed. Trying audioread instead.')\n",
      "Saving vectors of label - 'Firearms':  77%|███████▋  | 120/155 [00:27<00:07,  4.65it/s]/opt/anaconda3/envs/add_librosa/lib/python3.7/site-packages/librosa/core/audio.py:161: UserWarning: PySoundFile failed. Trying audioread instead.\n",
      "  warnings.warn('PySoundFile failed. Trying audioread instead.')\n",
      "Saving vectors of label - 'Firearms':  83%|████████▎ | 129/155 [00:29<00:05,  4.99it/s]/opt/anaconda3/envs/add_librosa/lib/python3.7/site-packages/librosa/core/audio.py:161: UserWarning: PySoundFile failed. Trying audioread instead.\n",
      "  warnings.warn('PySoundFile failed. Trying audioread instead.')\n",
      "Saving vectors of label - 'Firearms':  86%|████████▌ | 133/155 [00:29<00:04,  5.31it/s]/opt/anaconda3/envs/add_librosa/lib/python3.7/site-packages/librosa/core/audio.py:161: UserWarning: PySoundFile failed. Trying audioread instead.\n",
      "  warnings.warn('PySoundFile failed. Trying audioread instead.')\n",
      "Saving vectors of label - 'Firearms':  87%|████████▋ | 135/155 [00:30<00:04,  4.78it/s]/opt/anaconda3/envs/add_librosa/lib/python3.7/site-packages/librosa/core/audio.py:161: UserWarning: PySoundFile failed. Trying audioread instead.\n",
      "  warnings.warn('PySoundFile failed. Trying audioread instead.')\n"
     ]
    },
    {
     "name": "stderr",
     "output_type": "stream",
     "text": [
      "Saving vectors of label - 'Firearms':  88%|████████▊ | 136/155 [00:30<00:03,  4.79it/s]/opt/anaconda3/envs/add_librosa/lib/python3.7/site-packages/librosa/core/audio.py:161: UserWarning: PySoundFile failed. Trying audioread instead.\n",
      "  warnings.warn('PySoundFile failed. Trying audioread instead.')\n",
      "Saving vectors of label - 'Firearms':  89%|████████▉ | 138/155 [00:30<00:03,  4.54it/s]/opt/anaconda3/envs/add_librosa/lib/python3.7/site-packages/librosa/core/audio.py:161: UserWarning: PySoundFile failed. Trying audioread instead.\n",
      "  warnings.warn('PySoundFile failed. Trying audioread instead.')\n",
      "Saving vectors of label - 'Firearms':  90%|████████▉ | 139/155 [00:31<00:03,  4.62it/s]/opt/anaconda3/envs/add_librosa/lib/python3.7/site-packages/librosa/core/audio.py:161: UserWarning: PySoundFile failed. Trying audioread instead.\n",
      "  warnings.warn('PySoundFile failed. Trying audioread instead.')\n",
      "Saving vectors of label - 'Firearms':  92%|█████████▏| 142/155 [00:31<00:02,  4.57it/s]/opt/anaconda3/envs/add_librosa/lib/python3.7/site-packages/librosa/core/audio.py:161: UserWarning: PySoundFile failed. Trying audioread instead.\n",
      "  warnings.warn('PySoundFile failed. Trying audioread instead.')\n",
      "Saving vectors of label - 'Firearms':  93%|█████████▎| 144/155 [00:32<00:02,  3.84it/s]/opt/anaconda3/envs/add_librosa/lib/python3.7/site-packages/librosa/core/audio.py:161: UserWarning: PySoundFile failed. Trying audioread instead.\n",
      "  warnings.warn('PySoundFile failed. Trying audioread instead.')\n",
      "Saving vectors of label - 'Firearms':  94%|█████████▍| 146/155 [00:32<00:02,  4.39it/s]/opt/anaconda3/envs/add_librosa/lib/python3.7/site-packages/librosa/core/audio.py:161: UserWarning: PySoundFile failed. Trying audioread instead.\n",
      "  warnings.warn('PySoundFile failed. Trying audioread instead.')\n",
      "Saving vectors of label - 'Firearms':  95%|█████████▍| 147/155 [00:32<00:01,  4.85it/s]/opt/anaconda3/envs/add_librosa/lib/python3.7/site-packages/librosa/core/audio.py:161: UserWarning: PySoundFile failed. Trying audioread instead.\n",
      "  warnings.warn('PySoundFile failed. Trying audioread instead.')\n",
      "Saving vectors of label - 'Firearms':  97%|█████████▋| 151/155 [00:33<00:00,  4.44it/s]/opt/anaconda3/envs/add_librosa/lib/python3.7/site-packages/librosa/core/audio.py:161: UserWarning: PySoundFile failed. Trying audioread instead.\n",
      "  warnings.warn('PySoundFile failed. Trying audioread instead.')\n",
      "Saving vectors of label - 'Firearms':  99%|█████████▊| 153/155 [00:34<00:00,  5.15it/s]/opt/anaconda3/envs/add_librosa/lib/python3.7/site-packages/librosa/core/audio.py:161: UserWarning: PySoundFile failed. Trying audioread instead.\n",
      "  warnings.warn('PySoundFile failed. Trying audioread instead.')\n",
      "Saving vectors of label - 'Firearms': 100%|██████████| 155/155 [00:34<00:00,  4.47it/s]\n",
      "Saving vectors of label - 'Not_Firearm': 100%|██████████| 1962/1962 [07:04<00:00,  4.62it/s]\n"
     ]
    }
   ],
   "source": [
    "wandb.init()\n",
    "config = wandb.config\n",
    "\n",
    "config.max_len = 170\n",
    "config.buckets = 20\n",
    "\n",
    "# Save data to array file first\n",
    "save_data_to_array(max_len=config.max_len, n_mfcc=config.buckets)\n",
    "\n",
    "labels=[\"Not_Firearm\", \"Firearms\"]"
   ]
  },
  {
   "cell_type": "code",
   "execution_count": 12,
   "metadata": {},
   "outputs": [
    {
     "name": "stdout",
     "output_type": "stream",
     "text": [
      "The number of labels is:  2\n"
     ]
    }
   ],
   "source": [
    "# # Loading train set and validation set\n",
    "X_train, X_val, y_train, y_val = get_train_validation()"
   ]
  },
  {
   "cell_type": "code",
   "execution_count": 13,
   "metadata": {},
   "outputs": [],
   "source": [
    "# # Feature dimension\n",
    "channels = 1\n",
    "config.epochs = 50 # hyperparameter\n",
    "config.batch_size = 100 # hyperparameter\n",
    "\n",
    "num_classes = 2\n",
    "\n",
    "X_train = X_train.reshape(X_train.shape[0], config.buckets, config.max_len, channels)\n",
    "X_val = X_val.reshape(X_val.shape[0], config.buckets, config.max_len, channels)"
   ]
  },
  {
   "cell_type": "code",
   "execution_count": 14,
   "metadata": {},
   "outputs": [
    {
     "data": {
      "text/plain": [
       "(1481, 20, 170, 1)"
      ]
     },
     "execution_count": 14,
     "metadata": {},
     "output_type": "execute_result"
    }
   ],
   "source": [
    "X_train.shape"
   ]
  },
  {
   "cell_type": "code",
   "execution_count": 15,
   "metadata": {},
   "outputs": [
    {
     "data": {
      "text/plain": [
       "(636, 20, 170, 1)"
      ]
     },
     "execution_count": 15,
     "metadata": {},
     "output_type": "execute_result"
    }
   ],
   "source": [
    "X_val.shape"
   ]
  },
  {
   "cell_type": "code",
   "execution_count": 16,
   "metadata": {},
   "outputs": [
    {
     "data": {
      "text/plain": [
       "(1481,)"
      ]
     },
     "execution_count": 16,
     "metadata": {},
     "output_type": "execute_result"
    }
   ],
   "source": [
    "y_train.shape"
   ]
  },
  {
   "cell_type": "code",
   "execution_count": 17,
   "metadata": {
    "scrolled": true
   },
   "outputs": [
    {
     "name": "stdout",
     "output_type": "stream",
     "text": [
      "6\n",
      "29\n",
      "33\n",
      "37\n",
      "50\n",
      "79\n",
      "113\n",
      "141\n",
      "157\n",
      "165\n",
      "172\n",
      "177\n",
      "189\n",
      "216\n",
      "223\n",
      "229\n",
      "238\n",
      "247\n",
      "263\n",
      "266\n",
      "268\n",
      "309\n",
      "341\n",
      "342\n",
      "358\n",
      "372\n",
      "384\n",
      "389\n",
      "420\n",
      "428\n",
      "430\n",
      "451\n",
      "460\n",
      "466\n",
      "484\n",
      "487\n",
      "517\n",
      "518\n",
      "519\n",
      "523\n",
      "541\n",
      "542\n",
      "546\n",
      "551\n",
      "555\n",
      "557\n",
      "581\n",
      "583\n",
      "595\n",
      "596\n",
      "597\n",
      "599\n",
      "601\n",
      "605\n",
      "608\n",
      "609\n",
      "621\n",
      "625\n",
      "627\n",
      "643\n",
      "649\n",
      "650\n",
      "657\n",
      "662\n",
      "676\n",
      "681\n",
      "687\n",
      "698\n",
      "750\n",
      "756\n",
      "757\n",
      "780\n",
      "782\n",
      "799\n",
      "829\n",
      "849\n",
      "860\n",
      "867\n",
      "893\n",
      "899\n",
      "907\n",
      "939\n",
      "953\n",
      "963\n",
      "987\n",
      "994\n",
      "1004\n",
      "1012\n",
      "1029\n",
      "1033\n",
      "1046\n",
      "1048\n",
      "1066\n",
      "1077\n",
      "1078\n",
      "1105\n",
      "1123\n",
      "1129\n",
      "1160\n",
      "1167\n",
      "1175\n",
      "1176\n",
      "1184\n",
      "1205\n",
      "1219\n",
      "1234\n",
      "1246\n",
      "1268\n",
      "1269\n",
      "1350\n",
      "1384\n",
      "1396\n",
      "1398\n",
      "1416\n",
      "1440\n",
      "1463\n",
      "1471\n"
     ]
    }
   ],
   "source": [
    "c=0\n",
    "for element in y_train:\n",
    "    if element==0:\n",
    "        print(c)\n",
    "    c+=1"
   ]
  },
  {
   "cell_type": "code",
   "execution_count": 49,
   "metadata": {},
   "outputs": [
    {
     "data": {
      "image/png": "[encoded data removed]",
      "text/plain": [
       "<Figure size 540x360 with 2 Axes>"
      ]
     },
     "metadata": {
      "needs_background": "light"
     },
     "output_type": "display_data"
    }
   ],
   "source": [
    "num=51\n",
    "plt.figure(figsize=(3,2),dpi=180)\n",
    "librosa.display.specshow(X_train[num, :, :, 0],x_axis='time')\n",
    "plt.title(str(y_train[num]),fontsize=10)\n",
    "cbar=plt.colorbar()\n",
    "cbar.set_label('MFCC',rotation=270,fontsize=10,labelpad=10)\n",
    "plt.tight_layout()\n",
    "plt.savefig('../reports/figures/'+'MFCC_'+str(num)+'.png')"
   ]
  },
  {
   "cell_type": "code",
   "execution_count": 50,
   "metadata": {},
   "outputs": [],
   "source": [
    "y_train_hot = to_categorical(y_train)\n",
    "y_val_hot = to_categorical(y_val)"
   ]
  },
  {
   "cell_type": "code",
   "execution_count": 51,
   "metadata": {},
   "outputs": [
    {
     "data": {
      "text/plain": [
       "0     117.0\n",
       "1    1364.0\n",
       "dtype: float32"
      ]
     },
     "execution_count": 51,
     "metadata": {},
     "output_type": "execute_result"
    }
   ],
   "source": [
    "pd.DataFrame(y_train_hot).sum()"
   ]
  },
  {
   "cell_type": "code",
   "execution_count": 62,
   "metadata": {},
   "outputs": [],
   "source": [
    "X_train = X_train.reshape(X_train.shape[0], config.buckets, config.max_len)\n",
    "X_val = X_val.reshape(X_val.shape[0], config.buckets, config.max_len)\n",
    "\n",
    "model = Sequential()\n",
    "model.add(Flatten(input_shape=(config.buckets, config.max_len)))\n",
    "model.add(Dense(num_classes, activation='softmax'))\n",
    "\n",
    "opt = keras.optimizers.Adam(learning_rate=.05) #optimizer\n",
    "\n",
    "model.compile(loss=\"categorical_crossentropy\",\n",
    "                  optimizer=opt,\n",
    "                  metrics=['accuracy'])"
   ]
  },
  {
   "cell_type": "code",
   "execution_count": 63,
   "metadata": {},
   "outputs": [
    {
     "name": "stdout",
     "output_type": "stream",
     "text": [
      "Model: \"sequential_2\"\n",
      "_________________________________________________________________\n",
      "Layer (type)                 Output Shape              Param #   \n",
      "=================================================================\n",
      "flatten_2 (Flatten)          (None, 3400)              0         \n",
      "_________________________________________________________________\n",
      "dense_2 (Dense)              (None, 2)                 6802      \n",
      "=================================================================\n",
      "Total params: 6,802\n",
      "Trainable params: 6,802\n",
      "Non-trainable params: 0\n",
      "_________________________________________________________________\n"
     ]
    }
   ],
   "source": [
    "model.summary()"
   ]
  },
  {
   "cell_type": "code",
   "execution_count": 64,
   "metadata": {
    "scrolled": true
   },
   "outputs": [
    {
     "data": {
      "text/html": [
       "\n",
       "                Logging results to <a href=\"https://wandb.com\" target=\"_blank\">Weights & Biases</a> <a href=\"https://docs.wandb.com/integrations/jupyter.html\" target=\"_blank\">(Documentation)</a>.<br/>\n",
       "                Project page: <a href=\"https://app.wandb.ai/adri-rojas/Firearm_Detection-notebooks\" target=\"_blank\">https://app.wandb.ai/adri-rojas/Firearm_Detection-notebooks</a><br/>\n",
       "                Run page: <a href=\"https://app.wandb.ai/adri-rojas/Firearm_Detection-notebooks/runs/36aw1sew\" target=\"_blank\">https://app.wandb.ai/adri-rojas/Firearm_Detection-notebooks/runs/36aw1sew</a><br/>\n",
       "            "
      ],
      "text/plain": [
       "<IPython.core.display.HTML object>"
      ]
     },
     "metadata": {},
     "output_type": "display_data"
    },
    {
     "name": "stdout",
     "output_type": "stream",
     "text": [
      "Epoch 1/50\n",
      "47/47 [==============================] - 0s 7ms/step - loss: 595.0141 - accuracy: 0.9034 - val_loss: 101.7515 - val_accuracy: 0.9607\n",
      "Epoch 2/50\n",
      "47/47 [==============================] - 0s 4ms/step - loss: 143.1950 - accuracy: 0.9399 - val_loss: 90.9329 - val_accuracy: 0.9686\n",
      "Epoch 3/50\n",
      "47/47 [==============================] - 0s 4ms/step - loss: 154.8814 - accuracy: 0.9386 - val_loss: 98.4217 - val_accuracy: 0.9481\n",
      "Epoch 4/50\n",
      "47/47 [==============================] - 0s 5ms/step - loss: 96.0779 - accuracy: 0.9399 - val_loss: 75.8842 - val_accuracy: 0.9528\n",
      "Epoch 5/50\n",
      "47/47 [==============================] - 0s 4ms/step - loss: 76.4512 - accuracy: 0.9527 - val_loss: 80.6429 - val_accuracy: 0.9497\n",
      "Epoch 6/50\n",
      "47/47 [==============================] - 0s 5ms/step - loss: 38.4302 - accuracy: 0.9581 - val_loss: 90.8846 - val_accuracy: 0.9638\n",
      "Epoch 7/50\n",
      "47/47 [==============================] - 0s 4ms/step - loss: 98.0353 - accuracy: 0.9480 - val_loss: 141.3370 - val_accuracy: 0.9513\n",
      "Epoch 8/50\n",
      "47/47 [==============================] - 0s 4ms/step - loss: 116.5610 - accuracy: 0.9473 - val_loss: 136.4633 - val_accuracy: 0.9324\n",
      "Epoch 9/50\n",
      "47/47 [==============================] - 0s 4ms/step - loss: 38.3006 - accuracy: 0.9683 - val_loss: 86.3692 - val_accuracy: 0.9591\n",
      "Epoch 10/50\n",
      "47/47 [==============================] - 0s 4ms/step - loss: 53.9905 - accuracy: 0.9568 - val_loss: 114.5219 - val_accuracy: 0.9497\n",
      "Epoch 11/50\n",
      "47/47 [==============================] - 0s 4ms/step - loss: 67.2803 - accuracy: 0.9581 - val_loss: 126.9875 - val_accuracy: 0.9481\n",
      "Epoch 12/50\n",
      "47/47 [==============================] - 0s 5ms/step - loss: 48.5415 - accuracy: 0.9703 - val_loss: 158.4825 - val_accuracy: 0.9151\n",
      "Epoch 13/50\n",
      "47/47 [==============================] - 0s 5ms/step - loss: 29.4279 - accuracy: 0.9750 - val_loss: 259.8201 - val_accuracy: 0.8962\n",
      "Epoch 14/50\n",
      "47/47 [==============================] - 0s 5ms/step - loss: 42.9856 - accuracy: 0.9710 - val_loss: 128.4158 - val_accuracy: 0.9528\n",
      "Epoch 15/50\n",
      "47/47 [==============================] - 0s 6ms/step - loss: 18.5787 - accuracy: 0.9831 - val_loss: 117.6917 - val_accuracy: 0.9575\n",
      "Epoch 16/50\n",
      "47/47 [==============================] - 0s 5ms/step - loss: 21.9341 - accuracy: 0.9791 - val_loss: 152.0833 - val_accuracy: 0.9465\n",
      "Epoch 17/50\n",
      "47/47 [==============================] - 0s 4ms/step - loss: 98.0298 - accuracy: 0.9575 - val_loss: 124.6465 - val_accuracy: 0.9623\n",
      "Epoch 18/50\n",
      "47/47 [==============================] - 0s 4ms/step - loss: 61.3324 - accuracy: 0.9689 - val_loss: 218.9044 - val_accuracy: 0.9041\n",
      "Epoch 19/50\n",
      "47/47 [==============================] - 0s 5ms/step - loss: 31.5259 - accuracy: 0.9791 - val_loss: 148.2499 - val_accuracy: 0.9544\n",
      "Epoch 20/50\n",
      "47/47 [==============================] - 0s 4ms/step - loss: 70.4520 - accuracy: 0.9629 - val_loss: 155.8584 - val_accuracy: 0.9544\n",
      "Epoch 21/50\n",
      "47/47 [==============================] - 0s 5ms/step - loss: 12.9035 - accuracy: 0.9899 - val_loss: 130.4270 - val_accuracy: 0.9591\n",
      "Epoch 22/50\n",
      "47/47 [==============================] - 0s 5ms/step - loss: 50.5190 - accuracy: 0.9662 - val_loss: 157.8714 - val_accuracy: 0.9513\n",
      "Epoch 23/50\n",
      "47/47 [==============================] - 0s 5ms/step - loss: 21.3001 - accuracy: 0.9838 - val_loss: 152.8575 - val_accuracy: 0.9560\n",
      "Epoch 24/50\n",
      "47/47 [==============================] - 0s 5ms/step - loss: 12.4253 - accuracy: 0.9851 - val_loss: 133.8209 - val_accuracy: 0.9654\n",
      "Epoch 25/50\n",
      "47/47 [==============================] - 0s 4ms/step - loss: 13.3974 - accuracy: 0.9865 - val_loss: 188.1425 - val_accuracy: 0.9450\n",
      "Epoch 26/50\n",
      "47/47 [==============================] - 0s 5ms/step - loss: 21.9656 - accuracy: 0.9777 - val_loss: 146.5089 - val_accuracy: 0.9560\n",
      "Epoch 27/50\n",
      "47/47 [==============================] - 0s 5ms/step - loss: 10.8472 - accuracy: 0.9872 - val_loss: 181.2372 - val_accuracy: 0.9544\n",
      "Epoch 28/50\n",
      "47/47 [==============================] - 0s 5ms/step - loss: 51.2542 - accuracy: 0.9730 - val_loss: 492.3459 - val_accuracy: 0.8648\n",
      "Epoch 29/50\n",
      "47/47 [==============================] - 0s 4ms/step - loss: 79.0732 - accuracy: 0.9669 - val_loss: 192.3472 - val_accuracy: 0.9528\n",
      "Epoch 30/50\n",
      "47/47 [==============================] - 0s 4ms/step - loss: 35.9347 - accuracy: 0.9757 - val_loss: 279.0523 - val_accuracy: 0.9198\n",
      "Epoch 31/50\n",
      "47/47 [==============================] - 0s 4ms/step - loss: 43.7516 - accuracy: 0.9770 - val_loss: 176.9246 - val_accuracy: 0.9575\n",
      "Epoch 32/50\n",
      "47/47 [==============================] - 0s 4ms/step - loss: 17.8488 - accuracy: 0.9885 - val_loss: 196.4021 - val_accuracy: 0.9465\n",
      "Epoch 33/50\n",
      "47/47 [==============================] - 0s 5ms/step - loss: 98.1624 - accuracy: 0.9629 - val_loss: 211.9265 - val_accuracy: 0.9575\n",
      "Epoch 34/50\n",
      "47/47 [==============================] - 0s 5ms/step - loss: 13.6996 - accuracy: 0.9919 - val_loss: 171.2682 - val_accuracy: 0.9607\n",
      "Epoch 35/50\n",
      "47/47 [==============================] - 0s 4ms/step - loss: 22.0352 - accuracy: 0.9858 - val_loss: 190.8030 - val_accuracy: 0.9513\n",
      "Epoch 36/50\n",
      "47/47 [==============================] - 0s 5ms/step - loss: 34.9861 - accuracy: 0.9777 - val_loss: 237.8160 - val_accuracy: 0.9418\n",
      "Epoch 37/50\n",
      "47/47 [==============================] - 0s 5ms/step - loss: 21.7292 - accuracy: 0.9845 - val_loss: 238.3795 - val_accuracy: 0.9450\n",
      "Epoch 38/50\n",
      "47/47 [==============================] - 0s 4ms/step - loss: 3.2903 - accuracy: 0.9973 - val_loss: 168.8534 - val_accuracy: 0.9607\n",
      "Epoch 39/50\n",
      "47/47 [==============================] - 0s 4ms/step - loss: 2.1552 - accuracy: 0.9959 - val_loss: 183.6525 - val_accuracy: 0.9560\n",
      "Epoch 40/50\n",
      "47/47 [==============================] - 0s 4ms/step - loss: 3.7772 - accuracy: 0.9953 - val_loss: 164.0557 - val_accuracy: 0.9623\n",
      "Epoch 41/50\n",
      "47/47 [==============================] - 0s 5ms/step - loss: 4.4022 - accuracy: 0.9932 - val_loss: 171.9644 - val_accuracy: 0.9544\n",
      "Epoch 42/50\n",
      "47/47 [==============================] - 0s 5ms/step - loss: 4.8366 - accuracy: 0.9946 - val_loss: 157.9600 - val_accuracy: 0.9623\n",
      "Epoch 43/50\n",
      "47/47 [==============================] - 0s 4ms/step - loss: 12.4747 - accuracy: 0.9885 - val_loss: 197.0263 - val_accuracy: 0.9497\n",
      "Epoch 44/50\n",
      "47/47 [==============================] - 0s 4ms/step - loss: 17.0055 - accuracy: 0.9838 - val_loss: 170.7030 - val_accuracy: 0.9638\n",
      "Epoch 45/50\n",
      "47/47 [==============================] - 0s 5ms/step - loss: 15.4124 - accuracy: 0.9878 - val_loss: 172.7862 - val_accuracy: 0.9654\n",
      "Epoch 46/50\n",
      "47/47 [==============================] - 0s 5ms/step - loss: 46.7370 - accuracy: 0.9791 - val_loss: 213.9796 - val_accuracy: 0.9591\n",
      "Epoch 47/50\n",
      "47/47 [==============================] - 0s 5ms/step - loss: 39.6310 - accuracy: 0.9770 - val_loss: 410.6594 - val_accuracy: 0.8899\n",
      "Epoch 48/50\n",
      "47/47 [==============================] - 0s 4ms/step - loss: 52.0232 - accuracy: 0.9750 - val_loss: 319.8285 - val_accuracy: 0.9355\n",
      "Epoch 49/50\n",
      "47/47 [==============================] - 0s 5ms/step - loss: 10.5908 - accuracy: 0.9905 - val_loss: 281.1290 - val_accuracy: 0.9465\n",
      "Epoch 50/50\n",
      "47/47 [==============================] - 0s 5ms/step - loss: 36.8939 - accuracy: 0.9824 - val_loss: 209.2118 - val_accuracy: 0.9638\n"
     ]
    }
   ],
   "source": [
    "wandb.init()\n",
    "history1=model.fit(X_train, y_train_hot, epochs=config.epochs, validation_data=(X_val, y_val_hot), callbacks=[WandbCallback(data_type=\"image\", labels=labels)])\n"
   ]
  },
  {
   "cell_type": "code",
   "execution_count": 65,
   "metadata": {},
   "outputs": [
    {
     "data": {
      "image/png": "[encoded data removed]",
      "text/plain": [
       "<Figure size 576x360 with 1 Axes>"
      ]
     },
     "metadata": {
      "needs_background": "light"
     },
     "output_type": "display_data"
    },
    {
     "name": "stderr",
     "output_type": "stream",
     "text": [
      "\u001b[34m\u001b[1mwandb\u001b[0m: \u001b[32m\u001b[41mERROR\u001b[0m Error uploading \"media/images/examples_42.png\": CommError, File /var/folders/px/t6llprnj0m3fhqqbhbvkrynm0000gn/T/tmp03h7ztz_wandb/20grlt4g-media/images/examples_42.png size shrank from 90634 to 0 while it was being uploaded.\n",
      "\u001b[34m\u001b[1mwandb\u001b[0m: \u001b[32m\u001b[41mERROR\u001b[0m Error uploading \"media/images/examples_49.png\": CommError, File /var/folders/px/t6llprnj0m3fhqqbhbvkrynm0000gn/T/tmp03h7ztz_wandb/z76yjnu8-media/images/examples_49.png size shrank from 88357 to 0 while it was being uploaded.\n",
      "\u001b[34m\u001b[1mwandb\u001b[0m: Network error resolved after 0:00:23.173632, resuming normal operation.\n",
      "\u001b[34m\u001b[1mwandb\u001b[0m: Network error resolved after 0:00:23.179443, resuming normal operation.\n",
      "\u001b[34m\u001b[1mwandb\u001b[0m: Network error resolved after 0:00:23.196343, resuming normal operation.\n",
      "\u001b[34m\u001b[1mwandb\u001b[0m: Network error resolved after 0:00:23.228957, resuming normal operation.\n",
      "\u001b[34m\u001b[1mwandb\u001b[0m: \u001b[32m\u001b[41mERROR\u001b[0m Error uploading \"media/images/examples_47.png\": CommError, File /var/folders/px/t6llprnj0m3fhqqbhbvkrynm0000gn/T/tmp03h7ztz_wandb/3cwtm5ww-media/images/examples_47.png size shrank from 88885 to 0 while it was being uploaded.\n"
     ]
    }
   ],
   "source": [
    "pd.DataFrame(history1.history).plot(figsize=(8,5),fontsize=20)\n",
    "# plt.grid(True)\n",
    "plt.gca().set_ylim(.5,1)\n",
    "plt.xlabel('Epochs',fontsize=20)\n",
    "plt.ylabel('Accuracy and Loss',fontsize=20)\n",
    "plt.show();"
   ]
  },
  {
   "cell_type": "markdown",
   "metadata": {},
   "source": [
    "## Test the Sequential NN with some Test Data"
   ]
  },
  {
   "cell_type": "code",
   "execution_count": 66,
   "metadata": {},
   "outputs": [],
   "source": [
    "from preprocess_test import *"
   ]
  },
  {
   "cell_type": "code",
   "execution_count": 67,
   "metadata": {},
   "outputs": [
    {
     "name": "stdout",
     "output_type": "stream",
     "text": [
      "../data/raw_test/\n"
     ]
    }
   ],
   "source": [
    "print(DATA_PATH_TEST)"
   ]
  },
  {
   "cell_type": "code",
   "execution_count": 68,
   "metadata": {},
   "outputs": [
    {
     "data": {
      "text/plain": [
       "<function preprocess_test.get_test(split_ratio=0.9, random_state=42)>"
      ]
     },
     "execution_count": 68,
     "metadata": {},
     "output_type": "execute_result"
    }
   ],
   "source": [
    "get_test"
   ]
  },
  {
   "cell_type": "code",
   "execution_count": 69,
   "metadata": {
    "scrolled": true
   },
   "outputs": [
    {
     "name": "stderr",
     "output_type": "stream",
     "text": [
      "Saving vectors of label - 'Not_Firearm_test':   3%|▎         | 1/38 [00:00<00:05,  6.22it/s]"
     ]
    },
    {
     "name": "stdout",
     "output_type": "stream",
     "text": [
      "The number of labels is:  2\n"
     ]
    },
    {
     "name": "stderr",
     "output_type": "stream",
     "text": [
      "Saving vectors of label - 'Not_Firearm_test': 100%|██████████| 38/38 [00:08<00:00,  4.64it/s]\n",
      "Saving vectors of label - 'Firearms_test':   8%|▊         | 3/37 [00:00<00:09,  3.62it/s]/opt/anaconda3/envs/add_librosa/lib/python3.7/site-packages/librosa/core/audio.py:161: UserWarning: PySoundFile failed. Trying audioread instead.\n",
      "  warnings.warn('PySoundFile failed. Trying audioread instead.')\n",
      "Saving vectors of label - 'Firearms_test':  11%|█         | 4/37 [00:00<00:09,  3.56it/s]/opt/anaconda3/envs/add_librosa/lib/python3.7/site-packages/librosa/core/audio.py:161: UserWarning: PySoundFile failed. Trying audioread instead.\n",
      "  warnings.warn('PySoundFile failed. Trying audioread instead.')\n",
      "Saving vectors of label - 'Firearms_test':  16%|█▌        | 6/37 [00:01<00:07,  3.88it/s]/opt/anaconda3/envs/add_librosa/lib/python3.7/site-packages/librosa/core/audio.py:161: UserWarning: PySoundFile failed. Trying audioread instead.\n",
      "  warnings.warn('PySoundFile failed. Trying audioread instead.')\n",
      "Saving vectors of label - 'Firearms_test':  22%|██▏       | 8/37 [00:01<00:06,  4.25it/s]/opt/anaconda3/envs/add_librosa/lib/python3.7/site-packages/librosa/core/audio.py:161: UserWarning: PySoundFile failed. Trying audioread instead.\n",
      "  warnings.warn('PySoundFile failed. Trying audioread instead.')\n",
      "Saving vectors of label - 'Firearms_test':  38%|███▊      | 14/37 [00:03<00:07,  3.22it/s]/opt/anaconda3/envs/add_librosa/lib/python3.7/site-packages/librosa/core/audio.py:161: UserWarning: PySoundFile failed. Trying audioread instead.\n",
      "  warnings.warn('PySoundFile failed. Trying audioread instead.')\n",
      "Saving vectors of label - 'Firearms_test':  49%|████▊     | 18/37 [00:04<00:04,  3.81it/s]/opt/anaconda3/envs/add_librosa/lib/python3.7/site-packages/librosa/core/audio.py:161: UserWarning: PySoundFile failed. Trying audioread instead.\n",
      "  warnings.warn('PySoundFile failed. Trying audioread instead.')\n",
      "Saving vectors of label - 'Firearms_test':  59%|█████▉    | 22/37 [00:05<00:03,  3.81it/s]/opt/anaconda3/envs/add_librosa/lib/python3.7/site-packages/librosa/core/audio.py:161: UserWarning: PySoundFile failed. Trying audioread instead.\n",
      "  warnings.warn('PySoundFile failed. Trying audioread instead.')\n",
      "Saving vectors of label - 'Firearms_test':  62%|██████▏   | 23/37 [00:05<00:03,  4.29it/s]/opt/anaconda3/envs/add_librosa/lib/python3.7/site-packages/librosa/core/audio.py:161: UserWarning: PySoundFile failed. Trying audioread instead.\n",
      "  warnings.warn('PySoundFile failed. Trying audioread instead.')\n",
      "Saving vectors of label - 'Firearms_test':  68%|██████▊   | 25/37 [00:05<00:03,  3.81it/s]/opt/anaconda3/envs/add_librosa/lib/python3.7/site-packages/librosa/core/audio.py:161: UserWarning: PySoundFile failed. Trying audioread instead.\n",
      "  warnings.warn('PySoundFile failed. Trying audioread instead.')\n",
      "Saving vectors of label - 'Firearms_test':  73%|███████▎  | 27/37 [00:06<00:02,  3.72it/s]/opt/anaconda3/envs/add_librosa/lib/python3.7/site-packages/librosa/core/audio.py:161: UserWarning: PySoundFile failed. Trying audioread instead.\n",
      "  warnings.warn('PySoundFile failed. Trying audioread instead.')\n",
      "Saving vectors of label - 'Firearms_test':  76%|███████▌  | 28/37 [00:06<00:02,  4.24it/s]/opt/anaconda3/envs/add_librosa/lib/python3.7/site-packages/librosa/core/audio.py:161: UserWarning: PySoundFile failed. Trying audioread instead.\n",
      "  warnings.warn('PySoundFile failed. Trying audioread instead.')\n",
      "Saving vectors of label - 'Firearms_test':  78%|███████▊  | 29/37 [00:06<00:01,  4.18it/s]/opt/anaconda3/envs/add_librosa/lib/python3.7/site-packages/librosa/core/audio.py:161: UserWarning: PySoundFile failed. Trying audioread instead.\n",
      "  warnings.warn('PySoundFile failed. Trying audioread instead.')\n",
      "Saving vectors of label - 'Firearms_test':  81%|████████  | 30/37 [00:06<00:01,  4.31it/s]/opt/anaconda3/envs/add_librosa/lib/python3.7/site-packages/librosa/core/audio.py:161: UserWarning: PySoundFile failed. Trying audioread instead.\n",
      "  warnings.warn('PySoundFile failed. Trying audioread instead.')\n",
      "Saving vectors of label - 'Firearms_test':  86%|████████▋ | 32/37 [00:07<00:01,  4.88it/s]/opt/anaconda3/envs/add_librosa/lib/python3.7/site-packages/librosa/core/audio.py:161: UserWarning: PySoundFile failed. Trying audioread instead.\n",
      "  warnings.warn('PySoundFile failed. Trying audioread instead.')\n",
      "Saving vectors of label - 'Firearms_test':  92%|█████████▏| 34/37 [00:07<00:00,  4.65it/s]/opt/anaconda3/envs/add_librosa/lib/python3.7/site-packages/librosa/core/audio.py:161: UserWarning: PySoundFile failed. Trying audioread instead.\n",
      "  warnings.warn('PySoundFile failed. Trying audioread instead.')\n",
      "Saving vectors of label - 'Firearms_test': 100%|██████████| 37/37 [00:08<00:00,  4.49it/s]\n"
     ]
    }
   ],
   "source": [
    "save_data_to_array(max_len=config.max_len, n_mfcc=config.buckets)\n",
    "labels=[\"Not_Firearm_test\", \"Firearms_test\"]"
   ]
  },
  {
   "cell_type": "code",
   "execution_count": 70,
   "metadata": {},
   "outputs": [
    {
     "name": "stdout",
     "output_type": "stream",
     "text": [
      "The number of non firearms 38\n",
      "The number of firearms 37\n"
     ]
    }
   ],
   "source": [
    "x_non = np.load(labels[0] + '.npy')\n",
    "print('The number of non firearms',len(x_non))\n",
    "x_fa= np.load(labels[1] + '.npy')\n",
    "print('The number of firearms',len(x_fa))"
   ]
  },
  {
   "cell_type": "code",
   "execution_count": 71,
   "metadata": {
    "scrolled": true
   },
   "outputs": [
    {
     "name": "stdout",
     "output_type": "stream",
     "text": [
      "The number of labels is:  2\n"
     ]
    }
   ],
   "source": [
    "X_test, X_none, y_test, y_none = get_test()"
   ]
  },
  {
   "cell_type": "code",
   "execution_count": 72,
   "metadata": {},
   "outputs": [
    {
     "name": "stdout",
     "output_type": "stream",
     "text": [
      "(67, 20, 170)\n",
      "(67,)\n",
      "(8, 20, 170)\n",
      "(8,)\n"
     ]
    }
   ],
   "source": [
    "print(X_test.shape)\n",
    "print(y_test.shape)\n",
    "print(X_none.shape)\n",
    "print(y_none.shape)"
   ]
  },
  {
   "cell_type": "code",
   "execution_count": 73,
   "metadata": {},
   "outputs": [
    {
     "name": "stdout",
     "output_type": "stream",
     "text": [
      "(75, 20, 170)\n",
      "(75,)\n"
     ]
    }
   ],
   "source": [
    "X_test=np.concatenate((X_test,X_none),axis=0)\n",
    "Y_test=np.concatenate((y_test,y_none),axis=0)\n",
    "print(X_test.shape)\n",
    "print(Y_test.shape)"
   ]
  },
  {
   "cell_type": "code",
   "execution_count": 74,
   "metadata": {
    "scrolled": false
   },
   "outputs": [
    {
     "name": "stdout",
     "output_type": "stream",
     "text": [
      "(75, 20, 170, 1)\n"
     ]
    }
   ],
   "source": [
    "X_test = X_test.reshape(X_test.shape[0], config.buckets, config.max_len, channels)\n",
    "print(X_test.shape)"
   ]
  },
  {
   "cell_type": "code",
   "execution_count": 75,
   "metadata": {
    "scrolled": true
   },
   "outputs": [
    {
     "name": "stdout",
     "output_type": "stream",
     "text": [
      "(75, 2)\n"
     ]
    }
   ],
   "source": [
    "Y_test_hot = to_categorical(Y_test)\n",
    "print(Y_test_hot.shape)"
   ]
  },
  {
   "cell_type": "code",
   "execution_count": 76,
   "metadata": {
    "scrolled": true
   },
   "outputs": [
    {
     "data": {
      "text/plain": [
       "0    38.0\n",
       "1    37.0\n",
       "dtype: float32"
      ]
     },
     "execution_count": 76,
     "metadata": {},
     "output_type": "execute_result"
    }
   ],
   "source": [
    "pd.DataFrame(Y_test_hot).sum()"
   ]
  },
  {
   "cell_type": "markdown",
   "metadata": {},
   "source": [
    "Somehow, the columns are flipped, relative to the training/validation data above.  I know that there are 38 non-firearm sound clips, and there are 37 firearm sound clips.  Therefore, I need to flip the columns in the array: "
   ]
  },
  {
   "cell_type": "code",
   "execution_count": 79,
   "metadata": {},
   "outputs": [
    {
     "data": {
      "text/plain": [
       "0    37.0\n",
       "1    38.0\n",
       "dtype: float32"
      ]
     },
     "execution_count": 79,
     "metadata": {},
     "output_type": "execute_result"
    }
   ],
   "source": [
    "Y_test_hot=np.flip(Y_test_hot,axis=1)\n",
    "pd.DataFrame(Y_test_hot).sum()"
   ]
  },
  {
   "cell_type": "code",
   "execution_count": 115,
   "metadata": {
    "scrolled": true
   },
   "outputs": [
    {
     "name": "stdout",
     "output_type": "stream",
     "text": [
      "3/3 [==============================] - 0s 2ms/step - loss: 1805.3746 - accuracy: 0.7733\n",
      "\n",
      "The accuracy is: 77.3 %\n"
     ]
    }
   ],
   "source": [
    "m_eval=model.evaluate(X_test, np.abs(Y_test_hot))\n",
    "accuracy=round(m_eval[1]*100,1)\n",
    "print('\\nThe accuracy is:', accuracy,'%')"
   ]
  },
  {
   "cell_type": "code",
   "execution_count": 81,
   "metadata": {},
   "outputs": [],
   "source": [
    "Y_predict=model.predict(X_test)"
   ]
  },
  {
   "cell_type": "code",
   "execution_count": 82,
   "metadata": {
    "scrolled": true
   },
   "outputs": [
    {
     "data": {
      "text/html": [
       "<div>\n",
       "<style scoped>\n",
       "    .dataframe tbody tr th:only-of-type {\n",
       "        vertical-align: middle;\n",
       "    }\n",
       "\n",
       "    .dataframe tbody tr th {\n",
       "        vertical-align: top;\n",
       "    }\n",
       "\n",
       "    .dataframe thead th {\n",
       "        text-align: right;\n",
       "    }\n",
       "</style>\n",
       "<table border=\"1\" class=\"dataframe\">\n",
       "  <thead>\n",
       "    <tr style=\"text-align: right;\">\n",
       "      <th></th>\n",
       "      <th>0</th>\n",
       "      <th>1</th>\n",
       "    </tr>\n",
       "  </thead>\n",
       "  <tbody>\n",
       "    <tr>\n",
       "      <th>0</th>\n",
       "      <td>1.0</td>\n",
       "      <td>0.0</td>\n",
       "    </tr>\n",
       "    <tr>\n",
       "      <th>1</th>\n",
       "      <td>0.0</td>\n",
       "      <td>1.0</td>\n",
       "    </tr>\n",
       "    <tr>\n",
       "      <th>2</th>\n",
       "      <td>0.0</td>\n",
       "      <td>1.0</td>\n",
       "    </tr>\n",
       "    <tr>\n",
       "      <th>3</th>\n",
       "      <td>0.0</td>\n",
       "      <td>1.0</td>\n",
       "    </tr>\n",
       "    <tr>\n",
       "      <th>4</th>\n",
       "      <td>0.0</td>\n",
       "      <td>1.0</td>\n",
       "    </tr>\n",
       "    <tr>\n",
       "      <th>...</th>\n",
       "      <td>...</td>\n",
       "      <td>...</td>\n",
       "    </tr>\n",
       "    <tr>\n",
       "      <th>70</th>\n",
       "      <td>0.0</td>\n",
       "      <td>1.0</td>\n",
       "    </tr>\n",
       "    <tr>\n",
       "      <th>71</th>\n",
       "      <td>0.0</td>\n",
       "      <td>1.0</td>\n",
       "    </tr>\n",
       "    <tr>\n",
       "      <th>72</th>\n",
       "      <td>1.0</td>\n",
       "      <td>0.0</td>\n",
       "    </tr>\n",
       "    <tr>\n",
       "      <th>73</th>\n",
       "      <td>0.0</td>\n",
       "      <td>1.0</td>\n",
       "    </tr>\n",
       "    <tr>\n",
       "      <th>74</th>\n",
       "      <td>0.0</td>\n",
       "      <td>1.0</td>\n",
       "    </tr>\n",
       "  </tbody>\n",
       "</table>\n",
       "<p>75 rows × 2 columns</p>\n",
       "</div>"
      ],
      "text/plain": [
       "      0    1\n",
       "0   1.0  0.0\n",
       "1   0.0  1.0\n",
       "2   0.0  1.0\n",
       "3   0.0  1.0\n",
       "4   0.0  1.0\n",
       "..  ...  ...\n",
       "70  0.0  1.0\n",
       "71  0.0  1.0\n",
       "72  1.0  0.0\n",
       "73  0.0  1.0\n",
       "74  0.0  1.0\n",
       "\n",
       "[75 rows x 2 columns]"
      ]
     },
     "execution_count": 82,
     "metadata": {},
     "output_type": "execute_result"
    }
   ],
   "source": [
    "pd.DataFrame(Y_predict.round())"
   ]
  },
  {
   "cell_type": "code",
   "execution_count": 83,
   "metadata": {},
   "outputs": [
    {
     "data": {
      "text/plain": [
       "0    20.0\n",
       "1    55.0\n",
       "dtype: float32"
      ]
     },
     "execution_count": 83,
     "metadata": {},
     "output_type": "execute_result"
    }
   ],
   "source": [
    "pd.DataFrame(Y_predict.round()).sum()"
   ]
  },
  {
   "cell_type": "code",
   "execution_count": 84,
   "metadata": {
    "scrolled": true
   },
   "outputs": [
    {
     "data": {
      "text/plain": [
       "0    37.0\n",
       "1    38.0\n",
       "dtype: float32"
      ]
     },
     "execution_count": 84,
     "metadata": {},
     "output_type": "execute_result"
    }
   ],
   "source": [
    "pd.DataFrame(Y_test_hot).sum()"
   ]
  },
  {
   "cell_type": "code",
   "execution_count": 85,
   "metadata": {},
   "outputs": [
    {
     "data": {
      "text/plain": [
       "0     117.0\n",
       "1    1364.0\n",
       "dtype: float32"
      ]
     },
     "execution_count": 85,
     "metadata": {},
     "output_type": "execute_result"
    }
   ],
   "source": [
    "pd.DataFrame(y_train_hot).sum()"
   ]
  },
  {
   "cell_type": "code",
   "execution_count": 86,
   "metadata": {
    "scrolled": false
   },
   "outputs": [
    {
     "data": {
      "text/plain": [
       "37.0"
      ]
     },
     "execution_count": 86,
     "metadata": {},
     "output_type": "execute_result"
    }
   ],
   "source": [
    "Y_test_hot[:,0:1].sum()"
   ]
  },
  {
   "cell_type": "code",
   "execution_count": 108,
   "metadata": {
    "scrolled": true
   },
   "outputs": [
    {
     "data": {
      "text/plain": [
       "37.0"
      ]
     },
     "execution_count": 108,
     "metadata": {},
     "output_type": "execute_result"
    }
   ],
   "source": [
    "Y_test_hot[:,1].sum()"
   ]
  },
  {
   "cell_type": "code",
   "execution_count": 90,
   "metadata": {},
   "outputs": [],
   "source": [
    "import sklearn\n",
    "conf_mat1=sklearn.metrics.confusion_matrix(pd.DataFrame(Y_test_hot)[0],pd.DataFrame(Y_predict).round()[0])"
   ]
  },
  {
   "cell_type": "code",
   "execution_count": 91,
   "metadata": {
    "scrolled": false
   },
   "outputs": [
    {
     "data": {
      "text/plain": [
       "<matplotlib.axes._subplots.AxesSubplot at 0x141572850>"
      ]
     },
     "execution_count": 91,
     "metadata": {},
     "output_type": "execute_result"
    },
    {
     "data": {
      "image/png": "[encoded data removed]",
      "text/plain": [
       "<Figure size 720x504 with 2 Axes>"
      ]
     },
     "metadata": {
      "needs_background": "light"
     },
     "output_type": "display_data"
    }
   ],
   "source": [
    "import seaborn as sn \n",
    "\n",
    "df_cm = pd.DataFrame(conf_mat1, index = [i for i in \"01\"],\n",
    "                  columns = [i for i in \"01\"])\n",
    "plt.figure(figsize = (10,7))\n",
    "sn.heatmap(df_cm, annot=True,annot_kws={\"size\": 20})"
   ]
  },
  {
   "cell_type": "markdown",
   "metadata": {},
   "source": [
    "In binary classification, the count of true negatives is , false negatives is , true positives is  and false positives is .\n",
    "* The element, c$_{0,0}$, is equal to 38.  This indicates that there are 38 true negatives.\n",
    "* The element, c$_{1,0}$, is equal to 17.  This indicates that there are 17 false negatives.\n",
    "* The element, c$_{0,1}$, is equal to 0.  This indicates that there are 0 false positives. \n",
    "* The element, c$_{1,1}$, is equal to 20.  Thus, there are 20 true positives. \n",
    "\n",
    "In the context of predicting firearms, the presence of false negatives is grave.  This means that the 17 sounds were actually the sounds of firearms, but it was predicted that they were not. "
   ]
  },
  {
   "cell_type": "code",
   "execution_count": 118,
   "metadata": {},
   "outputs": [
    {
     "name": "stdout",
     "output_type": "stream",
     "text": [
      "../models/seq_nn_model77.3_accuracy.h5\n"
     ]
    }
   ],
   "source": [
    "models_path='../models/'\n",
    "filename = 'seq_nn_model'+str(accuracy)+'_accuracy.h5'\n",
    "nn_model = models_path+filename\n",
    "\n",
    "print(nn_model)\n",
    "model.save(nn_model)"
   ]
  },
  {
   "cell_type": "markdown",
   "metadata": {},
   "source": [
    "## Adding Convolution "
   ]
  },
  {
   "cell_type": "code",
   "execution_count": 154,
   "metadata": {},
   "outputs": [],
   "source": [
    "#input_shape=(batch_size, channels, rows, cols)\n",
    "alpha=0.0002\n",
    "input_shape=(20,170,1)\n",
    "\n",
    "model2 = Sequential()\n",
    "model2.add(Conv2D(32,(2,2),\n",
    "                 input_shape=input_shape,\n",
    "                 activation='relu',\n",
    "                 data_format='channels_last'))\n",
    "model2.add(MaxPooling2D(pool_size=(2, 2)))\n",
    "model2.add(Flatten())\n",
    "model2.add(Dense(128, activation='relu'))\n",
    "model2.add(Dense(num_classes, activation='softmax'))\n",
    "\n",
    "opt2 = keras.optimizers.Adam(learning_rate=alpha)\n",
    "\n",
    "model2.compile(loss=\"categorical_crossentropy\",\n",
    "              optimizer=opt2,\n",
    "              metrics=['accuracy'])"
   ]
  },
  {
   "cell_type": "code",
   "execution_count": 155,
   "metadata": {},
   "outputs": [
    {
     "name": "stdout",
     "output_type": "stream",
     "text": [
      "Model: \"sequential_8\"\n",
      "_________________________________________________________________\n",
      "Layer (type)                 Output Shape              Param #   \n",
      "=================================================================\n",
      "conv2d_5 (Conv2D)            (None, 19, 169, 32)       160       \n",
      "_________________________________________________________________\n",
      "max_pooling2d_5 (MaxPooling2 (None, 9, 84, 32)         0         \n",
      "_________________________________________________________________\n",
      "flatten_8 (Flatten)          (None, 24192)             0         \n",
      "_________________________________________________________________\n",
      "dense_13 (Dense)             (None, 128)               3096704   \n",
      "_________________________________________________________________\n",
      "dense_14 (Dense)             (None, 2)                 258       \n",
      "=================================================================\n",
      "Total params: 3,097,122\n",
      "Trainable params: 3,097,122\n",
      "Non-trainable params: 0\n",
      "_________________________________________________________________\n"
     ]
    }
   ],
   "source": [
    "model2.summary()"
   ]
  },
  {
   "cell_type": "code",
   "execution_count": 156,
   "metadata": {},
   "outputs": [
    {
     "name": "stdout",
     "output_type": "stream",
     "text": [
      "(1481, 20, 170)\n",
      "(1481, 20, 170, 1)\n",
      "(1481, 2)\n",
      "(636, 20, 170)\n",
      "(636, 20, 170, 1)\n",
      "(636, 2)\n",
      "20\n",
      "170\n",
      "1\n"
     ]
    }
   ],
   "source": [
    "print(X_train.shape)\n",
    "print(np.reshape(X_train,(1481,20,170,1)).shape)\n",
    "X_train2=np.reshape(X_train,(1481,20,170,1))\n",
    "print(y_train_hot.shape)\n",
    "print(X_val.shape)\n",
    "X_val2=np.reshape(X_val,(636,20,170,1))\n",
    "print(X_val2.shape)\n",
    "print(y_val_hot.shape)\n",
    "print(config.buckets)\n",
    "print(config.max_len)\n",
    "print(channels)"
   ]
  },
  {
   "cell_type": "code",
   "execution_count": 157,
   "metadata": {
    "scrolled": true
   },
   "outputs": [
    {
     "data": {
      "text/html": [
       "\n",
       "                Logging results to <a href=\"https://wandb.com\" target=\"_blank\">Weights & Biases</a> <a href=\"https://docs.wandb.com/integrations/jupyter.html\" target=\"_blank\">(Documentation)</a>.<br/>\n",
       "                Project page: <a href=\"https://app.wandb.ai/adri-rojas/Firearm_Detection-notebooks\" target=\"_blank\">https://app.wandb.ai/adri-rojas/Firearm_Detection-notebooks</a><br/>\n",
       "                Run page: <a href=\"https://app.wandb.ai/adri-rojas/Firearm_Detection-notebooks/runs/3bzsp3q6\" target=\"_blank\">https://app.wandb.ai/adri-rojas/Firearm_Detection-notebooks/runs/3bzsp3q6</a><br/>\n",
       "            "
      ],
      "text/plain": [
       "<IPython.core.display.HTML object>"
      ]
     },
     "metadata": {},
     "output_type": "display_data"
    },
    {
     "name": "stdout",
     "output_type": "stream",
     "text": [
      "Epoch 1/50\n",
      "47/47 [==============================] - 1s 29ms/step - loss: 6.5979 - accuracy: 0.9210 - val_loss: 1.9487 - val_accuracy: 0.9025\n",
      "Epoch 2/50\n",
      "47/47 [==============================] - 1s 25ms/step - loss: 1.1331 - accuracy: 0.9527 - val_loss: 0.5624 - val_accuracy: 0.9780\n",
      "Epoch 3/50\n",
      "47/47 [==============================] - 1s 24ms/step - loss: 0.8133 - accuracy: 0.9588 - val_loss: 0.5897 - val_accuracy: 0.9560\n",
      "Epoch 4/50\n",
      "47/47 [==============================] - 1s 25ms/step - loss: 0.5933 - accuracy: 0.9689 - val_loss: 0.7640 - val_accuracy: 0.9214\n",
      "Epoch 5/50\n",
      "47/47 [==============================] - 1s 26ms/step - loss: 0.2966 - accuracy: 0.9716 - val_loss: 0.6031 - val_accuracy: 0.9780\n",
      "Epoch 6/50\n",
      "47/47 [==============================] - 1s 25ms/step - loss: 0.4350 - accuracy: 0.9723 - val_loss: 2.0319 - val_accuracy: 0.9701\n",
      "Epoch 7/50\n",
      "47/47 [==============================] - 1s 26ms/step - loss: 0.4179 - accuracy: 0.9818 - val_loss: 0.2309 - val_accuracy: 0.9874\n",
      "Epoch 8/50\n",
      "47/47 [==============================] - 1s 24ms/step - loss: 0.0662 - accuracy: 0.9865 - val_loss: 0.6068 - val_accuracy: 0.9497\n",
      "Epoch 9/50\n",
      "47/47 [==============================] - 1s 24ms/step - loss: 0.0922 - accuracy: 0.9858 - val_loss: 0.4380 - val_accuracy: 0.9701\n",
      "Epoch 10/50\n",
      "47/47 [==============================] - 1s 25ms/step - loss: 0.4130 - accuracy: 0.9737 - val_loss: 0.9088 - val_accuracy: 0.9481\n",
      "Epoch 11/50\n",
      "47/47 [==============================] - 1s 27ms/step - loss: 0.6394 - accuracy: 0.9615 - val_loss: 0.5342 - val_accuracy: 0.9591\n",
      "Epoch 12/50\n",
      "47/47 [==============================] - 1s 28ms/step - loss: 0.1550 - accuracy: 0.9811 - val_loss: 0.3281 - val_accuracy: 0.9906\n",
      "Epoch 13/50\n",
      "47/47 [==============================] - 1s 25ms/step - loss: 0.0371 - accuracy: 0.9932 - val_loss: 0.2935 - val_accuracy: 0.9874\n",
      "Epoch 14/50\n",
      "47/47 [==============================] - 1s 26ms/step - loss: 0.0648 - accuracy: 0.9892 - val_loss: 0.3486 - val_accuracy: 0.9858\n",
      "Epoch 15/50\n",
      "47/47 [==============================] - 1s 25ms/step - loss: 0.0953 - accuracy: 0.9851 - val_loss: 0.4249 - val_accuracy: 0.9811\n",
      "Epoch 16/50\n",
      "47/47 [==============================] - 1s 26ms/step - loss: 0.0283 - accuracy: 0.9932 - val_loss: 0.4230 - val_accuracy: 0.9686\n",
      "Epoch 17/50\n",
      "47/47 [==============================] - 1s 26ms/step - loss: 0.0414 - accuracy: 0.9932 - val_loss: 0.6692 - val_accuracy: 0.9340\n",
      "Epoch 18/50\n",
      "47/47 [==============================] - 1s 25ms/step - loss: 0.0845 - accuracy: 0.9872 - val_loss: 0.3124 - val_accuracy: 0.9811\n",
      "Epoch 19/50\n",
      "47/47 [==============================] - 1s 25ms/step - loss: 0.0017 - accuracy: 0.9993 - val_loss: 0.3013 - val_accuracy: 0.9843\n",
      "Epoch 20/50\n",
      "47/47 [==============================] - 1s 25ms/step - loss: 0.0018 - accuracy: 0.9993 - val_loss: 0.4060 - val_accuracy: 0.9906\n",
      "Epoch 21/50\n",
      "47/47 [==============================] - 1s 27ms/step - loss: 0.0623 - accuracy: 0.9905 - val_loss: 0.5373 - val_accuracy: 0.9811\n",
      "Epoch 22/50\n",
      "47/47 [==============================] - 1s 29ms/step - loss: 0.0690 - accuracy: 0.9932 - val_loss: 0.4394 - val_accuracy: 0.9890\n",
      "Epoch 23/50\n",
      "47/47 [==============================] - 1s 25ms/step - loss: 0.0134 - accuracy: 0.9973 - val_loss: 0.3759 - val_accuracy: 0.9811\n",
      "Epoch 24/50\n",
      "47/47 [==============================] - 1s 26ms/step - loss: 1.8107e-04 - accuracy: 1.0000 - val_loss: 0.3503 - val_accuracy: 0.9858\n",
      "Epoch 25/50\n",
      "47/47 [==============================] - 1s 26ms/step - loss: 8.9695e-06 - accuracy: 1.0000 - val_loss: 0.3423 - val_accuracy: 0.9858\n",
      "Epoch 26/50\n",
      "47/47 [==============================] - 1s 25ms/step - loss: 1.5704e-05 - accuracy: 1.0000 - val_loss: 0.3425 - val_accuracy: 0.9858\n",
      "Epoch 27/50\n",
      "22/47 [=============>................] - ETA: 0s - loss: 2.5839e-07 - accuracy: 1.0000"
     ]
    },
    {
     "name": "stderr",
     "output_type": "stream",
     "text": [
      "\u001b[34m\u001b[1mwandb\u001b[0m: \u001b[32m\u001b[41mERROR\u001b[0m Error uploading \"media/images/examples_3.png\": CommError, File /var/folders/px/t6llprnj0m3fhqqbhbvkrynm0000gn/T/tmpsrfksfdlwandb/2wcx4ke8-media/images/examples_3.png size shrank from 84203 to 0 while it was being uploaded.\n"
     ]
    },
    {
     "name": "stdout",
     "output_type": "stream",
     "text": [
      "47/47 [==============================] - 1s 25ms/step - loss: 6.8483e-06 - accuracy: 1.0000 - val_loss: 0.3426 - val_accuracy: 0.9858\n",
      "Epoch 28/50\n",
      "37/47 [======================>.......] - ETA: 0s - loss: 5.8936e-06 - accuracy: 1.0000"
     ]
    },
    {
     "name": "stderr",
     "output_type": "stream",
     "text": [
      "\u001b[34m\u001b[1mwandb\u001b[0m: Network error resolved after 0:00:20.478547, resuming normal operation.\n"
     ]
    },
    {
     "name": "stdout",
     "output_type": "stream",
     "text": [
      "47/47 [==============================] - 1s 25ms/step - loss: 5.4535e-06 - accuracy: 1.0000 - val_loss: 0.3429 - val_accuracy: 0.9843\n",
      "Epoch 29/50\n",
      "47/47 [==============================] - 1s 26ms/step - loss: 4.1218e-06 - accuracy: 1.0000 - val_loss: 0.3431 - val_accuracy: 0.9843\n",
      "Epoch 30/50\n",
      "47/47 [==============================] - 1s 26ms/step - loss: 3.6426e-06 - accuracy: 1.0000 - val_loss: 0.3432 - val_accuracy: 0.9843\n",
      "Epoch 31/50\n",
      "47/47 [==============================] - 1s 25ms/step - loss: 3.2907e-06 - accuracy: 1.0000 - val_loss: 0.3433 - val_accuracy: 0.9843\n",
      "Epoch 32/50\n",
      "25/47 [==============>...............] - ETA: 0s - loss: 3.8788e-06 - accuracy: 1.0000"
     ]
    },
    {
     "name": "stderr",
     "output_type": "stream",
     "text": [
      "\u001b[34m\u001b[1mwandb\u001b[0m: Network error resolved after 0:00:24.262177, resuming normal operation.\n"
     ]
    },
    {
     "name": "stdout",
     "output_type": "stream",
     "text": [
      "47/47 [==============================] - 1s 27ms/step - loss: 3.0619e-06 - accuracy: 1.0000 - val_loss: 0.3434 - val_accuracy: 0.9843\n",
      "Epoch 33/50\n",
      "47/47 [==============================] - 2s 32ms/step - loss: 2.8846e-06 - accuracy: 1.0000 - val_loss: 0.3434 - val_accuracy: 0.9843\n",
      "Epoch 34/50\n",
      " 6/47 [==>...........................] - ETA: 0s - loss: 4.8343e-06 - accuracy: 1.0000"
     ]
    },
    {
     "name": "stderr",
     "output_type": "stream",
     "text": [
      "\u001b[34m\u001b[1mwandb\u001b[0m: Network error resolved after 0:00:24.778051, resuming normal operation.\n"
     ]
    },
    {
     "name": "stdout",
     "output_type": "stream",
     "text": [
      "12/47 [======>.......................] - ETA: 0s - loss: 2.8374e-06 - accuracy: 1.0000"
     ]
    },
    {
     "name": "stderr",
     "output_type": "stream",
     "text": [
      "\u001b[34m\u001b[1mwandb\u001b[0m: Network error resolved after 0:00:29.938910, resuming normal operation.\n"
     ]
    },
    {
     "name": "stdout",
     "output_type": "stream",
     "text": [
      "43/47 [==========================>...] - ETA: 0s - loss: 2.8831e-06 - accuracy: 1.0000"
     ]
    },
    {
     "name": "stderr",
     "output_type": "stream",
     "text": [
      "\u001b[34m\u001b[1mwandb\u001b[0m: Network error resolved after 0:00:29.604514, resuming normal operation.\n",
      "\u001b[34m\u001b[1mwandb\u001b[0m: Network error resolved after 0:00:24.596964, resuming normal operation.\n"
     ]
    },
    {
     "name": "stdout",
     "output_type": "stream",
     "text": [
      "47/47 [==============================] - 1s 27ms/step - loss: 2.6824e-06 - accuracy: 1.0000 - val_loss: 0.3436 - val_accuracy: 0.9843\n",
      "Epoch 35/50\n",
      "47/47 [==============================] - 1s 26ms/step - loss: 2.5888e-06 - accuracy: 1.0000 - val_loss: 0.3437 - val_accuracy: 0.9843\n",
      "Epoch 36/50\n",
      "47/47 [==============================] - 1s 26ms/step - loss: 2.5060e-06 - accuracy: 1.0000 - val_loss: 0.3437 - val_accuracy: 0.9843\n",
      "Epoch 37/50\n",
      "47/47 [==============================] - 1s 27ms/step - loss: 2.4302e-06 - accuracy: 1.0000 - val_loss: 0.3437 - val_accuracy: 0.9843\n",
      "Epoch 38/50\n",
      "47/47 [==============================] - 1s 27ms/step - loss: 2.3626e-06 - accuracy: 1.0000 - val_loss: 0.3438 - val_accuracy: 0.9843\n",
      "Epoch 39/50\n",
      "47/47 [==============================] - 1s 25ms/step - loss: 2.2981e-06 - accuracy: 1.0000 - val_loss: 0.3438 - val_accuracy: 0.9843\n",
      "Epoch 40/50\n",
      "47/47 [==============================] - 1s 27ms/step - loss: 2.2528e-06 - accuracy: 1.0000 - val_loss: 0.3438 - val_accuracy: 0.9843\n",
      "Epoch 41/50\n",
      "47/47 [==============================] - 1s 26ms/step - loss: 2.1930e-06 - accuracy: 1.0000 - val_loss: 0.3438 - val_accuracy: 0.9843\n",
      "Epoch 42/50\n",
      "47/47 [==============================] - 1s 26ms/step - loss: 2.1374e-06 - accuracy: 1.0000 - val_loss: 0.3438 - val_accuracy: 0.9843\n",
      "Epoch 43/50\n",
      "47/47 [==============================] - 1s 26ms/step - loss: 2.1172e-06 - accuracy: 1.0000 - val_loss: 0.3438 - val_accuracy: 0.9843\n",
      "Epoch 44/50\n",
      "47/47 [==============================] - 1s 27ms/step - loss: 2.0080e-06 - accuracy: 1.0000 - val_loss: 0.3440 - val_accuracy: 0.9843\n",
      "Epoch 45/50\n",
      "47/47 [==============================] - 1s 26ms/step - loss: 1.9919e-06 - accuracy: 1.0000 - val_loss: 0.3440 - val_accuracy: 0.9843\n",
      "Epoch 46/50\n",
      "47/47 [==============================] - 1s 27ms/step - loss: 1.9561e-06 - accuracy: 1.0000 - val_loss: 0.3439 - val_accuracy: 0.9843\n",
      "Epoch 47/50\n",
      "47/47 [==============================] - 1s 28ms/step - loss: 1.9424e-06 - accuracy: 1.0000 - val_loss: 0.3439 - val_accuracy: 0.9843\n",
      "Epoch 48/50\n",
      "47/47 [==============================] - 1s 28ms/step - loss: 1.8723e-06 - accuracy: 1.0000 - val_loss: 0.3438 - val_accuracy: 0.9843\n",
      "Epoch 49/50\n",
      "47/47 [==============================] - 1s 27ms/step - loss: 1.8549e-06 - accuracy: 1.0000 - val_loss: 0.3438 - val_accuracy: 0.9843\n",
      "Epoch 50/50\n",
      "47/47 [==============================] - 1s 26ms/step - loss: 1.8152e-06 - accuracy: 1.0000 - val_loss: 0.3437 - val_accuracy: 0.9843\n"
     ]
    },
    {
     "name": "stderr",
     "output_type": "stream",
     "text": [
      "\u001b[34m\u001b[1mwandb\u001b[0m: \u001b[32m\u001b[41mERROR\u001b[0m Error uploading \"media/images/examples_26.png\": CommError, File /var/folders/px/t6llprnj0m3fhqqbhbvkrynm0000gn/T/tmpsrfksfdlwandb/uszswqh8-media/images/examples_26.png size shrank from 88398 to 0 while it was being uploaded.\n",
      "\u001b[34m\u001b[1mwandb\u001b[0m: Network error resolved after 0:00:23.083024, resuming normal operation.\n",
      "\u001b[34m\u001b[1mwandb\u001b[0m: Network error resolved after 0:00:25.611640, resuming normal operation.\n",
      "\u001b[34m\u001b[1mwandb\u001b[0m: \u001b[32m\u001b[41mERROR\u001b[0m Error uploading \"media/images/examples_29.png\": CommError, File /var/folders/px/t6llprnj0m3fhqqbhbvkrynm0000gn/T/tmpsrfksfdlwandb/3q4mare2-media/images/examples_29.png size shrank from 83202 to 0 while it was being uploaded.\n",
      "\u001b[34m\u001b[1mwandb\u001b[0m: Network error resolved after 0:00:25.061322, resuming normal operation.\n"
     ]
    }
   ],
   "source": [
    "wandb.init()\n",
    "history=model2.fit(X_train2, y_train_hot, epochs=config.epochs, validation_data=(X_val2, y_val_hot), callbacks=[WandbCallback(data_type=\"image\", labels=labels)])"
   ]
  },
  {
   "cell_type": "code",
   "execution_count": 158,
   "metadata": {},
   "outputs": [
    {
     "name": "stdout",
     "output_type": "stream",
     "text": [
      "3/3 [==============================] - 0s 5ms/step - loss: 2.2281 - accuracy: 0.9200\n",
      "\n",
      "The accuracy is: 92.0 %\n"
     ]
    }
   ],
   "source": [
    "m2_eval=model2.evaluate(X_test, np.abs(Y_test_hot))\n",
    "accuracy2=round(m2_eval[1]*100,1)\n",
    "print('\\nThe accuracy is:', accuracy2,'%')"
   ]
  },
  {
   "cell_type": "code",
   "execution_count": 159,
   "metadata": {},
   "outputs": [
    {
     "data": {
      "image/png": "[encoded data removed]",
      "text/plain": [
       "<Figure size 576x360 with 1 Axes>"
      ]
     },
     "metadata": {
      "needs_background": "light"
     },
     "output_type": "display_data"
    },
    {
     "data": {
      "text/plain": [
       "<Figure size 432x288 with 0 Axes>"
      ]
     },
     "metadata": {},
     "output_type": "display_data"
    },
    {
     "name": "stderr",
     "output_type": "stream",
     "text": [
      "\u001b[34m\u001b[1mwandb\u001b[0m: Network error resolved after 0:01:26.077794, resuming normal operation.\n"
     ]
    }
   ],
   "source": [
    "pd.DataFrame(history.history).plot(figsize=(8,5),fontsize=20)\n",
    "plt.grid(True)\n",
    "plt.gca().set_ylim(0,1)\n",
    "plt.xlabel('Epochs',fontsize=20)\n",
    "plt.ylabel('Accuracy and Loss',fontsize=20)\n",
    "plt.show();\n",
    "plt.savefig('../reports/CNN_'+'alpha_'+str(alpha)+'_'+str(accuracy2)+'.png')"
   ]
  },
  {
   "cell_type": "code",
   "execution_count": 160,
   "metadata": {},
   "outputs": [
    {
     "name": "stdout",
     "output_type": "stream",
     "text": [
      "../models/cnn_model_accuracy_92.0_alpha_0.0002.h5\n"
     ]
    }
   ],
   "source": [
    "models_path='../models/'\n",
    "filename = 'cnn_model_accuracy_' +str(accuracy2)+'_alpha_'+str(alpha)+'.h5'\n",
    "cnn_model = models_path+filename\n",
    "\n",
    "print(cnn_model)\n",
    "model2.save(cnn_model)"
   ]
  },
  {
   "cell_type": "code",
   "execution_count": 161,
   "metadata": {},
   "outputs": [],
   "source": [
    "Y_predict2=model2.predict(X_test)"
   ]
  },
  {
   "cell_type": "code",
   "execution_count": 162,
   "metadata": {},
   "outputs": [],
   "source": [
    "conf_mat2=sklearn.metrics.confusion_matrix(pd.DataFrame(Y_test_hot)[0],pd.DataFrame(Y_predict2).round()[0])"
   ]
  },
  {
   "cell_type": "code",
   "execution_count": 163,
   "metadata": {},
   "outputs": [
    {
     "data": {
      "image/png": "[encoded data removed]",
      "text/plain": [
       "<Figure size 540x450 with 2 Axes>"
      ]
     },
     "metadata": {
      "needs_background": "light"
     },
     "output_type": "display_data"
    },
    {
     "name": "stderr",
     "output_type": "stream",
     "text": [
      "\u001b[34m\u001b[1mwandb\u001b[0m: Network error resolved after 0:01:55.353191, resuming normal operation.\n"
     ]
    }
   ],
   "source": [
    "df_cm = pd.DataFrame(conf_mat2, index = [i for i in \"01\"],\n",
    "                  columns = [i for i in \"01\"])\n",
    "plt.figure(figsize = (3,2.5),dpi=180)\n",
    "sn.heatmap(df_cm, annot=True,annot_kws={\"size\": 10},cmap=\"GnBu\",cbar_kws={'label': 'Count'})\n",
    "plt.savefig('../reports/figures/CNN_confusion_mat_'+str(accuracy2)+'_alpha_'+str(alpha)+'.png')"
   ]
  },
  {
   "cell_type": "markdown",
   "metadata": {},
   "source": [
    "## Using a Different Metric in the CNN"
   ]
  },
  {
   "cell_type": "code",
   "execution_count": null,
   "metadata": {},
   "outputs": [],
   "source": [
    "#input_shape=(batch_size, channels, rows, cols)\n",
    "alpha3=0.0002\n",
    "input_shape=(20,170,1)\n",
    "\n",
    "model3 = Sequential()\n",
    "model3.add(Conv2D(32,(2,2),\n",
    "                 input_shape=input_shape,\n",
    "                 activation='relu',\n",
    "                 data_format='channels_last'))\n",
    "model3.add(MaxPooling2D(pool_size=(2, 2)))\n",
    "model3.add(Flatten())\n",
    "model3.add(Dense(128, activation='relu'))\n",
    "model3.add(Dense(num_classes, activation='softmax'))\n",
    "\n",
    "opt3 = keras.optimizers.Adam(learning_rate=alpha)\n",
    "\n",
    "model3.compile(loss=\"categorical_crossentropy\",\n",
    "              optimizer=opt2,\n",
    "              metrics=['accuracy'])"
   ]
  },
  {
   "cell_type": "code",
   "execution_count": null,
   "metadata": {},
   "outputs": [],
   "source": [
    "model3.summary()"
   ]
  }
 ],
 "metadata": {
  "kernelspec": {
   "display_name": "Python 3",
   "language": "python",
   "name": "python3"
  },
  "language_info": {
   "codemirror_mode": {
    "name": "ipython",
    "version": 3
   },
   "file_extension": ".py",
   "mimetype": "text/x-python",
   "name": "python",
   "nbconvert_exporter": "python",
   "pygments_lexer": "ipython3",
   "version": "3.7.7"
  }
 },
 "nbformat": 4,
 "nbformat_minor": 4
}
