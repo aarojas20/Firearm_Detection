{
 "cells": [
  {
   "cell_type": "markdown",
   "metadata": {},
   "source": [
    "# First Model"
   ]
  },
  {
   "cell_type": "code",
   "execution_count": 1,
   "metadata": {},
   "outputs": [],
   "source": [
    "import numpy as np\n",
    "import tensorflow as tf\n",
    "from tensorflow import keras\n",
    "import os\n",
    "import matplotlib.pyplot as plt\n",
    "import pandas as pd\n",
    "from sklearn.linear_model import LogisticRegression\n",
    "import seaborn as sn\n",
    "import pickle\n",
    "import sklearn"
   ]
  },
  {
   "cell_type": "code",
   "execution_count": 2,
   "metadata": {},
   "outputs": [],
   "source": [
    "processed_data_path='/Users/aarojas/Documents/Data_Science_Resources/Insight_20B/AAR_Insight_Project/Firearm_Detection/data/processed/'\n",
    "ESC50_MFCC_train=np.loadtxt(processed_data_path+'ESC50_MFCC_train.csv',delimiter=',')\n",
    "firearm_MFCC_train=np.loadtxt(processed_data_path+'firearm_MFCC_train.csv',delimiter=',')\n",
    "\n",
    "firearm_logMS_train=np.loadtxt(processed_data_path+'firearm_logMS_train.csv',delimiter=',')\n",
    "ESC50_logMS_train=np.loadtxt(processed_data_path+'ESC50_logMS_train.csv',delimiter=',')\n"
   ]
  },
  {
   "cell_type": "code",
   "execution_count": 3,
   "metadata": {
    "scrolled": true
   },
   "outputs": [
    {
     "name": "stdout",
     "output_type": "stream",
     "text": [
      "(500, 2600)\n",
      "(89, 2600)\n",
      "(500, 16640)\n",
      "(89, 16640)\n"
     ]
    }
   ],
   "source": [
    "print(ESC50_MFCC_train.shape)\n",
    "print(firearm_MFCC_train.shape)\n",
    "print(ESC50_logMS_train.shape)\n",
    "print(firearm_logMS_train.shape)"
   ]
  },
  {
   "cell_type": "markdown",
   "metadata": {},
   "source": [
    "Next, I will merge the two into one and then also instantiate an output vector. "
   ]
  },
  {
   "cell_type": "code",
   "execution_count": 4,
   "metadata": {},
   "outputs": [],
   "source": [
    "def training_data(ESC50_train,firearm_train,printing=False):\n",
    "    '''combine the two classifiers into one matrix for training then shuffle the rows\n",
    "    return the final X_train and Y_train data'''\n",
    "    X_train=np.concatenate((ESC50_train,firearm_train),axis=0)\n",
    "    Y_train=np.concatenate((np.zeros((ESC50_train.shape[0],1)),np.ones((firearm_train.shape[0],1))))\n",
    "    #\n",
    "    n_col=ESC50_train.shape[1]\n",
    "    # shuffle the rows\n",
    "    XY_train=np.concatenate((X_train,Y_train),axis=1)\n",
    "    np.random.shuffle(XY_train) # shuffle the rows\n",
    "    X_train_rand=XY_train[:,:n_col]\n",
    "    Y_train_rand=np.reshape(XY_train[:,n_col],(X_train_rand.shape[0],1))\n",
    "    #\n",
    "    if printing==True:\n",
    "        print('The original X_train: ',X_train.shape)\n",
    "        print('The original Y_train: ', Y_train.shape)\n",
    "        print('The combined XY_train: ',XY_train.shape)\n",
    "        print('The randomized X_train: ',X_train_rand.shape)\n",
    "        print('The randomized Y_train: ',Y_train_rand.shape)\n",
    "    return X_train_rand,Y_train_rand"
   ]
  },
  {
   "cell_type": "code",
   "execution_count": 18,
   "metadata": {},
   "outputs": [
    {
     "name": "stdout",
     "output_type": "stream",
     "text": [
      "The original X_train:  (173, 2600)\n",
      "The original Y_train:  (173, 1)\n",
      "The combined XY_train:  (173, 2601)\n",
      "The randomized X_train:  (173, 2600)\n",
      "The randomized Y_train:  (173, 1)\n",
      "The original X_train:  (173, 16640)\n",
      "The original Y_train:  (173, 1)\n",
      "The combined XY_train:  (173, 16641)\n",
      "The randomized X_train:  (173, 16640)\n",
      "The randomized Y_train:  (173, 1)\n"
     ]
    }
   ],
   "source": [
    "X_mfcc_train,Y_mfcc_train=training_data(ESC50_MFCC_train[0:500:6,:],firearm_MFCC_train,printing=True)\n",
    "X_logMS_train, Y_logMS_train=training_data(ESC50_logMS_train[0:500:6,:],firearm_logMS_train,printing=True)"
   ]
  },
  {
   "cell_type": "markdown",
   "metadata": {},
   "source": [
    "## Using a Logistic Regression"
   ]
  },
  {
   "cell_type": "markdown",
   "metadata": {},
   "source": [
    "Logistic regression on the MFCC feature."
   ]
  },
  {
   "cell_type": "code",
   "execution_count": 19,
   "metadata": {
    "scrolled": true
   },
   "outputs": [
    {
     "data": {
      "text/plain": [
       "0.9942196531791907"
      ]
     },
     "execution_count": 19,
     "metadata": {},
     "output_type": "execute_result"
    }
   ],
   "source": [
    "clf = LogisticRegression(max_iter=1000)\n",
    "clf.fit(X_mfcc_train, Y_mfcc_train.ravel())\n",
    "clf.score(X_mfcc_train,Y_mfcc_train)"
   ]
  },
  {
   "cell_type": "markdown",
   "metadata": {},
   "source": [
    "Logistic regression on the LogMS feature"
   ]
  },
  {
   "cell_type": "code",
   "execution_count": 36,
   "metadata": {},
   "outputs": [
    {
     "data": {
      "text/plain": [
       "1.0"
      ]
     },
     "execution_count": 36,
     "metadata": {},
     "output_type": "execute_result"
    }
   ],
   "source": [
    "clf=LogisticRegression(max_iter=1000)\n",
    "clf.fit(X_logMS_train,Y_logMS_train.ravel())\n",
    "clf.score(X_logMS_train,Y_logMS_train)"
   ]
  },
  {
   "cell_type": "markdown",
   "metadata": {},
   "source": [
    "## Testing the Logisitic Regression Model with some Testing Data"
   ]
  },
  {
   "cell_type": "markdown",
   "metadata": {},
   "source": [
    "Load the test data: "
   ]
  },
  {
   "cell_type": "code",
   "execution_count": 30,
   "metadata": {},
   "outputs": [
    {
     "name": "stdout",
     "output_type": "stream",
     "text": [
      "Number of ESC50:  50\n",
      "\n",
      "Number of firearm sounds:  39\n"
     ]
    }
   ],
   "source": [
    "def LoadTestData(esc50_test_filename,firearm_test_filename):\n",
    "    ESC50_test=np.loadtxt(processed_data_path+esc50_test_filename,delimiter=',')\n",
    "    firearm_test=np.loadtxt(processed_data_path+firearm_test_filename,delimiter=',')\n",
    "    print('Number of ESC50: ', len(ESC50_test))\n",
    "    print('\\nNumber of firearm sounds: ', len(firearm_test))\n",
    "    return ESC50_test, firearm_test\n",
    "\n",
    "ESC50_MFCC_test, firearm_MFCC_test=LoadTestData('ESC50_MFCC_test.csv','firearm_MFCC_test.csv')"
   ]
  },
  {
   "cell_type": "code",
   "execution_count": 31,
   "metadata": {},
   "outputs": [
    {
     "name": "stdout",
     "output_type": "stream",
     "text": [
      "Number of ESC50:  50\n",
      "\n",
      "Number of firearm sounds:  39\n"
     ]
    }
   ],
   "source": [
    "ESC50_logMS_test,firearm_logMS_test=LoadTestData('ESC50_logMS_test.csv','firearm_logMS_test.csv')\n"
   ]
  },
  {
   "cell_type": "markdown",
   "metadata": {},
   "source": [
    "Combine the test data into a single matrix: "
   ]
  },
  {
   "cell_type": "code",
   "execution_count": 32,
   "metadata": {},
   "outputs": [],
   "source": [
    "def testing_data(ESC50_test,firearm_test,printing=False):\n",
    "    '''combine the two classifiers into one matrix for training then shuffle the rows\n",
    "    return the final X_train and Y_train data'''\n",
    "    X_test=np.concatenate((ESC50_test,firearm_test),axis=0)\n",
    "    Y_test=np.concatenate((np.zeros((ESC50_test.shape[0],1)),np.ones((firearm_test.shape[0],1))))\n",
    "    #\n",
    "    if printing==True:\n",
    "        print('The original X_train: ',X_test.shape)\n",
    "        print('The original Y_train: ',Y_test.shape)\n",
    "        \n",
    "    n_col=ESC50_test.shape[1] \n",
    "    \n",
    "    XY_test=np.concatenate((X_test,Y_test),axis=1)\n",
    "    np.random.shuffle(XY_test)\n",
    "    X_test_rand=XY_test[:,:n_col]\n",
    "    Y_test_rand=np.reshape(XY_test[:,n_col],(X_test_rand.shape[0],1))\n",
    "    \n",
    "    if printing==True:\n",
    "        print('The combined XY_test: ',XY_test.shape)\n",
    "        print('The shuffled X_test: ',X_test_rand.shape)\n",
    "        print('The shuffled Y_test: ',Y_test_rand.shape)\n",
    "\n",
    "    return X_test_rand, Y_test_rand"
   ]
  },
  {
   "cell_type": "code",
   "execution_count": 33,
   "metadata": {},
   "outputs": [
    {
     "name": "stdout",
     "output_type": "stream",
     "text": [
      "The original X_train:  (78, 2600)\n",
      "The original Y_train:  (78, 1)\n",
      "The combined XY_test:  (78, 2601)\n",
      "The shuffled X_test:  (78, 2600)\n",
      "The shuffled Y_test:  (78, 1)\n"
     ]
    }
   ],
   "source": [
    "X_mfcc_test,Y_mfcc_test=testing_data(ESC50_MFCC_test[:39,:],firearm_MFCC_test,printing=True)"
   ]
  },
  {
   "cell_type": "code",
   "execution_count": 35,
   "metadata": {},
   "outputs": [],
   "source": [
    "X_logMS_test,Y_logMS_test=testing_data(ESC50_logMS_test[:39,:],firearm_logMS_test)"
   ]
  },
  {
   "cell_type": "markdown",
   "metadata": {},
   "source": [
    "Visualize the output vector:"
   ]
  },
  {
   "cell_type": "markdown",
   "metadata": {},
   "source": [
    "Visualize the shuffled data:"
   ]
  },
  {
   "cell_type": "markdown",
   "metadata": {},
   "source": [
    "Run a prediction on the test data: "
   ]
  },
  {
   "cell_type": "code",
   "execution_count": 25,
   "metadata": {},
   "outputs": [],
   "source": [
    "LR_predictions = np.reshape(clf.predict(X_mfcc_test),(Y_mfcc_test.shape[0],Y_mfcc_test.shape[1]))\n",
    "#print ('Accuracy of logistic regression: %d ' % float((np.dot(Y_mfcc_test,LR_predictions) + np.dot(1-Y_mfcc_test,1-LR_predictions))/float(Y_mfcc_test.size)*100) +\n",
    "#       '% ' + \"(percentage of correctly labelled datapoints)\")"
   ]
  },
  {
   "cell_type": "code",
   "execution_count": 38,
   "metadata": {},
   "outputs": [],
   "source": [
    "Y_logMS_predict=clf.predict(X_logMS_test)"
   ]
  },
  {
   "cell_type": "code",
   "execution_count": 40,
   "metadata": {},
   "outputs": [
    {
     "data": {
      "text/plain": [
       "array([[ 1, 38],\n",
       "       [14, 25]])"
      ]
     },
     "execution_count": 40,
     "metadata": {},
     "output_type": "execute_result"
    }
   ],
   "source": [
    "conf_mat=sklearn.metrics.confusion_matrix(Y_logMS_test,Y_logMS_predict)\n",
    "conf_mat"
   ]
  },
  {
   "cell_type": "markdown",
   "metadata": {},
   "source": [
    "Make a confusion matrix to understand accuracy:"
   ]
  },
  {
   "cell_type": "code",
   "execution_count": 26,
   "metadata": {},
   "outputs": [
    {
     "data": {
      "text/plain": [
       "array([[ 1, 38],\n",
       "       [ 9, 30]])"
      ]
     },
     "execution_count": 26,
     "metadata": {},
     "output_type": "execute_result"
    }
   ],
   "source": [
    "conf_mat=sklearn.metrics.confusion_matrix(Y_mfcc_test, LR_predictions)\n",
    "conf_mat"
   ]
  },
  {
   "cell_type": "markdown",
   "metadata": {},
   "source": [
    "Thus in binary classification, the count of true negatives is , false negatives is , true positives is  and false positives is .\n",
    "* The element, c$_{0,0}$, is equal to 1.  This indicates that there is 1 true negative.\n",
    "* The element, c$_{1,0}$, is equal to 15.  This indicates that there are 15 false negatives.\n",
    "* The element, c$_{0,1}$, is equal to 38.  This indicates that there are 38 false positives. \n",
    "* The element, c$_{1,1}$, is equal to 24.  Thus, there are 24 true positives. \n",
    "\n",
    "In the context of predicting firearms, the presence of false negatives is grave.  This means that the 4 sounds were actually the sounds of firearms, but it was predicted that they were not.   "
   ]
  },
  {
   "cell_type": "markdown",
   "metadata": {},
   "source": [
    "Graph the results:"
   ]
  },
  {
   "cell_type": "markdown",
   "metadata": {},
   "source": [
    "Graph the results with seaborn:"
   ]
  },
  {
   "cell_type": "code",
   "execution_count": 27,
   "metadata": {
    "scrolled": true
   },
   "outputs": [
    {
     "data": {
      "text/plain": [
       "<matplotlib.axes._subplots.AxesSubplot at 0x14018c550>"
      ]
     },
     "execution_count": 27,
     "metadata": {},
     "output_type": "execute_result"
    },
    {
     "data": {
      "image/png": "[encoded data removed]",
      "text/plain": [
       "<Figure size 720x504 with 2 Axes>"
      ]
     },
     "metadata": {
      "needs_background": "light"
     },
     "output_type": "display_data"
    }
   ],
   "source": [
    "df_cm = pd.DataFrame(conf_mat, index = [i for i in \"01\"],\n",
    "                  columns = [i for i in \"01\"])\n",
    "plt.figure(figsize = (10,7))\n",
    "sn.heatmap(df_cm, annot=True,annot_kws={\"size\": 20})"
   ]
  },
  {
   "cell_type": "markdown",
   "metadata": {},
   "source": [
    "Save this model so that it can be incorporated in app.py"
   ]
  },
  {
   "cell_type": "code",
   "execution_count": null,
   "metadata": {
    "scrolled": true
   },
   "outputs": [],
   "source": [
    "models_path='/Users/aarojas/Documents/Data_Science_Resources/Insight_20B/AAR_Insight_Project/Firearm_Detection/models/'\n",
    "filename = 'logistic_regression_model.pickle'\n",
    "pickle.dump(clf, open(models_path+filename, 'wb'))"
   ]
  },
  {
   "cell_type": "code",
   "execution_count": null,
   "metadata": {},
   "outputs": [],
   "source": [
    "print(pickle.format_version)"
   ]
  },
  {
   "cell_type": "markdown",
   "metadata": {},
   "source": [
    "# Training a Model in TensorFlow"
   ]
  },
  {
   "cell_type": "code",
   "execution_count": null,
   "metadata": {
    "scrolled": false
   },
   "outputs": [],
   "source": [
    "from tensorflow.keras import layers\n",
    "\n",
    "NN = tf.keras.Sequential()\n",
    "# Adds a densely-connected layer with 64 units to the model:\n",
    "NN.add(layers.Dense(532, activation='relu'))\n",
    "# Add another:\n",
    "NN.add(layers.Dense(64, activation='relu'))\n",
    "# Add an output layer with 1 output units:\n",
    "NN.add(layers.Dense(1))\n",
    "\n",
    "NN.compile(optimizer=tf.keras.optimizers.Adam(0.01),\n",
    "              loss=tf.keras.losses.CategoricalCrossentropy(from_logits=True),\n",
    "              metrics=['accuracy'])\n",
    "\n",
    "history=NN.fit(X_train_rand, Y_train_rand, epochs=5, batch_size=32)"
   ]
  },
  {
   "cell_type": "code",
   "execution_count": null,
   "metadata": {},
   "outputs": [],
   "source": [
    "NN.summary()"
   ]
  },
  {
   "cell_type": "code",
   "execution_count": null,
   "metadata": {},
   "outputs": [],
   "source": [
    "pd.DataFrame(history.history).plot(figsize=(4,4),fontsize=20)\n",
    "plt.grid(True)\n",
    "plt.xlabel('Epochs',fontsize=20)\n",
    "plt.ylabel('Loss & Accuracy',fontsize=20)\n",
    "plt.legend(fontsize=20,loc='center')"
   ]
  },
  {
   "cell_type": "code",
   "execution_count": null,
   "metadata": {},
   "outputs": [],
   "source": [
    "NN.evaluate(X_test_rand, Y_test_rand)"
   ]
  },
  {
   "cell_type": "code",
   "execution_count": null,
   "metadata": {
    "scrolled": true
   },
   "outputs": [],
   "source": [
    "Y_NNpredictions = NN.predict(X_test_rand)\n",
    "Y_NNpredictions\n",
    "#conf_mat=sklearn.metrics.confusion_matrix(Y_test_rand, Y_NNpredictions)\n",
    "#conf_mat"
   ]
  },
  {
   "cell_type": "code",
   "execution_count": null,
   "metadata": {
    "scrolled": true
   },
   "outputs": [],
   "source": [
    "df_cm = pd.DataFrame(conf_mat, index = [i for i in \"01\"],\n",
    "                  columns = [i for i in \"01\"])\n",
    "plt.figure(figsize = (10,7))\n",
    "sn.heatmap(df_cm, annot=True,annot_kws={\"size\": 20})"
   ]
  },
  {
   "cell_type": "code",
   "execution_count": null,
   "metadata": {},
   "outputs": [],
   "source": []
  }
 ],
 "metadata": {
  "kernelspec": {
   "display_name": "Python 3",
   "language": "python",
   "name": "python3"
  },
  "language_info": {
   "codemirror_mode": {
    "name": "ipython",
    "version": 3
   },
   "file_extension": ".py",
   "mimetype": "text/x-python",
   "name": "python",
   "nbconvert_exporter": "python",
   "pygments_lexer": "ipython3",
   "version": "3.7.7"
  }
 },
 "nbformat": 4,
 "nbformat_minor": 4
}
