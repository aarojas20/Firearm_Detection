{
 "cells": [
  {
   "cell_type": "markdown",
   "metadata": {},
   "source": [
    "# First Model"
   ]
  },
  {
   "cell_type": "code",
   "execution_count": 20,
   "metadata": {},
   "outputs": [],
   "source": [
    "import numpy as np\n",
    "import tensorflow as tf\n",
    "from tensorflow import keras\n",
    "import os\n",
    "import matplotlib.pyplot as plt\n",
    "import pandas as pd"
   ]
  },
  {
   "cell_type": "code",
   "execution_count": 5,
   "metadata": {},
   "outputs": [],
   "source": [
    "processed_data_path='/Users/aarojas/Documents/Data_Science_Resources/Insight_20B/AAR_Insight_Project/Firearm_Detection/data/processed/'\n",
    "ESC50_MFCC_train=np.loadtxt(processed_data_path+'ESC50_MFCC_train.csv',delimiter=',')\n",
    "firearm_MFCC_train=np.loadtxt(processed_data_path+'firearm_MFCC_train.csv',delimiter=',')"
   ]
  },
  {
   "cell_type": "code",
   "execution_count": 6,
   "metadata": {},
   "outputs": [
    {
     "name": "stdout",
     "output_type": "stream",
     "text": [
      "(500, 4320)\n",
      "(32, 3520)\n"
     ]
    }
   ],
   "source": [
    "print(ESC50_MFCC_train.shape)\n",
    "print(firearm_MFCC_train.shape)"
   ]
  },
  {
   "cell_type": "markdown",
   "metadata": {},
   "source": [
    "There is a problem because somehow they do not have the same number of columns. I may need to go back and identify how to ensure that I get the same shape during feature extraction. For now I will truncate the number of columns of ESC50_MFCC_train. "
   ]
  },
  {
   "cell_type": "code",
   "execution_count": 8,
   "metadata": {},
   "outputs": [
    {
     "name": "stdout",
     "output_type": "stream",
     "text": [
      "(500, 3520)\n"
     ]
    }
   ],
   "source": [
    "ESC50_MFCC_train_truncate=ESC50_MFCC_train[:, 0:3520]\n",
    "print(ESC50_MFCC_train_truncate.shape)"
   ]
  },
  {
   "cell_type": "markdown",
   "metadata": {},
   "source": [
    "Next, I will merge the two into one and then also instantiate an output vector. "
   ]
  },
  {
   "cell_type": "code",
   "execution_count": 10,
   "metadata": {},
   "outputs": [
    {
     "name": "stdout",
     "output_type": "stream",
     "text": [
      "(532, 3520)\n"
     ]
    }
   ],
   "source": [
    "X_train=np.concatenate((ESC50_MFCC_train_truncate,firearm_MFCC_train),axis=0)\n",
    "print(X_train.shape)"
   ]
  },
  {
   "cell_type": "code",
   "execution_count": 16,
   "metadata": {},
   "outputs": [
    {
     "name": "stdout",
     "output_type": "stream",
     "text": [
      "(532, 1)\n"
     ]
    }
   ],
   "source": [
    "Y_train=np.concatenate((np.zeros((500,1)),np.ones((32,1))))\n",
    "print(Y_train.shape)"
   ]
  },
  {
   "cell_type": "markdown",
   "metadata": {},
   "source": [
    "## Training a Model in TensorFlow"
   ]
  },
  {
   "cell_type": "code",
   "execution_count": 28,
   "metadata": {
    "scrolled": false
   },
   "outputs": [
    {
     "name": "stdout",
     "output_type": "stream",
     "text": [
      "Epoch 1/10\n",
      "17/17 [==============================] - 0s 5ms/step - loss: 0.0000e+00 - accuracy: 0.9398\n",
      "Epoch 2/10\n",
      "17/17 [==============================] - 0s 4ms/step - loss: 0.0000e+00 - accuracy: 0.9398\n",
      "Epoch 3/10\n",
      "17/17 [==============================] - 0s 4ms/step - loss: 0.0000e+00 - accuracy: 0.9398\n",
      "Epoch 4/10\n",
      "17/17 [==============================] - 0s 4ms/step - loss: 0.0000e+00 - accuracy: 0.9398\n",
      "Epoch 5/10\n",
      "17/17 [==============================] - 0s 4ms/step - loss: 0.0000e+00 - accuracy: 0.9398\n",
      "Epoch 6/10\n",
      "17/17 [==============================] - 0s 4ms/step - loss: 0.0000e+00 - accuracy: 0.9398\n",
      "Epoch 7/10\n",
      "17/17 [==============================] - 0s 4ms/step - loss: 0.0000e+00 - accuracy: 0.9398\n",
      "Epoch 8/10\n",
      "17/17 [==============================] - 0s 4ms/step - loss: 0.0000e+00 - accuracy: 0.9398\n",
      "Epoch 9/10\n",
      "17/17 [==============================] - 0s 4ms/step - loss: 0.0000e+00 - accuracy: 0.9398\n",
      "Epoch 10/10\n",
      "17/17 [==============================] - 0s 4ms/step - loss: 0.0000e+00 - accuracy: 0.9398\n"
     ]
    }
   ],
   "source": [
    "from tensorflow.keras import layers\n",
    "\n",
    "NN = tf.keras.Sequential()\n",
    "# Adds a densely-connected layer with 64 units to the model:\n",
    "NN.add(layers.Dense(532, activation='relu'))\n",
    "# Add another:\n",
    "NN.add(layers.Dense(64, activation='relu'))\n",
    "# Add an output layer with 2 output units:\n",
    "NN.add(layers.Dense(1))\n",
    "\n",
    "NN.compile(optimizer=tf.keras.optimizers.Adam(0.01),\n",
    "              loss=tf.keras.losses.CategoricalCrossentropy(from_logits=True),\n",
    "              metrics=['accuracy'])\n",
    "\n",
    "history=NN.fit(X_train, Y_train, epochs=10, batch_size=32)"
   ]
  },
  {
   "cell_type": "code",
   "execution_count": 26,
   "metadata": {},
   "outputs": [
    {
     "name": "stdout",
     "output_type": "stream",
     "text": [
      "Model: \"sequential_4\"\n",
      "_________________________________________________________________\n",
      "Layer (type)                 Output Shape              Param #   \n",
      "=================================================================\n",
      "dense_12 (Dense)             multiple                  1873172   \n",
      "_________________________________________________________________\n",
      "dense_13 (Dense)             multiple                  34112     \n",
      "_________________________________________________________________\n",
      "dense_14 (Dense)             multiple                  65        \n",
      "=================================================================\n",
      "Total params: 1,907,349\n",
      "Trainable params: 1,907,349\n",
      "Non-trainable params: 0\n",
      "_________________________________________________________________\n"
     ]
    }
   ],
   "source": [
    "NN.summary()"
   ]
  },
  {
   "cell_type": "code",
   "execution_count": 29,
   "metadata": {},
   "outputs": [
    {
     "data": {
      "image/png": "[encoded data removed]",
      "text/plain": [
       "<Figure size 576x360 with 1 Axes>"
      ]
     },
     "metadata": {
      "needs_background": "light"
     },
     "output_type": "display_data"
    }
   ],
   "source": [
    "pd.DataFrame(history.history).plot(figsize=(8,5))\n",
    "plt.grid(True)\n",
    "plt.gca().set_ylim(0,1)\n",
    "plt.show();"
   ]
  },
  {
   "cell_type": "code",
   "execution_count": null,
   "metadata": {},
   "outputs": [],
   "source": []
  }
 ],
 "metadata": {
  "kernelspec": {
   "display_name": "Python 3",
   "language": "python",
   "name": "python3"
  },
  "language_info": {
   "codemirror_mode": {
    "name": "ipython",
    "version": 3
   },
   "file_extension": ".py",
   "mimetype": "text/x-python",
   "name": "python",
   "nbconvert_exporter": "python",
   "pygments_lexer": "ipython3",
   "version": "3.7.7"
  }
 },
 "nbformat": 4,
 "nbformat_minor": 4
}
