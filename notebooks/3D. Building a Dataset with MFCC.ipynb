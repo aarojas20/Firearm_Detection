{
 "cells": [
  {
   "cell_type": "code",
   "execution_count": 1,
   "metadata": {},
   "outputs": [],
   "source": [
    "from preprocess_train_val import *\n",
    "from tensorflow import keras\n",
    "from tensorflow.keras.models import Sequential\n",
    "from tensorflow.keras.layers import Dense, Dropout, Flatten, Conv2D, MaxPooling2D, LSTM\n",
    "from tensorflow.keras.utils import to_categorical\n",
    "import wandb\n",
    "from wandb.keras import WandbCallback\n",
    "import matplotlib.pyplot as plt\n",
    "import os\n",
    "import pandas as pd\n",
    "import sklearn"
   ]
  },
  {
   "cell_type": "code",
   "execution_count": null,
   "metadata": {},
   "outputs": [],
   "source": []
  },
  {
   "cell_type": "code",
   "execution_count": 2,
   "metadata": {},
   "outputs": [
    {
     "name": "stdout",
     "output_type": "stream",
     "text": [
      "../data/raw/Audio/\n"
     ]
    }
   ],
   "source": [
    "print(DATA_PATH)"
   ]
  },
  {
   "cell_type": "code",
   "execution_count": 3,
   "metadata": {},
   "outputs": [
    {
     "data": {
      "text/plain": [
       "'/Users/aarojas/Documents/Data_Science_Resources/Insight_20B/AAR_Insight_Project/Firearm_Detection/notebooks'"
      ]
     },
     "execution_count": 3,
     "metadata": {},
     "output_type": "execute_result"
    }
   ],
   "source": [
    "os.getcwd()"
   ]
  },
  {
   "cell_type": "code",
   "execution_count": 5,
   "metadata": {
    "scrolled": true
   },
   "outputs": [
    {
     "data": {
      "text/html": [
       "\n",
       "                Logging results to <a href=\"https://wandb.com\" target=\"_blank\">Weights & Biases</a> <a href=\"https://docs.wandb.com/integrations/jupyter.html\" target=\"_blank\">(Documentation)</a>.<br/>\n",
       "                Project page: <a href=\"https://app.wandb.ai/adri-rojas/Firearm_Detection-notebooks\" target=\"_blank\">https://app.wandb.ai/adri-rojas/Firearm_Detection-notebooks</a><br/>\n",
       "                Run page: <a href=\"https://app.wandb.ai/adri-rojas/Firearm_Detection-notebooks/runs/17jvk4mz\" target=\"_blank\">https://app.wandb.ai/adri-rojas/Firearm_Detection-notebooks/runs/17jvk4mz</a><br/>\n",
       "            "
      ],
      "text/plain": [
       "<IPython.core.display.HTML object>"
      ]
     },
     "metadata": {},
     "output_type": "display_data"
    },
    {
     "name": "stderr",
     "output_type": "stream",
     "text": [
      "Saving vectors of label - 'Firearms':   0%|          | 0/155 [00:00<?, ?it/s]/opt/anaconda3/envs/add_librosa/lib/python3.7/site-packages/librosa/core/audio.py:161: UserWarning: PySoundFile failed. Trying audioread instead.\n",
      "  warnings.warn('PySoundFile failed. Trying audioread instead.')\n",
      "Saving vectors of label - 'Firearms':   1%|          | 1/155 [00:00<00:21,  7.04it/s]"
     ]
    },
    {
     "name": "stdout",
     "output_type": "stream",
     "text": [
      "The number of labels (data files) is:  2\n"
     ]
    },
    {
     "name": "stderr",
     "output_type": "stream",
     "text": [
      "/opt/anaconda3/envs/add_librosa/lib/python3.7/site-packages/librosa/core/audio.py:161: UserWarning: PySoundFile failed. Trying audioread instead.\n",
      "  warnings.warn('PySoundFile failed. Trying audioread instead.')\n",
      "/opt/anaconda3/envs/add_librosa/lib/python3.7/site-packages/librosa/core/audio.py:161: UserWarning: PySoundFile failed. Trying audioread instead.\n",
      "  warnings.warn('PySoundFile failed. Trying audioread instead.')\n",
      "Saving vectors of label - 'Firearms':   2%|▏         | 3/155 [00:00<00:17,  8.66it/s]/opt/anaconda3/envs/add_librosa/lib/python3.7/site-packages/librosa/core/audio.py:161: UserWarning: PySoundFile failed. Trying audioread instead.\n",
      "  warnings.warn('PySoundFile failed. Trying audioread instead.')\n",
      "Saving vectors of label - 'Firearms':   3%|▎         | 5/155 [00:00<00:21,  6.93it/s]/opt/anaconda3/envs/add_librosa/lib/python3.7/site-packages/librosa/core/audio.py:161: UserWarning: PySoundFile failed. Trying audioread instead.\n",
      "  warnings.warn('PySoundFile failed. Trying audioread instead.')\n",
      "/opt/anaconda3/envs/add_librosa/lib/python3.7/site-packages/librosa/core/audio.py:161: UserWarning: PySoundFile failed. Trying audioread instead.\n",
      "  warnings.warn('PySoundFile failed. Trying audioread instead.')\n",
      "Saving vectors of label - 'Firearms':   5%|▌         | 8/155 [00:00<00:16,  8.93it/s]/opt/anaconda3/envs/add_librosa/lib/python3.7/site-packages/librosa/core/audio.py:161: UserWarning: PySoundFile failed. Trying audioread instead.\n",
      "  warnings.warn('PySoundFile failed. Trying audioread instead.')\n",
      "Saving vectors of label - 'Firearms':   7%|▋         | 11/155 [00:00<00:12, 11.23it/s]/opt/anaconda3/envs/add_librosa/lib/python3.7/site-packages/librosa/core/audio.py:161: UserWarning: PySoundFile failed. Trying audioread instead.\n",
      "  warnings.warn('PySoundFile failed. Trying audioread instead.')\n",
      "/opt/anaconda3/envs/add_librosa/lib/python3.7/site-packages/librosa/core/audio.py:161: UserWarning: PySoundFile failed. Trying audioread instead.\n",
      "  warnings.warn('PySoundFile failed. Trying audioread instead.')\n",
      "Saving vectors of label - 'Firearms':   9%|▉         | 14/155 [00:01<00:10, 13.52it/s]/opt/anaconda3/envs/add_librosa/lib/python3.7/site-packages/librosa/core/audio.py:161: UserWarning: PySoundFile failed. Trying audioread instead.\n",
      "  warnings.warn('PySoundFile failed. Trying audioread instead.')\n",
      "Saving vectors of label - 'Firearms':  13%|█▎        | 20/155 [00:01<00:07, 17.03it/s]/opt/anaconda3/envs/add_librosa/lib/python3.7/site-packages/librosa/core/audio.py:161: UserWarning: PySoundFile failed. Trying audioread instead.\n",
      "  warnings.warn('PySoundFile failed. Trying audioread instead.')\n",
      "/opt/anaconda3/envs/add_librosa/lib/python3.7/site-packages/librosa/core/audio.py:161: UserWarning: PySoundFile failed. Trying audioread instead.\n",
      "  warnings.warn('PySoundFile failed. Trying audioread instead.')\n",
      "Saving vectors of label - 'Firearms':  15%|█▍        | 23/155 [00:01<00:07, 18.24it/s]/opt/anaconda3/envs/add_librosa/lib/python3.7/site-packages/librosa/core/audio.py:161: UserWarning: PySoundFile failed. Trying audioread instead.\n",
      "  warnings.warn('PySoundFile failed. Trying audioread instead.')\n",
      "/opt/anaconda3/envs/add_librosa/lib/python3.7/site-packages/librosa/core/audio.py:161: UserWarning: PySoundFile failed. Trying audioread instead.\n",
      "  warnings.warn('PySoundFile failed. Trying audioread instead.')\n",
      "Saving vectors of label - 'Firearms':  17%|█▋        | 27/155 [00:01<00:05, 21.49it/s]/opt/anaconda3/envs/add_librosa/lib/python3.7/site-packages/librosa/core/audio.py:161: UserWarning: PySoundFile failed. Trying audioread instead.\n",
      "  warnings.warn('PySoundFile failed. Trying audioread instead.')\n",
      "/opt/anaconda3/envs/add_librosa/lib/python3.7/site-packages/librosa/core/audio.py:161: UserWarning: PySoundFile failed. Trying audioread instead.\n",
      "  warnings.warn('PySoundFile failed. Trying audioread instead.')\n",
      "Saving vectors of label - 'Firearms':  21%|██        | 32/155 [00:01<00:04, 25.28it/s]/opt/anaconda3/envs/add_librosa/lib/python3.7/site-packages/librosa/core/audio.py:161: UserWarning: PySoundFile failed. Trying audioread instead.\n",
      "  warnings.warn('PySoundFile failed. Trying audioread instead.')\n",
      "Saving vectors of label - 'Firearms':  23%|██▎       | 36/155 [00:01<00:05, 23.05it/s]/opt/anaconda3/envs/add_librosa/lib/python3.7/site-packages/librosa/core/audio.py:161: UserWarning: PySoundFile failed. Trying audioread instead.\n",
      "  warnings.warn('PySoundFile failed. Trying audioread instead.')\n",
      "Saving vectors of label - 'Firearms':  26%|██▌       | 40/155 [00:01<00:04, 24.26it/s]/opt/anaconda3/envs/add_librosa/lib/python3.7/site-packages/librosa/core/audio.py:161: UserWarning: PySoundFile failed. Trying audioread instead.\n",
      "  warnings.warn('PySoundFile failed. Trying audioread instead.')\n",
      "Saving vectors of label - 'Firearms':  28%|██▊       | 43/155 [00:01<00:04, 24.21it/s]/opt/anaconda3/envs/add_librosa/lib/python3.7/site-packages/librosa/core/audio.py:161: UserWarning: PySoundFile failed. Trying audioread instead.\n",
      "  warnings.warn('PySoundFile failed. Trying audioread instead.')\n",
      "/opt/anaconda3/envs/add_librosa/lib/python3.7/site-packages/librosa/core/audio.py:161: UserWarning: PySoundFile failed. Trying audioread instead.\n",
      "  warnings.warn('PySoundFile failed. Trying audioread instead.')\n",
      "Saving vectors of label - 'Firearms':  30%|██▉       | 46/155 [00:02<00:04, 24.96it/s]/opt/anaconda3/envs/add_librosa/lib/python3.7/site-packages/librosa/core/audio.py:161: UserWarning: PySoundFile failed. Trying audioread instead.\n",
      "  warnings.warn('PySoundFile failed. Trying audioread instead.')\n",
      "Saving vectors of label - 'Firearms':  32%|███▏      | 49/155 [00:02<00:04, 25.16it/s]/opt/anaconda3/envs/add_librosa/lib/python3.7/site-packages/librosa/core/audio.py:161: UserWarning: PySoundFile failed. Trying audioread instead.\n",
      "  warnings.warn('PySoundFile failed. Trying audioread instead.')\n",
      "Saving vectors of label - 'Firearms':  34%|███▍      | 53/155 [00:02<00:03, 26.07it/s]/opt/anaconda3/envs/add_librosa/lib/python3.7/site-packages/librosa/core/audio.py:161: UserWarning: PySoundFile failed. Trying audioread instead.\n",
      "  warnings.warn('PySoundFile failed. Trying audioread instead.')\n",
      "Saving vectors of label - 'Firearms':  36%|███▌      | 56/155 [00:02<00:03, 25.40it/s]/opt/anaconda3/envs/add_librosa/lib/python3.7/site-packages/librosa/core/audio.py:161: UserWarning: PySoundFile failed. Trying audioread instead.\n",
      "  warnings.warn('PySoundFile failed. Trying audioread instead.')\n",
      "Saving vectors of label - 'Firearms':  38%|███▊      | 59/155 [00:02<00:05, 18.87it/s]/opt/anaconda3/envs/add_librosa/lib/python3.7/site-packages/librosa/core/audio.py:161: UserWarning: PySoundFile failed. Trying audioread instead.\n",
      "  warnings.warn('PySoundFile failed. Trying audioread instead.')\n",
      "/opt/anaconda3/envs/add_librosa/lib/python3.7/site-packages/librosa/core/audio.py:161: UserWarning: PySoundFile failed. Trying audioread instead.\n",
      "  warnings.warn('PySoundFile failed. Trying audioread instead.')\n",
      "Saving vectors of label - 'Firearms':  40%|████      | 62/155 [00:02<00:04, 19.64it/s]/opt/anaconda3/envs/add_librosa/lib/python3.7/site-packages/librosa/core/audio.py:161: UserWarning: PySoundFile failed. Trying audioread instead.\n",
      "  warnings.warn('PySoundFile failed. Trying audioread instead.')\n",
      "Saving vectors of label - 'Firearms':  42%|████▏     | 65/155 [00:02<00:04, 21.11it/s]/opt/anaconda3/envs/add_librosa/lib/python3.7/site-packages/librosa/core/audio.py:161: UserWarning: PySoundFile failed. Trying audioread instead.\n",
      "  warnings.warn('PySoundFile failed. Trying audioread instead.')\n",
      "/opt/anaconda3/envs/add_librosa/lib/python3.7/site-packages/librosa/core/audio.py:161: UserWarning: PySoundFile failed. Trying audioread instead.\n",
      "  warnings.warn('PySoundFile failed. Trying audioread instead.')\n",
      "/opt/anaconda3/envs/add_librosa/lib/python3.7/site-packages/librosa/core/audio.py:161: UserWarning: PySoundFile failed. Trying audioread instead.\n",
      "  warnings.warn('PySoundFile failed. Trying audioread instead.')\n",
      "Saving vectors of label - 'Firearms':  45%|████▌     | 70/155 [00:03<00:03, 23.99it/s]/opt/anaconda3/envs/add_librosa/lib/python3.7/site-packages/librosa/core/audio.py:161: UserWarning: PySoundFile failed. Trying audioread instead.\n",
      "  warnings.warn('PySoundFile failed. Trying audioread instead.')\n"
     ]
    },
    {
     "name": "stderr",
     "output_type": "stream",
     "text": [
      "/opt/anaconda3/envs/add_librosa/lib/python3.7/site-packages/librosa/core/audio.py:161: UserWarning: PySoundFile failed. Trying audioread instead.\n",
      "  warnings.warn('PySoundFile failed. Trying audioread instead.')\n",
      "Saving vectors of label - 'Firearms':  52%|█████▏    | 81/155 [00:03<00:03, 23.84it/s]/opt/anaconda3/envs/add_librosa/lib/python3.7/site-packages/librosa/core/audio.py:161: UserWarning: PySoundFile failed. Trying audioread instead.\n",
      "  warnings.warn('PySoundFile failed. Trying audioread instead.')\n",
      "/opt/anaconda3/envs/add_librosa/lib/python3.7/site-packages/librosa/core/audio.py:161: UserWarning: PySoundFile failed. Trying audioread instead.\n",
      "  warnings.warn('PySoundFile failed. Trying audioread instead.')\n",
      "/opt/anaconda3/envs/add_librosa/lib/python3.7/site-packages/librosa/core/audio.py:161: UserWarning: PySoundFile failed. Trying audioread instead.\n",
      "  warnings.warn('PySoundFile failed. Trying audioread instead.')\n",
      "Saving vectors of label - 'Firearms':  55%|█████▍    | 85/155 [00:03<00:02, 24.53it/s]/opt/anaconda3/envs/add_librosa/lib/python3.7/site-packages/librosa/core/audio.py:161: UserWarning: PySoundFile failed. Trying audioread instead.\n",
      "  warnings.warn('PySoundFile failed. Trying audioread instead.')\n",
      "/opt/anaconda3/envs/add_librosa/lib/python3.7/site-packages/librosa/core/audio.py:161: UserWarning: PySoundFile failed. Trying audioread instead.\n",
      "  warnings.warn('PySoundFile failed. Trying audioread instead.')\n",
      "Saving vectors of label - 'Firearms':  59%|█████▊    | 91/155 [00:04<00:03, 20.80it/s]/opt/anaconda3/envs/add_librosa/lib/python3.7/site-packages/librosa/core/audio.py:161: UserWarning: PySoundFile failed. Trying audioread instead.\n",
      "  warnings.warn('PySoundFile failed. Trying audioread instead.')\n",
      "/opt/anaconda3/envs/add_librosa/lib/python3.7/site-packages/librosa/core/audio.py:161: UserWarning: PySoundFile failed. Trying audioread instead.\n",
      "  warnings.warn('PySoundFile failed. Trying audioread instead.')\n",
      "Saving vectors of label - 'Firearms':  61%|██████    | 94/155 [00:04<00:02, 21.56it/s]/opt/anaconda3/envs/add_librosa/lib/python3.7/site-packages/librosa/core/audio.py:161: UserWarning: PySoundFile failed. Trying audioread instead.\n",
      "  warnings.warn('PySoundFile failed. Trying audioread instead.')\n",
      "Saving vectors of label - 'Firearms':  63%|██████▎   | 97/155 [00:04<00:02, 23.11it/s]/opt/anaconda3/envs/add_librosa/lib/python3.7/site-packages/librosa/core/audio.py:161: UserWarning: PySoundFile failed. Trying audioread instead.\n",
      "  warnings.warn('PySoundFile failed. Trying audioread instead.')\n",
      "/opt/anaconda3/envs/add_librosa/lib/python3.7/site-packages/librosa/core/audio.py:161: UserWarning: PySoundFile failed. Trying audioread instead.\n",
      "  warnings.warn('PySoundFile failed. Trying audioread instead.')\n",
      "Saving vectors of label - 'Firearms':  66%|██████▋   | 103/155 [00:04<00:02, 23.08it/s]/opt/anaconda3/envs/add_librosa/lib/python3.7/site-packages/librosa/core/audio.py:161: UserWarning: PySoundFile failed. Trying audioread instead.\n",
      "  warnings.warn('PySoundFile failed. Trying audioread instead.')\n",
      "/opt/anaconda3/envs/add_librosa/lib/python3.7/site-packages/librosa/core/audio.py:161: UserWarning: PySoundFile failed. Trying audioread instead.\n",
      "  warnings.warn('PySoundFile failed. Trying audioread instead.')\n",
      "Saving vectors of label - 'Firearms':  68%|██████▊   | 106/155 [00:04<00:02, 22.28it/s]/opt/anaconda3/envs/add_librosa/lib/python3.7/site-packages/librosa/core/audio.py:161: UserWarning: PySoundFile failed. Trying audioread instead.\n",
      "  warnings.warn('PySoundFile failed. Trying audioread instead.')\n",
      "Saving vectors of label - 'Firearms':  70%|███████   | 109/155 [00:04<00:02, 21.48it/s]/opt/anaconda3/envs/add_librosa/lib/python3.7/site-packages/librosa/core/audio.py:161: UserWarning: PySoundFile failed. Trying audioread instead.\n",
      "  warnings.warn('PySoundFile failed. Trying audioread instead.')\n",
      "Saving vectors of label - 'Firearms':  73%|███████▎  | 113/155 [00:04<00:01, 22.77it/s]/opt/anaconda3/envs/add_librosa/lib/python3.7/site-packages/librosa/core/audio.py:161: UserWarning: PySoundFile failed. Trying audioread instead.\n",
      "  warnings.warn('PySoundFile failed. Trying audioread instead.')\n",
      "Saving vectors of label - 'Firearms':  75%|███████▍  | 116/155 [00:05<00:01, 22.27it/s]/opt/anaconda3/envs/add_librosa/lib/python3.7/site-packages/librosa/core/audio.py:161: UserWarning: PySoundFile failed. Trying audioread instead.\n",
      "  warnings.warn('PySoundFile failed. Trying audioread instead.')\n",
      "/opt/anaconda3/envs/add_librosa/lib/python3.7/site-packages/librosa/core/audio.py:161: UserWarning: PySoundFile failed. Trying audioread instead.\n",
      "  warnings.warn('PySoundFile failed. Trying audioread instead.')\n",
      "/opt/anaconda3/envs/add_librosa/lib/python3.7/site-packages/librosa/core/audio.py:161: UserWarning: PySoundFile failed. Trying audioread instead.\n",
      "  warnings.warn('PySoundFile failed. Trying audioread instead.')\n",
      "Saving vectors of label - 'Firearms':  77%|███████▋  | 119/155 [00:05<00:01, 21.66it/s]/opt/anaconda3/envs/add_librosa/lib/python3.7/site-packages/librosa/core/audio.py:161: UserWarning: PySoundFile failed. Trying audioread instead.\n",
      "  warnings.warn('PySoundFile failed. Trying audioread instead.')\n",
      "/opt/anaconda3/envs/add_librosa/lib/python3.7/site-packages/librosa/core/audio.py:161: UserWarning: PySoundFile failed. Trying audioread instead.\n",
      "  warnings.warn('PySoundFile failed. Trying audioread instead.')\n",
      "Saving vectors of label - 'Firearms':  83%|████████▎ | 129/155 [00:05<00:00, 27.45it/s]/opt/anaconda3/envs/add_librosa/lib/python3.7/site-packages/librosa/core/audio.py:161: UserWarning: PySoundFile failed. Trying audioread instead.\n",
      "  warnings.warn('PySoundFile failed. Trying audioread instead.')\n",
      "Saving vectors of label - 'Firearms':  86%|████████▌ | 133/155 [00:05<00:00, 29.38it/s]/opt/anaconda3/envs/add_librosa/lib/python3.7/site-packages/librosa/core/audio.py:161: UserWarning: PySoundFile failed. Trying audioread instead.\n",
      "  warnings.warn('PySoundFile failed. Trying audioread instead.')\n",
      "/opt/anaconda3/envs/add_librosa/lib/python3.7/site-packages/librosa/core/audio.py:161: UserWarning: PySoundFile failed. Trying audioread instead.\n",
      "  warnings.warn('PySoundFile failed. Trying audioread instead.')\n",
      "/opt/anaconda3/envs/add_librosa/lib/python3.7/site-packages/librosa/core/audio.py:161: UserWarning: PySoundFile failed. Trying audioread instead.\n",
      "  warnings.warn('PySoundFile failed. Trying audioread instead.')\n",
      "Saving vectors of label - 'Firearms':  88%|████████▊ | 137/155 [00:05<00:00, 27.99it/s]/opt/anaconda3/envs/add_librosa/lib/python3.7/site-packages/librosa/core/audio.py:161: UserWarning: PySoundFile failed. Trying audioread instead.\n",
      "  warnings.warn('PySoundFile failed. Trying audioread instead.')\n",
      "/opt/anaconda3/envs/add_librosa/lib/python3.7/site-packages/librosa/core/audio.py:161: UserWarning: PySoundFile failed. Trying audioread instead.\n",
      "  warnings.warn('PySoundFile failed. Trying audioread instead.')\n",
      "Saving vectors of label - 'Firearms':  91%|█████████ | 141/155 [00:05<00:00, 27.77it/s]/opt/anaconda3/envs/add_librosa/lib/python3.7/site-packages/librosa/core/audio.py:161: UserWarning: PySoundFile failed. Trying audioread instead.\n",
      "  warnings.warn('PySoundFile failed. Trying audioread instead.')\n",
      "/opt/anaconda3/envs/add_librosa/lib/python3.7/site-packages/librosa/core/audio.py:161: UserWarning: PySoundFile failed. Trying audioread instead.\n",
      "  warnings.warn('PySoundFile failed. Trying audioread instead.')\n",
      "Saving vectors of label - 'Firearms':  94%|█████████▎| 145/155 [00:06<00:00, 25.62it/s]/opt/anaconda3/envs/add_librosa/lib/python3.7/site-packages/librosa/core/audio.py:161: UserWarning: PySoundFile failed. Trying audioread instead.\n",
      "  warnings.warn('PySoundFile failed. Trying audioread instead.')\n",
      "/opt/anaconda3/envs/add_librosa/lib/python3.7/site-packages/librosa/core/audio.py:161: UserWarning: PySoundFile failed. Trying audioread instead.\n",
      "  warnings.warn('PySoundFile failed. Trying audioread instead.')\n",
      "Saving vectors of label - 'Firearms':  97%|█████████▋| 151/155 [00:06<00:00, 21.30it/s]/opt/anaconda3/envs/add_librosa/lib/python3.7/site-packages/librosa/core/audio.py:161: UserWarning: PySoundFile failed. Trying audioread instead.\n",
      "  warnings.warn('PySoundFile failed. Trying audioread instead.')\n",
      "/opt/anaconda3/envs/add_librosa/lib/python3.7/site-packages/librosa/core/audio.py:161: UserWarning: PySoundFile failed. Trying audioread instead.\n",
      "  warnings.warn('PySoundFile failed. Trying audioread instead.')\n"
     ]
    },
    {
     "name": "stderr",
     "output_type": "stream",
     "text": [
      "Saving vectors of label - 'Firearms': 100%|██████████| 155/155 [00:06<00:00, 23.69it/s]\n",
      "Saving vectors of label - 'Not_Firearm': 100%|██████████| 1962/1962 [00:19<00:00, 101.02it/s]\n"
     ]
    }
   ],
   "source": [
    "wandb.init()\n",
    "config = wandb.config\n",
    "\n",
    "config.max_len = 11\n",
    "config.buckets = 20\n",
    "\n",
    "# Save data to array file first\n",
    "save_data_to_array(max_len=config.max_len, n_mfcc=config.buckets)\n",
    "\n",
    "labels=[\"Not_Firearm\", \"Firearms\"]"
   ]
  },
  {
   "cell_type": "code",
   "execution_count": 114,
   "metadata": {},
   "outputs": [
    {
     "name": "stdout",
     "output_type": "stream",
     "text": [
      "The number of labels (data files) is:  2\n"
     ]
    }
   ],
   "source": [
    "# # Loading train set and validation set\n",
    "X_train, X_val, y_train, y_val = get_train_validation()\n"
   ]
  },
  {
   "cell_type": "code",
   "execution_count": 115,
   "metadata": {},
   "outputs": [],
   "source": [
    "# # Feature dimension\n",
    "channels = 1\n",
    "config.epochs = 50\n",
    "config.batch_size = 100\n",
    "\n",
    "num_classes = 2\n",
    "\n",
    "X_train = X_train.reshape(X_train.shape[0], config.buckets, config.max_len, channels)\n",
    "X_val = X_val.reshape(X_val.shape[0], config.buckets, config.max_len, channels)"
   ]
  },
  {
   "cell_type": "code",
   "execution_count": 116,
   "metadata": {},
   "outputs": [
    {
     "data": {
      "text/plain": [
       "(1481, 20, 11, 1)"
      ]
     },
     "execution_count": 116,
     "metadata": {},
     "output_type": "execute_result"
    }
   ],
   "source": [
    "X_train.shape"
   ]
  },
  {
   "cell_type": "code",
   "execution_count": 117,
   "metadata": {},
   "outputs": [
    {
     "data": {
      "text/plain": [
       "(636, 20, 11, 1)"
      ]
     },
     "execution_count": 117,
     "metadata": {},
     "output_type": "execute_result"
    }
   ],
   "source": [
    "X_val.shape"
   ]
  },
  {
   "cell_type": "code",
   "execution_count": 118,
   "metadata": {},
   "outputs": [
    {
     "data": {
      "text/plain": [
       "(1481,)"
      ]
     },
     "execution_count": 118,
     "metadata": {},
     "output_type": "execute_result"
    }
   ],
   "source": [
    "y_train.shape"
   ]
  },
  {
   "cell_type": "code",
   "execution_count": 119,
   "metadata": {},
   "outputs": [
    {
     "name": "stdout",
     "output_type": "stream",
     "text": [
      "6\n",
      "29\n",
      "33\n",
      "37\n",
      "50\n",
      "79\n",
      "113\n",
      "141\n",
      "157\n",
      "165\n",
      "172\n",
      "177\n",
      "189\n",
      "216\n",
      "223\n",
      "229\n",
      "238\n",
      "247\n",
      "263\n",
      "266\n",
      "268\n",
      "309\n",
      "341\n",
      "342\n",
      "358\n",
      "372\n",
      "384\n",
      "389\n",
      "420\n",
      "428\n",
      "430\n",
      "451\n",
      "460\n",
      "466\n",
      "484\n",
      "487\n",
      "517\n",
      "518\n",
      "519\n",
      "523\n",
      "541\n",
      "542\n",
      "546\n",
      "551\n",
      "555\n",
      "557\n",
      "581\n",
      "583\n",
      "595\n",
      "596\n",
      "597\n",
      "599\n",
      "601\n",
      "605\n",
      "608\n",
      "609\n",
      "621\n",
      "625\n",
      "627\n",
      "643\n",
      "649\n",
      "650\n",
      "657\n",
      "662\n",
      "676\n",
      "681\n",
      "687\n",
      "698\n",
      "750\n",
      "756\n",
      "757\n",
      "780\n",
      "782\n",
      "799\n",
      "829\n",
      "849\n",
      "860\n",
      "867\n",
      "893\n",
      "899\n",
      "907\n",
      "939\n",
      "953\n",
      "963\n",
      "987\n",
      "994\n",
      "1004\n",
      "1012\n",
      "1029\n",
      "1033\n",
      "1046\n",
      "1048\n",
      "1066\n",
      "1077\n",
      "1078\n",
      "1105\n",
      "1123\n",
      "1129\n",
      "1160\n",
      "1167\n",
      "1175\n",
      "1176\n",
      "1184\n",
      "1205\n",
      "1219\n",
      "1234\n",
      "1246\n",
      "1268\n",
      "1269\n",
      "1350\n",
      "1384\n",
      "1396\n",
      "1398\n",
      "1416\n",
      "1440\n",
      "1463\n",
      "1471\n"
     ]
    }
   ],
   "source": [
    "c=0\n",
    "for element in y_train:\n",
    "    if element==0:\n",
    "        print(c)\n",
    "    c+=1"
   ]
  },
  {
   "cell_type": "code",
   "execution_count": 121,
   "metadata": {
    "scrolled": true
   },
   "outputs": [
    {
     "name": "stdout",
     "output_type": "stream",
     "text": [
      "0.0\n"
     ]
    },
    {
     "data": {
      "image/png": "[encoded data removed]",
      "text/plain": [
       "<Figure size 360x360 with 2 Axes>"
      ]
     },
     "metadata": {
      "needs_background": "light"
     },
     "output_type": "display_data"
    }
   ],
   "source": [
    "num=6\n",
    "plt.figure(figsize=(2,2),dpi=180)\n",
    "plt.imshow(X_train[num, :, :, 0])\n",
    "print(y_train[num])\n",
    "plt.ylabel('MFCC',fontsize=10);\n",
    "plt.xlabel('time(s)');\n",
    "plt.title(str(y_train[num]),fontsize=10)\n",
    "plt.colorbar()\n",
    "plt.tight_layout()\n",
    "plt.savefig('../reports/figures/'+'MFCC_'+str(num)+'.png')"
   ]
  },
  {
   "cell_type": "code",
   "execution_count": 126,
   "metadata": {},
   "outputs": [
    {
     "data": {
      "text/plain": [
       "<matplotlib.colorbar.Colorbar at 0x14bf98210>"
      ]
     },
     "execution_count": 126,
     "metadata": {},
     "output_type": "execute_result"
    },
    {
     "data": {
      "image/png": "[encoded data removed]",
      "text/plain": [
       "<Figure size 540x360 with 2 Axes>"
      ]
     },
     "metadata": {
      "needs_background": "light"
     },
     "output_type": "display_data"
    }
   ],
   "source": [
    "import librosa.display\n",
    "plt.figure(figsize=(3,2),dpi=180)\n",
    "librosa.display.specshow(X_train[num, :, :, 0],x_axis='time')\n",
    "plt.colorbar()"
   ]
  },
  {
   "cell_type": "code",
   "execution_count": 13,
   "metadata": {},
   "outputs": [],
   "source": [
    "y_train_hot = to_categorical(y_train)\n",
    "y_val_hot = to_categorical(y_val)"
   ]
  },
  {
   "cell_type": "code",
   "execution_count": 14,
   "metadata": {},
   "outputs": [
    {
     "data": {
      "text/plain": [
       "0     117.0\n",
       "1    1364.0\n",
       "dtype: float32"
      ]
     },
     "execution_count": 14,
     "metadata": {},
     "output_type": "execute_result"
    }
   ],
   "source": [
    "pd.DataFrame(y_train_hot).sum()"
   ]
  },
  {
   "cell_type": "code",
   "execution_count": 73,
   "metadata": {},
   "outputs": [],
   "source": [
    "X_train = X_train.reshape(X_train.shape[0], config.buckets, config.max_len)\n",
    "X_val = X_val.reshape(X_val.shape[0], config.buckets, config.max_len)\n",
    "\n",
    "model = Sequential()\n",
    "model.add(Flatten(input_shape=(config.buckets, config.max_len)))\n",
    "model.add(Dense(num_classes, activation='softmax'))\n",
    "\n",
    "opt = keras.optimizers.Adam(learning_rate=.5) #optimizer\n",
    "\n",
    "model.compile(loss=\"categorical_crossentropy\",\n",
    "                  optimizer=opt,\n",
    "                  metrics=['accuracy'])"
   ]
  },
  {
   "cell_type": "code",
   "execution_count": 74,
   "metadata": {},
   "outputs": [
    {
     "name": "stdout",
     "output_type": "stream",
     "text": [
      "Model: \"sequential_6\"\n",
      "_________________________________________________________________\n",
      "Layer (type)                 Output Shape              Param #   \n",
      "=================================================================\n",
      "flatten_6 (Flatten)          (None, 220)               0         \n",
      "_________________________________________________________________\n",
      "dense_7 (Dense)              (None, 2)                 442       \n",
      "=================================================================\n",
      "Total params: 442\n",
      "Trainable params: 442\n",
      "Non-trainable params: 0\n",
      "_________________________________________________________________\n"
     ]
    }
   ],
   "source": [
    "model.summary()"
   ]
  },
  {
   "cell_type": "code",
   "execution_count": 75,
   "metadata": {
    "scrolled": false
   },
   "outputs": [
    {
     "data": {
      "text/html": [
       "\n",
       "                Logging results to <a href=\"https://wandb.com\" target=\"_blank\">Weights & Biases</a> <a href=\"https://docs.wandb.com/integrations/jupyter.html\" target=\"_blank\">(Documentation)</a>.<br/>\n",
       "                Project page: <a href=\"https://app.wandb.ai/adri-rojas/Firearm_Detection-notebooks\" target=\"_blank\">https://app.wandb.ai/adri-rojas/Firearm_Detection-notebooks</a><br/>\n",
       "                Run page: <a href=\"https://app.wandb.ai/adri-rojas/Firearm_Detection-notebooks/runs/qttk6hwm\" target=\"_blank\">https://app.wandb.ai/adri-rojas/Firearm_Detection-notebooks/runs/qttk6hwm</a><br/>\n",
       "            "
      ],
      "text/plain": [
       "<IPython.core.display.HTML object>"
      ]
     },
     "metadata": {},
     "output_type": "display_data"
    },
    {
     "name": "stdout",
     "output_type": "stream",
     "text": [
      "Epoch 1/50\n",
      "47/47 [==============================] - 0s 6ms/step - loss: 250.5100 - accuracy: 0.8474 - val_loss: 282.3069 - val_accuracy: 0.7500\n",
      "Epoch 2/50\n",
      "47/47 [==============================] - 0s 3ms/step - loss: 208.8667 - accuracy: 0.8521 - val_loss: 160.7469 - val_accuracy: 0.8082\n",
      "Epoch 3/50\n",
      "47/47 [==============================] - 0s 3ms/step - loss: 133.0799 - accuracy: 0.8731 - val_loss: 93.1772 - val_accuracy: 0.8836\n",
      "Epoch 4/50\n",
      "47/47 [==============================] - 0s 3ms/step - loss: 100.8273 - accuracy: 0.8798 - val_loss: 79.9269 - val_accuracy: 0.8884\n",
      "Epoch 5/50\n",
      "47/47 [==============================] - 0s 3ms/step - loss: 120.2130 - accuracy: 0.8724 - val_loss: 75.0576 - val_accuracy: 0.9230\n",
      "Epoch 6/50\n",
      "47/47 [==============================] - 0s 2ms/step - loss: 149.5689 - accuracy: 0.8650 - val_loss: 106.9112 - val_accuracy: 0.8915\n",
      "Epoch 7/50\n",
      "47/47 [==============================] - 0s 3ms/step - loss: 142.0119 - accuracy: 0.8866 - val_loss: 312.3586 - val_accuracy: 0.6211\n",
      "Epoch 8/50\n",
      "47/47 [==============================] - 0s 3ms/step - loss: 240.7698 - accuracy: 0.8656 - val_loss: 99.7738 - val_accuracy: 0.8994\n",
      "Epoch 9/50\n",
      "47/47 [==============================] - 0s 3ms/step - loss: 113.3329 - accuracy: 0.8845 - val_loss: 90.4099 - val_accuracy: 0.8758\n",
      "Epoch 10/50\n",
      "47/47 [==============================] - 0s 3ms/step - loss: 123.2141 - accuracy: 0.8785 - val_loss: 182.6634 - val_accuracy: 0.9104\n",
      "Epoch 11/50\n",
      "47/47 [==============================] - 0s 3ms/step - loss: 285.6346 - accuracy: 0.8758 - val_loss: 111.5387 - val_accuracy: 0.8931\n",
      "Epoch 12/50\n",
      "47/47 [==============================] - 0s 3ms/step - loss: 137.8236 - accuracy: 0.8791 - val_loss: 121.1554 - val_accuracy: 0.9088\n",
      "Epoch 13/50\n",
      "47/47 [==============================] - 0s 3ms/step - loss: 118.9028 - accuracy: 0.8724 - val_loss: 109.7999 - val_accuracy: 0.9182\n",
      "Epoch 14/50\n",
      "47/47 [==============================] - 0s 3ms/step - loss: 145.5718 - accuracy: 0.8744 - val_loss: 129.6385 - val_accuracy: 0.9057\n",
      "Epoch 15/50\n",
      "47/47 [==============================] - 0s 3ms/step - loss: 242.5593 - accuracy: 0.8737 - val_loss: 229.9330 - val_accuracy: 0.9072\n",
      "Epoch 16/50\n",
      "47/47 [==============================] - 0s 3ms/step - loss: 157.8579 - accuracy: 0.8839 - val_loss: 123.3587 - val_accuracy: 0.9214\n",
      "Epoch 17/50\n",
      "47/47 [==============================] - 0s 7ms/step - loss: 138.0559 - accuracy: 0.8852 - val_loss: 214.1277 - val_accuracy: 0.7704\n",
      "Epoch 18/50\n",
      "47/47 [==============================] - 0s 3ms/step - loss: 176.4254 - accuracy: 0.8785 - val_loss: 106.0896 - val_accuracy: 0.9025\n",
      "Epoch 19/50\n",
      "47/47 [==============================] - 0s 3ms/step - loss: 125.5242 - accuracy: 0.8818 - val_loss: 117.2099 - val_accuracy: 0.8836\n",
      "Epoch 20/50\n",
      "47/47 [==============================] - 0s 3ms/step - loss: 105.0544 - accuracy: 0.8893 - val_loss: 145.6138 - val_accuracy: 0.9277\n",
      "Epoch 21/50\n",
      "47/47 [==============================] - 0s 3ms/step - loss: 140.2419 - accuracy: 0.8899 - val_loss: 271.2576 - val_accuracy: 0.7374\n",
      "Epoch 22/50\n",
      "47/47 [==============================] - 0s 3ms/step - loss: 137.0698 - accuracy: 0.8879 - val_loss: 110.7383 - val_accuracy: 0.9009\n",
      "Epoch 23/50\n",
      "47/47 [==============================] - 0s 4ms/step - loss: 119.0984 - accuracy: 0.8751 - val_loss: 107.5880 - val_accuracy: 0.9167\n",
      "Epoch 24/50\n",
      "47/47 [==============================] - 0s 3ms/step - loss: 174.5600 - accuracy: 0.8636 - val_loss: 209.4894 - val_accuracy: 0.9277\n",
      "Epoch 25/50\n",
      "47/47 [==============================] - 0s 3ms/step - loss: 232.0515 - accuracy: 0.8805 - val_loss: 104.2353 - val_accuracy: 0.9167\n",
      "Epoch 26/50\n",
      "47/47 [==============================] - 0s 3ms/step - loss: 123.3043 - accuracy: 0.8825 - val_loss: 117.0936 - val_accuracy: 0.8978\n",
      "Epoch 27/50\n",
      "47/47 [==============================] - 0s 3ms/step - loss: 138.8601 - accuracy: 0.8852 - val_loss: 137.8743 - val_accuracy: 0.9057\n",
      "Epoch 28/50\n",
      "47/47 [==============================] - 0s 3ms/step - loss: 172.8588 - accuracy: 0.8832 - val_loss: 99.9682 - val_accuracy: 0.8868\n",
      "Epoch 29/50\n",
      "47/47 [==============================] - 0s 3ms/step - loss: 99.9037 - accuracy: 0.8913 - val_loss: 106.1418 - val_accuracy: 0.9057\n",
      "Epoch 30/50\n",
      "47/47 [==============================] - 0s 3ms/step - loss: 116.7127 - accuracy: 0.8785 - val_loss: 97.3113 - val_accuracy: 0.8978\n",
      "Epoch 31/50\n",
      "47/47 [==============================] - 0s 3ms/step - loss: 122.7123 - accuracy: 0.8893 - val_loss: 116.2426 - val_accuracy: 0.8648\n",
      "Epoch 32/50\n",
      "47/47 [==============================] - 0s 3ms/step - loss: 126.0362 - accuracy: 0.8920 - val_loss: 122.9612 - val_accuracy: 0.8774\n",
      "Epoch 33/50\n",
      "47/47 [==============================] - 0s 3ms/step - loss: 122.6984 - accuracy: 0.8845 - val_loss: 147.2899 - val_accuracy: 0.9245\n",
      "Epoch 34/50\n",
      "47/47 [==============================] - 0s 3ms/step - loss: 141.0880 - accuracy: 0.8812 - val_loss: 124.4092 - val_accuracy: 0.9088\n",
      "Epoch 35/50\n",
      "47/47 [==============================] - 0s 3ms/step - loss: 157.8157 - accuracy: 0.8967 - val_loss: 157.1926 - val_accuracy: 0.8805\n",
      "Epoch 36/50\n",
      "47/47 [==============================] - 0s 3ms/step - loss: 145.1543 - accuracy: 0.8845 - val_loss: 128.3368 - val_accuracy: 0.9088\n",
      "Epoch 37/50\n",
      "47/47 [==============================] - 0s 3ms/step - loss: 161.7213 - accuracy: 0.8886 - val_loss: 111.4561 - val_accuracy: 0.9198\n",
      "Epoch 38/50\n",
      "47/47 [==============================] - 0s 3ms/step - loss: 109.1824 - accuracy: 0.9028 - val_loss: 260.0185 - val_accuracy: 0.7343\n",
      "Epoch 39/50\n",
      "47/47 [==============================] - 0s 3ms/step - loss: 124.8798 - accuracy: 0.8940 - val_loss: 150.1422 - val_accuracy: 0.8962\n",
      "Epoch 40/50\n",
      "47/47 [==============================] - 0s 3ms/step - loss: 117.8213 - accuracy: 0.8920 - val_loss: 123.5660 - val_accuracy: 0.9025\n",
      "Epoch 41/50\n",
      "47/47 [==============================] - 0s 3ms/step - loss: 143.0209 - accuracy: 0.8893 - val_loss: 120.4542 - val_accuracy: 0.9104\n",
      "Epoch 42/50\n",
      "47/47 [==============================] - 0s 3ms/step - loss: 118.4011 - accuracy: 0.8805 - val_loss: 114.4847 - val_accuracy: 0.9119\n",
      "Epoch 43/50\n",
      "47/47 [==============================] - 0s 3ms/step - loss: 200.7722 - accuracy: 0.8879 - val_loss: 203.7402 - val_accuracy: 0.9135\n",
      "Epoch 44/50\n",
      "47/47 [==============================] - 0s 3ms/step - loss: 118.7199 - accuracy: 0.8967 - val_loss: 123.9496 - val_accuracy: 0.8947\n",
      "Epoch 45/50\n",
      "47/47 [==============================] - 0s 3ms/step - loss: 127.5527 - accuracy: 0.8899 - val_loss: 145.1944 - val_accuracy: 0.8774\n",
      "Epoch 46/50\n",
      "47/47 [==============================] - 0s 3ms/step - loss: 128.5587 - accuracy: 0.8825 - val_loss: 122.4856 - val_accuracy: 0.8836\n",
      "Epoch 47/50\n",
      "47/47 [==============================] - 0s 3ms/step - loss: 188.3723 - accuracy: 0.8947 - val_loss: 139.6245 - val_accuracy: 0.8774\n",
      "Epoch 48/50\n",
      "47/47 [==============================] - 0s 2ms/step - loss: 103.0814 - accuracy: 0.9055 - val_loss: 119.9953 - val_accuracy: 0.8789\n",
      "Epoch 49/50\n",
      "47/47 [==============================] - 0s 3ms/step - loss: 107.3773 - accuracy: 0.8879 - val_loss: 105.4430 - val_accuracy: 0.9230\n",
      "Epoch 50/50\n",
      "47/47 [==============================] - 0s 3ms/step - loss: 242.8630 - accuracy: 0.8933 - val_loss: 178.5517 - val_accuracy: 0.8821\n"
     ]
    }
   ],
   "source": [
    "wandb.init()\n",
    "history1=model.fit(X_train, y_train_hot, epochs=config.epochs, validation_data=(X_val, y_val_hot), callbacks=[WandbCallback(data_type=\"image\", labels=labels)])\n"
   ]
  },
  {
   "cell_type": "code",
   "execution_count": 76,
   "metadata": {},
   "outputs": [
    {
     "data": {
      "image/png": "[encoded data removed]",
      "text/plain": [
       "<Figure size 576x360 with 1 Axes>"
      ]
     },
     "metadata": {
      "needs_background": "light"
     },
     "output_type": "display_data"
    }
   ],
   "source": [
    "pd.DataFrame(history1.history).plot(figsize=(8,5),fontsize=20)\n",
    "plt.grid(True)\n",
    "plt.gca().set_ylim(0,1)\n",
    "plt.xlabel('Epochs',fontsize=20)\n",
    "plt.ylabel('Accuracy and Loss',fontsize=20)\n",
    "plt.show();"
   ]
  },
  {
   "cell_type": "markdown",
   "metadata": {},
   "source": [
    "## Test the Sequential NN with some Test Data"
   ]
  },
  {
   "cell_type": "code",
   "execution_count": 18,
   "metadata": {},
   "outputs": [],
   "source": [
    "from preprocess_test import *"
   ]
  },
  {
   "cell_type": "code",
   "execution_count": 19,
   "metadata": {},
   "outputs": [
    {
     "name": "stdout",
     "output_type": "stream",
     "text": [
      "../data/raw_test/\n"
     ]
    }
   ],
   "source": [
    "print(DATA_PATH_TEST)"
   ]
  },
  {
   "cell_type": "code",
   "execution_count": 20,
   "metadata": {},
   "outputs": [
    {
     "data": {
      "text/plain": [
       "<function preprocess_test.get_test(split_ratio=0.9, random_state=42)>"
      ]
     },
     "execution_count": 20,
     "metadata": {},
     "output_type": "execute_result"
    }
   ],
   "source": [
    "get_test"
   ]
  },
  {
   "cell_type": "code",
   "execution_count": 21,
   "metadata": {
    "scrolled": true
   },
   "outputs": [
    {
     "name": "stderr",
     "output_type": "stream",
     "text": [
      "Saving vectors of label - 'Not_Firearm_test':  21%|██        | 8/38 [00:00<00:00, 73.21it/s]"
     ]
    },
    {
     "name": "stdout",
     "output_type": "stream",
     "text": [
      "The number of labels is:  2\n"
     ]
    },
    {
     "name": "stderr",
     "output_type": "stream",
     "text": [
      "Saving vectors of label - 'Not_Firearm_test': 100%|██████████| 38/38 [00:00<00:00, 80.67it/s]\n",
      "Saving vectors of label - 'Firearms_test':   0%|          | 0/37 [00:00<?, ?it/s]/opt/anaconda3/envs/add_librosa/lib/python3.7/site-packages/librosa/core/audio.py:161: UserWarning: PySoundFile failed. Trying audioread instead.\n",
      "  warnings.warn('PySoundFile failed. Trying audioread instead.')\n",
      "Saving vectors of label - 'Firearms_test':  11%|█         | 4/37 [00:00<00:01, 23.45it/s]/opt/anaconda3/envs/add_librosa/lib/python3.7/site-packages/librosa/core/audio.py:161: UserWarning: PySoundFile failed. Trying audioread instead.\n",
      "  warnings.warn('PySoundFile failed. Trying audioread instead.')\n",
      "/opt/anaconda3/envs/add_librosa/lib/python3.7/site-packages/librosa/core/audio.py:161: UserWarning: PySoundFile failed. Trying audioread instead.\n",
      "  warnings.warn('PySoundFile failed. Trying audioread instead.')\n",
      "Saving vectors of label - 'Firearms_test':  19%|█▉        | 7/37 [00:00<00:01, 24.35it/s]/opt/anaconda3/envs/add_librosa/lib/python3.7/site-packages/librosa/core/audio.py:161: UserWarning: PySoundFile failed. Trying audioread instead.\n",
      "  warnings.warn('PySoundFile failed. Trying audioread instead.')\n",
      "Saving vectors of label - 'Firearms_test':  32%|███▏      | 12/37 [00:00<00:01, 20.65it/s]/opt/anaconda3/envs/add_librosa/lib/python3.7/site-packages/librosa/core/audio.py:161: UserWarning: PySoundFile failed. Trying audioread instead.\n",
      "  warnings.warn('PySoundFile failed. Trying audioread instead.')\n",
      "Saving vectors of label - 'Firearms_test':  41%|████      | 15/37 [00:00<00:01, 21.54it/s]/opt/anaconda3/envs/add_librosa/lib/python3.7/site-packages/librosa/core/audio.py:161: UserWarning: PySoundFile failed. Trying audioread instead.\n",
      "  warnings.warn('PySoundFile failed. Trying audioread instead.')\n",
      "Saving vectors of label - 'Firearms_test':  51%|█████▏    | 19/37 [00:00<00:00, 23.63it/s]/opt/anaconda3/envs/add_librosa/lib/python3.7/site-packages/librosa/core/audio.py:161: UserWarning: PySoundFile failed. Trying audioread instead.\n",
      "  warnings.warn('PySoundFile failed. Trying audioread instead.')\n",
      "Saving vectors of label - 'Firearms_test':  62%|██████▏   | 23/37 [00:00<00:00, 25.65it/s]/opt/anaconda3/envs/add_librosa/lib/python3.7/site-packages/librosa/core/audio.py:161: UserWarning: PySoundFile failed. Trying audioread instead.\n",
      "  warnings.warn('PySoundFile failed. Trying audioread instead.')\n",
      "/opt/anaconda3/envs/add_librosa/lib/python3.7/site-packages/librosa/core/audio.py:161: UserWarning: PySoundFile failed. Trying audioread instead.\n",
      "  warnings.warn('PySoundFile failed. Trying audioread instead.')\n",
      "Saving vectors of label - 'Firearms_test':  70%|███████   | 26/37 [00:01<00:00, 23.61it/s]/opt/anaconda3/envs/add_librosa/lib/python3.7/site-packages/librosa/core/audio.py:161: UserWarning: PySoundFile failed. Trying audioread instead.\n",
      "  warnings.warn('PySoundFile failed. Trying audioread instead.')\n",
      "/opt/anaconda3/envs/add_librosa/lib/python3.7/site-packages/librosa/core/audio.py:161: UserWarning: PySoundFile failed. Trying audioread instead.\n",
      "  warnings.warn('PySoundFile failed. Trying audioread instead.')\n",
      "Saving vectors of label - 'Firearms_test':  78%|███████▊  | 29/37 [00:01<00:00, 21.21it/s]/opt/anaconda3/envs/add_librosa/lib/python3.7/site-packages/librosa/core/audio.py:161: UserWarning: PySoundFile failed. Trying audioread instead.\n",
      "  warnings.warn('PySoundFile failed. Trying audioread instead.')\n",
      "/opt/anaconda3/envs/add_librosa/lib/python3.7/site-packages/librosa/core/audio.py:161: UserWarning: PySoundFile failed. Trying audioread instead.\n",
      "  warnings.warn('PySoundFile failed. Trying audioread instead.')\n",
      "/opt/anaconda3/envs/add_librosa/lib/python3.7/site-packages/librosa/core/audio.py:161: UserWarning: PySoundFile failed. Trying audioread instead.\n",
      "  warnings.warn('PySoundFile failed. Trying audioread instead.')\n",
      "Saving vectors of label - 'Firearms_test':  89%|████████▉ | 33/37 [00:01<00:00, 22.71it/s]/opt/anaconda3/envs/add_librosa/lib/python3.7/site-packages/librosa/core/audio.py:161: UserWarning: PySoundFile failed. Trying audioread instead.\n",
      "  warnings.warn('PySoundFile failed. Trying audioread instead.')\n",
      "Saving vectors of label - 'Firearms_test': 100%|██████████| 37/37 [00:01<00:00, 24.50it/s]\n"
     ]
    }
   ],
   "source": [
    "save_data_to_array(max_len=config.max_len, n_mfcc=config.buckets)\n",
    "labels=[\"Not_Firearm_test\", \"Firearms_test\"]"
   ]
  },
  {
   "cell_type": "code",
   "execution_count": 22,
   "metadata": {},
   "outputs": [
    {
     "name": "stdout",
     "output_type": "stream",
     "text": [
      "The number of non firearms 38\n",
      "The number of firearms 37\n"
     ]
    }
   ],
   "source": [
    "x_non = np.load(labels[0] + '.npy')\n",
    "print('The number of non firearms',len(x_non))\n",
    "x_fa= np.load(labels[1] + '.npy')\n",
    "print('The number of firearms',len(x_fa))"
   ]
  },
  {
   "cell_type": "code",
   "execution_count": 23,
   "metadata": {
    "scrolled": true
   },
   "outputs": [
    {
     "name": "stdout",
     "output_type": "stream",
     "text": [
      "The number of labels is:  2\n"
     ]
    }
   ],
   "source": [
    "X_test, X_none, y_test, y_none = get_test()"
   ]
  },
  {
   "cell_type": "code",
   "execution_count": 24,
   "metadata": {},
   "outputs": [
    {
     "name": "stdout",
     "output_type": "stream",
     "text": [
      "(67, 20, 11)\n",
      "(67,)\n",
      "(8, 20, 11)\n",
      "(8,)\n"
     ]
    }
   ],
   "source": [
    "print(X_test.shape)\n",
    "print(y_test.shape)\n",
    "print(X_none.shape)\n",
    "print(y_none.shape)"
   ]
  },
  {
   "cell_type": "code",
   "execution_count": 25,
   "metadata": {},
   "outputs": [
    {
     "name": "stdout",
     "output_type": "stream",
     "text": [
      "(75, 20, 11)\n",
      "(75,)\n"
     ]
    }
   ],
   "source": [
    "X_test=np.concatenate((X_test,X_none),axis=0)\n",
    "Y_test=np.concatenate((y_test,y_none),axis=0)\n",
    "print(X_test.shape)\n",
    "print(Y_test.shape)"
   ]
  },
  {
   "cell_type": "code",
   "execution_count": 26,
   "metadata": {
    "scrolled": false
   },
   "outputs": [
    {
     "name": "stdout",
     "output_type": "stream",
     "text": [
      "(75, 20, 11, 1)\n"
     ]
    }
   ],
   "source": [
    "X_test = X_test.reshape(X_test.shape[0], config.buckets, config.max_len, channels)\n",
    "print(X_test.shape)"
   ]
  },
  {
   "cell_type": "code",
   "execution_count": 27,
   "metadata": {},
   "outputs": [
    {
     "name": "stdout",
     "output_type": "stream",
     "text": [
      "(75, 2)\n"
     ]
    }
   ],
   "source": [
    "Y_test_hot = to_categorical(Y_test)\n",
    "print(Y_test_hot.shape)"
   ]
  },
  {
   "cell_type": "code",
   "execution_count": 28,
   "metadata": {
    "scrolled": true
   },
   "outputs": [
    {
     "name": "stdout",
     "output_type": "stream",
     "text": [
      "3/3 [==============================] - 0s 1ms/step - loss: 1.1276 - accuracy: 0.8400\n"
     ]
    },
    {
     "data": {
      "text/plain": [
       "[1.127586841583252, 0.8399999737739563]"
      ]
     },
     "execution_count": 28,
     "metadata": {},
     "output_type": "execute_result"
    }
   ],
   "source": [
    "model.evaluate(X_test, np.abs(1-Y_test_hot))"
   ]
  },
  {
   "cell_type": "code",
   "execution_count": 29,
   "metadata": {},
   "outputs": [],
   "source": [
    "Y_predict=model.predict(X_test)"
   ]
  },
  {
   "cell_type": "code",
   "execution_count": 30,
   "metadata": {
    "scrolled": false
   },
   "outputs": [
    {
     "data": {
      "text/html": [
       "<div>\n",
       "<style scoped>\n",
       "    .dataframe tbody tr th:only-of-type {\n",
       "        vertical-align: middle;\n",
       "    }\n",
       "\n",
       "    .dataframe tbody tr th {\n",
       "        vertical-align: top;\n",
       "    }\n",
       "\n",
       "    .dataframe thead th {\n",
       "        text-align: right;\n",
       "    }\n",
       "</style>\n",
       "<table border=\"1\" class=\"dataframe\">\n",
       "  <thead>\n",
       "    <tr style=\"text-align: right;\">\n",
       "      <th></th>\n",
       "      <th>0</th>\n",
       "      <th>1</th>\n",
       "    </tr>\n",
       "  </thead>\n",
       "  <tbody>\n",
       "    <tr>\n",
       "      <th>0</th>\n",
       "      <td>1.0</td>\n",
       "      <td>0.0</td>\n",
       "    </tr>\n",
       "    <tr>\n",
       "      <th>1</th>\n",
       "      <td>1.0</td>\n",
       "      <td>0.0</td>\n",
       "    </tr>\n",
       "    <tr>\n",
       "      <th>2</th>\n",
       "      <td>0.0</td>\n",
       "      <td>1.0</td>\n",
       "    </tr>\n",
       "    <tr>\n",
       "      <th>3</th>\n",
       "      <td>1.0</td>\n",
       "      <td>0.0</td>\n",
       "    </tr>\n",
       "    <tr>\n",
       "      <th>4</th>\n",
       "      <td>1.0</td>\n",
       "      <td>0.0</td>\n",
       "    </tr>\n",
       "    <tr>\n",
       "      <th>...</th>\n",
       "      <td>...</td>\n",
       "      <td>...</td>\n",
       "    </tr>\n",
       "    <tr>\n",
       "      <th>70</th>\n",
       "      <td>0.0</td>\n",
       "      <td>1.0</td>\n",
       "    </tr>\n",
       "    <tr>\n",
       "      <th>71</th>\n",
       "      <td>0.0</td>\n",
       "      <td>1.0</td>\n",
       "    </tr>\n",
       "    <tr>\n",
       "      <th>72</th>\n",
       "      <td>1.0</td>\n",
       "      <td>0.0</td>\n",
       "    </tr>\n",
       "    <tr>\n",
       "      <th>73</th>\n",
       "      <td>0.0</td>\n",
       "      <td>1.0</td>\n",
       "    </tr>\n",
       "    <tr>\n",
       "      <th>74</th>\n",
       "      <td>0.0</td>\n",
       "      <td>1.0</td>\n",
       "    </tr>\n",
       "  </tbody>\n",
       "</table>\n",
       "<p>75 rows × 2 columns</p>\n",
       "</div>"
      ],
      "text/plain": [
       "      0    1\n",
       "0   1.0  0.0\n",
       "1   1.0  0.0\n",
       "2   0.0  1.0\n",
       "3   1.0  0.0\n",
       "4   1.0  0.0\n",
       "..  ...  ...\n",
       "70  0.0  1.0\n",
       "71  0.0  1.0\n",
       "72  1.0  0.0\n",
       "73  0.0  1.0\n",
       "74  0.0  1.0\n",
       "\n",
       "[75 rows x 2 columns]"
      ]
     },
     "execution_count": 30,
     "metadata": {},
     "output_type": "execute_result"
    }
   ],
   "source": [
    "pd.DataFrame(Y_predict.round())"
   ]
  },
  {
   "cell_type": "code",
   "execution_count": 40,
   "metadata": {},
   "outputs": [
    {
     "data": {
      "text/plain": [
       "0    31.0\n",
       "1    44.0\n",
       "dtype: float32"
      ]
     },
     "execution_count": 40,
     "metadata": {},
     "output_type": "execute_result"
    }
   ],
   "source": [
    "pd.DataFrame(Y_predict.round()).sum()"
   ]
  },
  {
   "cell_type": "code",
   "execution_count": 31,
   "metadata": {
    "scrolled": true
   },
   "outputs": [
    {
     "data": {
      "text/plain": [
       "0    38.0\n",
       "1    37.0\n",
       "dtype: float32"
      ]
     },
     "execution_count": 31,
     "metadata": {},
     "output_type": "execute_result"
    }
   ],
   "source": [
    "pd.DataFrame(Y_test_hot).sum()"
   ]
  },
  {
   "cell_type": "code",
   "execution_count": 35,
   "metadata": {},
   "outputs": [
    {
     "data": {
      "text/plain": [
       "0     117.0\n",
       "1    1364.0\n",
       "dtype: float32"
      ]
     },
     "execution_count": 35,
     "metadata": {},
     "output_type": "execute_result"
    }
   ],
   "source": [
    "pd.DataFrame(y_train_hot).sum()"
   ]
  },
  {
   "cell_type": "code",
   "execution_count": 39,
   "metadata": {
    "scrolled": false
   },
   "outputs": [
    {
     "data": {
      "text/plain": [
       "38.0"
      ]
     },
     "execution_count": 39,
     "metadata": {},
     "output_type": "execute_result"
    }
   ],
   "source": [
    "Y_test_hot[:,0:1].sum()"
   ]
  },
  {
   "cell_type": "code",
   "execution_count": 107,
   "metadata": {},
   "outputs": [
    {
     "data": {
      "text/plain": [
       "array([0., 0., 1., 0., 0., 1., 1., 1., 1., 1., 0., 0., 0., 0., 1., 0., 0.,\n",
       "       1., 1., 0., 0., 1., 0., 0., 1., 0., 1., 0., 1., 0., 1., 1., 0., 1.,\n",
       "       0., 1., 1., 0., 0., 0., 0., 1., 1., 0., 1., 0., 1., 0., 0., 0., 1.,\n",
       "       1., 0., 0., 0., 1., 1., 1., 0., 1., 1., 1., 1., 0., 0., 1., 0., 1.,\n",
       "       0., 1., 1., 1., 0., 1., 1.], dtype=float32)"
      ]
     },
     "execution_count": 107,
     "metadata": {},
     "output_type": "execute_result"
    }
   ],
   "source": [
    "Y_test_hot[:,0]"
   ]
  },
  {
   "cell_type": "markdown",
   "metadata": {},
   "source": [
    "In the 0th column, ones represent not a firearm, and zeros represent a firearm. "
   ]
  },
  {
   "cell_type": "code",
   "execution_count": 106,
   "metadata": {},
   "outputs": [
    {
     "data": {
      "text/plain": [
       "array([1., 1., 0., 1., 1., 0., 0., 0., 0., 0., 1., 1., 1., 1., 0., 1., 1.,\n",
       "       0., 0., 1., 1., 0., 1., 1., 0., 1., 0., 1., 0., 1., 0., 0., 1., 0.,\n",
       "       1., 0., 0., 1., 1., 1., 1., 0., 0., 1., 0., 1., 0., 1., 1., 1., 0.,\n",
       "       0., 1., 1., 1., 0., 0., 0., 1., 0., 0., 0., 0., 1., 1., 0., 1., 0.,\n",
       "       1., 0., 0., 0., 1., 0., 0.], dtype=float32)"
      ]
     },
     "execution_count": 106,
     "metadata": {},
     "output_type": "execute_result"
    }
   ],
   "source": [
    "Y_test_hot[:,1]"
   ]
  },
  {
   "cell_type": "code",
   "execution_count": 108,
   "metadata": {
    "scrolled": true
   },
   "outputs": [
    {
     "data": {
      "text/plain": [
       "37.0"
      ]
     },
     "execution_count": 108,
     "metadata": {},
     "output_type": "execute_result"
    }
   ],
   "source": [
    "Y_test_hot[:,1].sum()"
   ]
  },
  {
   "cell_type": "markdown",
   "metadata": {},
   "source": [
    "In the 1st column, ones represent a firearm sound, and the zeros represent a non firearm sound. I shall use this, as it will be easier to understand. "
   ]
  },
  {
   "cell_type": "code",
   "execution_count": 109,
   "metadata": {},
   "outputs": [],
   "source": [
    "import sklearn\n",
    "conf_mat1=sklearn.metrics.confusion_matrix(pd.DataFrame(Y_test_hot)[1],pd.DataFrame(Y_predict).round()[1])"
   ]
  },
  {
   "cell_type": "code",
   "execution_count": 47,
   "metadata": {
    "scrolled": true
   },
   "outputs": [
    {
     "data": {
      "text/plain": [
       "<matplotlib.axes._subplots.AxesSubplot at 0x14c5ecdd0>"
      ]
     },
     "execution_count": 47,
     "metadata": {},
     "output_type": "execute_result"
    },
    {
     "data": {
      "image/png": "[encoded data removed]",
      "text/plain": [
       "<Figure size 720x504 with 2 Axes>"
      ]
     },
     "metadata": {
      "needs_background": "light"
     },
     "output_type": "display_data"
    }
   ],
   "source": [
    "import seaborn as sn \n",
    "\n",
    "df_cm = pd.DataFrame(conf_mat1, index = [i for i in \"01\"],\n",
    "                  columns = [i for i in \"01\"])\n",
    "plt.figure(figsize = (10,7))\n",
    "sn.heatmap(df_cm, annot=True,annot_kws={\"size\": 20})"
   ]
  },
  {
   "cell_type": "markdown",
   "metadata": {},
   "source": [
    "In binary classification, the count of true negatives is , false negatives is , true positives is and false positives is .\n",
    "\n",
    "The element, c 0,0 , is equal to 3. This indicates that there are 3 true negative. truly not firearms\n",
    "The element, c 1,0 , is equal to 28. This indicates that there are 28 false negative. \n",
    "The element, c 0,1 , is equal to 35. This indicates that there are 35 false positives.\n",
    "The element, c 1,1 , is equal to 9. Thus, there are 9 true positives.\n",
    "In the context of predicting firearms, the presence of false negatives is grave. This means that the 4 sounds were actually the sounds of firearms, but it was predicted that they were not."
   ]
  },
  {
   "cell_type": "markdown",
   "metadata": {},
   "source": [
    "## Adding Convolution "
   ]
  },
  {
   "cell_type": "code",
   "execution_count": 96,
   "metadata": {},
   "outputs": [],
   "source": [
    "#input_shape=(batch_size, channels, rows, cols)\n",
    "input_shape=(20,11,1)\n",
    "\n",
    "model2 = Sequential()\n",
    "model2.add(Conv2D(32,(2,2),\n",
    "                 input_shape=input_shape,\n",
    "                 activation='relu',\n",
    "                 data_format='channels_last'))\n",
    "model2.add(MaxPooling2D(pool_size=(2, 2)))\n",
    "model2.add(Flatten())\n",
    "model2.add(Dense(128, activation='relu'))\n",
    "model2.add(Dense(num_classes, activation='softmax'))\n",
    "\n",
    "opt2 = keras.optimizers.Adam(learning_rate=0.005)\n",
    "\n",
    "model2.compile(loss=\"categorical_crossentropy\",\n",
    "              optimizer=opt2,\n",
    "              metrics=['accuracy'])"
   ]
  },
  {
   "cell_type": "code",
   "execution_count": 97,
   "metadata": {},
   "outputs": [
    {
     "name": "stdout",
     "output_type": "stream",
     "text": [
      "Model: \"sequential_8\"\n",
      "_________________________________________________________________\n",
      "Layer (type)                 Output Shape              Param #   \n",
      "=================================================================\n",
      "conv2d_2 (Conv2D)            (None, 19, 10, 32)        160       \n",
      "_________________________________________________________________\n",
      "max_pooling2d_2 (MaxPooling2 (None, 9, 5, 32)          0         \n",
      "_________________________________________________________________\n",
      "flatten_8 (Flatten)          (None, 1440)              0         \n",
      "_________________________________________________________________\n",
      "dense_10 (Dense)             (None, 128)               184448    \n",
      "_________________________________________________________________\n",
      "dense_11 (Dense)             (None, 2)                 258       \n",
      "=================================================================\n",
      "Total params: 184,866\n",
      "Trainable params: 184,866\n",
      "Non-trainable params: 0\n",
      "_________________________________________________________________\n"
     ]
    }
   ],
   "source": [
    "model2.summary()"
   ]
  },
  {
   "cell_type": "code",
   "execution_count": 98,
   "metadata": {},
   "outputs": [
    {
     "name": "stdout",
     "output_type": "stream",
     "text": [
      "(1481, 20, 11)\n",
      "(1481, 20, 11, 1)\n",
      "(1481, 2)\n",
      "(636, 20, 11)\n",
      "(636, 20, 11, 1)\n",
      "(636, 2)\n",
      "20\n",
      "11\n",
      "1\n"
     ]
    }
   ],
   "source": [
    "print(X_train.shape)\n",
    "print(np.reshape(X_train,(1481,20,11,1)).shape)\n",
    "X_train2=np.reshape(X_train,(1481,20,11,1))\n",
    "print(y_train_hot.shape)\n",
    "print(X_val.shape)\n",
    "X_val2=np.reshape(X_val,(636,20,11,1))\n",
    "print(X_val2.shape)\n",
    "print(y_val_hot.shape)\n",
    "print(config.buckets)\n",
    "print(config.max_len)\n",
    "print(channels)"
   ]
  },
  {
   "cell_type": "code",
   "execution_count": 99,
   "metadata": {},
   "outputs": [
    {
     "data": {
      "text/html": [
       "\n",
       "                Logging results to <a href=\"https://wandb.com\" target=\"_blank\">Weights & Biases</a> <a href=\"https://docs.wandb.com/integrations/jupyter.html\" target=\"_blank\">(Documentation)</a>.<br/>\n",
       "                Project page: <a href=\"https://app.wandb.ai/adri-rojas/Firearm_Detection-notebooks\" target=\"_blank\">https://app.wandb.ai/adri-rojas/Firearm_Detection-notebooks</a><br/>\n",
       "                Run page: <a href=\"https://app.wandb.ai/adri-rojas/Firearm_Detection-notebooks/runs/3aq4pud0\" target=\"_blank\">https://app.wandb.ai/adri-rojas/Firearm_Detection-notebooks/runs/3aq4pud0</a><br/>\n",
       "            "
      ],
      "text/plain": [
       "<IPython.core.display.HTML object>"
      ]
     },
     "metadata": {},
     "output_type": "display_data"
    },
    {
     "name": "stdout",
     "output_type": "stream",
     "text": [
      "Epoch 1/50\n",
      "47/47 [==============================] - 0s 8ms/step - loss: 2.9730 - accuracy: 0.9061 - val_loss: 0.4489 - val_accuracy: 0.8774\n",
      "Epoch 2/50\n",
      "47/47 [==============================] - 0s 5ms/step - loss: 0.2746 - accuracy: 0.9379 - val_loss: 0.3075 - val_accuracy: 0.9198\n",
      "Epoch 3/50\n",
      "47/47 [==============================] - 0s 5ms/step - loss: 0.1194 - accuracy: 0.9622 - val_loss: 0.1047 - val_accuracy: 0.9638\n",
      "Epoch 4/50\n",
      "47/47 [==============================] - 0s 5ms/step - loss: 0.1428 - accuracy: 0.9473 - val_loss: 0.1866 - val_accuracy: 0.9733\n",
      "Epoch 5/50\n",
      "47/47 [==============================] - 0s 5ms/step - loss: 0.1255 - accuracy: 0.9629 - val_loss: 0.1133 - val_accuracy: 0.9638\n",
      "Epoch 6/50\n",
      "47/47 [==============================] - 0s 5ms/step - loss: 0.0734 - accuracy: 0.9676 - val_loss: 0.1126 - val_accuracy: 0.9638\n",
      "Epoch 7/50\n",
      "47/47 [==============================] - 0s 4ms/step - loss: 0.0697 - accuracy: 0.9662 - val_loss: 0.1140 - val_accuracy: 0.9638\n",
      "Epoch 8/50\n",
      "47/47 [==============================] - 0s 5ms/step - loss: 0.0591 - accuracy: 0.9757 - val_loss: 0.1108 - val_accuracy: 0.9607\n",
      "Epoch 9/50\n",
      "47/47 [==============================] - 0s 5ms/step - loss: 0.0564 - accuracy: 0.9791 - val_loss: 0.1111 - val_accuracy: 0.9623\n",
      "Epoch 10/50\n",
      "47/47 [==============================] - 0s 5ms/step - loss: 0.0463 - accuracy: 0.9818 - val_loss: 0.1050 - val_accuracy: 0.9748\n",
      "Epoch 11/50\n",
      "47/47 [==============================] - 0s 5ms/step - loss: 0.0378 - accuracy: 0.9818 - val_loss: 0.1211 - val_accuracy: 0.9607\n",
      "Epoch 12/50\n",
      "47/47 [==============================] - 0s 4ms/step - loss: 0.0373 - accuracy: 0.9838 - val_loss: 0.1519 - val_accuracy: 0.9513\n",
      "Epoch 13/50\n",
      "47/47 [==============================] - 0s 4ms/step - loss: 0.0380 - accuracy: 0.9818 - val_loss: 0.1770 - val_accuracy: 0.9481\n",
      "Epoch 14/50\n",
      "47/47 [==============================] - 0s 5ms/step - loss: 0.0282 - accuracy: 0.9872 - val_loss: 0.1486 - val_accuracy: 0.9623\n",
      "Epoch 15/50\n",
      "47/47 [==============================] - 0s 5ms/step - loss: 0.0267 - accuracy: 0.9892 - val_loss: 0.1231 - val_accuracy: 0.9748\n",
      "Epoch 16/50\n",
      "47/47 [==============================] - 0s 5ms/step - loss: 0.0277 - accuracy: 0.9858 - val_loss: 0.1546 - val_accuracy: 0.9607\n",
      "Epoch 17/50\n",
      "47/47 [==============================] - 0s 5ms/step - loss: 0.0325 - accuracy: 0.9831 - val_loss: 0.1704 - val_accuracy: 0.9733\n",
      "Epoch 18/50\n",
      "47/47 [==============================] - 0s 5ms/step - loss: 0.0349 - accuracy: 0.9818 - val_loss: 0.1810 - val_accuracy: 0.9607\n",
      "Epoch 19/50\n",
      "47/47 [==============================] - 0s 4ms/step - loss: 0.0209 - accuracy: 0.9899 - val_loss: 0.2618 - val_accuracy: 0.9355\n",
      "Epoch 20/50\n",
      "47/47 [==============================] - 0s 4ms/step - loss: 0.0283 - accuracy: 0.9851 - val_loss: 0.1581 - val_accuracy: 0.9607\n",
      "Epoch 21/50\n",
      "47/47 [==============================] - 0s 5ms/step - loss: 0.0243 - accuracy: 0.9885 - val_loss: 0.1985 - val_accuracy: 0.9575\n",
      "Epoch 22/50\n",
      "47/47 [==============================] - 0s 5ms/step - loss: 0.0221 - accuracy: 0.9905 - val_loss: 0.1921 - val_accuracy: 0.9497\n",
      "Epoch 23/50\n",
      "47/47 [==============================] - 0s 4ms/step - loss: 0.0283 - accuracy: 0.9858 - val_loss: 0.1863 - val_accuracy: 0.9686\n",
      "Epoch 24/50\n",
      "47/47 [==============================] - 0s 4ms/step - loss: 0.0335 - accuracy: 0.9845 - val_loss: 0.1552 - val_accuracy: 0.9654\n",
      "Epoch 25/50\n",
      "47/47 [==============================] - 0s 5ms/step - loss: 0.1141 - accuracy: 0.9669 - val_loss: 0.1863 - val_accuracy: 0.9403\n",
      "Epoch 26/50\n",
      "47/47 [==============================] - 0s 4ms/step - loss: 0.0520 - accuracy: 0.9764 - val_loss: 0.1862 - val_accuracy: 0.9481\n",
      "Epoch 27/50\n",
      "47/47 [==============================] - 0s 5ms/step - loss: 0.0332 - accuracy: 0.9851 - val_loss: 0.1743 - val_accuracy: 0.9686\n",
      "Epoch 28/50\n",
      "47/47 [==============================] - 0s 4ms/step - loss: 0.0476 - accuracy: 0.9838 - val_loss: 0.1436 - val_accuracy: 0.9575\n",
      "Epoch 29/50\n",
      "47/47 [==============================] - 0s 4ms/step - loss: 0.0362 - accuracy: 0.9865 - val_loss: 0.2101 - val_accuracy: 0.9575\n",
      "Epoch 30/50\n",
      "47/47 [==============================] - 0s 5ms/step - loss: 0.0227 - accuracy: 0.9905 - val_loss: 0.1985 - val_accuracy: 0.9544\n",
      "Epoch 31/50\n",
      "47/47 [==============================] - 0s 5ms/step - loss: 0.0239 - accuracy: 0.9912 - val_loss: 0.1632 - val_accuracy: 0.9733\n",
      "Epoch 32/50\n",
      "47/47 [==============================] - 0s 5ms/step - loss: 0.0295 - accuracy: 0.9838 - val_loss: 0.3079 - val_accuracy: 0.9434\n",
      "Epoch 33/50\n",
      "47/47 [==============================] - 0s 5ms/step - loss: 0.0280 - accuracy: 0.9878 - val_loss: 0.1955 - val_accuracy: 0.9575\n",
      "Epoch 34/50\n",
      "47/47 [==============================] - 0s 4ms/step - loss: 0.0150 - accuracy: 0.9926 - val_loss: 0.2141 - val_accuracy: 0.9686\n",
      "Epoch 35/50\n",
      "47/47 [==============================] - 0s 5ms/step - loss: 0.0107 - accuracy: 0.9953 - val_loss: 0.2043 - val_accuracy: 0.9591\n",
      "Epoch 36/50\n",
      "47/47 [==============================] - 0s 9ms/step - loss: 0.0104 - accuracy: 0.9953 - val_loss: 0.2302 - val_accuracy: 0.9670\n",
      "Epoch 37/50\n",
      "47/47 [==============================] - 0s 4ms/step - loss: 0.0104 - accuracy: 0.9946 - val_loss: 0.2425 - val_accuracy: 0.9528\n",
      "Epoch 38/50\n",
      "47/47 [==============================] - 0s 4ms/step - loss: 0.0114 - accuracy: 0.9953 - val_loss: 0.2333 - val_accuracy: 0.9591\n",
      "Epoch 39/50\n",
      "47/47 [==============================] - 0s 4ms/step - loss: 0.0217 - accuracy: 0.9899 - val_loss: 0.1882 - val_accuracy: 0.9733\n",
      "Epoch 40/50\n",
      "47/47 [==============================] - 0s 5ms/step - loss: 0.0154 - accuracy: 0.9919 - val_loss: 0.1969 - val_accuracy: 0.9764\n",
      "Epoch 41/50\n",
      "47/47 [==============================] - 0s 4ms/step - loss: 0.0167 - accuracy: 0.9926 - val_loss: 0.2458 - val_accuracy: 0.9686\n",
      "Epoch 42/50\n",
      "47/47 [==============================] - 0s 5ms/step - loss: 0.0236 - accuracy: 0.9912 - val_loss: 0.1628 - val_accuracy: 0.9717\n",
      "Epoch 43/50\n",
      "47/47 [==============================] - 0s 5ms/step - loss: 0.0551 - accuracy: 0.9791 - val_loss: 0.3085 - val_accuracy: 0.9418\n",
      "Epoch 44/50\n",
      "47/47 [==============================] - 0s 5ms/step - loss: 0.1021 - accuracy: 0.9656 - val_loss: 0.1750 - val_accuracy: 0.9607\n",
      "Epoch 45/50\n",
      "47/47 [==============================] - 0s 5ms/step - loss: 0.0301 - accuracy: 0.9858 - val_loss: 0.1953 - val_accuracy: 0.9607\n",
      "Epoch 46/50\n",
      "47/47 [==============================] - 0s 4ms/step - loss: 0.0214 - accuracy: 0.9899 - val_loss: 0.2479 - val_accuracy: 0.9575\n",
      "Epoch 47/50\n",
      "47/47 [==============================] - 0s 4ms/step - loss: 0.0121 - accuracy: 0.9953 - val_loss: 0.2168 - val_accuracy: 0.9591\n",
      "Epoch 48/50\n",
      "47/47 [==============================] - 0s 5ms/step - loss: 0.0099 - accuracy: 0.9946 - val_loss: 0.2228 - val_accuracy: 0.9701\n",
      "Epoch 49/50\n",
      "47/47 [==============================] - 0s 5ms/step - loss: 0.0225 - accuracy: 0.9919 - val_loss: 0.2139 - val_accuracy: 0.9513\n",
      "Epoch 50/50\n",
      "47/47 [==============================] - 0s 5ms/step - loss: 0.0140 - accuracy: 0.9919 - val_loss: 0.2008 - val_accuracy: 0.9560\n"
     ]
    }
   ],
   "source": [
    "wandb.init()\n",
    "history=model2.fit(X_train2, y_train_hot, epochs=config.epochs, validation_data=(X_val2, y_val_hot), callbacks=[WandbCallback(data_type=\"image\", labels=labels)])"
   ]
  },
  {
   "cell_type": "code",
   "execution_count": 100,
   "metadata": {},
   "outputs": [
    {
     "name": "stdout",
     "output_type": "stream",
     "text": [
      "3/3 [==============================] - 0s 1ms/step - loss: 0.8313 - accuracy: 0.9200\n"
     ]
    },
    {
     "data": {
      "text/plain": [
       "[0.8312568068504333, 0.9200000166893005]"
      ]
     },
     "execution_count": 100,
     "metadata": {},
     "output_type": "execute_result"
    }
   ],
   "source": [
    "model2.evaluate(X_test, np.abs(1-Y_test_hot))"
   ]
  },
  {
   "cell_type": "code",
   "execution_count": 101,
   "metadata": {},
   "outputs": [
    {
     "data": {
      "image/png": "[encoded data removed]",
      "text/plain": [
       "<Figure size 576x360 with 1 Axes>"
      ]
     },
     "metadata": {
      "needs_background": "light"
     },
     "output_type": "display_data"
    },
    {
     "data": {
      "text/plain": [
       "<Figure size 432x288 with 0 Axes>"
      ]
     },
     "metadata": {},
     "output_type": "display_data"
    }
   ],
   "source": [
    "pd.DataFrame(history.history).plot(figsize=(8,5),fontsize=20)\n",
    "plt.grid(True)\n",
    "plt.gca().set_ylim(0,1)\n",
    "plt.xlabel('Epochs',fontsize=20)\n",
    "plt.ylabel('Accuracy and Loss',fontsize=20)\n",
    "plt.show();\n",
    "plt.savefig('CNN_01_std')"
   ]
  },
  {
   "cell_type": "code",
   "execution_count": 102,
   "metadata": {},
   "outputs": [
    {
     "name": "stdout",
     "output_type": "stream",
     "text": [
      "/Users/aarojas/Documents/Data_Science_Resources/Insight_20B/AAR_Insight_Project/Firearm_Detection/models/cnn_model.h5\n"
     ]
    }
   ],
   "source": [
    "import pickle\n",
    "models_path='/Users/aarojas/Documents/Data_Science_Resources/Insight_20B/AAR_Insight_Project/Firearm_Detection/models/'\n",
    "filename = 'cnn_model.h5'\n",
    "cnn_model = models_path+filename\n",
    "\n",
    "print(cnn_model)\n",
    "model2.save(cnn_model)\n",
    "\n",
    "#pickle.dump(model2, open(models_path+filename, 'wb'))"
   ]
  },
  {
   "cell_type": "code",
   "execution_count": 110,
   "metadata": {},
   "outputs": [],
   "source": [
    "Y_predict2=model2.predict(X_test)"
   ]
  },
  {
   "cell_type": "code",
   "execution_count": 111,
   "metadata": {},
   "outputs": [],
   "source": [
    "conf_mat2=sklearn.metrics.confusion_matrix(pd.DataFrame(Y_test_hot)[1],pd.DataFrame(Y_predict2).round()[1])"
   ]
  },
  {
   "cell_type": "code",
   "execution_count": 112,
   "metadata": {},
   "outputs": [
    {
     "data": {
      "text/plain": [
       "<matplotlib.axes._subplots.AxesSubplot at 0x14bf288d0>"
      ]
     },
     "execution_count": 112,
     "metadata": {},
     "output_type": "execute_result"
    },
    {
     "data": {
      "image/png": "[encoded data removed]",
      "text/plain": [
       "<Figure size 720x504 with 2 Axes>"
      ]
     },
     "metadata": {
      "needs_background": "light"
     },
     "output_type": "display_data"
    }
   ],
   "source": [
    "df_cm = pd.DataFrame(conf_mat, index = [i for i in \"01\"],\n",
    "                  columns = [i for i in \"01\"])\n",
    "plt.figure(figsize = (10,7))\n",
    "sn.heatmap(df_cm, annot=True,annot_kws={\"size\": 20})"
   ]
  },
  {
   "cell_type": "code",
   "execution_count": null,
   "metadata": {},
   "outputs": [],
   "source": []
  }
 ],
 "metadata": {
  "kernelspec": {
   "display_name": "Python 3",
   "language": "python",
   "name": "python3"
  },
  "language_info": {
   "codemirror_mode": {
    "name": "ipython",
    "version": 3
   },
   "file_extension": ".py",
   "mimetype": "text/x-python",
   "name": "python",
   "nbconvert_exporter": "python",
   "pygments_lexer": "ipython3",
   "version": "3.7.7"
  }
 },
 "nbformat": 4,
 "nbformat_minor": 4
}
